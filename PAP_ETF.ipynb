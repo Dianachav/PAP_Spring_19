{
 "cells": [
  {
   "cell_type": "code",
   "execution_count": 2,
   "metadata": {},
   "outputs": [],
   "source": [
    "# Librerias\n",
    "import quandl\n",
    "import datetime\n",
    "import numpy as np\n",
    "import pandas as pd\n",
    "import scipy.stats as stats\n",
    "import matplotlib.pyplot as plt"
   ]
  },
  {
   "cell_type": "markdown",
   "metadata": {},
   "source": [
    "___\n",
    "<img style=\"float: right; margin: 0px 0px 15px 15px;\" src=\"https://www.carrerasenlinea.mx/logos/original/logo-instituto-tecnologico-y-de-estudios-superiores-de-occidente.png\" width=\"150px\" height=\"100px\" />\n",
    "\n",
    "# Proyecto de Aplicación Profesional\n",
    "\n",
    "## Optimización De Programas de Inversión para Intermediarios Financieros\n",
    "\n",
    "\n",
    "\n",
    "### Integrantes:\n",
    "\n",
    "### - Jazmín Calderón\n",
    "### - Diana Chávez\n",
    "### - Juan Antonio Flores\n",
    "\n",
    "\n"
   ]
  },
  {
   "cell_type": "code",
   "execution_count": 64,
   "metadata": {},
   "outputs": [],
   "source": [
    "lista = ['1-3-Year-Treasury-Bond',\n",
    "         '20-Year-Treasury-Bond',\n",
    "         '7-10-Year-Treasury-Bond',\n",
    "         'Core-MSCI-EAFE',\n",
    "         'Core-MSCI-Emerging-Markets',\n",
    "         'Core-MSCI-Total-International-Stock',\n",
    "         'Core-SP-500',\n",
    "         'Core-SP-Mid-Cap', \n",
    "         'Core-SP-Small-Cap',\n",
    "         'Core-SP-Total-US-Stock-Market',\n",
    "         'Core-US-Aggregate-Bond',\n",
    "         'Edge-MSCI-Min-Vol-EAFE', \n",
    "         'Edge-MSCI-Min-Vol-USA',\n",
    "         'Edge-MSCI-USA-Quality-Factor',\n",
    "         'Floating-Rate-Bond',\n",
    "         'JP-Morgan-USD-Emerging-Markets-Bond', \n",
    "         'MBS',\n",
    "         'MSCI-ACWI',\n",
    "         'MSCI-EAFE',\n",
    "         'MSCI-Emerging-Markets',\n",
    "         'MSCI-Japan',\n",
    "         'Nasdaq-Biotechnology',\n",
    "         'Preferred-and-Income-Securities',\n",
    "         'Russell-1000',\n",
    "         'Russell-1000-Growth',\n",
    "         'Russell-1000-Value',\n",
    "         'Russell-2000',\n",
    "         'Russell-3000',\n",
    "         'SP-500-Growth',\n",
    "         'SP-500-Value',\n",
    "         'Select-Dividend',\n",
    "         'Short-Term-Corporate-Bond',\n",
    "         'Short-Treasury-Bond',\n",
    "         'TIPS-Bond',\n",
    "         'iBoxx--High-Yield-Corporate-Bond',\n",
    "         'iBoxx--Investment-Grade-Corporate-Bond']\n",
    "\n",
    "# Todos tienen en común:\n",
    "\n",
    "#'https://raw.githubusercontent.com/Dianachav/PAP_Spring_19/master/ETFS/iShares-\n",
    "# +\n",
    "# NOMBRE ETF EN LISTA\n",
    "# +\n",
    "# -ETF_fund.csv',\n"
   ]
  },
  {
   "cell_type": "markdown",
   "metadata": {},
   "source": [
    "## Importar Datos"
   ]
  },
  {
   "cell_type": "markdown",
   "metadata": {},
   "source": [
    "## ETF'S"
   ]
  },
  {
   "cell_type": "code",
   "execution_count": 65,
   "metadata": {},
   "outputs": [
    {
     "data": {
      "text/html": [
       "<div>\n",
       "<style scoped>\n",
       "    .dataframe tbody tr th:only-of-type {\n",
       "        vertical-align: middle;\n",
       "    }\n",
       "\n",
       "    .dataframe tbody tr th {\n",
       "        vertical-align: top;\n",
       "    }\n",
       "\n",
       "    .dataframe thead th {\n",
       "        text-align: right;\n",
       "    }\n",
       "</style>\n",
       "<table border=\"1\" class=\"dataframe\">\n",
       "  <thead>\n",
       "    <tr style=\"text-align: right;\">\n",
       "      <th></th>\n",
       "      <th>Fecha a fin de mes</th>\n",
       "      <th>Rendimientos mensual</th>\n",
       "    </tr>\n",
       "  </thead>\n",
       "  <tbody>\n",
       "    <tr>\n",
       "      <th>0</th>\n",
       "      <td>31-jul-2002</td>\n",
       "      <td>0.00</td>\n",
       "    </tr>\n",
       "    <tr>\n",
       "      <th>1</th>\n",
       "      <td>31-ago-2002</td>\n",
       "      <td>0.32</td>\n",
       "    </tr>\n",
       "    <tr>\n",
       "      <th>2</th>\n",
       "      <td>30-sep-2002</td>\n",
       "      <td>0.84</td>\n",
       "    </tr>\n",
       "    <tr>\n",
       "      <th>3</th>\n",
       "      <td>31-oct-2002</td>\n",
       "      <td>0.22</td>\n",
       "    </tr>\n",
       "    <tr>\n",
       "      <th>4</th>\n",
       "      <td>30-nov-2002</td>\n",
       "      <td>-0.36</td>\n",
       "    </tr>\n",
       "  </tbody>\n",
       "</table>\n",
       "</div>"
      ],
      "text/plain": [
       "  Fecha a fin de mes  Rendimientos mensual\n",
       "0        31-jul-2002                  0.00\n",
       "1        31-ago-2002                  0.32\n",
       "2        30-sep-2002                  0.84\n",
       "3        31-oct-2002                  0.22\n",
       "4        30-nov-2002                 -0.36"
      ]
     },
     "execution_count": 65,
     "metadata": {},
     "output_type": "execute_result"
    }
   ],
   "source": [
    "ETF = pd.read_csv('https://raw.githubusercontent.com/Dianachav/PAP_Spring_19/master/ETFS/iShares-1-3-Year-Treasury-Bond-ETF_fund.csv',\n",
    "                  skiprows = [0,1,2,3], delim_whitespace=False)\n",
    "ETF['Rendimientos mensual'] = ETF['Rendimientos mensual'].replace('--',0)\n",
    "ETF['Rendimientos mensual'] = ETF['Rendimientos mensual'].astype(float)\n",
    "ETF.head()"
   ]
  },
  {
   "cell_type": "code",
   "execution_count": 66,
   "metadata": {},
   "outputs": [
    {
     "data": {
      "text/plain": [
       "(0.37086061734835124, 0.15905)"
      ]
     },
     "execution_count": 66,
     "metadata": {},
     "output_type": "execute_result"
    }
   ],
   "source": [
    "rend_men = ETF['Rendimientos mensual']\n",
    "desv = np.std(rend_men)\n",
    "rend = np.mean(rend_men)\n",
    "desv, rend"
   ]
  },
  {
   "cell_type": "code",
   "execution_count": null,
   "metadata": {},
   "outputs": [],
   "source": []
  },
  {
   "cell_type": "code",
   "execution_count": null,
   "metadata": {},
   "outputs": [],
   "source": []
  },
  {
   "cell_type": "code",
   "execution_count": null,
   "metadata": {},
   "outputs": [],
   "source": []
  },
  {
   "cell_type": "code",
   "execution_count": null,
   "metadata": {},
   "outputs": [],
   "source": []
  },
  {
   "cell_type": "code",
   "execution_count": null,
   "metadata": {},
   "outputs": [],
   "source": []
  }
 ],
 "metadata": {
  "kernelspec": {
   "display_name": "Python 2",
   "language": "python",
   "name": "python2"
  },
  "language_info": {
   "codemirror_mode": {
    "name": "ipython",
    "version": 2
   },
   "file_extension": ".py",
   "mimetype": "text/x-python",
   "name": "python",
   "nbconvert_exporter": "python",
   "pygments_lexer": "ipython2",
   "version": "2.7.15"
  }
 },
 "nbformat": 4,
 "nbformat_minor": 2
}
