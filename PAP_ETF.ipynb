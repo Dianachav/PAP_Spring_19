{
 "cells": [
  {
   "cell_type": "code",
   "execution_count": 2,
   "metadata": {},
   "outputs": [],
   "source": [
    "# Librerias\n",
    "import quandl\n",
    "import datetime\n",
    "import numpy as np\n",
    "import pandas as pd\n",
    "import scipy.stats as stats\n",
    "import matplotlib.pyplot as plt"
   ]
  },
  {
   "cell_type": "markdown",
   "metadata": {},
   "source": [
    "___\n",
    "<img style=\"float: right; margin: 0px 0px 15px 15px;\" src=\"https://www.carrerasenlinea.mx/logos/original/logo-instituto-tecnologico-y-de-estudios-superiores-de-occidente.png\" width=\"150px\" height=\"100px\" />\n",
    "\n",
    "# Proyecto de Aplicación Profesional\n",
    "\n",
    "## Optimización De Programas de Inversión para Intermediarios Financieros\n",
    "\n",
    "\n",
    "\n",
    "### Integrantes:\n",
    "\n",
    "### - Jazmín Calderón\n",
    "### - Diana Chávez\n",
    "### - Juan Antonio Flores\n",
    "\n",
    "\n"
   ]
  },
  {
   "cell_type": "code",
   "execution_count": 64,
   "metadata": {},
   "outputs": [],
   "source": [
    "#Lista de nombres de los 36 ETF's\n",
    "\n",
    "lista = ['1-3-Year-Treasury-Bond',\n",
    "         '20-Year-Treasury-Bond',\n",
    "         '7-10-Year-Treasury-Bond',\n",
    "         'Core-MSCI-EAFE',\n",
    "         'Core-MSCI-Emerging-Markets',\n",
    "         'Core-MSCI-Total-International-Stock',\n",
    "         'Core-SP-500',\n",
    "         'Core-SP-Mid-Cap', \n",
    "         'Core-SP-Small-Cap',\n",
    "         'Core-SP-Total-US-Stock-Market',\n",
    "         'Core-US-Aggregate-Bond',\n",
    "         'Edge-MSCI-Min-Vol-EAFE', \n",
    "         'Edge-MSCI-Min-Vol-USA',\n",
    "         'Edge-MSCI-USA-Quality-Factor',\n",
    "         'Floating-Rate-Bond',\n",
    "         'JP-Morgan-USD-Emerging-Markets-Bond', \n",
    "         'MBS',\n",
    "         'MSCI-ACWI',\n",
    "         'MSCI-EAFE',\n",
    "         'MSCI-Emerging-Markets',\n",
    "         'MSCI-Japan',\n",
    "         'Nasdaq-Biotechnology',\n",
    "         'Preferred-and-Income-Securities',\n",
    "         'Russell-1000',\n",
    "         'Russell-1000-Growth',\n",
    "         'Russell-1000-Value',\n",
    "         'Russell-2000',\n",
    "         'Russell-3000',\n",
    "         'SP-500-Growth',\n",
    "         'SP-500-Value',\n",
    "         'Select-Dividend',\n",
    "         'Short-Term-Corporate-Bond',\n",
    "         'Short-Treasury-Bond',\n",
    "         'TIPS-Bond',\n",
    "         'iBoxx--High-Yield-Corporate-Bond',\n",
    "         'iBoxx--Investment-Grade-Corporate-Bond']\n",
    "\n",
    "# Todos tienen en común:\n",
    "\n",
    "#'https://raw.githubusercontent.com/Dianachav/PAP_Spring_19/master/ETFS/iShares-\n",
    "# +\n",
    "# NOMBRE ETF EN LISTA\n",
    "# +\n",
    "# -ETF_fund.csv',\n"
   ]
  },
  {
   "cell_type": "markdown",
   "metadata": {},
   "source": [
    "## Importar Datos"
   ]
  },
  {
   "cell_type": "markdown",
   "metadata": {},
   "source": [
    "## ETF'S"
   ]
  },
  {
   "cell_type": "code",
   "execution_count": 67,
   "metadata": {},
   "outputs": [
    {
     "data": {
      "text/plain": [
       "(0.37086061734835124, 0.15905)"
      ]
     },
     "execution_count": 67,
     "metadata": {},
     "output_type": "execute_result"
    }
   ],
   "source": [
    "#Leer archivos .csv\n",
    "ETF = pd.read_csv('https://raw.githubusercontent.com/Dianachav/PAP_Spring_19/master/ETFS/iShares-1-3-Year-Treasury-Bond-ETF_fund.csv',\n",
    "                  skiprows = [0,1,2,3], delim_whitespace=False)\n",
    "\n",
    "#Limpieza y acondicionamiento del DataFrame\n",
    "ETF['Rendimientos mensual'] = ETF['Rendimientos mensual'].replace('--',0)\n",
    "ETF['Rendimientos mensual'] = ETF['Rendimientos mensual'].astype(float)\n",
    "\n",
    "#Obtención de rendimiento promedio mensual y desviación estándar mensual\n",
    "rend_men = ETF['Rendimientos mensual']\n",
    "desv = np.std(rend_men)\n",
    "rend = np.mean(rend_men)\n",
    "desv, rend"
   ]
  },
  {
   "cell_type": "code",
   "execution_count": null,
   "metadata": {},
   "outputs": [],
   "source": []
  },
  {
   "cell_type": "code",
   "execution_count": null,
   "metadata": {},
   "outputs": [],
   "source": []
  },
  {
   "cell_type": "code",
   "execution_count": null,
   "metadata": {},
   "outputs": [],
   "source": []
  },
  {
   "cell_type": "code",
   "execution_count": null,
   "metadata": {},
   "outputs": [],
   "source": []
  },
  {
   "cell_type": "code",
   "execution_count": null,
   "metadata": {},
   "outputs": [],
   "source": []
  },
  {
   "cell_type": "code",
   "execution_count": null,
   "metadata": {},
   "outputs": [],
   "source": []
  }
 ],
 "metadata": {
  "kernelspec": {
   "display_name": "Python 2",
   "language": "python",
   "name": "python2"
  },
  "language_info": {
   "codemirror_mode": {
    "name": "ipython",
    "version": 2
   },
   "file_extension": ".py",
   "mimetype": "text/x-python",
   "name": "python",
   "nbconvert_exporter": "python",
   "pygments_lexer": "ipython2",
   "version": "2.7.15"
  }
 },
 "nbformat": 4,
 "nbformat_minor": 2
}
