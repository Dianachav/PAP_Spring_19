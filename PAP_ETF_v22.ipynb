{
 "cells": [
  {
   "cell_type": "code",
   "execution_count": 83,
   "metadata": {},
   "outputs": [],
   "source": [
    "# Librerias\n",
    "import datetime\n",
    "from datetime import datetime\n",
    "import numpy as np\n",
    "import pandas as pd\n",
    "import scipy.stats as stats\n",
    "import matplotlib.pyplot as plt\n",
    "import random\n",
    "import time\n",
    "import seaborn as sns\n",
    "%matplotlib inline\n",
    "import matplotlib\n",
    "import math\n",
    "np.random.seed(123)\n",
    "import plotly \n",
    "plotly.tools.set_credentials_file(username='dianachav', api_key='wq86MyrntROmRpx2KOP4')\n",
    "import plotly.plotly as py\n",
    "import plotly.graph_objs as go"
   ]
  },
  {
   "cell_type": "markdown",
   "metadata": {},
   "source": [
    "___\n",
    "<img style=\"float: right; margin: 0px 0px 15px 15px;\" src=\"https://www.carrerasenlinea.mx/logos/original/logo-instituto-tecnologico-y-de-estudios-superiores-de-occidente.png\" width=\"150px\" height=\"100px\" />\n",
    "\n",
    "# Proyecto de Aplicación Profesional\n",
    "\n",
    "## Optimización De Programas de Inversión para Intermediarios Financieros\n",
    "\n",
    "\n",
    "\n",
    "### Integrantes:\n",
    "\n",
    "### - Jazmín Calderón\n",
    "### - Diana Chávez\n",
    "### - Juan Antonio Flores\n",
    "\n",
    "\n"
   ]
  },
  {
   "cell_type": "code",
   "execution_count": 2,
   "metadata": {},
   "outputs": [],
   "source": [
    "lista = ['https://raw.githubusercontent.com/Dianachav/PAP_Spring_19/master/ETFS/iShares-Core-SP-500-ETF_fund.csv',\n",
    "         'https://raw.githubusercontent.com/Dianachav/PAP_Spring_19/master/ETFS/iShares-Core-SP-Mid-Cap-ETF_fund.csv', \n",
    "         'https://raw.githubusercontent.com/Dianachav/PAP_Spring_19/master/ETFS/iShares-Core-SP-Total-US-Stock-Market-ETF_fund.csv',\n",
    "         'https://raw.githubusercontent.com/Dianachav/PAP_Spring_19/master/ETFS/iShares-Expanded-Tech-Sector-ETF_fund.csv', #nuevo \n",
    "         'https://raw.githubusercontent.com/Dianachav/PAP_Spring_19/master/ETFS/iShares-Expanded-Tech-Software-Sector-ETF_fund.csv', #nuevo\n",
    "         'https://raw.githubusercontent.com/Dianachav/PAP_Spring_19/master/ETFS/iShares-MSCI-ACWI-ETF_fund.csv',\n",
    "         'https://raw.githubusercontent.com/Dianachav/PAP_Spring_19/master/ETFS/iShares-MSCI-EAFE-ETF_fund.csv',\n",
    "         'https://raw.githubusercontent.com/Dianachav/PAP_Spring_19/master/ETFS/iShares-MSCI-Emerging-Markets-ETF_fund.csv',\n",
    "         'https://raw.githubusercontent.com/Dianachav/PAP_Spring_19/master/ETFS/iShares-MSCI-Japan-ETF_fund.csv',\n",
    "         'https://raw.githubusercontent.com/Dianachav/PAP_Spring_19/master/ETFS/iShares-MSCI-USA-ESG-Select-ETF_fund.csv',\n",
    "         'https://raw.githubusercontent.com/Dianachav/PAP_Spring_19/master/ETFS/iShares-Nasdaq-Biotechnology-ETF_fund.csv',\n",
    "         'https://raw.githubusercontent.com/Dianachav/PAP_Spring_19/master/ETFS/iShares-North-American-Tech-Multimedia-Networking-ETF_fund.csv',\n",
    "         'https://raw.githubusercontent.com/Dianachav/PAP_Spring_19/master/ETFS/iShares-PHLX-Semiconductor-ETF_fund.csv',\n",
    "         'https://raw.githubusercontent.com/Dianachav/PAP_Spring_19/master/ETFS/iShares-Preferred-and-Income-Securities-ETF_fund.csv',\n",
    "         'https://raw.githubusercontent.com/Dianachav/PAP_Spring_19/master/ETFS/iShares-Russell-1000-ETF_fund.csv',\n",
    "         'https://raw.githubusercontent.com/Dianachav/PAP_Spring_19/master/ETFS/iShares-Russell-1000-Growth-ETF_fund.csv',\n",
    "         'https://raw.githubusercontent.com/Dianachav/PAP_Spring_19/master/ETFS/iShares-Russell-1000-Value-ETF_fund.csv',\n",
    "         'https://raw.githubusercontent.com/Dianachav/PAP_Spring_19/master/ETFS/iShares-Russell-2000-ETF_fund.csv',\n",
    "         'https://raw.githubusercontent.com/Dianachav/PAP_Spring_19/master/ETFS/iShares-SP-500-Growth-ETF_fund.csv',\n",
    "         'https://raw.githubusercontent.com/Dianachav/PAP_Spring_19/master/ETFS/iShares-SP-500-Value-ETF_fund.csv',\n",
    "         'https://raw.githubusercontent.com/Dianachav/PAP_Spring_19/master/ETFS/iShares-US-Basic-Materials-ETF_fund.csv', #nuevo\n",
    "         'https://raw.githubusercontent.com/Dianachav/PAP_Spring_19/master/ETFS/iShares-US-Consumer-Services-ETF_fund.csv', #nuevo\n",
    "         'https://raw.githubusercontent.com/Dianachav/PAP_Spring_19/master/ETFS/iShares-US-Energy-ETF_fund.csv', #nuevo\n",
    "         'https://raw.githubusercontent.com/Dianachav/PAP_Spring_19/master/ETFS/iShares-US-Financial-Services-ETF_fund.csv',#nuevo\n",
    "         'https://raw.githubusercontent.com/Dianachav/PAP_Spring_19/master/ETFS/iShares-US-Financials-ETF_fund.csv',#nuevo\n",
    "         'https://raw.githubusercontent.com/Dianachav/PAP_Spring_19/master/ETFS/iShares-US-Healthcare-ETF_fund.csv', #nuevo\n",
    "         'https://raw.githubusercontent.com/Dianachav/PAP_Spring_19/master/ETFS/iShares-US-Home-Construction-ETF_fund.csv',\n",
    "         'https://raw.githubusercontent.com/Dianachav/PAP_Spring_19/master/ETFS/iShares-US-Industrials-ETF_fund.csv', #nuevo\n",
    "         'https://raw.githubusercontent.com/Dianachav/PAP_Spring_19/master/ETFS/iShares-US-Medical-Devices-ETF_fund.csv', #nuevo\n",
    "         'https://raw.githubusercontent.com/Dianachav/PAP_Spring_19/master/ETFS/iShares-US-Pharmaceuticals-ETF_fund.csv', #nuevo\n",
    "         'https://raw.githubusercontent.com/Dianachav/PAP_Spring_19/master/ETFS/iShares-US-Technology-ETF_fund.csv', #nuevo\n",
    "         'https://raw.githubusercontent.com/Dianachav/PAP_Spring_19/master/ETFS/iShares-US-Telecommunications-ETF_fund.csv']"
   ]
  },
  {
   "cell_type": "code",
   "execution_count": 3,
   "metadata": {},
   "outputs": [],
   "source": [
    "listas = ['https://raw.githubusercontent.com/Dianachav/PAP_Spring_19/master/ETF_S/S_iShares-Core-SP-500-ETF_fund.csv',\n",
    "         'https://raw.githubusercontent.com/Dianachav/PAP_Spring_19/master/ETF_S/S_iShares-Core-SP-Mid-Cap-ETF_fund.csv', \n",
    "         'https://raw.githubusercontent.com/Dianachav/PAP_Spring_19/master/ETF_S/S_iShares-Core-SP-Total-US-Stock-Market-ETF_fund.csv',\n",
    "         'https://raw.githubusercontent.com/Dianachav/PAP_Spring_19/master/ETF_S/S_iShares-Expanded-Tech-Sector-ETF_fund.csv', #nuevo \n",
    "         'https://raw.githubusercontent.com/Dianachav/PAP_Spring_19/master/ETF_S/S_iShares-Expanded-Tech-Software-Sector-ETF_fund.csv', #nuevo\n",
    "         'https://raw.githubusercontent.com/Dianachav/PAP_Spring_19/master/ETF_S/S_iShares-MSCI-ACWI-ETF_fund.csv',\n",
    "         'https://raw.githubusercontent.com/Dianachav/PAP_Spring_19/master/ETF_S/S_iShares-MSCI-EAFE-ETF_fund.csv',\n",
    "         'https://raw.githubusercontent.com/Dianachav/PAP_Spring_19/master/ETF_S/S_iShares-MSCI-Emerging-Markets-ETF_fund.csv',\n",
    "         'https://raw.githubusercontent.com/Dianachav/PAP_Spring_19/master/ETF_S/S_iShares-MSCI-Japan-ETF_fund.csv',\n",
    "         'https://raw.githubusercontent.com/Dianachav/PAP_Spring_19/master/ETF_S/S_iShares-MSCI-USA-ESG-Select-ETF_fund.csv',\n",
    "         'https://raw.githubusercontent.com/Dianachav/PAP_Spring_19/master/ETF_S/S_iShares-Nasdaq-Biotechnology-ETF_fund.csv',\n",
    "         'https://raw.githubusercontent.com/Dianachav/PAP_Spring_19/master/ETF_S/S_iShares-North-American-Tech-Multimedia-Networking-ETF_fund.csv',\n",
    "         'https://raw.githubusercontent.com/Dianachav/PAP_Spring_19/master/ETF_S/S_iShares-PHLX-Semiconductor-ETF_fund.csv',\n",
    "         'https://raw.githubusercontent.com/Dianachav/PAP_Spring_19/master/ETF_S/S_iShares-Preferred-and-Income-Securities-ETF_fund.csv',\n",
    "         'https://raw.githubusercontent.com/Dianachav/PAP_Spring_19/master/ETF_S/S_iShares-Russell-1000-ETF_fund.csv',\n",
    "         'https://raw.githubusercontent.com/Dianachav/PAP_Spring_19/master/ETF_S/S_iShares-Russell-1000-Growth-ETF_fund.csv',\n",
    "         'https://raw.githubusercontent.com/Dianachav/PAP_Spring_19/master/ETF_S/S_iShares-Russell-1000-Value-ETF_fund.csv',\n",
    "         'https://raw.githubusercontent.com/Dianachav/PAP_Spring_19/master/ETF_S/S_iShares-Russell-2000-ETF_fund.csv',\n",
    "         'https://raw.githubusercontent.com/Dianachav/PAP_Spring_19/master/ETF_S/S_iShares-SP-500-Growth-ETF_fund.csv',\n",
    "         'https://raw.githubusercontent.com/Dianachav/PAP_Spring_19/master/ETF_S/S_iShares-SP-500-Value-ETF_fund.csv',\n",
    "         'https://raw.githubusercontent.com/Dianachav/PAP_Spring_19/master/ETF_S/S_iShares-US-Basic-Materials-ETF_fund.csv', #nuevo\n",
    "         'https://raw.githubusercontent.com/Dianachav/PAP_Spring_19/master/ETF_S/S_iShares-US-Consumer-Services-ETF_fund.csv', #nuevo\n",
    "         'https://raw.githubusercontent.com/Dianachav/PAP_Spring_19/master/ETF_S/S_iShares-US-Energy-ETF_fund.csv', #nuevo\n",
    "         'https://raw.githubusercontent.com/Dianachav/PAP_Spring_19/master/ETF_S/S_iShares-US-Financial-Services-ETF_fund.csv',#nuevo\n",
    "         'https://raw.githubusercontent.com/Dianachav/PAP_Spring_19/master/ETF_S/S_iShares-US-Financials-ETF_fund.csv',#nuevo\n",
    "         'https://raw.githubusercontent.com/Dianachav/PAP_Spring_19/master/ETF_S/S_iShares-US-Healthcare-ETF_fund.csv', #nuevo\n",
    "         'https://raw.githubusercontent.com/Dianachav/PAP_Spring_19/master/ETF_S/S_iShares-US-Home-Construction-ETF_fund.csv',\n",
    "         'https://raw.githubusercontent.com/Dianachav/PAP_Spring_19/master/ETF_S/S_iShares-US-Industrials-ETF_fund.csv', #nuevo\n",
    "         'https://raw.githubusercontent.com/Dianachav/PAP_Spring_19/master/ETF_S/S_iShares-US-Medical-Devices-ETF_fund.csv', #nuevo\n",
    "         'https://raw.githubusercontent.com/Dianachav/PAP_Spring_19/master/ETF_S/S_iShares-US-Pharmaceuticals-ETF_fund.csv', #nuevo\n",
    "         'https://raw.githubusercontent.com/Dianachav/PAP_Spring_19/master/ETF_S/S_iShares-US-Technology-ETF_fund.csv', #nuevo\n",
    "         'https://raw.githubusercontent.com/Dianachav/PAP_Spring_19/master/ETF_S/S_iShares-US-Telecommunications-ETF_fund.csv']"
   ]
  },
  {
   "cell_type": "code",
   "execution_count": 4,
   "metadata": {},
   "outputs": [],
   "source": [
    "lista_M = ['https://raw.githubusercontent.com/Dianachav/PAP_Spring_19/master/ETF_M/iShares-Core-SP-500-ETF_fund.csv',\n",
    "         'https://raw.githubusercontent.com/Dianachav/PAP_Spring_19/master/ETF_M/iShares-Core-SP-Mid-Cap-ETF_fund.csv',\n",
    "         'https://raw.githubusercontent.com/Dianachav/PAP_Spring_19/master/ETF_M/iShares-Core-SP-Total-US-Stock-Market-ETF_fund.csv',\n",
    "         'https://raw.githubusercontent.com/Dianachav/PAP_Spring_19/master/ETF_M/iShares-Expanded-Tech-Sector-ETF_fund.csv',\n",
    "          'https://raw.githubusercontent.com/Dianachav/PAP_Spring_19/master/ETF_M/iShares-Expanded-Tech-Software-Sector-ETF_fund.csv',\n",
    "          'https://raw.githubusercontent.com/Dianachav/PAP_Spring_19/master/ETF_M/iShares-MSCI-ACWI-ETF_fund.csv',\n",
    "          'https://raw.githubusercontent.com/Dianachav/PAP_Spring_19/master/ETF_M/iShares-MSCI-EAFE-ETF_fund.csv',\n",
    "          'https://raw.githubusercontent.com/Dianachav/PAP_Spring_19/master/ETF_M/iShares-MSCI-Emerging-Markets-ETF_fund.csv',\n",
    "          'https://raw.githubusercontent.com/Dianachav/PAP_Spring_19/master/ETF_M/iShares-MSCI-Japan-ETF_fund.csv',\n",
    "          'https://raw.githubusercontent.com/Dianachav/PAP_Spring_19/master/ETF_M/iShares-MSCI-USA-ESG-Select-ETF_fund.csv',\n",
    "         'https://raw.githubusercontent.com/Dianachav/PAP_Spring_19/master/ETF_M/iShares-Nasdaq-Biotechnology-ETF_fund.csv',\n",
    "         'https://raw.githubusercontent.com/Dianachav/PAP_Spring_19/master/ETF_M/iShares-North-American-Tech-Multimedia-Networking-ETF_fund.csv',\n",
    "         'https://raw.githubusercontent.com/Dianachav/PAP_Spring_19/master/ETF_M/iShares-PHLX-Semiconductor-ETF_fund.csv',\n",
    "         'https://raw.githubusercontent.com/Dianachav/PAP_Spring_19/master/ETF_M/iShares-Preferred-and-Income-Securities-ETF_fund.csv',\n",
    "         'https://raw.githubusercontent.com/Dianachav/PAP_Spring_19/master/ETF_M/iShares-Russell-1000-ETF_fund.csv',\n",
    "         'https://raw.githubusercontent.com/Dianachav/PAP_Spring_19/master/ETF_M/iShares-Russell-1000-Growth-ETF_fund.csv',\n",
    "         'https://raw.githubusercontent.com/Dianachav/PAP_Spring_19/master/ETF_M/iShares-Russell-1000-Value-ETF_fund.csv',\n",
    "         'https://raw.githubusercontent.com/Dianachav/PAP_Spring_19/master/ETF_M/iShares-Russell-2000-ETF_fund.csv',\n",
    "         'https://raw.githubusercontent.com/Dianachav/PAP_Spring_19/master/ETF_M/iShares-SP-500-Growth-ETF_fund.csv',\n",
    "         'https://raw.githubusercontent.com/Dianachav/PAP_Spring_19/master/ETF_M/iShares-SP-500-Value-ETF_fund.csv',\n",
    "         'https://raw.githubusercontent.com/Dianachav/PAP_Spring_19/master/ETF_M/iShares-US-Basic-Materials-ETF_fund.csv',\n",
    "         'https://raw.githubusercontent.com/Dianachav/PAP_Spring_19/master/ETF_M/iShares-US-Consumer-Services-ETF_fund.csv',\n",
    "         'https://raw.githubusercontent.com/Dianachav/PAP_Spring_19/master/ETF_M/iShares-US-Energy-ETF_fund.csv',\n",
    "         'https://raw.githubusercontent.com/Dianachav/PAP_Spring_19/master/ETF_M/iShares-US-Financial-Services-ETF_fund.csv',\n",
    "         'https://raw.githubusercontent.com/Dianachav/PAP_Spring_19/master/ETF_M/iShares-US-Financials-ETF_fund.csv',\n",
    "         'https://raw.githubusercontent.com/Dianachav/PAP_Spring_19/master/ETF_M/iShares-US-Healthcare-ETF_fund.csv',\n",
    "         'https://raw.githubusercontent.com/Dianachav/PAP_Spring_19/master/ETF_M/iShares-US-Home-Construction-ETF_fund.csv',\n",
    "         'https://raw.githubusercontent.com/Dianachav/PAP_Spring_19/master/ETF_M/iShares-US-Industrials-ETF_fund.csv',\n",
    "         'https://raw.githubusercontent.com/Dianachav/PAP_Spring_19/master/ETF_M/iShares-US-Medical-Devices-ETF_fund.csv',\n",
    "         'https://raw.githubusercontent.com/Dianachav/PAP_Spring_19/master/ETF_M/iShares-US-Pharmaceuticals-ETF_fund.csv',\n",
    "         'https://raw.githubusercontent.com/Dianachav/PAP_Spring_19/master/ETF_M/iShares-US-Technology-ETF_fund.csv',\n",
    "         'https://raw.githubusercontent.com/Dianachav/PAP_Spring_19/master/ETF_M/iShares-US-Telecommunications-ETF_fund.csv']\n",
    "         "
   ]
  },
  {
   "cell_type": "markdown",
   "metadata": {},
   "source": [
    "# Capital de Renta Variable"
   ]
  },
  {
   "cell_type": "markdown",
   "metadata": {},
   "source": [
    "## Críterio #1 Harry Markowitz's Portfolio Selection Model"
   ]
  },
  {
   "cell_type": "markdown",
   "metadata": {},
   "source": [
    "> <p style='text-align: justify;'>  The fundamental tenet of this theory is the possibility for investors to construct an “efficient set of portfolios — Efficient Frontier” that offers the maximum expected returns for a given level of risk. An investor’s tolerance for risk determines the type of “efficient portfolio” he/she opts for. An investor with the lowest tolerance opts for a portfolio that offers him/her the maximum expected return given the lowest possible risk and vice versa. "
   ]
  },
  {
   "cell_type": "markdown",
   "metadata": {},
   "source": [
    "<img style=\"float: center\" src=\"https://www.slidegeeks.com/pics/dgm/l/m/markowitz_portfolio_theory_business_powerpoint_presentation_1.jpg\" width=\"600px\" height=\"600px\" />"
   ]
  },
  {
   "cell_type": "markdown",
   "metadata": {},
   "source": [
    "## Methodology of portfolios"
   ]
  },
  {
   "cell_type": "markdown",
   "metadata": {},
   "source": [
    "> <p style='text-align: justify;'> We are going to use three methods to create portfolios:\n",
    "\n",
    "> <p style='text-align: justify;'>  1. Equal Weights in the Portfolio\n",
    "> <p style='text-align: justify;'> 2. Weights in the Portfolio using Markowitz's Minimun Variance\n",
    "> <p style='text-align: justify;'> 3. Weights in the Portfolio using Markowitz's Maximun Sharpe"
   ]
  },
  {
   "cell_type": "markdown",
   "metadata": {},
   "source": [
    "## Methods of Performance Evaluation"
   ]
  },
  {
   "cell_type": "markdown",
   "metadata": {},
   "source": [
    "> <p style='text-align: justify;'> Methods of Performance Evaluation should be understood as the quality level achieved in the management on the part of managers of financial assets, measures are an absolute classic and consistency, in terms of profitability, adjusted appropriately by the total risk and systemic. There are also measures for evaluating selection and portfolio management in assessing the timing with the market. \n",
    "\n",
    "> <p style='text-align: justify;'>For this project we use for each portfolio: \n",
    "\n",
    "> <p style='text-align: justify;'>  1. Return\n",
    "> <p style='text-align: justify;'> 2. Volatility\n",
    "> <p style='text-align: justify;'> 3. Sharpe Ratio\n",
    "> <p style='text-align: justify;'> 4.  $M^2$\n"
   ]
  },
  {
   "cell_type": "markdown",
   "metadata": {},
   "source": [
    "___\n"
   ]
  },
  {
   "cell_type": "markdown",
   "metadata": {},
   "source": [
    "#### STEP #1:\n",
    "> <p  style='text-align: justify;'> Obtaining returns for each ETF and data manipulation."
   ]
  },
  {
   "cell_type": "code",
   "execution_count": 5,
   "metadata": {},
   "outputs": [],
   "source": [
    "# ---------------------------------Function to get the returns per month of each ETF --------------------------------------#\n",
    "def rend (i):\n",
    "    fecha=[]\n",
    "\n",
    "    ETF = pd.read_csv(lista_M[i], skiprows = [0,1,2,3])\n",
    "  \n",
    "    ETF['Monthly Total (NAV) Return'] = ETF['Monthly Total (NAV) Return'].replace('--',\"0\")\n",
    "    ETF['Monthly Total (NAV) Return'] = ETF['Monthly Total (NAV) Return'].astype(float)\n",
    "    ETF=ETF['Monthly Total (NAV) Return']\n",
    "\n",
    "    return(ETF)"
   ]
  },
  {
   "cell_type": "code",
   "execution_count": 6,
   "metadata": {},
   "outputs": [],
   "source": [
    "# ----------------------------Call the function rend that get the return per month of each ETF---------------------------·#\n",
    "r0= rend(0)\n",
    "r1= rend(1)\n",
    "r2= rend(2)\n",
    "r3= rend(3)\n",
    "r4= rend(4)\n",
    "r5= rend(5)\n",
    "r6= rend(6)\n",
    "r7= rend(7)\n",
    "r8= rend(8)\n",
    "r9= rend(9)\n",
    "r10= rend(10)\n",
    "r11= rend(11)\n",
    "r12= rend(12)\n",
    "r13= rend(13)\n",
    "r14= rend(14)\n",
    "r15= rend(15)\n",
    "r16= rend(16)\n",
    "r17= rend(17)\n",
    "r18= rend(18)\n",
    "r19= rend(19)\n",
    "r20= rend(20)\n",
    "r21= rend(21)\n",
    "r22= rend(22)\n",
    "r23= rend(23)\n",
    "r24= rend(24)\n",
    "r25= rend(25)\n",
    "r26= rend(26)\n",
    "r27= rend(27)\n",
    "r28= rend(28)\n",
    "r29= rend(29)\n",
    "r30= rend(30)\n",
    "r31= rend(31)"
   ]
  },
  {
   "cell_type": "code",
   "execution_count": 7,
   "metadata": {},
   "outputs": [],
   "source": [
    "#---------------Construction of a DATAFRAME with the return per month of each ETF of the year 2008---------------------·#\n",
    "df_rend = pd.DataFrame({'Core SP 500': r0,'Core SP Mid Cap': r1,\n",
    "                  'Core SP Total US Stock Market': r2,'Expanded Tech Sector': r3,\n",
    "                  'Expanded Tech Software Sector': r4,'MSCI ACWI': r5,\n",
    "                  'MSCI EAFE': r6,'MSCI Emerging Markets': r7, 'MSCI Japan': r8,\n",
    "                  'MSCI USA ESG Select': r9, 'Nasdaq Biotechnology': r10, 'NorthAmerican Tech Multimedia Networking': r11,\n",
    "                  'PHLX Semiconductor': r12, 'Preferred and Income Securities': r13, 'Russell 1000': r14,\n",
    "                  'Russell 1000 Growth': r15,'Russell 1000 Value': r16, 'Russell 2000': r17,\n",
    "                  'SP 500 Growth': r18,'US Basic Materials': r19,\n",
    "                  'US Consumer Services': r20, 'SP 500 Value': r21, 'US Energy': r22,\n",
    "                  'US Financial Services': r23, 'US Financials': r24, 'US Healthcare': r25, 'Home Construction': r26,\n",
    "                  'US Industrials': r27, 'US Medical Devices': r28, 'US Pharmaceuticals': r29,\n",
    "                  'US Technology': r30,'US Telecommunications': r31})\n",
    "\n",
    "df_rend = df_rend\n",
    "pd.set_option('display.max_columns', 32)"
   ]
  },
  {
   "cell_type": "code",
   "execution_count": 8,
   "metadata": {},
   "outputs": [],
   "source": [
    "# -----------------------------------List of the 32 selected ETF´s from the ishares platform------------------------------·#\n",
    "selected = ['Core SP 500','Core SP Mid Cap',\n",
    "                  'Core SP Total US Stock Market','Expanded Tech Sector',\n",
    "                  'Expanded Tech Software Sector','MSCI ACWI',\n",
    "                  'MSCI EAFE','MSCI Emerging Markets', 'MSCI Japan',\n",
    "                  'MSCI USA ESG Select', 'Nasdaq Biotechnology', 'NorthAmerican Tech Multimedia Networking',\n",
    "                  'PHLX Semiconductor', 'Preferred and Income Securities', 'Russell 1000',\n",
    "                  'Russell 1000 Growth','Russell 1000 Value', 'Russell 2000',\n",
    "                  'SP 500 Growth','US Basic Materials','US Consumer Services', 'SP 500 Value', 'US Energy',\n",
    "                  'US Financial Services', 'US Financials', 'US Healthcare', 'Home Construction',\n",
    "                  'US Industrials', 'US Medical Devices', 'US Pharmaceuticals','US Technology','US Telecommunications']"
   ]
  },
  {
   "cell_type": "code",
   "execution_count": 9,
   "metadata": {},
   "outputs": [],
   "source": [
    "# ----------------------------------Calculate optimal shares using the markowitz theory------------------------------------------------#\n",
    "#Calculate annual returns of the ETF´s\n",
    "returns_monthly = df_rend\n",
    "returns_annual = returns_monthly.mean()*12\n",
    "\n",
    "# get monthly and covariance of returns of the ETF´s\n",
    "cov_monthly = df_rend.cov()\n",
    "cov_annual = cov_monthly*12\n",
    "\n",
    "# empty lists to store returns, volatility and weights of imaginary portfolios\n",
    "port_returns = []\n",
    "port_volatility = []\n",
    "sharpe_ratio = []\n",
    "stock_weights = []\n",
    "\n",
    "# set the number of combinations for imaginary portfolios\n",
    "num_assets = len(selected)\n",
    "num_portfolios = 50000\n",
    "\n",
    "#set random seed for reproduction's sake\n",
    "np.random.seed(101)\n",
    "\n",
    "# populate the empty lists with each portfolios returns,risk and weights\n",
    "for single_portfolio in range(num_portfolios):\n",
    "    weights = np.random.random(num_assets)\n",
    "    weights /= np.sum(weights)\n",
    "    returns = np.dot(weights, returns_annual)\n",
    "    volatility = np.sqrt(np.dot(weights.T, np.dot(cov_annual, weights)))\n",
    "    sharpe = (returns-2.39)/ volatility\n",
    "    sharpe_ratio.append(sharpe)\n",
    "    port_returns.append(returns)\n",
    "    port_volatility.append(volatility)\n",
    "    stock_weights.append(weights)\n",
    "\n",
    "# a dictionary for Returns and Risk values of each portfolio\n",
    "portfolio = {'Returns': port_returns,\n",
    "             'Volatility': port_volatility,\n",
    "             'Sharpe Ratio': sharpe_ratio}\n",
    "\n",
    "# extend original dictionary to accomodate each name of ETF and weight in the portfolio\n",
    "for counter,symbol in enumerate(selected):\n",
    "    portfolio[symbol] = [Weight[counter] for Weight in stock_weights]\n",
    "\n",
    "# make a dataframe of the extended dictionary\n",
    "df = pd.DataFrame(portfolio)\n",
    "\n",
    "# get better labels for desired arrangement of columns\n",
    "column_order = ['Returns', 'Volatility', 'Sharpe Ratio'] + [stock for stock in selected]\n",
    "\n",
    "# reorder dataframe columns\n",
    "df = df[column_order]\n",
    "\n",
    "\n",
    "# find min Volatility & max sharpe values in the dataframe (df)\n",
    "min_volatility = df['Volatility'].min()\n",
    "max_sharpe = df['Sharpe Ratio'].max()\n",
    "\n",
    "# use the min, max values to locate and create the two special portfolios\n",
    "sharpe_portfolio = df.loc[df['Sharpe Ratio'] == max_sharpe]\n",
    "min_variance_port = df.loc[df['Volatility'] == min_volatility]"
   ]
  },
  {
   "cell_type": "code",
   "execution_count": 10,
   "metadata": {},
   "outputs": [],
   "source": [
    "#------------Construction of a DATAFRAME with the shares of each ETF of the year 2008 for min variance-----------------·#\n",
    "pond_v = pd.DataFrame(min_variance_port.T)"
   ]
  },
  {
   "cell_type": "code",
   "execution_count": 11,
   "metadata": {},
   "outputs": [],
   "source": [
    "#------------Get the shares of each ETF of the year 2008 for min variance-----------------·#\n",
    "mv = min_variance_port.drop(columns = ['Returns', 'Volatility', 'Sharpe Ratio'])\n",
    "mv['Year'] = 2008\n",
    "mv = mv.set_index('Year')\n",
    "pv= mv.loc[2008]"
   ]
  },
  {
   "cell_type": "code",
   "execution_count": 12,
   "metadata": {},
   "outputs": [],
   "source": [
    "#--------------Construction of a DATAFRAME with the shares of each ETF of the year 2008 for max sharpe-----------------·#\n",
    "pond_s = pd.DataFrame(sharpe_portfolio.T)"
   ]
  },
  {
   "cell_type": "code",
   "execution_count": 13,
   "metadata": {},
   "outputs": [],
   "source": [
    "#------------Get the shares of each ETF of the year 2008 for max sharpe-----------------·#\n",
    "ms = sharpe_portfolio.drop(columns = ['Returns', 'Volatility', 'Sharpe Ratio'])\n",
    "ms['Year'] = 2008\n",
    "ms = ms.set_index('Year')\n",
    "ps= ms.loc[2008]"
   ]
  },
  {
   "cell_type": "code",
   "execution_count": 14,
   "metadata": {},
   "outputs": [],
   "source": [
    "#------------Get the equal weights for the portfolio -----------------·#\n",
    "tw=1\n",
    "n_etfs=len(lista)\n",
    "equal_w = tw/n_etfs #Equal Weighted"
   ]
  },
  {
   "cell_type": "code",
   "execution_count": 15,
   "metadata": {},
   "outputs": [],
   "source": [
    "#------------Create an array of equal weights ----------------·#\n",
    "equal_we=np.array([0.03125,  0.03125,  0.03125,  0.03125,  0.03125,  0.03125,\n",
    "             0.03125,  0.03125,  0.03125,  0.03125,  0.03125,  0.03125,\n",
    "             0.03125,  0.03125,  0.03125,  0.03125,  0.03125,  0.03125,\n",
    "             0.03125,  0.03125,  0.03125,  0.03125,  0.03125,  0.03125,\n",
    "             0.03125,  0.03125,  0.03125,  0.03125,  0.03125,  0.03125,\n",
    "             0.03125,  0.03125])"
   ]
  },
  {
   "cell_type": "code",
   "execution_count": 16,
   "metadata": {},
   "outputs": [],
   "source": [
    "# ----------------------Function to get the returns monthly of each ETF of since 2008 to 2019---------------------------#\n",
    "def ETF_date(j):\n",
    "    fecha=[]\n",
    "\n",
    "    ETF = pd.read_csv(lista[j], skiprows = [0,1,2,3])\n",
    "    for i in range(len(ETF[\"Month End Date\"])): #for para numero de fechas dentro de un archivo\n",
    "        fecha.append(ETF[\"Month End Date\"].iloc[i].replace(\"-\",\" \"))\n",
    "        ETF['Monthly Total (NAV) Return'] = ETF['Monthly Total (NAV) Return'].replace('--',\"0\")\n",
    "        ETF['Monthly Total (NAV) Return'] = ETF['Monthly Total (NAV) Return'].astype(float)\n",
    "\n",
    "    tabla=pd.DataFrame(columns=['Month End Date','Monthly Total (NAV) Return'])\n",
    "    #tabla.index.name = \"ETF\"\n",
    "    tabla['Month End Date'] = fecha\n",
    "    x=ETF['Monthly Total (NAV) Return']\n",
    "    tabla['Monthly Total (NAV) Return']=x\n",
    "    tabla['Month End Date'] = pd.to_datetime(tabla['Month End Date'], format='%b %d, %Y')\n",
    "    grupo = tabla.groupby(tabla['Month End Date'].dt.year)['Monthly Total (NAV) Return'].agg([\"mean\"]).unstack()\n",
    "\n",
    "    return(grupo)"
   ]
  },
  {
   "cell_type": "code",
   "execution_count": 17,
   "metadata": {},
   "outputs": [],
   "source": [
    "#------------------------Call de function ETF_date for each ETF to make annual returns--------------------------#\n",
    "\n",
    "m0 = ETF_date(0)['mean']\n",
    "m1 = ETF_date(1)['mean']\n",
    "m2 = ETF_date(2)['mean']\n",
    "m3 = ETF_date(3)['mean']\n",
    "m4 = ETF_date(4)['mean']\n",
    "m5 = ETF_date(5)['mean']\n",
    "m6 = ETF_date(6)['mean']\n",
    "m7 = ETF_date(7)['mean']\n",
    "m8 = ETF_date(8)['mean']\n",
    "m9 = ETF_date(9)['mean']\n",
    "m10 = ETF_date(10)['mean']\n",
    "m11 = ETF_date(11)['mean']\n",
    "m12 = ETF_date(12)['mean']\n",
    "m13 = ETF_date(13)['mean']\n",
    "m14 = ETF_date(14)['mean']\n",
    "m15 = ETF_date(15)['mean']\n",
    "m16 = ETF_date(16)['mean']\n",
    "m17 = ETF_date(17)['mean']\n",
    "m18 = ETF_date(18)['mean']\n",
    "m19 = ETF_date(19)['mean']\n",
    "m20 = ETF_date(20)['mean']\n",
    "m21 = ETF_date(21)['mean']\n",
    "m22 = ETF_date(22)['mean']\n",
    "m23 = ETF_date(23)['mean']\n",
    "m24 = ETF_date(24)['mean']\n",
    "m25 = ETF_date(25)['mean']\n",
    "m26 = ETF_date(26)['mean']\n",
    "m27 = ETF_date(27)['mean']\n",
    "m28 = ETF_date(28)['mean']\n",
    "m29 = ETF_date(29)['mean']\n",
    "m30 = ETF_date(30)['mean']\n",
    "m31 = ETF_date(31)['mean']"
   ]
  },
  {
   "cell_type": "code",
   "execution_count": 18,
   "metadata": {},
   "outputs": [],
   "source": [
    "#---------------Construction of a DATAFRAME with the return per year of each ETF since 2008 to 2019---------------------·#\n",
    "a = pd.DataFrame({'Core SP 500': m0,'Core SP Mid Cap': m1,\n",
    "                  'Core SP Total US Stock Market': m2,'Expanded Tech Sector': m3,\n",
    "                  'Expanded Tech Software Sector': m4,'MSCI ACWI': m5,\n",
    "                  'MSCI EAFE': m6,'MSCI Emerging Markets': m7, 'MSCI Japan': m8,\n",
    "                  'MSCI USA ESG Select': m9, 'Nasdaq Biotechnology': m10, 'NorthAmerican Tech Multimedia Networking': m11,\n",
    "                  'PHLX Semiconductor': m12, 'Preferred and Income Securities': m13, 'Russell 1000': m14,\n",
    "                  'Russell 1000 Growth': m15,'Russell 1000 Value': m16, 'Russell 2000': m17,\n",
    "                  'SP 500 Growth': m18,'US Basic Materials': m19,\n",
    "                  'US Consumer Services': m20, 'SP 500 Value': m21, 'US Energy': m22,\n",
    "                  'US Financial Services': m23, 'US Financials': m24, 'US Healthcare': m25, 'Home Construction': m26,\n",
    "                  'US Industrials': m27, 'US Medical Devices': m28, 'US Pharmaceuticals': m29,\n",
    "                  'US Technology': m30,'US Telecommunications': m31})\n",
    "\n",
    "a = a[12:24]\n",
    "pd.set_option('display.max_columns', 32)"
   ]
  },
  {
   "cell_type": "markdown",
   "metadata": {},
   "source": [
    "#### STEP #2:\n",
    "> <p  style='text-align: justify;'> Get the return for the three methods to create portfolios since 2008 to 2019. "
   ]
  },
  {
   "cell_type": "markdown",
   "metadata": {},
   "source": [
    "#### Return \n",
    "Portfolio return refers to the gain or loss realized by an investment portfolio containing several types of investments."
   ]
  },
  {
   "cell_type": "markdown",
   "metadata": {},
   "source": [
    "$$E_p = \\sum_{i=1}^{i=n}x_i E_i$$\n",
    "\n",
    "Where:\n",
    "\n",
    "$x_i$= weight of the asset i\n",
    "\n",
    "$E_i$= return of the asset i"
   ]
  },
  {
   "cell_type": "code",
   "execution_count": 19,
   "metadata": {},
   "outputs": [],
   "source": [
    "#---------------Calculate return per weights of the each ETF---------------------·#\n",
    "part1=a*equal_w"
   ]
  },
  {
   "cell_type": "code",
   "execution_count": 20,
   "metadata": {},
   "outputs": [],
   "source": [
    "#---------------Calculate the return of the portfolio with equal weights---------------------·#\n",
    "rend_port=[]\n",
    "for i in range(len(part1)):\n",
    "    suma=np.cumsum(part1.iloc[i])\n",
    "    rend_port.append(suma.iloc[31])"
   ]
  },
  {
   "cell_type": "code",
   "execution_count": null,
   "metadata": {},
   "outputs": [],
   "source": []
  },
  {
   "cell_type": "code",
   "execution_count": 21,
   "metadata": {},
   "outputs": [],
   "source": [
    "#---------------Construction a list of years since 2008 to 2019---------------------·#\n",
    "\n",
    "years_m= []\n",
    "for i in range(2007,2019):\n",
    "    years_m.append(1+i)"
   ]
  },
  {
   "cell_type": "code",
   "execution_count": 22,
   "metadata": {},
   "outputs": [],
   "source": [
    "#-------------Calculate the return of the portfolio using the weights for minimum variance of markowitz ----------------·#\n",
    "\n",
    "part2=pv*a\n",
    "rend_port2=[]\n",
    "for i in range(len(part2)):\n",
    "    suma=np.cumsum(part2.iloc[i])\n",
    "    rend_port2.append(suma.iloc[31])"
   ]
  },
  {
   "cell_type": "code",
   "execution_count": 23,
   "metadata": {},
   "outputs": [],
   "source": [
    "#-------------Calculate the return of the portfolio using the weights for maximun sharpe of markowitz ----------------·#\n",
    "part3=ps*a\n",
    "rend_port3=[]\n",
    "for i in range(len(part3)):\n",
    "    suma=np.cumsum(part3.iloc[i])\n",
    "    rend_port3.append(suma.iloc[31])"
   ]
  },
  {
   "cell_type": "markdown",
   "metadata": {},
   "source": [
    "#### STEP #3:\n",
    "> <p  style='text-align: justify;'> \n",
    "Get the volatility for the three methods to create portfolios since 2008 to 2019. "
   ]
  },
  {
   "cell_type": "markdown",
   "metadata": {},
   "source": [
    "#### Volatility\n",
    "\n",
    "Volatility is a formal measure of a asset's risks. The higher the volatility of a asset, the greater its up and down swings. The volatility of a portfolio of assets, on the other hand, is a measure of how wildly the total value of all the assets in that portfolio appreciates or declines.\n"
   ]
  },
  {
   "cell_type": "markdown",
   "metadata": {},
   "source": [
    "$$ \\sigma^2_p= \\sum_{i=1}^{i=n} \\sum_{i=1}^{n}x_i x_j \\sigma_ij$$\n",
    "\n",
    "Where:\n",
    "\n",
    "$x_i$= Weight of asset i\n",
    "\n",
    "$x_j$= weight of asset j\n",
    "\n",
    "$\\sigma_ij$= covariance of asset ij"
   ]
  },
  {
   "cell_type": "code",
   "execution_count": 24,
   "metadata": {},
   "outputs": [],
   "source": [
    "# ----------------------Function to get the returns per month of 2019 of each ETF-----------------------#\n",
    "def rend_vol19 (i):\n",
    "    ETF = pd.read_csv(lista[i], skiprows = [0,1,2,3])\n",
    "\n",
    "    ETF['Monthly Total (NAV) Return'] = ETF['Monthly Total (NAV) Return'].replace('--',\"0\")\n",
    "    ETF['Monthly Total (NAV) Return'] = ETF['Monthly Total (NAV) Return'].astype(float)\n",
    "    ETF=ETF['Monthly Total (NAV) Return']\n",
    "    #ETF.iloc[4:44]\n",
    "    last=len(ETF)\n",
    "    ETF=ETF.iloc[(last-2):last]\n",
    "    #ETF=np.mean(ETF)\n",
    "    ETF.index=[1,2]\n",
    "    return(ETF)"
   ]
  },
  {
   "cell_type": "code",
   "execution_count": 25,
   "metadata": {},
   "outputs": [],
   "source": [
    "# ----------------------Function to get the returns per month since 2009 to 2018 of each ETF ---------------------------#\n",
    "def rend_vol18 (i):\n",
    "    ETF = pd.read_csv(lista[i], skiprows = [0,1,2,3])\n",
    "\n",
    "    ETF['Monthly Total (NAV) Return'] = ETF['Monthly Total (NAV) Return'].replace('--',\"0\")\n",
    "    ETF['Monthly Total (NAV) Return'] = ETF['Monthly Total (NAV) Return'].astype(float)\n",
    "    ETF=ETF['Monthly Total (NAV) Return']\n",
    "    #ETF.iloc[4:44]\n",
    "    last=len(ETF)\n",
    "    ETF18=ETF.iloc[(last-14):(last-2)]\n",
    "    ETF17=ETF.iloc[(last-26):(last-14)]\n",
    "    ETF16=ETF.iloc[(last-38):(last-26)]\n",
    "    ETF15=ETF.iloc[(last-50):(last-38)]\n",
    "    ETF14=ETF.iloc[(last-62):(last-50)]\n",
    "    ETF13=ETF.iloc[(last-74):(last-62)]\n",
    "    ETF12=ETF.iloc[(last-86):(last-74)]\n",
    "    ETF11=ETF.iloc[(last-98):(last-86)]\n",
    "    ETF10=ETF.iloc[(last-110):(last-98)]\n",
    "    ETF9=ETF.iloc[(last-122):(last-110)]\n",
    "    #ETF=np.mean(ETF)\n",
    "    index=[1,2,3,4,5,6,7,8,9,10,11,12]\n",
    "    \n",
    "    ETF18.index=index\n",
    "    ETF17.index=index\n",
    "    ETF16.index=index\n",
    "    ETF15.index=index\n",
    "    ETF14.index=index\n",
    "    ETF13.index=index\n",
    "    ETF12.index=index\n",
    "    ETF11.index=index\n",
    "    ETF10.index=index\n",
    "    ETF9.index=index\n",
    "    \n",
    "    return(ETF18,ETF17,ETF16,ETF15,ETF14,ETF13,ETF12,ETF11,ETF10,ETF9)"
   ]
  },
  {
   "cell_type": "code",
   "execution_count": 26,
   "metadata": {},
   "outputs": [],
   "source": [
    "# ----For to call the function to get the returns monthly of each ETF and make list of each year since 2009 to 2018------#\n",
    "re18=[]\n",
    "re17=[]\n",
    "re16=[]\n",
    "re15=[]\n",
    "re14=[]\n",
    "re13=[]\n",
    "re12=[]\n",
    "re11=[]\n",
    "re10=[]\n",
    "re9=[]\n",
    "for i in range(32):\n",
    "    y=rend_vol18(i)\n",
    "    re18.append(y[0])\n",
    "    re17.append(y[1])\n",
    "    re16.append(y[2])\n",
    "    re15.append(y[3])\n",
    "    re14.append(y[4])\n",
    "    re13.append(y[5])\n",
    "    re12.append(y[6])\n",
    "    re11.append(y[7])\n",
    "    re10.append(y[8])\n",
    "    re9.append(y[9])"
   ]
  },
  {
   "cell_type": "code",
   "execution_count": 27,
   "metadata": {},
   "outputs": [],
   "source": [
    "# ----------------------Make a list of returns of the year 2019 of each ETF with the function rend_vol19------------------#\n",
    "r=[]\n",
    "for i in range(32):\n",
    "    r.append(rend_vol19(i))"
   ]
  },
  {
   "cell_type": "code",
   "execution_count": 28,
   "metadata": {},
   "outputs": [],
   "source": [
    "#---------------Construction of a DATAFRAME with the return per month of 2019 for each ETF ---------------------·#\n",
    "r19 = pd.DataFrame({'Core SP 500': r[0],'Core SP Mid Cap':  r[1],\n",
    "                  'Core SP Total US Stock Market':  r[2],'Expanded Tech Sector':  r[3],\n",
    "                  'Expanded Tech Software Sector':  r[4],'MSCI ACWI':  r[5],\n",
    "                  'MSCI EAFE':  r[6],'MSCI Emerging Markets':  r[7], 'MSCI Japan':  r[8],\n",
    "                  'MSCI USA ESG Select':  r[9], 'Nasdaq Biotechnology':  r[10], 'NorthAmerican Tech Multimedia Networking': r[11],\n",
    "                  'PHLX Semiconductor':  r[12], 'Preferred and Income Securities': r[13], 'Russell 1000':  r[14],\n",
    "                  'Russell 1000 Growth':  r[15],'Russell 1000 Value':  r[16], 'Russell 2000':  r[17],\n",
    "                  'SP 500 Growth':  r[18],'US Basic Materials':  r[19],\n",
    "                  'US Consumer Services':  r[20], 'SP 500 Value':  r[21], 'US Energy':  r[22],\n",
    "                  'US Financial Services': r[23], 'US Financials': r[24], 'US Healthcare':  r[25], 'Home Construction': r[26],\n",
    "                  'US Industrials': r[27], 'US Medical Devices': r[28], 'US Pharmaceuticals': r[29],\n",
    "                  'US Technology': r[30],'US Telecommunications': r[31]})\n",
    "\n",
    "#a = a[12:24]\n",
    "pd.set_option('display.max_columns', 32)"
   ]
  },
  {
   "cell_type": "code",
   "execution_count": 29,
   "metadata": {},
   "outputs": [],
   "source": [
    "#--------------------Function to calculate the volatility of the portfolio per year with equal weights-------------------#\n",
    "def ports_vol(r19,equal_we):\n",
    "    #calculate monthly and annual returns of the stocks\n",
    "    returns_monthly = r19\n",
    "    returns_annual = returns_monthly.mean() * 12\n",
    "\n",
    "    # get daily and covariance of returns of the stock\n",
    "    cov_monthly = r19.cov()\n",
    "    cov_annual = cov_monthly * 12\n",
    "    \n",
    "\n",
    "    #set random seed for reproduction's sake\n",
    "    np.random.seed(101)\n",
    "\n",
    "    # populate the empty lists with each portfolios returns,risk and weights\n",
    "    returns = np.dot(equal_we, returns_annual)\n",
    "    volatility = np.sqrt(np.dot(equal_we.T, np.dot(cov_annual,equal_we)))\n",
    "    return(volatility)"
   ]
  },
  {
   "cell_type": "code",
   "execution_count": 30,
   "metadata": {},
   "outputs": [],
   "source": [
    "#---------------Construction of a DATAFRAME with the return per month of 2018 for each ETF ---------------------·#\n",
    "r18 = pd.DataFrame({'Core SP 500': re18[0],'Core SP Mid Cap':  re18[1],\n",
    "                  'Core SP Total US Stock Market':  re18[2],'Expanded Tech Sector':  re18[3],\n",
    "                  'Expanded Tech Software Sector':  re18[4],'MSCI ACWI':  re18[5],\n",
    "                  'MSCI EAFE':  re18[6],'MSCI Emerging Markets':  re18[7], 'MSCI Japan':  re18[8],\n",
    "                  'MSCI USA ESG Select':  re18[9], 'Nasdaq Biotechnology':  re18[10], 'NorthAmerican Tech Multimedia Networking': re18[11],\n",
    "                  'PHLX Semiconductor':  re18[12], 'Preferred and Income Securities': re18[13], 'Russell 1000':  re18[14],\n",
    "                  'Russell 1000 Growth':  re18[15],'Russell 1000 Value':  re18[16], 'Russell 2000':  re18[17],\n",
    "                  'SP 500 Growth':  re18[18],'US Basic Materials':  re18[19],\n",
    "                  'US Consumer Services':  re18[20], 'SP 500 Value':  re18[21], 'US Energy':  re18[22],\n",
    "                  'US Financial Services': re18[23], 'US Financials': re18[24], 'US Healthcare':  re18[25], 'Home Construction': re18[26],\n",
    "                  'US Industrials': re18[27], 'US Medical Devices': re18[28], 'US Pharmaceuticals': re18[29],\n",
    "                  'US Technology': re18[30],'US Telecommunications': re18[31]})\n",
    "\n",
    "#a = a[12:24]\n",
    "pd.set_option('display.max_columns', 32)"
   ]
  },
  {
   "cell_type": "code",
   "execution_count": 31,
   "metadata": {},
   "outputs": [],
   "source": [
    "#---------------Construction of a DATAFRAME with the return per month of 2017 for each ETF ---------------------·#\n",
    "r17 = pd.DataFrame({'Core SP 500': re17[0],'Core SP Mid Cap':  re17[1],\n",
    "                  'Core SP Total US Stock Market':  re17[2],'Expanded Tech Sector':  re17[3],\n",
    "                  'Expanded Tech Software Sector':  re17[4],'MSCI ACWI':  re17[5],\n",
    "                  'MSCI EAFE':  re17[6],'MSCI Emerging Markets':  re17[7], 'MSCI Japan':  re17[8],\n",
    "                  'MSCI USA ESG Select':  re17[9], 'Nasdaq Biotechnology':  re17[10], 'NorthAmerican Tech Multimedia Networking': re17[11],\n",
    "                  'PHLX Semiconductor':  re17[12], 'Preferred and Income Securities': re17[13], 'Russell 1000':  re17[14],\n",
    "                  'Russell 1000 Growth':  re17[15],'Russell 1000 Value':  re17[16], 'Russell 2000':  re17[17],\n",
    "                  'SP 500 Growth':  re17[18],'US Basic Materials':  re17[19],\n",
    "                  'US Consumer Services':  re17[20], 'SP 500 Value':  re17[21], 'US Energy':  re17[22],\n",
    "                  'US Financial Services': re17[23], 'US Financials': re17[24], 'US Healthcare':  re17[25], 'Home Construction': re17[26],\n",
    "                  'US Industrials': re17[27], 'US Medical Devices': re17[28], 'US Pharmaceuticals': re17[29],\n",
    "                  'US Technology': re17[30],'US Telecommunications': re17[31]})\n",
    "\n",
    "#a = a[12:24]\n",
    "pd.set_option('display.max_columns', 32)\n"
   ]
  },
  {
   "cell_type": "code",
   "execution_count": 32,
   "metadata": {},
   "outputs": [],
   "source": [
    "#---------------Construction of a DATAFRAME with the return per month of 2016 for each ETF ---------------------·#\n",
    "r16 = pd.DataFrame({'Core SP 500': re16[0],'Core SP Mid Cap':  re16[1],\n",
    "                  'Core SP Total US Stock Market':  re16[2],'Expanded Tech Sector':  re16[3],\n",
    "                  'Expanded Tech Software Sector':  re16[4],'MSCI ACWI':  re16[5],\n",
    "                  'MSCI EAFE':  re16[6],'MSCI Emerging Markets':  re16[7], 'MSCI Japan':  re16[8],\n",
    "                  'MSCI USA ESG Select':  re16[9], 'Nasdaq Biotechnology':  re16[10], 'NorthAmerican Tech Multimedia Networking': re16[11],\n",
    "                  'PHLX Semiconductor':  re16[12], 'Preferred and Income Securities': re16[13], 'Russell 1000':  re16[14],\n",
    "                  'Russell 1000 Growth':  re16[15],'Russell 1000 Value':  re16[16], 'Russell 2000':  re16[17],\n",
    "                  'SP 500 Growth':  re16[18],'US Basic Materials':  re16[19],\n",
    "                  'US Consumer Services':  re16[20], 'SP 500 Value':  re16[21], 'US Energy':  re16[22],\n",
    "                  'US Financial Services': re16[23], 'US Financials': re16[24], 'US Healthcare':  re16[25], 'Home Construction': re16[26],\n",
    "                  'US Industrials': re16[27], 'US Medical Devices': re16[28], 'US Pharmaceuticals': re16[29],\n",
    "                  'US Technology': re16[30],'US Telecommunications': re16[31]})\n",
    "\n",
    "#a = a[12:24]\n",
    "pd.set_option('display.max_columns', 32)\n"
   ]
  },
  {
   "cell_type": "code",
   "execution_count": 33,
   "metadata": {},
   "outputs": [],
   "source": [
    "#---------------Construction of a DATAFRAME with the return per month of 2015 for each ETF ---------------------·#\n",
    "r15 = pd.DataFrame({'Core SP 500': re15[0],'Core SP Mid Cap':  re15[1],\n",
    "                  'Core SP Total US Stock Market':  re15[2],'Expanded Tech Sector':  re15[3],\n",
    "                  'Expanded Tech Software Sector':  re15[4],'MSCI ACWI':  re15[5],\n",
    "                  'MSCI EAFE':  re15[6],'MSCI Emerging Markets':  re15[7], 'MSCI Japan':  re15[8],\n",
    "                  'MSCI USA ESG Select':  re15[9], 'Nasdaq Biotechnology':  re15[10], 'NorthAmerican Tech Multimedia Networking': re15[11],\n",
    "                  'PHLX Semiconductor':  re15[12], 'Preferred and Income Securities': re15[13], 'Russell 1000':  re15[14],\n",
    "                  'Russell 1000 Growth':  re15[15],'Russell 1000 Value':  re16[16], 'Russell 2000':  re15[17],\n",
    "                  'SP 500 Growth':  re15[18],'US Basic Materials':  re15[19],\n",
    "                  'US Consumer Services':  re15[20], 'SP 500 Value':  re15[21], 'US Energy':  re15[22],\n",
    "                  'US Financial Services': re15[23], 'US Financials': re15[24], 'US Healthcare':  re15[25], 'Home Construction': re15[26],\n",
    "                  'US Industrials': re15[27], 'US Medical Devices': re15[28], 'US Pharmaceuticals': re15[29],\n",
    "                  'US Technology': re15[30],'US Telecommunications': re15[31]})\n",
    "\n",
    "#a = a[12:24]\n",
    "pd.set_option('display.max_columns', 32)\n"
   ]
  },
  {
   "cell_type": "code",
   "execution_count": 34,
   "metadata": {},
   "outputs": [],
   "source": [
    "#---------------Construction of a DATAFRAME with the return per month of 2014 for each ETF ---------------------·#\n",
    "r14 = pd.DataFrame({'Core SP 500': re14[0],'Core SP Mid Cap':  re14[1],\n",
    "                  'Core SP Total US Stock Market':  re14[2],'Expanded Tech Sector':  re14[3],\n",
    "                  'Expanded Tech Software Sector':  re14[4],'MSCI ACWI':  re14[5],\n",
    "                  'MSCI EAFE':  re14[6],'MSCI Emerging Markets':  re14[7], 'MSCI Japan':  re14[8],\n",
    "                  'MSCI USA ESG Select':  re14[9], 'Nasdaq Biotechnology':  re14[10], 'NorthAmerican Tech Multimedia Networking': re14[11],\n",
    "                  'PHLX Semiconductor':  re14[12], 'Preferred and Income Securities': re14[13], 'Russell 1000':  re14[14],\n",
    "                  'Russell 1000 Growth':  re14[15],'Russell 1000 Value':  re14[16], 'Russell 2000':  re16[17],\n",
    "                  'SP 500 Growth':  re14[18],'US Basic Materials':  re14[19],\n",
    "                  'US Consumer Services':  re14[20], 'SP 500 Value':  re14[21], 'US Energy':  re14[22],\n",
    "                  'US Financial Services': re14[23], 'US Financials': re14[24], 'US Healthcare':  re14[25], 'Home Construction': re14[26],\n",
    "                  'US Industrials': re14[27], 'US Medical Devices': re14[28], 'US Pharmaceuticals': re14[29],\n",
    "                  'US Technology': re14[30],'US Telecommunications': re14[31]})\n",
    "\n",
    "#a = a[12:24]\n",
    "pd.set_option('display.max_columns', 32)\n"
   ]
  },
  {
   "cell_type": "code",
   "execution_count": 35,
   "metadata": {},
   "outputs": [],
   "source": [
    "#---------------Construction of a DATAFRAME with the return per month of 2013 for each ETF ---------------------·#\n",
    "r13 = pd.DataFrame({'Core SP 500': re13[0],'Core SP Mid Cap':  re13[1],\n",
    "                  'Core SP Total US Stock Market':  re13[2],'Expanded Tech Sector':  re13[3],\n",
    "                  'Expanded Tech Software Sector':  re13[4],'MSCI ACWI':  re13[5],\n",
    "                  'MSCI EAFE':  re13[6],'MSCI Emerging Markets':  re13[7], 'MSCI Japan':  re13[8],\n",
    "                  'MSCI USA ESG Select':  re13[9], 'Nasdaq Biotechnology':  re16[10], 'NorthAmerican Tech Multimedia Networking': re13[11],\n",
    "                  'PHLX Semiconductor':  re13[12], 'Preferred and Income Securities': re16[13], 'Russell 1000':  re13[14],\n",
    "                  'Russell 1000 Growth':  re13[15],'Russell 1000 Value':  re16[16], 'Russell 2000':  re13[17],\n",
    "                  'SP 500 Growth':  re13[18],'US Basic Materials':  re13[19],\n",
    "                  'US Consumer Services':  re13[20], 'SP 500 Value':  re13[21], 'US Energy':  re13[22],\n",
    "                  'US Financial Services': re13[23], 'US Financials': re13[24], 'US Healthcare':  re13[25], 'Home Construction': re13[26],\n",
    "                  'US Industrials': re13[27], 'US Medical Devices': re13[28], 'US Pharmaceuticals': re13[29],\n",
    "                  'US Technology': re13[30],'US Telecommunications': re13[31]})\n",
    "\n",
    "#a = a[12:24]\n",
    "pd.set_option('display.max_columns', 32)\n"
   ]
  },
  {
   "cell_type": "code",
   "execution_count": 36,
   "metadata": {},
   "outputs": [],
   "source": [
    "#---------------Construction of a DATAFRAME with the return per month of 2012 for each ETF ---------------------·#\n",
    "r12 = pd.DataFrame({'Core SP 500': re12[0],'Core SP Mid Cap':  re12[1],\n",
    "                  'Core SP Total US Stock Market':  re12[2],'Expanded Tech Sector':  re12[3],\n",
    "                  'Expanded Tech Software Sector':  re12[4],'MSCI ACWI':  re12[5],\n",
    "                  'MSCI EAFE':  re12[6],'MSCI Emerging Markets':  re12[7], 'MSCI Japan':  re12[8],\n",
    "                  'MSCI USA ESG Select':  re12[9], 'Nasdaq Biotechnology':  re12[10], 'NorthAmerican Tech Multimedia Networking': re12[11],\n",
    "                  'PHLX Semiconductor':  re12[12], 'Preferred and Income Securities': re12[13], 'Russell 1000':  re12[14],\n",
    "                  'Russell 1000 Growth':  re12[15],'Russell 1000 Value':  re12[16], 'Russell 2000':  re12[17],\n",
    "                  'SP 500 Growth':  re12[18],'US Basic Materials':  re12[19],\n",
    "                  'US Consumer Services':  re12[20], 'SP 500 Value':  re12[21], 'US Energy':  re12[22],\n",
    "                  'US Financial Services': re12[23], 'US Financials': re12[24], 'US Healthcare':  re12[25], 'Home Construction': re12[26],\n",
    "                  'US Industrials': re12[27], 'US Medical Devices': re12[28], 'US Pharmaceuticals': re12[29],\n",
    "                  'US Technology': re12[30],'US Telecommunications': re12[31]})\n",
    "\n",
    "#a = a[12:24]\n",
    "pd.set_option('display.max_columns', 32)\n"
   ]
  },
  {
   "cell_type": "code",
   "execution_count": 37,
   "metadata": {},
   "outputs": [],
   "source": [
    "#---------------Construction of a DATAFRAME with the return per month of 2011 for each ETF ---------------------·#\n",
    "r11 = pd.DataFrame({'Core SP 500': re11[0],'Core SP Mid Cap':  re11[1],\n",
    "                  'Core SP Total US Stock Market':  re11[2],'Expanded Tech Sector':  re16[3],\n",
    "                  'Expanded Tech Software Sector':  re11[4],'MSCI ACWI':  re11[5],\n",
    "                  'MSCI EAFE':  re11[6],'MSCI Emerging Markets':  re11[7], 'MSCI Japan':  re11[8],\n",
    "                  'MSCI USA ESG Select':  re11[9], 'Nasdaq Biotechnology':  re11[10], 'NorthAmerican Tech Multimedia Networking': re11[11],\n",
    "                  'PHLX Semiconductor':  re11[12], 'Preferred and Income Securities': re11[13], 'Russell 1000':  re11[14],\n",
    "                  'Russell 1000 Growth':  re11[15],'Russell 1000 Value':  re11[16], 'Russell 2000':  re11[17],\n",
    "                  'SP 500 Growth':  re11[18],'US Basic Materials':  re11[19],\n",
    "                  'US Consumer Services':  re11[20], 'SP 500 Value':  re11[21], 'US Energy':  re11[22],\n",
    "                  'US Financial Services': re11[23], 'US Financials': re11[24], 'US Healthcare':  re11[25], 'Home Construction': re11[26],\n",
    "                  'US Industrials': re11[27], 'US Medical Devices': re11[28], 'US Pharmaceuticals': re11[29],\n",
    "                  'US Technology': re11[30],'US Telecommunications': re11[31]})\n",
    "\n",
    "#a = a[12:24]\n",
    "pd.set_option('display.max_columns', 32)\n"
   ]
  },
  {
   "cell_type": "code",
   "execution_count": 38,
   "metadata": {},
   "outputs": [],
   "source": [
    "#---------------Construction of a DATAFRAME with the return per month of 2010 for each ETF ---------------------·#\n",
    "r10 = pd.DataFrame({'Core SP 500': re10[0],'Core SP Mid Cap':  re10[1],\n",
    "                  'Core SP Total US Stock Market':  re10[2],'Expanded Tech Sector':  re10[3],\n",
    "                  'Expanded Tech Software Sector':  re10[4],'MSCI ACWI':  re10[5],\n",
    "                  'MSCI EAFE':  re10[6],'MSCI Emerging Markets':  re10[7], 'MSCI Japan':  re10[8],\n",
    "                  'MSCI USA ESG Select':  re10[9], 'Nasdaq Biotechnology':  re10[10], 'NorthAmerican Tech Multimedia Networking': re10[11],\n",
    "                  'PHLX Semiconductor':  re10[12], 'Preferred and Income Securities': re10[13], 'Russell 1000':  re10[14],\n",
    "                  'Russell 1000 Growth':  re10[15],'Russell 1000 Value':  re10[16], 'Russell 2000':  re10[17],\n",
    "                  'SP 500 Growth':  re10[18],'US Basic Materials':  re10[19],\n",
    "                  'US Consumer Services':  re10[20], 'SP 500 Value':  re10[21], 'US Energy':  re10[22],\n",
    "                  'US Financial Services': re10[23], 'US Financials': re10[24], 'US Healthcare':  re10[25], 'Home Construction': re10[26],\n",
    "                  'US Industrials': re10[27], 'US Medical Devices': re10[28], 'US Pharmaceuticals': re10[29],\n",
    "                  'US Technology': re10[30],'US Telecommunications': re10[31]})\n",
    "\n",
    "#a = a[12:24]\n",
    "pd.set_option('display.max_columns', 32)\n"
   ]
  },
  {
   "cell_type": "code",
   "execution_count": 39,
   "metadata": {},
   "outputs": [],
   "source": [
    "#---------------Construction of a DATAFRAME with the return per month of 2009 for each ETF ---------------------·#\n",
    "r9 = pd.DataFrame({'Core SP 500': re9[0],'Core SP Mid Cap':  re9[1],\n",
    "                  'Core SP Total US Stock Market':  re9[2],'Expanded Tech Sector':  re9[3],\n",
    "                  'Expanded Tech Software Sector':  re11[4],'MSCI ACWI':  re9[5],\n",
    "                  'MSCI EAFE':  re9[6],'MSCI Emerging Markets':  re9[7], 'MSCI Japan':  re9[8],\n",
    "                  'MSCI USA ESG Select':  re9[9], 'Nasdaq Biotechnology':  re9[10], 'NorthAmerican Tech Multimedia Networking': re9[11],\n",
    "                  'PHLX Semiconductor':  re9[12], 'Preferred and Income Securities': re9[13], 'Russell 1000':  re9[14],\n",
    "                  'Russell 1000 Growth':  re9[15],'Russell 1000 Value':  re9[16], 'Russell 2000':  re9[17],\n",
    "                  'SP 500 Growth':  re9[18],'US Basic Materials':  re9[19],\n",
    "                  'US Consumer Services':  re9[20], 'SP 500 Value':  re9[21], 'US Energy':  re9[22],\n",
    "                  'US Financial Services': re9[23], 'US Financials': re9[24], 'US Healthcare':  re9[25], 'Home Construction': re9[26],\n",
    "                  'US Industrials': re9[27], 'US Medical Devices': re9[28], 'US Pharmaceuticals': re9[29],\n",
    "                  'US Technology': re9[30],'US Telecommunications': re9[31]})\n",
    "\n",
    "#a = a[12:24]\n",
    "pd.set_option('display.max_columns', 32)"
   ]
  },
  {
   "cell_type": "code",
   "execution_count": 40,
   "metadata": {},
   "outputs": [],
   "source": [
    "#---------------Get the volatility of the portfolio of year 2019 ---------------------·#\n",
    "risk19=ports_vol(r19,equal_we) "
   ]
  },
  {
   "cell_type": "code",
   "execution_count": 41,
   "metadata": {},
   "outputs": [],
   "source": [
    "#---------------Get the volatility of the portfolio per year since 2008 to 2018 with the function ports_vol---------------·#\n",
    "r19=r18\n",
    "risk18=ports_vol(r19,equal_we) # volatility of the portfolio of 2018 \n",
    "\n",
    "r19=r17\n",
    "risk17=ports_vol(r19,equal_we) # volatility of the portfolio of 2017\n",
    "\n",
    "r19=r16\n",
    "risk16=ports_vol(r19,equal_we) # volatility of the portfolio of 2016 \n",
    "\n",
    "r19=r15\n",
    "risk15=ports_vol(r19,equal_we) # volatility of the portfolio of 2015 \n",
    "\n",
    "r19=r14\n",
    "risk14=ports_vol(r19,equal_we) # volatility of the portfolio of 2014\n",
    "\n",
    "r19=r13\n",
    "risk13=ports_vol(r19,equal_we) # volatility of the portfolio of 2013 \n",
    "\n",
    "r19=r12\n",
    "risk12=ports_vol(r19,equal_we) # volatility of the portfolio of 2012 \n",
    "\n",
    "r19=r11\n",
    "risk11=ports_vol(r19,equal_we) # volatility of the portfolio of 2011\n",
    "\n",
    "r19=r10\n",
    "risk10=ports_vol(r19,equal_we) # volatility of the portfolio of 2010 \n",
    "\n",
    "r19=r9\n",
    "risk9=ports_vol(r19,equal_we)# volatility of the portfolio of 2009\n",
    "\n",
    "r19=df_rend\n",
    "risk8=ports_vol(r19,equal_we) # volatility of the portfolio of 2008\n",
    "\n",
    "risk_ew=[risk8,risk9,risk10,risk11,risk12,risk13,risk14,risk15,risk16,risk17,risk18,risk19] # list of the volatility per year "
   ]
  },
  {
   "cell_type": "code",
   "execution_count": 42,
   "metadata": {},
   "outputs": [],
   "source": [
    "#----Function to calculate the volatility of the portfolio per year using the weights for minimum variance of markowitz---#\n",
    "def ports_vol(r19,pv):\n",
    "    # calculate monthly and annual returns of each ETF\n",
    "    returns_monthly = r19\n",
    "    returns_annual = returns_monthly.mean() * 12\n",
    "\n",
    "    # get monthly and covariance of returns of each ETF\n",
    "    cov_monthly = r19.cov()\n",
    "    cov_annual = cov_monthly * 12\n",
    "\n",
    "    #set random seed for reproduction's sake\n",
    "    np.random.seed(101)\n",
    "\n",
    "    # populate the empty lists with each portfolios returns,risk and weights\n",
    "    returns = np.dot(pv, returns_annual)\n",
    "    volatility = np.sqrt(np.dot(pv.T, np.dot(cov_annual, pv)))\n",
    "    return(volatility)"
   ]
  },
  {
   "cell_type": "code",
   "execution_count": 43,
   "metadata": {},
   "outputs": [],
   "source": [
    "#---------------Construction of a DATAFRAME with the return per month of 2019 for each ETF ---------------------·#\n",
    "r19 = pd.DataFrame({'Core SP 500': r[0],'Core SP Mid Cap':  r[1],\n",
    "                  'Core SP Total US Stock Market':  r[2],'Expanded Tech Sector':  r[3],\n",
    "                  'Expanded Tech Software Sector':  r[4],'MSCI ACWI':  r[5],\n",
    "                  'MSCI EAFE':  r[6],'MSCI Emerging Markets':  r[7], 'MSCI Japan':  r[8],\n",
    "                  'MSCI USA ESG Select':  r[9], 'Nasdaq Biotechnology':  r[10], 'NorthAmerican Tech Multimedia Networking': r[11],\n",
    "                  'PHLX Semiconductor':  r[12], 'Preferred and Income Securities': r[13], 'Russell 1000':  r[14],\n",
    "                  'Russell 1000 Growth':  r[15],'Russell 1000 Value':  r[16], 'Russell 2000':  r[17],\n",
    "                  'SP 500 Growth':  r[18],'US Basic Materials':  r[19],\n",
    "                  'US Consumer Services':  r[20], 'SP 500 Value':  r[21], 'US Energy':  r[22],\n",
    "                  'US Financial Services': r[23], 'US Financials': r[24], 'US Healthcare':  r[25], 'Home Construction': r[26],\n",
    "                  'US Industrials': r[27], 'US Medical Devices': r[28], 'US Pharmaceuticals': r[29],\n",
    "                  'US Technology': r[30],'US Telecommunications': r[31]})\n",
    "\n",
    "#a = a[12:24]\n",
    "pd.set_option('display.max_columns', 32)"
   ]
  },
  {
   "cell_type": "code",
   "execution_count": 44,
   "metadata": {},
   "outputs": [],
   "source": [
    "#---------------Get the volatility of the portfolio of year 2019 ---------------------·#\n",
    "riskpv19=ports_vol(r19,pv)"
   ]
  },
  {
   "cell_type": "code",
   "execution_count": 45,
   "metadata": {},
   "outputs": [],
   "source": [
    "#---------------Get the volatility of the portfolio per year since 2008 to 2018 with the function ports_vol---------------·#\n",
    "r19=r18\n",
    "riskpv18=ports_vol(r19,pv) # volatility of the portfolio of 2018 \n",
    "\n",
    "r19=r17\n",
    "riskpv17=ports_vol(r19,pv)# volatility of the portfolio of 2017\n",
    "\n",
    "r19=r16\n",
    "riskpv16=ports_vol(r19,pv)# volatility of the portfolio of 2016 \n",
    "\n",
    "r19=r15\n",
    "riskpv15=ports_vol(r19,pv)# volatility of the portfolio of 2015 \n",
    "\n",
    "r19=r14\n",
    "riskpv14=ports_vol(r19,pv)#  volatility of the portfolio of 2014\n",
    "\n",
    "r19=r13\n",
    "riskpv13=ports_vol(r19,pv)# volatility of the portfolio of 2013\n",
    "\n",
    "r19=r12\n",
    "riskpv12=ports_vol(r19,pv)# volatility of the portfolio of 2012\n",
    "\n",
    "r19=r11\n",
    "riskpv11=ports_vol(r19,pv)# volatility of the portfolio of 2011 \n",
    "\n",
    "r19=r10\n",
    "riskpv10=ports_vol(r19,pv)# volatility of the portfolio of 2010\n",
    "\n",
    "r19=r9\n",
    "riskpv9=ports_vol(r19,pv)# volatility of the portfolio of 2009\n",
    "\n",
    "r19=df_rend\n",
    "riskpv8=ports_vol(r19,pv)# volatility of the portfolio of 2008 \n",
    "\n",
    "risk_pv=[riskpv8,riskpv9,riskpv10,riskpv11,riskpv12,riskpv13,riskpv14,riskpv15,riskpv16,riskpv17,riskpv18,riskpv19]# list of the volatility per year "
   ]
  },
  {
   "cell_type": "code",
   "execution_count": 46,
   "metadata": {},
   "outputs": [],
   "source": [
    "#------Function to calculate the volatility of the portfolio per year using the weights for max sharpe of markowitz-----#\n",
    "def ports_vol(r19,ps):\n",
    "    # calculate monthly and annual returns of the stocks\n",
    "    returns_monthly = r19\n",
    "    returns_annual = returns_monthly.mean() * 12\n",
    "\n",
    "    # get daily and covariance of returns of the stock\n",
    "    cov_monthly = r19.cov()\n",
    "    cov_annual = cov_monthly * 12\n",
    "\n",
    "    #set random seed for reproduction's sake\n",
    "    np.random.seed(101)\n",
    "\n",
    "    # populate the empty lists with each portfolios returns,risk and weightsreturns = np.dot(ps, returns_annual)\n",
    "    volatility = np.sqrt(np.dot(ps.T, np.dot(cov_annual, ps)))\n",
    "    return(volatility)"
   ]
  },
  {
   "cell_type": "code",
   "execution_count": 47,
   "metadata": {},
   "outputs": [],
   "source": [
    "#---------------Construction of a DATAFRAME with the return per month of 2019 for each ETF ---------------------·#\n",
    "r19 = pd.DataFrame({'Core SP 500': r[0],'Core SP Mid Cap':  r[1],\n",
    "                  'Core SP Total US Stock Market':  r[2],'Expanded Tech Sector':  r[3],\n",
    "                  'Expanded Tech Software Sector':  r[4],'MSCI ACWI':  r[5],\n",
    "                  'MSCI EAFE':  r[6],'MSCI Emerging Markets':  r[7], 'MSCI Japan':  r[8],\n",
    "                  'MSCI USA ESG Select':  r[9], 'Nasdaq Biotechnology':  r[10], 'NorthAmerican Tech Multimedia Networking': r[11],\n",
    "                  'PHLX Semiconductor':  r[12], 'Preferred and Income Securities': r[13], 'Russell 1000':  r[14],\n",
    "                  'Russell 1000 Growth':  r[15],'Russell 1000 Value':  r[16], 'Russell 2000':  r[17],\n",
    "                  'SP 500 Growth':  r[18],'US Basic Materials':  r[19],\n",
    "                  'US Consumer Services':  r[20], 'SP 500 Value':  r[21], 'US Energy':  r[22],\n",
    "                  'US Financial Services': r[23], 'US Financials': r[24], 'US Healthcare':  r[25], 'Home Construction': r[26],\n",
    "                  'US Industrials': r[27], 'US Medical Devices': r[28], 'US Pharmaceuticals': r[29],\n",
    "                  'US Technology': r[30],'US Telecommunications': r[31]})\n",
    "\n",
    "#a = a[12:24]\n",
    "pd.set_option('display.max_columns', 32)\n"
   ]
  },
  {
   "cell_type": "code",
   "execution_count": 48,
   "metadata": {},
   "outputs": [],
   "source": [
    "#---------------Get the volatility of the portfolio of year 2019 ---------------------·#\n",
    "riskps19=ports_vol(r19,ps)"
   ]
  },
  {
   "cell_type": "code",
   "execution_count": 49,
   "metadata": {},
   "outputs": [],
   "source": [
    "#---------------Get the volatility of the portfolio per year since 2008 to 2018 with the function ports_vol---------------·#\n",
    "r19=r18\n",
    "riskps18=ports_vol(r19,ps) # volatility of the portfolio of 2018 \n",
    "\n",
    "r19=r17\n",
    "riskps17=ports_vol(r19,ps)# volatility of the portfolio of 2017 \n",
    "\n",
    "r19=r16\n",
    "riskps16=ports_vol(r19,ps)# volatility of the portfolio of 2016 \n",
    "\n",
    "r19=r15\n",
    "riskps15=ports_vol(r19,ps)# volatility of the portfolio of 2015 \n",
    "\n",
    "r19=r14\n",
    "riskps14=ports_vol(r19,ps)# volatility of the portfolio of 2014 \n",
    "\n",
    "r19=r13\n",
    "riskps13=ports_vol(r19,ps)# volatility of the portfolio of 2013 \n",
    "\n",
    "r19=r12\n",
    "riskps12=ports_vol(r19,ps)# volatility of the portfolio of 2012 \n",
    "\n",
    "r19=r11\n",
    "riskps11=ports_vol(r19,ps)# volatility of the portfolio of 2011\n",
    "\n",
    "r19=r10\n",
    "riskps10=ports_vol(r19,ps)# volatility of the portfolio of 2010\n",
    "\n",
    "r19=r9\n",
    "riskps9=ports_vol(r19,ps)# volatility of the portfolio of 2009\n",
    "\n",
    "r19=df_rend\n",
    "riskps8=ports_vol(r19,ps)# volatility of the portfolio of 2008\n",
    "\n",
    "risk_ps=[riskps8,riskps9,riskps10,riskps11,riskps12,riskps13,riskps14,riskps15,riskps16,riskps17,riskps18,riskps19]# list of the volatility per year "
   ]
  },
  {
   "cell_type": "markdown",
   "metadata": {},
   "source": [
    "#### STEP #4:\n",
    "> <p  style='text-align: justify;'> \n",
    "Get the Sharpe for the three methods to create portfolios since 2008 to 2019. "
   ]
  },
  {
   "cell_type": "markdown",
   "metadata": {},
   "source": [
    "#### Sharpe  Ratio\n",
    "The Sharpe ratio is defined as the risk premium of the portfolio per unit of total risk in the portfolio. Risk premium calculated by subtracting risk-free returns from the portfolio returns. The risk-free returns are measured as the risk-free interest rate of Treasury bonds."
   ]
  },
  {
   "cell_type": "markdown",
   "metadata": {},
   "source": [
    "The Formula for Sharpe Ratio Is\n",
    "\\begin{aligned} &\\textit{Sharpe Ratio} = \\frac{R_p - R_f}{\\sigma_p}\\\\ &\\textbf{where:}\\\\ &R_{p}=\\text{return of portfolio}\\\\ &R_{f} = \\text{risk-free rate}\\\\ &\\sigma_p = \\text{standard deviation of the portfolio's excess return}\\\\ \\end{aligned} \n",
    "\t"
   ]
  },
  {
   "cell_type": "code",
   "execution_count": 50,
   "metadata": {},
   "outputs": [],
   "source": [
    "#--------------------------------------Calculate Sharpe for each portfolio ---------------------------------------#\n",
    "#risk free pear year of USA\n",
    "usd_rate=[0.0017,0.0013,0.0012,0.0032,0.0061, 0.0120,\n",
    "         0.0233, 0.0253,0.0608,0.0345,0.0200,0.0124]  \n",
    "\n",
    "#Sharpe for each portfolio with equal weights\n",
    "sharpe_ew=[]\n",
    "for i in range(12):\n",
    "    sharpe_ew.append((rend_port[i]-usd_rate[i])/risk_ew[i])\n",
    "\n",
    "#Sharpe for each portfolio with weights for min variance of markowitz\n",
    "sharpe_pv=[]\n",
    "for i in range(12):\n",
    "    sharpe_pv.append((rend_port2[i]-usd_rate[i])/risk_pv[i])\n",
    "\n",
    "#Sharpe for each portfolio with weights for maxsharpe of markowitz\n",
    "sharpe_ps=[]\n",
    "for i in range(12):\n",
    "    sharpe_ps.append((rend_port3[i]-usd_rate[i])/risk_ps[i])"
   ]
  },
  {
   "cell_type": "markdown",
   "metadata": {},
   "source": [
    "#### STEP #5:\n",
    "> <p  style='text-align: justify;'> \n",
    "Get the $M^2$ for the three methods to create portfolios since 2008 to 2019. "
   ]
  },
  {
   "cell_type": "markdown",
   "metadata": {},
   "source": [
    "#### $M^2$ Measure\n",
    "It measures the returns of the portfolio, adjusted for the risk of the portfolio relative to that of some benchmark (e.g., the market)."
   ]
  },
  {
   "cell_type": "markdown",
   "metadata": {},
   "source": [
    "$$M^2 = r_p* - r_m$$\n",
    "\n",
    "Where:\n",
    "- $r_m$ = market performance\n",
    "- $r_p*$ = Portfolio return adjusted to risk\n",
    "- $r_p*= r_f[1-\\dfrac{\\sigma M}{\\sigma P}] + rp[\\dfrac{\\sigma M}{\\sigma P}]$\n"
   ]
  },
  {
   "cell_type": "code",
   "execution_count": 51,
   "metadata": {},
   "outputs": [],
   "source": [
    "#--------------------------------------Calculate M2 for each portfolio ---------------------------------------#\n",
    "#return of the index dow jones\n",
    "dj=[5.30E-05,0.002534935,-0.001651877,-0.000595315,-0.000150812,-0.000293395,-0.000537755,-0.000444177,\n",
    "    0.000453782,-0.000901659,0.000521425,0.000521425]\n",
    "\n",
    "#rate of the bond of USA\n",
    "var_bond=[]\n",
    "for i in range(12):\n",
    "    x=0.0015\n",
    "    var_bond.append(x)"
   ]
  },
  {
   "cell_type": "code",
   "execution_count": 52,
   "metadata": {},
   "outputs": [],
   "source": [
    "#M2 for each portfolio with equal weights\n",
    "mc_ew=[]\n",
    "for i in range (12):\n",
    "    ope_ew=usd_rate[i]*(1-(0.0015/risk_ew[i]))+rend_port[i]*(0.0015/risk_ew[i])\n",
    "    mc_ew.append(ope_ew)\n",
    "\n",
    "#Sharpe for each portfolio with weights for min variance of markowitz\n",
    "mc_pv=[]\n",
    "for i in range (12):\n",
    "    ope_pv=usd_rate[i]*(1-(0.0015/risk_pv[i]))+rend_port2[i]*(0.0015/risk_pv[i])\n",
    "    mc_pv.append(ope_pv)\n",
    "    \n",
    "#Sharpe for each portfolio with weights for min variance of markowitz \n",
    "mc_ps=[]\n",
    "for i in range (12):\n",
    "    ope_ps=usd_rate[i]*(1-(0.0015/risk_ps[i]))+rend_port3[i]*(0.0015/risk_ps[i])\n",
    "    mc_ps.append(ope_ps)\n",
    "    \n"
   ]
  },
  {
   "cell_type": "code",
   "execution_count": 53,
   "metadata": {},
   "outputs": [
    {
     "data": {
      "text/html": [
       "<div>\n",
       "<style scoped>\n",
       "    .dataframe tbody tr th:only-of-type {\n",
       "        vertical-align: middle;\n",
       "    }\n",
       "\n",
       "    .dataframe tbody tr th {\n",
       "        vertical-align: top;\n",
       "    }\n",
       "\n",
       "    .dataframe thead th {\n",
       "        text-align: right;\n",
       "    }\n",
       "</style>\n",
       "<table border=\"1\" class=\"dataframe\">\n",
       "  <thead>\n",
       "    <tr style=\"text-align: right;\">\n",
       "      <th></th>\n",
       "      <th>Return equal weight</th>\n",
       "      <th>Risk equal weight</th>\n",
       "      <th>Sharpe equal weight</th>\n",
       "      <th>$m^2$equal weight</th>\n",
       "      <th>Return min variance</th>\n",
       "      <th>Risk min variance</th>\n",
       "      <th>Sharpe  min variance</th>\n",
       "      <th>$m^2$min variance</th>\n",
       "      <th>Return max sharpe</th>\n",
       "      <th>Risk max sharpe</th>\n",
       "      <th>Sharpe max sharpe</th>\n",
       "      <th>$m^2$max sharpe</th>\n",
       "    </tr>\n",
       "  </thead>\n",
       "  <tbody>\n",
       "    <tr>\n",
       "      <th>2008</th>\n",
       "      <td>-3.633281</td>\n",
       "      <td>22.747442</td>\n",
       "      <td>-0.159797</td>\n",
       "      <td>0.001460</td>\n",
       "      <td>-3.369767</td>\n",
       "      <td>19.867067</td>\n",
       "      <td>-0.169701</td>\n",
       "      <td>0.001445</td>\n",
       "      <td>-3.283801</td>\n",
       "      <td>23.466426</td>\n",
       "      <td>-0.140009</td>\n",
       "      <td>0.001490</td>\n",
       "    </tr>\n",
       "    <tr>\n",
       "      <th>2009</th>\n",
       "      <td>2.737031</td>\n",
       "      <td>19.624256</td>\n",
       "      <td>0.139406</td>\n",
       "      <td>0.001509</td>\n",
       "      <td>2.468601</td>\n",
       "      <td>20.777183</td>\n",
       "      <td>0.118751</td>\n",
       "      <td>0.001478</td>\n",
       "      <td>2.673136</td>\n",
       "      <td>17.006097</td>\n",
       "      <td>0.157110</td>\n",
       "      <td>0.001536</td>\n",
       "    </tr>\n",
       "    <tr>\n",
       "      <th>2010</th>\n",
       "      <td>1.437057</td>\n",
       "      <td>16.760734</td>\n",
       "      <td>0.085668</td>\n",
       "      <td>0.001329</td>\n",
       "      <td>1.308435</td>\n",
       "      <td>16.510655</td>\n",
       "      <td>0.079175</td>\n",
       "      <td>0.001319</td>\n",
       "      <td>1.465183</td>\n",
       "      <td>16.428460</td>\n",
       "      <td>0.089113</td>\n",
       "      <td>0.001334</td>\n",
       "    </tr>\n",
       "    <tr>\n",
       "      <th>2011</th>\n",
       "      <td>-0.146510</td>\n",
       "      <td>13.859047</td>\n",
       "      <td>-0.010802</td>\n",
       "      <td>0.003184</td>\n",
       "      <td>-0.073550</td>\n",
       "      <td>14.002917</td>\n",
       "      <td>-0.005481</td>\n",
       "      <td>0.003192</td>\n",
       "      <td>0.012171</td>\n",
       "      <td>13.903709</td>\n",
       "      <td>0.000645</td>\n",
       "      <td>0.003201</td>\n",
       "    </tr>\n",
       "    <tr>\n",
       "      <th>2012</th>\n",
       "      <td>1.444687</td>\n",
       "      <td>10.445169</td>\n",
       "      <td>0.137728</td>\n",
       "      <td>0.006307</td>\n",
       "      <td>1.415389</td>\n",
       "      <td>10.613973</td>\n",
       "      <td>0.132777</td>\n",
       "      <td>0.006299</td>\n",
       "      <td>1.348912</td>\n",
       "      <td>10.474671</td>\n",
       "      <td>0.128196</td>\n",
       "      <td>0.006292</td>\n",
       "    </tr>\n",
       "    <tr>\n",
       "      <th>2013</th>\n",
       "      <td>2.260573</td>\n",
       "      <td>6.266915</td>\n",
       "      <td>0.358801</td>\n",
       "      <td>0.012538</td>\n",
       "      <td>2.318101</td>\n",
       "      <td>7.028656</td>\n",
       "      <td>0.328100</td>\n",
       "      <td>0.012492</td>\n",
       "      <td>2.262363</td>\n",
       "      <td>6.932296</td>\n",
       "      <td>0.324620</td>\n",
       "      <td>0.012487</td>\n",
       "    </tr>\n",
       "    <tr>\n",
       "      <th>2014</th>\n",
       "      <td>0.950156</td>\n",
       "      <td>6.167543</td>\n",
       "      <td>0.150280</td>\n",
       "      <td>0.023525</td>\n",
       "      <td>0.943388</td>\n",
       "      <td>6.484642</td>\n",
       "      <td>0.141887</td>\n",
       "      <td>0.023513</td>\n",
       "      <td>0.911795</td>\n",
       "      <td>6.479445</td>\n",
       "      <td>0.137125</td>\n",
       "      <td>0.023506</td>\n",
       "    </tr>\n",
       "    <tr>\n",
       "      <th>2015</th>\n",
       "      <td>0.144766</td>\n",
       "      <td>11.569970</td>\n",
       "      <td>0.010325</td>\n",
       "      <td>0.025315</td>\n",
       "      <td>0.161429</td>\n",
       "      <td>12.008933</td>\n",
       "      <td>0.011336</td>\n",
       "      <td>0.025317</td>\n",
       "      <td>0.190215</td>\n",
       "      <td>11.757623</td>\n",
       "      <td>0.014026</td>\n",
       "      <td>0.025321</td>\n",
       "    </tr>\n",
       "    <tr>\n",
       "      <th>2016</th>\n",
       "      <td>0.936797</td>\n",
       "      <td>10.168089</td>\n",
       "      <td>0.086152</td>\n",
       "      <td>0.060929</td>\n",
       "      <td>0.743056</td>\n",
       "      <td>11.240946</td>\n",
       "      <td>0.060694</td>\n",
       "      <td>0.060891</td>\n",
       "      <td>0.787351</td>\n",
       "      <td>10.905912</td>\n",
       "      <td>0.066620</td>\n",
       "      <td>0.060900</td>\n",
       "    </tr>\n",
       "    <tr>\n",
       "      <th>2017</th>\n",
       "      <td>1.711771</td>\n",
       "      <td>3.043887</td>\n",
       "      <td>0.551029</td>\n",
       "      <td>0.035327</td>\n",
       "      <td>1.571692</td>\n",
       "      <td>3.335807</td>\n",
       "      <td>0.460816</td>\n",
       "      <td>0.035191</td>\n",
       "      <td>1.523077</td>\n",
       "      <td>2.780797</td>\n",
       "      <td>0.535306</td>\n",
       "      <td>0.035303</td>\n",
       "    </tr>\n",
       "    <tr>\n",
       "      <th>2018</th>\n",
       "      <td>-0.489427</td>\n",
       "      <td>12.240760</td>\n",
       "      <td>-0.041617</td>\n",
       "      <td>0.019938</td>\n",
       "      <td>-0.496327</td>\n",
       "      <td>13.317898</td>\n",
       "      <td>-0.038769</td>\n",
       "      <td>0.019942</td>\n",
       "      <td>-0.408883</td>\n",
       "      <td>13.236094</td>\n",
       "      <td>-0.032402</td>\n",
       "      <td>0.019951</td>\n",
       "    </tr>\n",
       "    <tr>\n",
       "      <th>2019</th>\n",
       "      <td>5.951094</td>\n",
       "      <td>11.764440</td>\n",
       "      <td>0.504800</td>\n",
       "      <td>0.013157</td>\n",
       "      <td>5.714934</td>\n",
       "      <td>11.955057</td>\n",
       "      <td>0.476998</td>\n",
       "      <td>0.013115</td>\n",
       "      <td>6.099607</td>\n",
       "      <td>10.537593</td>\n",
       "      <td>0.577666</td>\n",
       "      <td>0.013266</td>\n",
       "    </tr>\n",
       "  </tbody>\n",
       "</table>\n",
       "</div>"
      ],
      "text/plain": [
       "      Return equal weight  Risk equal weight  Sharpe equal weight  \\\n",
       "2008            -3.633281          22.747442            -0.159797   \n",
       "2009             2.737031          19.624256             0.139406   \n",
       "2010             1.437057          16.760734             0.085668   \n",
       "2011            -0.146510          13.859047            -0.010802   \n",
       "2012             1.444687          10.445169             0.137728   \n",
       "2013             2.260573           6.266915             0.358801   \n",
       "2014             0.950156           6.167543             0.150280   \n",
       "2015             0.144766          11.569970             0.010325   \n",
       "2016             0.936797          10.168089             0.086152   \n",
       "2017             1.711771           3.043887             0.551029   \n",
       "2018            -0.489427          12.240760            -0.041617   \n",
       "2019             5.951094          11.764440             0.504800   \n",
       "\n",
       "      $m^2$equal weight  Return min variance  Risk min variance  \\\n",
       "2008           0.001460            -3.369767          19.867067   \n",
       "2009           0.001509             2.468601          20.777183   \n",
       "2010           0.001329             1.308435          16.510655   \n",
       "2011           0.003184            -0.073550          14.002917   \n",
       "2012           0.006307             1.415389          10.613973   \n",
       "2013           0.012538             2.318101           7.028656   \n",
       "2014           0.023525             0.943388           6.484642   \n",
       "2015           0.025315             0.161429          12.008933   \n",
       "2016           0.060929             0.743056          11.240946   \n",
       "2017           0.035327             1.571692           3.335807   \n",
       "2018           0.019938            -0.496327          13.317898   \n",
       "2019           0.013157             5.714934          11.955057   \n",
       "\n",
       "      Sharpe  min variance  $m^2$min variance  Return max sharpe  \\\n",
       "2008             -0.169701           0.001445          -3.283801   \n",
       "2009              0.118751           0.001478           2.673136   \n",
       "2010              0.079175           0.001319           1.465183   \n",
       "2011             -0.005481           0.003192           0.012171   \n",
       "2012              0.132777           0.006299           1.348912   \n",
       "2013              0.328100           0.012492           2.262363   \n",
       "2014              0.141887           0.023513           0.911795   \n",
       "2015              0.011336           0.025317           0.190215   \n",
       "2016              0.060694           0.060891           0.787351   \n",
       "2017              0.460816           0.035191           1.523077   \n",
       "2018             -0.038769           0.019942          -0.408883   \n",
       "2019              0.476998           0.013115           6.099607   \n",
       "\n",
       "      Risk max sharpe  Sharpe max sharpe  $m^2$max sharpe  \n",
       "2008        23.466426          -0.140009         0.001490  \n",
       "2009        17.006097           0.157110         0.001536  \n",
       "2010        16.428460           0.089113         0.001334  \n",
       "2011        13.903709           0.000645         0.003201  \n",
       "2012        10.474671           0.128196         0.006292  \n",
       "2013         6.932296           0.324620         0.012487  \n",
       "2014         6.479445           0.137125         0.023506  \n",
       "2015        11.757623           0.014026         0.025321  \n",
       "2016        10.905912           0.066620         0.060900  \n",
       "2017         2.780797           0.535306         0.035303  \n",
       "2018        13.236094          -0.032402         0.019951  \n",
       "2019        10.537593           0.577666         0.013266  "
      ]
     },
     "execution_count": 53,
     "metadata": {},
     "output_type": "execute_result"
    }
   ],
   "source": [
    "#---------------Construction of a DATAFRAME with the performance measurement of each portfolio ---------------------·#\n",
    "rendew=pd.DataFrame(columns=['Return equal weight','Risk equal weight','Sharpe equal weight','$m^2$equal weight',\n",
    "                             'Return min variance','Risk min variance','Sharpe  min variance','$m^2$min variance',\n",
    "                             'Return max sharpe','Risk max sharpe','Sharpe max sharpe','$m^2$max sharpe'],index=years_m)\n",
    "\n",
    "rendew['Return equal weight']=rend_port\n",
    "rendew['Risk equal weight']=risk_ew\n",
    "rendew['Sharpe equal weight']=sharpe_ew\n",
    "rendew['$m^2$equal weight']=mc_ew\n",
    "\n",
    "rendew['Return min variance']=rend_port2\n",
    "rendew['Risk min variance']=risk_pv\n",
    "rendew['Sharpe  min variance']=sharpe_pv\n",
    "rendew['$m^2$min variance']=mc_pv\n",
    "\n",
    "rendew['Return max sharpe']=rend_port3\n",
    "rendew['Risk max sharpe']=risk_ps\n",
    "rendew['Sharpe max sharpe']=sharpe_ps\n",
    "rendew['$m^2$max sharpe']=mc_ps\n",
    "rendew"
   ]
  },
  {
   "cell_type": "code",
   "execution_count": 54,
   "metadata": {},
   "outputs": [],
   "source": [
    "# list of the years since 2008 to 2019 for the index\n",
    "years_m= []\n",
    "for i in range(2007,2019):\n",
    "    years_m.append(1+i)"
   ]
  },
  {
   "cell_type": "code",
   "execution_count": 55,
   "metadata": {},
   "outputs": [],
   "source": [
    "#---------------Construction of a heatmap with the performance measurement of each portfolio ---------------------·#\n",
    "years = years_m\n",
    "MAD = ['Return equal weight','Risk equal weight','Sharpe equal weight','$m^2$equal weight',\n",
    "       'Return min variance','Risk min variance','Sharpe  min variance','$m^2$min variance',\n",
    "       'Return max sharpe','Risk max sharpe','Sharpe max sharpe','$m^2$max sharpe']\n",
    "\n",
    "datas = np.array([rendew.iloc[0],rendew.iloc[1],rendew.iloc[2],rendew.iloc[3],rendew.iloc[4],\n",
    "                   rendew.iloc[5],rendew.iloc[6],rendew.iloc[7],rendew.iloc[8],rendew.iloc[9],\n",
    "                   rendew.iloc[10],rendew.iloc[11]])"
   ]
  },
  {
   "cell_type": "code",
   "execution_count": 56,
   "metadata": {},
   "outputs": [],
   "source": [
    "def heatmap(data, row_labels, col_labels, ax=None,\n",
    "            cbar_kw={}, cbarlabel=\"\", **kwargs):\n",
    "    \"\"\"\n",
    "    Create a heatmap from a numpy array and two lists of labels.\n",
    "\n",
    "    Arguments:\n",
    "        data       : A 2D numpy array of shape (N,M)\n",
    "        row_labels : A list or array of length N with the labels\n",
    "                     for the rows\n",
    "        col_labels : A list or array of length M with the labels\n",
    "                     for the columns\n",
    "    Optional arguments:\n",
    "        ax         : A matplotlib.axes.Axes instance to which the heatmap\n",
    "                     is plotted. If not provided, use current axes or\n",
    "                     create a new one.\n",
    "        cbar_kw    : A dictionary with arguments to\n",
    "                     :meth:`matplotlib.Figure.colorbar`.\n",
    "        cbarlabel  : The label for the colorbar\n",
    "    All other arguments are directly passed on to the imshow call.\n",
    "    \"\"\"\n",
    "\n",
    "    if not ax:\n",
    "        ax = plt.gca()\n",
    "\n",
    "    # Plot the heatmap\n",
    "    im = ax.imshow(data, **kwargs)\n",
    "\n",
    "    # Create colorbar\n",
    "    cbar = ax.figure.colorbar(im, ax=ax, **cbar_kw)\n",
    "    cbar.ax.set_ylabel(cbarlabel, rotation=-90, va=\"bottom\")\n",
    "\n",
    "    # We want to show all ticks...\n",
    "    ax.set_xticks(np.arange(data.shape[1]))\n",
    "    ax.set_yticks(np.arange(data.shape[0]))\n",
    "    # ... and label them with the respective list entries.\n",
    "    ax.set_xticklabels(col_labels)\n",
    "    ax.set_yticklabels(row_labels)\n",
    "\n",
    "    # Let the horizontal axes labeling appear on top.\n",
    "    ax.tick_params(top=True, bottom=False,\n",
    "                   labeltop=True, labelbottom=False)\n",
    "\n",
    "    # Rotate the tick labels and set their alignment.\n",
    "    plt.setp(ax.get_xticklabels(), rotation=-30, ha=\"right\",\n",
    "             rotation_mode=\"anchor\")\n",
    "\n",
    "    # Turn spines off and create white grid.\n",
    "    for edge, spine in ax.spines.items():\n",
    "        spine.set_visible(False)\n",
    "\n",
    "    ax.set_xticks(np.arange(data.shape[1]+1)-.5, minor=True)\n",
    "    ax.set_yticks(np.arange(data.shape[0]+1)-.5, minor=True)\n",
    "    ax.grid(which=\"minor\", color=\"w\", linestyle='-', linewidth=3)\n",
    "    ax.tick_params(which=\"minor\", bottom=False, left=False)\n",
    "\n",
    "    return im, cbar\n",
    "\n",
    "\n",
    "def annotate_heatmap(im, data=None, valfmt=\"{x:.2f}\",\n",
    "                     textcolors=[\"black\", \"white\"],\n",
    "                     threshold=None, **textkw):\n",
    "    \"\"\"\n",
    "    A function to annotate a heatmap.\n",
    "\n",
    "    Arguments:\n",
    "        im         : The AxesImage to be labeled.\n",
    "    Optional arguments:\n",
    "        data       : Data used to annotate. If None, the image's data is used.\n",
    "        valfmt     : The format of the annotations inside the heatmap.\n",
    "                     This should either use the string format method, e.g.\n",
    "                     \"$ {x:.2f}\", or be a :class:`matplotlib.ticker.Formatter`.\n",
    "        textcolors : A list or array of two color specifications. The first is\n",
    "                     used for values below a threshold, the second for those\n",
    "                     above.\n",
    "        threshold  : Value in data units according to which the colors from\n",
    "                     textcolors are applied. If None (the default) uses the\n",
    "                     middle of the colormap as separation.\n",
    "\n",
    "    Further arguments are passed on to the created text labels.\n",
    "    \"\"\"\n",
    "\n",
    "    if not isinstance(data, (list, np.ndarray)):\n",
    "        data = im.get_array()\n",
    "\n",
    "    # Normalize the threshold to the images color range.\n",
    "    if threshold is not None:\n",
    "        threshold = im.norm(threshold)\n",
    "    else:\n",
    "        threshold = im.norm(data.max())/2.\n",
    "\n",
    "    # Set default alignment to center, but allow it to be\n",
    "    # overwritten by textkw.\n",
    "    kw = dict(horizontalalignment=\"center\",\n",
    "              verticalalignment=\"center\")\n",
    "    kw.update(textkw)\n",
    "\n",
    "    # Get the formatter in case a string is supplied\n",
    "    if isinstance(valfmt, str):\n",
    "        valfmt = matplotlib.ticker.StrMethodFormatter(valfmt)\n",
    "\n",
    "    # Loop over the data and create a `Text` for each \"pixel\".\n",
    "    # Change the text's color depending on the data.\n",
    "    texts = []\n",
    "    for i in range(data.shape[0]):\n",
    "        for j in range(data.shape[1]):\n",
    "            kw.update(color=textcolors[im.norm(data[i, j]) > threshold])\n",
    "            text = im.axes.text(j, i, valfmt(data[i, j], None), **kw)\n",
    "            texts.append(text)\n",
    "\n",
    "    return texts"
   ]
  },
  {
   "cell_type": "code",
   "execution_count": 57,
   "metadata": {},
   "outputs": [
    {
     "name": "stderr",
     "output_type": "stream",
     "text": [
      "/anaconda2/lib/python3.7/site-packages/ipykernel_launcher.py:106: DeprecationWarning: In future, it will be an error for 'np.bool_' scalars to be interpreted as an index\n"
     ]
    },
    {
     "data": {
      "image/png": "[encoded data removed]",
      "text/plain": [
       "<Figure size 1080x1080 with 2 Axes>"
      ]
     },
     "metadata": {
      "needs_background": "light"
     },
     "output_type": "display_data"
    }
   ],
   "source": [
    "fig, ax = plt.subplots(figsize=(15,15))\n",
    "\n",
    "im, cbar = heatmap(datas, years, MAD, ax=ax,\n",
    "                   cmap=\"Blues\", cbarlabel=\"MPE per year\")\n",
    "texts = annotate_heatmap(im)\n",
    "\n",
    "fig.tight_layout()\n",
    "plt.savefig('MPE_.png')\n",
    "plt.show()"
   ]
  },
  {
   "cell_type": "code",
   "execution_count": null,
   "metadata": {},
   "outputs": [],
   "source": []
  },
  {
   "cell_type": "code",
   "execution_count": null,
   "metadata": {},
   "outputs": [],
   "source": []
  },
  {
   "cell_type": "markdown",
   "metadata": {},
   "source": [
    "# Criterion #2:\n",
    "## IRR (Internal Rate of Return)"
   ]
  },
  {
   "cell_type": "markdown",
   "metadata": {},
   "source": [
    "> <p style='text-align: justify;'>  The internal rate of return (IRR) is a metric used in capital budgeting to estimate the profitability of potential investments. The internal rate of return is a discount rate that makes the net present value (NPV) of all cash flows from a particular project equal to zero."
   ]
  },
  {
   "cell_type": "markdown",
   "metadata": {},
   "source": [
    "<img style=\"float: center\" src=\"https://github.com/Dianachav/bebe/blob/master/IRR.png?raw=true\" width=\"300px\" height=\"300px\" />\n",
    "\n"
   ]
  },
  {
   "cell_type": "markdown",
   "metadata": {},
   "source": [
    "> <p style='text-align: justify;'> The higher a project's internal rate of return, the more desirable it is to undertake. IRR is uniform for investments of varying types and, as such, IRR can be used to rank multiple prospective projects on a relatively even basis. Assuming the costs of investment are equal among the various projects, the project with the highest IRR would probably be considered the best and be undertaken first."
   ]
  },
  {
   "cell_type": "markdown",
   "metadata": {},
   "source": [
    "> <p style='text-align: justify;'> IRR is useful for corporations in evaluating stock buyback programs. Clearly, if a company allocates a substantial amount to a stock buyback, the analysis must show that the company's own stock is a better investment (has a higher IRR) than any other use of the funds for other capital projects."
   ]
  },
  {
   "cell_type": "markdown",
   "metadata": {},
   "source": [
    "___\n",
    "### Fist Analysis:\n",
    "### Equal Weights in the Portfolio"
   ]
  },
  {
   "cell_type": "markdown",
   "metadata": {},
   "source": [
    "#### STEP #1:\n",
    "> <p  style='text-align: justify;'> \n",
    "Get the last NAV per year of each ETF in the sample that has been trading since 2008."
   ]
  },
  {
   "cell_type": "code",
   "execution_count": 58,
   "metadata": {},
   "outputs": [],
   "source": [
    "# Function to get the last nav per year of each ETF\n",
    "\n",
    "def ETF_nav(j):\n",
    "    date=[]\n",
    "    \n",
    "    ETF_n = pd.read_csv(listas[j]) #Read files\n",
    "    ETF_n = ETF_n.drop(columns = ['Index Level', 'Ex-Dividends', 'Shares Outstanding']) #Delete unnecessary columns\n",
    "    for i in range(len(ETF_n[\"As Of\"])): \n",
    "            date.append(ETF_n[\"As Of\"].iloc[i].replace(\"-\",\" \")) #Date Format\n",
    "    table_n=pd.DataFrame(columns=['Cash Flow' ])\n",
    "    table_n['As Of'] = date\n",
    "    table_n['Cash Flow'] = ETF_n['NAV per Share']\n",
    "    table_n['As Of'] = pd.to_datetime(table_n['As Of'], format='%d %b %y')\n",
    "    nav_t = table_n.groupby(table_n['As Of'].dt.year)['Cash Flow'].agg('first') #Group by the last NAV per year\n",
    "    return(nav_t)"
   ]
  },
  {
   "cell_type": "code",
   "execution_count": 59,
   "metadata": {},
   "outputs": [],
   "source": [
    "# Call the function ETF_nav that get the last NAV per year of each ETF\n",
    "\n",
    "n0 = ETF_nav(0) \n",
    "n1 = ETF_nav(1) \n",
    "n2 = ETF_nav(2) \n",
    "n3 = ETF_nav(3) \n",
    "n4 = ETF_nav(4) \n",
    "n5 = ETF_nav(5) \n",
    "n6 = ETF_nav(6) \n",
    "n7 = ETF_nav(7) \n",
    "n8 = ETF_nav(8) \n",
    "n9 = ETF_nav(9) \n",
    "n10 = ETF_nav(10) \n",
    "n11 = ETF_nav(11) \n",
    "n12 = ETF_nav(12) \n",
    "n13 = ETF_nav(13) \n",
    "n14 = ETF_nav(14) \n",
    "n15 = ETF_nav(15) \n",
    "n16 = ETF_nav(16) \n",
    "n17 = ETF_nav(17) \n",
    "n18 = ETF_nav(18) \n",
    "n19 = ETF_nav(19) \n",
    "n20 = ETF_nav(20) \n",
    "n21 = ETF_nav(21) \n",
    "n22 = ETF_nav(22) \n",
    "n23 = ETF_nav(23) \n",
    "n24 = ETF_nav(24) \n",
    "n25 = ETF_nav(25) \n",
    "n26 = ETF_nav(26) \n",
    "n27 = ETF_nav(27) \n",
    "n28 = ETF_nav(28) \n",
    "n29 = ETF_nav(29) \n",
    "n30 = ETF_nav(30) \n",
    "n31 = ETF_nav(31) \n",
    "\n",
    "\n",
    "# Construction of a DATAFRAME with the last NAV per year of each ETF\n",
    "\n",
    "na = pd.DataFrame({'Core SP 500': n0,'Core SP Mid Cap': n1,\n",
    "                  'Core SP Total US Stock Market': n2,'Expanded Tech Sector': n3,\n",
    "                  'Expanded Tech Software Sector': n4,'MSCI ACWI': n5,\n",
    "                  'MSCI EAFE': n6,'MSCI Emerging Markets': n7, 'MSCI Japan': n8,\n",
    "                  'MSCI USA ESG Select': n9, 'Nasdaq Biotechnology': n10,\n",
    "                  'NorthAmerican Tech Multimedia Networking': n11,\n",
    "                  'PHLX Semiconductor': n12, 'Preferred and Income Securities': n13,\n",
    "                  'Russell 1000': n14, 'Russell 1000 Growth': n15,\n",
    "                  'Russell 1000 Value': n16, 'Russell 2000': n17,\n",
    "                  'SP 500 Growth': n18,'US Basic Materials': n19,\n",
    "                  'US Consumer Services': n20, 'SP 500 Value': n21, 'US Energy': n22,\n",
    "                  'US Financial Services': n23, 'US Financials': n24, 'US Healthcare': n25,\n",
    "                  'Home Construction': n26, 'US Industrials': n27, 'US Medical Devices': n28,\n",
    "                  'US Pharmaceuticals': n29, 'US Technology': n30,'US Telecommunications': n31})\n",
    "    \n",
    "    \n",
    "\n",
    "pd.set_option('display.max_columns', 32) #Show all the columns in the DataFrame\n",
    "na = na[12:23] #Selection from the year 2008 onwards"
   ]
  },
  {
   "cell_type": "markdown",
   "metadata": {},
   "source": [
    "#### STEP #2:\n",
    "> <p  style='text-align: justify;'> \n",
    "Get the Equal Weight in the Portfolio"
   ]
  },
  {
   "cell_type": "code",
   "execution_count": 60,
   "metadata": {},
   "outputs": [],
   "source": [
    "#Equal Weights in the Portfolio\n",
    "\n",
    "inv = 100000 #Investment: 100k USD\n",
    "pt = 1 #Total Weight of a portfolio: 100%\n",
    "n_ind = len(na.loc[2008]) #Number of industries\n",
    "ew = pt/n_ind #Equal Weighted\n",
    "ipw_ew = ew*inv #Investment per weight\n",
    "navs08 = na.loc[2008] #Net Asset Value (NAV) in 2008"
   ]
  },
  {
   "cell_type": "code",
   "execution_count": 61,
   "metadata": {},
   "outputs": [],
   "source": [
    "# Shares per ETF in 2008 with Equal Weights\n",
    "\n",
    "tew_etf = ipw_ew/navs08\n",
    "tew_etf = round(tew_etf)"
   ]
  },
  {
   "cell_type": "markdown",
   "metadata": {},
   "source": [
    "#### STEP #3:\n",
    "> <p  style='text-align: justify;'> \n",
    "Get the Net Asset Value (NAV) per year of each ETF"
   ]
  },
  {
   "cell_type": "code",
   "execution_count": 62,
   "metadata": {},
   "outputs": [],
   "source": [
    "#NAV per ETF with the same number of shares than in 2008\n",
    "\n",
    "nav_ew = tew_etf*na"
   ]
  },
  {
   "cell_type": "code",
   "execution_count": 63,
   "metadata": {},
   "outputs": [],
   "source": [
    "a0 = nav_ew[\"Core SP 500\"]\n",
    "a1 = nav_ew[\"Core SP Mid Cap\"]\n",
    "a2 = nav_ew[\"Core SP Total US Stock Market\"]\n",
    "a3 = nav_ew[\"Expanded Tech Sector\"]\n",
    "a4 = nav_ew[\"Expanded Tech Software Sector\"]\n",
    "a5 = nav_ew[\"MSCI ACWI\"]\n",
    "a6 = nav_ew[\"MSCI EAFE\"]\n",
    "a7 = nav_ew[\"MSCI Emerging Markets\"]\n",
    "a8 = nav_ew[\"MSCI Japan\"]\n",
    "a9 = nav_ew[\"MSCI USA ESG Select\"]\n",
    "a10 = nav_ew[\"Nasdaq Biotechnology\"]\n",
    "a11 = nav_ew[\"NorthAmerican Tech Multimedia Networking\"]\n",
    "a12 = nav_ew[\"PHLX Semiconductor\"]\n",
    "a13 = nav_ew[\"Preferred and Income Securities\"]\n",
    "a14 = nav_ew[\"Russell 1000\"]\n",
    "a15 = nav_ew[\"Russell 1000 Growth\"]\n",
    "a16 = nav_ew[\"Russell 1000 Value\"]\n",
    "a17 = nav_ew[\"Russell 2000\"]\n",
    "a18 = nav_ew[\"SP 500 Growth\"]\n",
    "a19 = nav_ew[\"US Basic Materials\"]\n",
    "a20 = nav_ew[\"US Consumer Services\"]\n",
    "a21 = nav_ew[\"SP 500 Value\"]\n",
    "a22 = nav_ew[\"US Energy\"]\n",
    "a23 = nav_ew[\"US Financial Services\"]\n",
    "a24 = nav_ew[\"US Financials\"]\n",
    "a25 = nav_ew[\"US Healthcare\"]\n",
    "a26 = nav_ew[\"Home Construction\"]\n",
    "a27 = nav_ew[\"US Industrials\"]\n",
    "a28 = nav_ew[\"US Medical Devices\"]\n",
    "a29 = nav_ew[\"US Pharmaceuticals\"]\n",
    "a30 = nav_ew[\"US Technology\"]\n",
    "a31 = nav_ew[\"US Telecommunications\"]"
   ]
  },
  {
   "cell_type": "markdown",
   "metadata": {},
   "source": [
    "\n",
    "#### STEP #4:\n",
    "> <p  style='text-align: justify;'> \n",
    "Once we have the NAV per ETF, we need to group the NAV by industries. "
   ]
  },
  {
   "cell_type": "code",
   "execution_count": 64,
   "metadata": {},
   "outputs": [],
   "source": [
    "#Group ETF's by Industries\n",
    "\n",
    "Chemical_Materials = a19+a16\n",
    "Consumer_Retail = a20+a5+a21\n",
    "Electronics =  a1+a14+a17\n",
    "Energy = a22+a7+a18\n",
    "Environmental = a0+a6\n",
    "Financial_Services = a13+a23+a24\n",
    "Hardware_Systems =  a2+a8\n",
    "HealthCare_Biotech =  a10+a25+a28+a29\n",
    "Industrial =  a26+a27\n",
    "Information_Technology = a3+a30\n",
    "Manufacturing = a12+a15\n",
    "Media_Communications = a11+a31\n",
    "Software_Services = a4+a9"
   ]
  },
  {
   "cell_type": "code",
   "execution_count": 65,
   "metadata": {},
   "outputs": [],
   "source": [
    "#NAV's DataFrame by industries\n",
    "\n",
    "ni_ew = pd.DataFrame({'Chemical/Materials': Chemical_Materials,\n",
    "                   'Consumer/Retail': Consumer_Retail,\n",
    "                   'Electronics': Electronics,\n",
    "                   'Energy': Energy,\n",
    "                   'Environmental': Environmental,\n",
    "                   'Financial Services' : Financial_Services,\n",
    "                   'Hardware/Systems': Hardware_Systems,\n",
    "                   'HealthCare/Biotech': HealthCare_Biotech,\n",
    "                   'Industrial': Industrial,\n",
    "                   'Information Technology': Information_Technology,\n",
    "                   'Manufacturing': Manufacturing,\n",
    "                   'Media/Communications': Media_Communications,\n",
    "                   'Software/Services': Software_Services})"
   ]
  },
  {
   "cell_type": "markdown",
   "metadata": {},
   "source": [
    "\n",
    "#### STEP #5:\n",
    "> <p  style='text-align: justify;'> \n",
    "Get the Net Present Value (NPV) per year of each industry"
   ]
  },
  {
   "cell_type": "code",
   "execution_count": 66,
   "metadata": {},
   "outputs": [],
   "source": [
    "#List of industries\n",
    "\n",
    "lis_ind = ['Chemical/Materials', 'Consumer/Retail','Electronics', 'Energy','Environmental',\n",
    "            'Financial Services' , 'Hardware/Systems', 'HealthCare/Biotech', 'Industrial',\n",
    "            'Information Technology', 'Manufacturing','Media/Communications','Software/Services']"
   ]
  },
  {
   "cell_type": "code",
   "execution_count": 67,
   "metadata": {},
   "outputs": [],
   "source": [
    "#List of years that we'll use to get the Net Present Value (NPV)\n",
    "\n",
    "t_tir= []\n",
    "for i in range(0,12):\n",
    "    t_tir.append(1+i)\n",
    "t_tir.reverse()"
   ]
  },
  {
   "cell_type": "code",
   "execution_count": 68,
   "metadata": {},
   "outputs": [],
   "source": [
    "#List of discount rate 2008-2019\n",
    "\n",
    "r = [0.005, 0.0073, 0.0075, 0.0075, 0.0075, 0.0075, 0.0077, 0.0102, 0.0138, .0225, 0.03]"
   ]
  },
  {
   "cell_type": "code",
   "execution_count": 69,
   "metadata": {},
   "outputs": [],
   "source": [
    "#Bottom part of the Net Present Values's (NPV) formula\n",
    "\n",
    "d_npv =[]\n",
    "for i in range(len(r)):\n",
    "    bottom = (1+r[i])**(t_tir[i]) #(1+r)^t\n",
    "    d_npv.append(bottom)"
   ]
  },
  {
   "cell_type": "code",
   "execution_count": 70,
   "metadata": {},
   "outputs": [],
   "source": [
    "#Formula of the Net Present Values (NPV)\n",
    "\n",
    "t_npv_ew =[]\n",
    "for i in range(len(lis_ind)):\n",
    "    f_npv_ew = ni_ew[lis_ind[i]]/(d_npv) #Ct/(1+r^t)\n",
    "    t_npv_ew.append(f_npv_ew)"
   ]
  },
  {
   "cell_type": "code",
   "execution_count": 71,
   "metadata": {},
   "outputs": [],
   "source": [
    "#Initial investment per industry\n",
    "\n",
    "in_in_ew = [-2*ipw_ew, -3*ipw_ew, -3*ipw_ew, -3*ipw_ew, -2*ipw_ew, -3*ipw_ew, -2*ipw_ew, -4*ipw_ew, -2*ipw_ew, -2*ipw_ew, -2*ipw_ew, -2*ipw_ew, -2*ipw_ew]"
   ]
  },
  {
   "cell_type": "code",
   "execution_count": 72,
   "metadata": {},
   "outputs": [],
   "source": [
    "#NPV's DataFrame by industries\n",
    "\n",
    "npv_ew = pd.DataFrame(t_npv_ew).T\n",
    "npv_ew.loc[2007] = in_in_ew\n",
    "npv_ew = npv_ew.sort_index() "
   ]
  },
  {
   "cell_type": "markdown",
   "metadata": {
    "collapsed": true
   },
   "source": [
    "\n",
    "#### STEP #6:\n",
    "> <p  style='text-align: justify;'> \n",
    "Get the Internal Rate of Return (IRR) per year of each industry"
   ]
  },
  {
   "cell_type": "code",
   "execution_count": 73,
   "metadata": {},
   "outputs": [],
   "source": [
    "#npv_ew's column list per industry\n",
    "\n",
    "lis_i = [npv_ew['Chemical/Materials'], npv_ew['Consumer/Retail'], npv_ew['Electronics'], npv_ew['Energy'], npv_ew['Environmental'],\n",
    "         npv_ew['Financial Services'] , npv_ew['Hardware/Systems'], npv_ew['HealthCare/Biotech'], npv_ew['Industrial'],\n",
    "         npv_ew['Information Technology'], npv_ew['Manufacturing'], npv_ew['Media/Communications'], npv_ew['Software/Services']]"
   ]
  },
  {
   "cell_type": "code",
   "execution_count": 74,
   "metadata": {},
   "outputs": [],
   "source": [
    "#Convertion of each column to an array\n",
    "\n",
    "lis_irr = [np.array(i) for i in lis_i]"
   ]
  },
  {
   "cell_type": "code",
   "execution_count": 75,
   "metadata": {},
   "outputs": [],
   "source": [
    "#IRR's formula using \"np.irr\"\n",
    "\n",
    "t_t = []\n",
    "for i in range(len(lis_irr)):\n",
    "    t_a = []\n",
    "    for j in range(2,13):\n",
    "        tir = np.irr(lis_irr[i][:j])*100\n",
    "        t_a.append(tir)\n",
    "    t_t.append(t_a)"
   ]
  },
  {
   "cell_type": "code",
   "execution_count": 76,
   "metadata": {},
   "outputs": [],
   "source": [
    "#List of year we'll use in the IRR's DataFrame\n",
    "\n",
    "y_tir = []\n",
    "for i in range(2008,2019):\n",
    "    y_tir.append(1+i)"
   ]
  },
  {
   "cell_type": "code",
   "execution_count": 77,
   "metadata": {},
   "outputs": [],
   "source": [
    "#IRR's DataFrame by industries\n",
    "\n",
    "irr_df = pd.DataFrame(columns = lis_ind)\n",
    "irr_df['Chemical/Materials'] = (t_t)[0]\n",
    "irr_df['Consumer/Retail'] = (t_t)[1]\n",
    "irr_df['Electronics'] = (t_t)[2]\n",
    "irr_df['Energy'] = (t_t)[3]\n",
    "irr_df['Environmental'] = (t_t)[4]\n",
    "irr_df['Financial Services'] = (t_t)[5]\n",
    "irr_df['Hardware/Systems'] = (t_t)[6]\n",
    "irr_df['HealthCare/Biotech'] = (t_t)[7]\n",
    "irr_df['Industrial'] = (t_t)[8]\n",
    "irr_df['Information Technology'] = (t_t)[9]\n",
    "irr_df['Manufacturing'] = (t_t)[10]\n",
    "irr_df['Media/Communications'] = (t_t)[11]\n",
    "irr_df['Software/Services'] = (t_t)[12]\n",
    "irr_df['Year'] = y_tir\n",
    "irr_df = irr_df.set_index('Year')"
   ]
  },
  {
   "cell_type": "code",
   "execution_count": 78,
   "metadata": {},
   "outputs": [],
   "source": [
    "years = y_tir\n",
    "MAD = lis_ind\n",
    "\n",
    "datas = np.array([ irr_df.loc[2009],irr_df.loc[2010],irr_df.loc[2011],irr_df.loc[2012],irr_df.loc[2013],\n",
    "                   irr_df.loc[2014],irr_df.loc[2015],irr_df.loc[2016],irr_df.loc[2017],irr_df.loc[2018],\n",
    "                   irr_df.loc[2019] ])"
   ]
  },
  {
   "cell_type": "code",
   "execution_count": 79,
   "metadata": {},
   "outputs": [
    {
     "name": "stderr",
     "output_type": "stream",
     "text": [
      "/anaconda2/lib/python3.7/site-packages/ipykernel_launcher.py:106: DeprecationWarning: In future, it will be an error for 'np.bool_' scalars to be interpreted as an index\n"
     ]
    },
    {
     "data": {
      "image/png": "[encoded data removed]",
      "text/plain": [
       "<Figure size 1080x1080 with 2 Axes>"
      ]
     },
     "metadata": {
      "needs_background": "light"
     },
     "output_type": "display_data"
    }
   ],
   "source": [
    "fig, ax = plt.subplots(figsize=(15,15))\n",
    "\n",
    "im, cbar = heatmap(datas, years, MAD, ax=ax,\n",
    "                   cmap=\"Blues\", cbarlabel=\"IRR per year\")\n",
    "#Colors: PuBu, RdBu, Blues, coolwarm\n",
    "texts = annotate_heatmap(im)\n",
    "\n",
    "\n",
    "fig.tight_layout()\n",
    "plt.savefig('irr_ew.png')\n",
    "plt.show()"
   ]
  },
  {
   "cell_type": "markdown",
   "metadata": {},
   "source": [
    "## Equal Weights in the Portfolio\n",
    "\n",
    "> In the chart above we can see the distribution of weights by Industry using Equal Weights per ETF"
   ]
  },
  {
   "cell_type": "code",
   "execution_count": 81,
   "metadata": {},
   "outputs": [],
   "source": [
    "ew_wei= []\n",
    "for i in range(len(in_in_ew)):\n",
    "    nn = in_in_ew[i]/sum(in_in_ew)*100\n",
    "    ew_wei.append(nn)"
   ]
  },
  {
   "cell_type": "code",
   "execution_count": 84,
   "metadata": {},
   "outputs": [
    {
     "name": "stderr",
     "output_type": "stream",
     "text": [
      "/anaconda2/lib/python3.7/site-packages/IPython/core/display.py:689: UserWarning:\n",
      "\n",
      "Consider using IPython.display.IFrame instead\n",
      "\n"
     ]
    },
    {
     "data": {
      "text/html": [
       "<iframe id=\"igraph\" scrolling=\"no\" style=\"border:none;\" seamless=\"seamless\" src=\"https://plot.ly/~dianachav/4.embed\" height=\"525px\" width=\"100%\"></iframe>"
      ],
      "text/plain": [
       "<plotly.tools.PlotlyDisplay object>"
      ]
     },
     "execution_count": 84,
     "metadata": {},
     "output_type": "execute_result"
    }
   ],
   "source": [
    "labels = lis_ind\n",
    "values = ew_wei\n",
    "\n",
    "trace = go.Pie(labels=labels, values=values, hole=.5, title = \"Equal Weights\")\n",
    "\n",
    "py.iplot([trace], filename='basic_pie_chart')"
   ]
  },
  {
   "cell_type": "markdown",
   "metadata": {},
   "source": [
    "## Time Series"
   ]
  },
  {
   "cell_type": "code",
   "execution_count": 85,
   "metadata": {},
   "outputs": [
    {
     "name": "stderr",
     "output_type": "stream",
     "text": [
      "/anaconda2/lib/python3.7/site-packages/IPython/core/display.py:689: UserWarning:\n",
      "\n",
      "Consider using IPython.display.IFrame instead\n",
      "\n"
     ]
    },
    {
     "data": {
      "text/html": [
       "<iframe id=\"igraph\" scrolling=\"no\" style=\"border:none;\" seamless=\"seamless\" src=\"https://plot.ly/~dianachav/20.embed\" height=\"525px\" width=\"100%\"></iframe>"
      ],
      "text/plain": [
       "<plotly.tools.PlotlyDisplay object>"
      ]
     },
     "execution_count": 85,
     "metadata": {},
     "output_type": "execute_result"
    }
   ],
   "source": [
    "irr_1 = go.Scatter(x=y_tir, y=irr_df['Chemical/Materials'], name = 'Chemical Material', line = dict(color = \"skyblue\"),\n",
    "                   opacity = 0.8)\n",
    "irr_2 = go.Scatter(x=y_tir, y=irr_df['Consumer/Retail'], name = 'Consumer Retail', line = dict(color = \"deepskyblue\"),\n",
    "                   opacity = 0.8)\n",
    "irr_3 = go.Scatter(x=y_tir, y=irr_df['Electronics'], name = 'Electronics', line = dict(color = \"aliceblue\"),\n",
    "                   opacity = 0.8)\n",
    "irr_4 = go.Scatter(x=y_tir, y=irr_df['Energy'], name = 'Energy', line = dict(color = \"cadetblue\"),\n",
    "                   opacity = 0.8)\n",
    "irr_5 = go.Scatter(x=y_tir, y=irr_df['Environmental'], name = 'Environmental', line = dict(color = \"steelblue\"),\n",
    "                   opacity = 0.8)\n",
    "irr_6 = go.Scatter(x=y_tir, y=irr_df['Financial Services'], name = 'Financial Services', line = dict(color = \"lightskyblue\"),\n",
    "                   opacity = 0.8)\n",
    "irr_7 = go.Scatter(x=y_tir, y=irr_df['Hardware/Systems'], name = 'Hardware Systems', line = dict(color = \"darkturquoise\"),\n",
    "                   opacity = 0.8)\n",
    "irr_8 = go.Scatter(x=y_tir, y=irr_df['HealthCare/Biotech'], name = 'HealthCare Biotech', line = dict(color = \"darkblue\"),\n",
    "                   opacity = 0.8)\n",
    "irr_9 = go.Scatter(x=y_tir, y=irr_df['Industrial'], name = 'Idustrial', line = dict(color = \"powderblue\"),\n",
    "                   opacity = 0.8)\n",
    "irr_10 = go.Scatter(x=y_tir, y=irr_df['Information Technology'], name = 'Information Technology', line = dict(color = \"darkcyan\"),\n",
    "                   opacity = 0.8)\n",
    "irr_11 = go.Scatter(x=y_tir, y=irr_df['Manufacturing'], name = 'Manufacturing', line = dict(color = \"midnightblue\"),\n",
    "                   opacity = 0.8)\n",
    "irr_12 = go.Scatter(x=y_tir, y=irr_df['Media/Communications'], name = 'Media Communications', line = dict(color = \"navy\"),\n",
    "                   opacity = 0.8)\n",
    "irr_13 = go.Scatter(x=y_tir, y=irr_df['Software/Services'], name = 'Software Services', line = dict(color = \"lightblue\"),\n",
    "                   opacity = 0.8)\n",
    "\n",
    "\n",
    "data = [irr_1,irr_2,irr_3,irr_4,irr_5,irr_6,irr_7,irr_8,irr_9,irr_10,irr_11,irr_12,irr_13]\n",
    "\n",
    "layout = dict(title = \"IRR Equal Weights 2009-2019\")\n",
    "\n",
    "\n",
    "fig = dict(data=data, layout=layout)\n",
    "py.iplot(fig, filename = \"IRR Equal Weights 2009-2019\")"
   ]
  },
  {
   "cell_type": "markdown",
   "metadata": {},
   "source": [
    "___\n",
    "### Second Analysis:\n",
    "### Weights in the Portfolio using Markowitz's Minimun Variance "
   ]
  },
  {
   "cell_type": "markdown",
   "metadata": {},
   "source": [
    "#### STEP #1:\n",
    "> <p  style='text-align: justify;'> \n",
    "Get the last NAV per year of each ETF in the sample that has been trading since 2008."
   ]
  },
  {
   "cell_type": "markdown",
   "metadata": {},
   "source": [
    "#### STEP #2:\n",
    "> <p  style='text-align: justify;'> \n",
    "Get the Weights in the Portfolio using Markowitz's Minimun Variance "
   ]
  },
  {
   "cell_type": "code",
   "execution_count": 86,
   "metadata": {},
   "outputs": [],
   "source": [
    "#Weights in the Portfolio using Markowitz's Minimun Variance\n",
    "\n",
    "#inv = 100000 #Investment: 100k USD\n",
    "\n",
    "#Weights in the Portfolio per ETF\n",
    "mv = min_variance_port.drop(columns = ['Returns', 'Volatility', 'Sharpe Ratio'])\n",
    "mv['Year'] = 2008\n",
    "mv = mv.set_index('Year')\n",
    "\n",
    "ipw_mv = mv.loc[2008]*inv #Investment per weight \n",
    "navs08 = na.loc[2008] #Net Asset Value (NAV) in 2008"
   ]
  },
  {
   "cell_type": "code",
   "execution_count": 87,
   "metadata": {},
   "outputs": [],
   "source": [
    "# Shares per ETF in 2008\n",
    "\n",
    "tmv_etf = ipw_mv/navs08\n",
    "tmv_etf = round(tmv_etf)"
   ]
  },
  {
   "cell_type": "markdown",
   "metadata": {},
   "source": [
    "#### STEP #3:\n",
    "> <p  style='text-align: justify;'> \n",
    "Get the Net Asset Value (NAV) per year of each ETF"
   ]
  },
  {
   "cell_type": "code",
   "execution_count": 88,
   "metadata": {},
   "outputs": [],
   "source": [
    "#NAV per ETF with the same number of shares than in 2008\n",
    "\n",
    "nav_mv = tmv_etf*na"
   ]
  },
  {
   "cell_type": "code",
   "execution_count": 89,
   "metadata": {},
   "outputs": [],
   "source": [
    "mva0 = nav_mv[\"Core SP 500\"]\n",
    "mva1 = nav_mv[\"Core SP Mid Cap\"]\n",
    "mva2 = nav_mv[\"Core SP Total US Stock Market\"]\n",
    "mva3 = nav_mv[\"Expanded Tech Sector\"]\n",
    "mva4 = nav_mv[\"Expanded Tech Software Sector\"]\n",
    "mva5 = nav_mv[\"MSCI ACWI\"]\n",
    "mva6 = nav_mv[\"MSCI EAFE\"]\n",
    "mva7 = nav_mv[\"MSCI Emerging Markets\"]\n",
    "mva8 = nav_mv[\"MSCI Japan\"]\n",
    "mva9 = nav_mv[\"MSCI USA ESG Select\"]\n",
    "mva10 = nav_mv[\"Nasdaq Biotechnology\"]\n",
    "mva11 = nav_mv[\"NorthAmerican Tech Multimedia Networking\"]\n",
    "mva12 = nav_mv[\"PHLX Semiconductor\"]\n",
    "mva13 = nav_mv[\"Preferred and Income Securities\"]\n",
    "mva14 = nav_mv[\"Russell 1000\"]\n",
    "mva15 = nav_mv[\"Russell 1000 Growth\"]\n",
    "mva16 = nav_mv[\"Russell 1000 Value\"]\n",
    "mva17 = nav_mv[\"Russell 2000\"]\n",
    "mva18 = nav_mv[\"SP 500 Growth\"]\n",
    "mva19 = nav_mv[\"US Basic Materials\"]\n",
    "mva20 = nav_mv[\"US Consumer Services\"]\n",
    "mva21 = nav_mv[\"SP 500 Value\"]\n",
    "mva22 = nav_mv[\"US Energy\"]\n",
    "mva23 = nav_mv[\"US Financial Services\"]\n",
    "mva24 = nav_mv[\"US Financials\"]\n",
    "mva25 = nav_mv[\"US Healthcare\"]\n",
    "mva26 = nav_mv[\"Home Construction\"]\n",
    "mva27 = nav_mv[\"US Industrials\"]\n",
    "mva28 = nav_mv[\"US Medical Devices\"]\n",
    "mva29 = nav_mv[\"US Pharmaceuticals\"]\n",
    "mva30 = nav_mv[\"US Technology\"]\n",
    "mva31 = nav_mv[\"US Telecommunications\"]"
   ]
  },
  {
   "cell_type": "markdown",
   "metadata": {},
   "source": [
    "\n",
    "#### STEP #4:\n",
    "> <p  style='text-align: justify;'> \n",
    "Once we have the NAV per ETF, we need to group the NAV by industries. "
   ]
  },
  {
   "cell_type": "code",
   "execution_count": 90,
   "metadata": {},
   "outputs": [],
   "source": [
    "#Group ETF's by Industries\n",
    "\n",
    "Chemical_Materials = mva19+mva16\n",
    "Consumer_Retail = mva20+mva5+mva21\n",
    "Electronics =  mva1+mva14+mva17\n",
    "Energy = mva22+mva7+mva18\n",
    "Environmental = mva0+mva6\n",
    "Financial_Services = mva13+mva23+mva24\n",
    "Hardware_Systems = mva2+mva8\n",
    "HealthCare_Biotech = mva10+mva25+mva28+mva29\n",
    "Industrial = mva26+mva27\n",
    "Information_Technology = mva3+mva30\n",
    "Manufacturing = mva12+mva15\n",
    "Media_Communications = mva11+mva31\n",
    "Software_Services = mva4+mva9"
   ]
  },
  {
   "cell_type": "code",
   "execution_count": 91,
   "metadata": {},
   "outputs": [],
   "source": [
    "#NAV's DataFrame by industries\n",
    "\n",
    "ni_mv = pd.DataFrame({'Chemical/Materials': Chemical_Materials,\n",
    "                   'Consumer/Retail': Consumer_Retail,\n",
    "                   'Electronics': Electronics,\n",
    "                   'Energy': Energy,\n",
    "                   'Environmental': Environmental,\n",
    "                   'Financial Services' : Financial_Services,\n",
    "                   'Hardware/Systems': Hardware_Systems,\n",
    "                   'HealthCare/Biotech': HealthCare_Biotech,\n",
    "                   'Industrial': Industrial,\n",
    "                   'Information Technology': Information_Technology,\n",
    "                   'Manufacturing': Manufacturing,\n",
    "                   'Media/Communications': Media_Communications,\n",
    "                   'Software/Services': Software_Services})"
   ]
  },
  {
   "cell_type": "markdown",
   "metadata": {},
   "source": [
    "\n",
    "#### STEP #5:\n",
    "> <p  style='text-align: justify;'> \n",
    "Get the Net Present Value (NPV) per year of each industry"
   ]
  },
  {
   "cell_type": "code",
   "execution_count": 92,
   "metadata": {},
   "outputs": [],
   "source": [
    "#Formula of the Net Present Values (NPV)\n",
    "\n",
    "t_npv_mv =[]\n",
    "for i in range(len(lis_ind)):\n",
    "    f_npv = ni_mv[lis_ind[i]]/(d_npv) #Ct/(1+r^t)\n",
    "    t_npv_mv.append(f_npv)"
   ]
  },
  {
   "cell_type": "code",
   "execution_count": 93,
   "metadata": {},
   "outputs": [],
   "source": [
    "#Initial investment per industry\n",
    "\n",
    "wmva0 = -ipw_mv[\"Core SP 500\"]\n",
    "wmva1 = -ipw_mv[\"Core SP Mid Cap\"]\n",
    "wmva2 = -ipw_mv[\"Core SP Total US Stock Market\"]\n",
    "wmva3 = -ipw_mv[\"Expanded Tech Sector\"]\n",
    "wmva4 = -ipw_mv[\"Expanded Tech Software Sector\"]\n",
    "wmva5 = -ipw_mv[\"MSCI ACWI\"]\n",
    "wmva6 = -ipw_mv[\"MSCI EAFE\"]\n",
    "wmva7 = -ipw_mv[\"MSCI Emerging Markets\"]\n",
    "wmva8 = -ipw_mv[\"MSCI Japan\"]\n",
    "wmva9 = -ipw_mv[\"MSCI USA ESG Select\"]\n",
    "wmva10 = -ipw_mv[\"Nasdaq Biotechnology\"]\n",
    "wmva11 = -ipw_mv[\"NorthAmerican Tech Multimedia Networking\"]\n",
    "wmva12 = -ipw_mv[\"PHLX Semiconductor\"]\n",
    "wmva13 = -ipw_mv[\"Preferred and Income Securities\"]\n",
    "wmva14 = -ipw_mv[\"Russell 1000\"]\n",
    "wmva15 = -ipw_mv[\"Russell 1000 Growth\"]\n",
    "wmva16 = -ipw_mv[\"Russell 1000 Value\"]\n",
    "wmva17 = -ipw_mv[\"Russell 2000\"]\n",
    "wmva18 = -ipw_mv[\"SP 500 Growth\"]\n",
    "wmva19 = -ipw_mv[\"US Basic Materials\"]\n",
    "wmva20 = -ipw_mv[\"US Consumer Services\"]\n",
    "wmva21 = -ipw_mv[\"SP 500 Value\"]\n",
    "wmva22 = -ipw_mv[\"US Energy\"]\n",
    "wmva23 = -ipw_mv[\"US Financial Services\"]\n",
    "wmva24 = -ipw_mv[\"US Financials\"]\n",
    "wmva25 = -ipw_mv[\"US Healthcare\"]\n",
    "wmva26 = -ipw_mv[\"Home Construction\"]\n",
    "wmva27 = -ipw_mv[\"US Industrials\"]\n",
    "wmva28 = -ipw_mv[\"US Medical Devices\"]\n",
    "wmva29 = -ipw_mv[\"US Pharmaceuticals\"]\n",
    "wmva30 = -ipw_mv[\"US Technology\"]\n",
    "wmva31 = -ipw_mv[\"US Telecommunications\"]"
   ]
  },
  {
   "cell_type": "code",
   "execution_count": 94,
   "metadata": {},
   "outputs": [],
   "source": [
    "#Group ETF's by Industries\n",
    "\n",
    "Chemical_Materials = wmva19+wmva16\n",
    "Consumer_Retail = wmva20+wmva5+wmva21\n",
    "Electronics =  wmva1+wmva14+wmva17\n",
    "Energy = wmva22+wmva7+wmva18\n",
    "Environmental = wmva0+wmva6\n",
    "Financial_Services = wmva13+wmva23+wmva24\n",
    "Hardware_Systems = wmva2+wmva8\n",
    "HealthCare_Biotech = wmva10+wmva25+wmva28+wmva29\n",
    "Industrial = wmva26+wmva27\n",
    "Information_Technology = wmva3+wmva30\n",
    "Manufacturing = wmva12+wmva15\n",
    "Media_Communications = wmva11+wmva31\n",
    "Software_Services = wmva4+wmva9"
   ]
  },
  {
   "cell_type": "code",
   "execution_count": 95,
   "metadata": {},
   "outputs": [],
   "source": [
    "#Initial investment per industry\n",
    "\n",
    "in_in_mv = [Chemical_Materials, Consumer_Retail, Electronics, Energy, Environmental,\n",
    "            Financial_Services , Hardware_Systems, HealthCare_Biotech, Industrial,\n",
    "            Information_Technology, Manufacturing, Media_Communications, Software_Services]"
   ]
  },
  {
   "cell_type": "code",
   "execution_count": 96,
   "metadata": {},
   "outputs": [],
   "source": [
    "#NPV's DataFrame by industries\n",
    "\n",
    "npv_mv = pd.DataFrame(t_npv_mv).T\n",
    "npv_mv.loc[2007] = in_in_mv\n",
    "npv_mv = npv_mv.sort_index() "
   ]
  },
  {
   "cell_type": "markdown",
   "metadata": {
    "collapsed": true
   },
   "source": [
    "\n",
    "#### STEP #6:\n",
    "> <p  style='text-align: justify;'> \n",
    "Get the Internal Rate of Return (IRR) per year of each industry"
   ]
  },
  {
   "cell_type": "code",
   "execution_count": 97,
   "metadata": {},
   "outputs": [],
   "source": [
    "#npv_mv's column list per industry\n",
    "\n",
    "lis_i = [npv_mv['Chemical/Materials'], npv_mv['Consumer/Retail'], npv_mv['Electronics'], npv_mv['Energy'], npv_mv['Environmental'],\n",
    "         npv_mv['Financial Services'] , npv_mv['Hardware/Systems'], npv_mv['HealthCare/Biotech'], npv_mv['Industrial'],\n",
    "         npv_mv['Information Technology'], npv_mv['Manufacturing'], npv_mv['Media/Communications'], npv_mv['Software/Services']]"
   ]
  },
  {
   "cell_type": "code",
   "execution_count": 98,
   "metadata": {},
   "outputs": [],
   "source": [
    "#Convertion of each column to an array\n",
    "\n",
    "lis_irr = [np.array(i) for i in lis_i]"
   ]
  },
  {
   "cell_type": "code",
   "execution_count": 99,
   "metadata": {},
   "outputs": [],
   "source": [
    "#IRR's formula using \"np.irr\"\n",
    "\n",
    "t_t_mv = []\n",
    "for i in range(len(lis_irr)):\n",
    "    t_a = []\n",
    "    for j in range(2,13):\n",
    "        tir = np.irr(lis_irr[i][:j])*100\n",
    "        t_a.append(tir)\n",
    "    t_t_mv.append(t_a)"
   ]
  },
  {
   "cell_type": "code",
   "execution_count": 100,
   "metadata": {},
   "outputs": [],
   "source": [
    "#IRR's DataFrame by industries\n",
    "\n",
    "irr_df = pd.DataFrame(columns = lis_ind)\n",
    "irr_df['Chemical/Materials'] = (t_t_mv)[0]\n",
    "irr_df['Consumer/Retail'] = (t_t_mv)[1]\n",
    "irr_df['Electronics'] = (t_t_mv)[2]\n",
    "irr_df['Energy'] = (t_t_mv)[3]\n",
    "irr_df['Environmental'] = (t_t_mv)[4]\n",
    "irr_df['Financial Services'] = (t_t_mv)[5]\n",
    "irr_df['Hardware/Systems'] = (t_t_mv)[6]\n",
    "irr_df['HealthCare/Biotech'] = (t_t_mv)[7]\n",
    "irr_df['Industrial'] = (t_t_mv)[8]\n",
    "irr_df['Information Technology'] = (t_t_mv)[9]\n",
    "irr_df['Manufacturing'] = (t_t_mv)[10]\n",
    "irr_df['Media/Communications'] = (t_t_mv)[11]\n",
    "irr_df['Software/Services'] = (t_t_mv)[12]\n",
    "irr_df['Year'] = y_tir\n",
    "irr_df = irr_df.set_index('Year')"
   ]
  },
  {
   "cell_type": "code",
   "execution_count": 101,
   "metadata": {},
   "outputs": [],
   "source": [
    "years = y_tir\n",
    "MAD = lis_ind\n",
    "\n",
    "datas = np.array([ irr_df.loc[2009],irr_df.loc[2010],irr_df.loc[2011],irr_df.loc[2012],irr_df.loc[2013],\n",
    "                   irr_df.loc[2014],irr_df.loc[2015],irr_df.loc[2016],irr_df.loc[2017],irr_df.loc[2018],\n",
    "                   irr_df.loc[2019] ])"
   ]
  },
  {
   "cell_type": "code",
   "execution_count": 103,
   "metadata": {},
   "outputs": [
    {
     "name": "stderr",
     "output_type": "stream",
     "text": [
      "/anaconda2/lib/python3.7/site-packages/ipykernel_launcher.py:106: DeprecationWarning:\n",
      "\n",
      "In future, it will be an error for 'np.bool_' scalars to be interpreted as an index\n",
      "\n"
     ]
    },
    {
     "data": {
      "image/png": "[encoded data removed]",
      "text/plain": [
       "<Figure size 1080x1080 with 2 Axes>"
      ]
     },
     "metadata": {
      "needs_background": "light"
     },
     "output_type": "display_data"
    }
   ],
   "source": [
    "fig, ax = plt.subplots(figsize=(15,15))\n",
    "\n",
    "im, cbar = heatmap(datas, years, MAD, ax=ax,\n",
    "                   cmap=\"Blues\", cbarlabel=\"IRR per year\")\n",
    "#Colors: PuBu, RdBu, Blues\n",
    "texts = annotate_heatmap(im)\n",
    "\n",
    "\n",
    "fig.tight_layout()\n",
    "plt.savefig('irr_mv.png')\n",
    "plt.show()"
   ]
  },
  {
   "cell_type": "markdown",
   "metadata": {},
   "source": [
    "##  Markowitz's Minimun Variance Portfolio Weights\n",
    "\n",
    "> In the chart above we can see the distribution of weights by Industry using Markowitz's Minimun Variance per ETF"
   ]
  },
  {
   "cell_type": "code",
   "execution_count": 104,
   "metadata": {},
   "outputs": [],
   "source": [
    "mv_wei= []\n",
    "for i in range(len(in_in_mv)):\n",
    "    ll = in_in_mv[i]/sum(in_in_mv)*100\n",
    "    mv_wei.append(ll)"
   ]
  },
  {
   "cell_type": "code",
   "execution_count": 105,
   "metadata": {},
   "outputs": [
    {
     "name": "stderr",
     "output_type": "stream",
     "text": [
      "/anaconda2/lib/python3.7/site-packages/IPython/core/display.py:689: UserWarning:\n",
      "\n",
      "Consider using IPython.display.IFrame instead\n",
      "\n"
     ]
    },
    {
     "data": {
      "text/html": [
       "<iframe id=\"igraph\" scrolling=\"no\" style=\"border:none;\" seamless=\"seamless\" src=\"https://plot.ly/~dianachav/4.embed\" height=\"525px\" width=\"100%\"></iframe>"
      ],
      "text/plain": [
       "<plotly.tools.PlotlyDisplay object>"
      ]
     },
     "execution_count": 105,
     "metadata": {},
     "output_type": "execute_result"
    }
   ],
   "source": [
    "labels = lis_ind\n",
    "values = mv_wei\n",
    "\n",
    "trace = go.Pie(labels=labels, values=values, hole=.5, title = \"Min Variance Weights\")\n",
    "\n",
    "py.iplot([trace], filename='basic_pie_chart')"
   ]
  },
  {
   "cell_type": "markdown",
   "metadata": {},
   "source": [
    "## Time Series"
   ]
  },
  {
   "cell_type": "code",
   "execution_count": 106,
   "metadata": {},
   "outputs": [
    {
     "name": "stderr",
     "output_type": "stream",
     "text": [
      "/anaconda2/lib/python3.7/site-packages/IPython/core/display.py:689: UserWarning:\n",
      "\n",
      "Consider using IPython.display.IFrame instead\n",
      "\n"
     ]
    },
    {
     "data": {
      "text/html": [
       "<iframe id=\"igraph\" scrolling=\"no\" style=\"border:none;\" seamless=\"seamless\" src=\"https://plot.ly/~dianachav/22.embed\" height=\"525px\" width=\"100%\"></iframe>"
      ],
      "text/plain": [
       "<plotly.tools.PlotlyDisplay object>"
      ]
     },
     "execution_count": 106,
     "metadata": {},
     "output_type": "execute_result"
    }
   ],
   "source": [
    "irr_1 = go.Scatter(x=y_tir, y=irr_df['Chemical/Materials'], name = 'Chemical Material', line = dict(color = \"skyblue\"),\n",
    "                   opacity = 0.8)\n",
    "irr_2 = go.Scatter(x=y_tir, y=irr_df['Consumer/Retail'], name = 'Consumer Retail', line = dict(color = \"deepskyblue\"),\n",
    "                   opacity = 0.8)\n",
    "irr_3 = go.Scatter(x=y_tir, y=irr_df['Electronics'], name = 'Electronics', line = dict(color = \"aliceblue\"),\n",
    "                   opacity = 0.8)\n",
    "irr_4 = go.Scatter(x=y_tir, y=irr_df['Energy'], name = 'Energy', line = dict(color = \"cadetblue\"),\n",
    "                   opacity = 0.8)\n",
    "irr_5 = go.Scatter(x=y_tir, y=irr_df['Environmental'], name = 'Environmental', line = dict(color = \"steelblue\"),\n",
    "                   opacity = 0.8)\n",
    "irr_6 = go.Scatter(x=y_tir, y=irr_df['Financial Services'], name = 'Financial Services', line = dict(color = \"lightskyblue\"),\n",
    "                   opacity = 0.8)\n",
    "irr_7 = go.Scatter(x=y_tir, y=irr_df['Hardware/Systems'], name = 'Hardware Systems', line = dict(color = \"darkturquoise\"),\n",
    "                   opacity = 0.8)\n",
    "irr_8 = go.Scatter(x=y_tir, y=irr_df['HealthCare/Biotech'], name = 'HealthCare Biotech', line = dict(color = \"darkblue\"),\n",
    "                   opacity = 0.8)\n",
    "irr_9 = go.Scatter(x=y_tir, y=irr_df['Industrial'], name = 'Idustrial', line = dict(color = \"powderblue\"),\n",
    "                   opacity = 0.8)\n",
    "irr_10 = go.Scatter(x=y_tir, y=irr_df['Information Technology'], name = 'Information Technology', line = dict(color = \"darkcyan\"),\n",
    "                   opacity = 0.8)\n",
    "irr_11 = go.Scatter(x=y_tir, y=irr_df['Manufacturing'], name = 'Manufacturing', line = dict(color = \"midnightblue\"),\n",
    "                   opacity = 0.8)\n",
    "irr_12 = go.Scatter(x=y_tir, y=irr_df['Media/Communications'], name = 'Media Communications', line = dict(color = \"navy\"),\n",
    "                   opacity = 0.8)\n",
    "irr_13 = go.Scatter(x=y_tir, y=irr_df['Software/Services'], name = 'Software Services', line = dict(color = \"lightblue\"),\n",
    "                   opacity = 0.8)\n",
    "\n",
    "\n",
    "data = [irr_1,irr_2,irr_3,irr_4,irr_5,irr_6,irr_7,irr_8,irr_9,irr_10,irr_11,irr_12,irr_13]\n",
    "\n",
    "layout = dict(title = \"IRR Min Variance Weights 2009-2019\")\n",
    "\n",
    "\n",
    "fig = dict(data=data, layout=layout)\n",
    "py.iplot(fig, filename = \"IRR Min Variance Weights 2009-2019\")"
   ]
  },
  {
   "cell_type": "markdown",
   "metadata": {},
   "source": [
    "___\n",
    "### Third Analysis:\n",
    "### Weights in the Portfolio using Markowitz's Maximum Sharpe "
   ]
  },
  {
   "cell_type": "markdown",
   "metadata": {},
   "source": [
    "#### STEP #1:\n",
    "> <p  style='text-align: justify;'> \n",
    "Get the last NAV per year of each ETF in the sample that has been trading since 2008."
   ]
  },
  {
   "cell_type": "markdown",
   "metadata": {},
   "source": [
    "#### STEP #2:\n",
    "> <p  style='text-align: justify;'> \n",
    "Get the Weights in the Portfolio using Markowitz's Maximum Sharpe"
   ]
  },
  {
   "cell_type": "code",
   "execution_count": 107,
   "metadata": {},
   "outputs": [],
   "source": [
    "#Weights in the Portfolio using Markowitz's Maximum Sharpe\n",
    "\n",
    "#inv = 100000 #Investment: 100k USD\n",
    "\n",
    "#Weights in the Portfolio per ETF\n",
    "ms = sharpe_portfolio.drop(columns = ['Returns', 'Volatility', 'Sharpe Ratio'])\n",
    "ms['Year'] = 2008\n",
    "ms = ms.set_index('Year')\n",
    "\n",
    "ipw_ms = ms.loc[2008]*inv #Investment per weight\n",
    "navs08 = na.loc[2008] #Net Asset Value (NAV) in 2008"
   ]
  },
  {
   "cell_type": "code",
   "execution_count": 108,
   "metadata": {},
   "outputs": [],
   "source": [
    "# Shares per ETF in 2008\n",
    "\n",
    "tms_etf = ipw_ms/navs08\n",
    "tms_etf = round(tms_etf)"
   ]
  },
  {
   "cell_type": "markdown",
   "metadata": {},
   "source": [
    "#### STEP #3:\n",
    "> <p  style='text-align: justify;'> \n",
    "Get the Net Asset Value (NAV) per year of each ETF"
   ]
  },
  {
   "cell_type": "code",
   "execution_count": 109,
   "metadata": {},
   "outputs": [],
   "source": [
    "#NAV per ETF with the same number of shares than in 2008\n",
    "\n",
    "nav_ms = tms_etf*na"
   ]
  },
  {
   "cell_type": "code",
   "execution_count": 110,
   "metadata": {},
   "outputs": [],
   "source": [
    "msa0 = nav_ms[\"Core SP 500\"]\n",
    "msa1 = nav_ms[\"Core SP Mid Cap\"]\n",
    "msa2 = nav_ms[\"Core SP Total US Stock Market\"]\n",
    "msa3 = nav_ms[\"Expanded Tech Sector\"]\n",
    "msa4 = nav_ms[\"Expanded Tech Software Sector\"]\n",
    "msa5 = nav_ms[\"MSCI ACWI\"]\n",
    "msa6 = nav_ms[\"MSCI EAFE\"]\n",
    "msa7 = nav_ms[\"MSCI Emerging Markets\"]\n",
    "msa8 = nav_ms[\"MSCI Japan\"]\n",
    "msa9 = nav_ms[\"MSCI USA ESG Select\"]\n",
    "msa10 = nav_ms[\"Nasdaq Biotechnology\"]\n",
    "msa11 = nav_ms[\"NorthAmerican Tech Multimedia Networking\"]\n",
    "msa12 = nav_ms[\"PHLX Semiconductor\"]\n",
    "msa13 = nav_ms[\"Preferred and Income Securities\"]\n",
    "msa14 = nav_ms[\"Russell 1000\"]\n",
    "msa15 = nav_ms[\"Russell 1000 Growth\"]\n",
    "msa16 = nav_ms[\"Russell 1000 Value\"]\n",
    "msa17 = nav_ms[\"Russell 2000\"]\n",
    "msa18 = nav_ms[\"SP 500 Growth\"]\n",
    "msa19 = nav_ms[\"US Basic Materials\"]\n",
    "msa20 = nav_ms[\"US Consumer Services\"]\n",
    "msa21 = nav_ms[\"SP 500 Value\"]\n",
    "msa22 = nav_ms[\"US Energy\"]\n",
    "msa23 = nav_ms[\"US Financial Services\"]\n",
    "msa24 = nav_ms[\"US Financials\"]\n",
    "msa25 = nav_ms[\"US Healthcare\"]\n",
    "msa26 = nav_ms[\"Home Construction\"]\n",
    "msa27 = nav_ms[\"US Industrials\"]\n",
    "msa28 = nav_ms[\"US Medical Devices\"]\n",
    "msa29 = nav_ms[\"US Pharmaceuticals\"]\n",
    "msa30 = nav_ms[\"US Technology\"]\n",
    "msa31 = nav_ms[\"US Telecommunications\"]"
   ]
  },
  {
   "cell_type": "markdown",
   "metadata": {},
   "source": [
    "\n",
    "#### STEP #4:\n",
    "> <p  style='text-align: justify;'> \n",
    "Once we have the NAV per ETF, we need to group the NAV by industries. "
   ]
  },
  {
   "cell_type": "code",
   "execution_count": 111,
   "metadata": {},
   "outputs": [],
   "source": [
    "#Group ETF's by Industries\n",
    "\n",
    "Chemical_Materials = msa19+msa16\n",
    "Consumer_Retail = msa20+msa5+msa21\n",
    "Electronics =  msa1+msa14+msa17\n",
    "Energy = msa22+msa7+msa18\n",
    "Environmental = msa0+msa6\n",
    "Financial_Services = msa13+msa23+msa24\n",
    "Hardware_Systems = msa2+msa8\n",
    "HealthCare_Biotech = msa10+msa25+msa28+msa29\n",
    "Industrial = msa26+msa27\n",
    "Information_Technology = msa3+msa30\n",
    "Manufacturing = msa12+msa15\n",
    "Media_Communications = msa11+msa31\n",
    "Software_Services = msa4+msa9"
   ]
  },
  {
   "cell_type": "code",
   "execution_count": 112,
   "metadata": {},
   "outputs": [],
   "source": [
    "#NAV's DataFrame by industries\n",
    "\n",
    "ni_ms = pd.DataFrame({'Chemical/Materials': Chemical_Materials,\n",
    "                   'Consumer/Retail': Consumer_Retail,\n",
    "                   'Electronics': Electronics,\n",
    "                   'Energy': Energy,\n",
    "                   'Environmental': Environmental,\n",
    "                   'Financial Services' : Financial_Services,\n",
    "                   'Hardware/Systems': Hardware_Systems,\n",
    "                   'HealthCare/Biotech': HealthCare_Biotech,\n",
    "                   'Industrial': Industrial,\n",
    "                   'Information Technology': Information_Technology,\n",
    "                   'Manufacturing': Manufacturing,\n",
    "                   'Media/Communications': Media_Communications,\n",
    "                   'Software/Services': Software_Services})"
   ]
  },
  {
   "cell_type": "markdown",
   "metadata": {},
   "source": [
    "\n",
    "#### STEP #5:\n",
    "> <p  style='text-align: justify;'> \n",
    "Get the Net Present Value (NPV) per year of each industry"
   ]
  },
  {
   "cell_type": "code",
   "execution_count": 113,
   "metadata": {},
   "outputs": [],
   "source": [
    "#Formula of the Net Present Values (NPV)\n",
    "\n",
    "t_npv_ms =[]\n",
    "for i in range(len(lis_ind)):\n",
    "    f_npv = ni_ms[lis_ind[i]]/(d_npv) #Ct/(1+r^t)\n",
    "    t_npv_ms.append(f_npv)"
   ]
  },
  {
   "cell_type": "code",
   "execution_count": 114,
   "metadata": {},
   "outputs": [],
   "source": [
    "#Initial investment per industry\n",
    "\n",
    "wmsa0 = -ipw_ms[\"Core SP 500\"]\n",
    "wmsa1 = -ipw_ms[\"Core SP Mid Cap\"]\n",
    "wmsa2 = -ipw_ms[\"Core SP Total US Stock Market\"]\n",
    "wmsa3 = -ipw_ms[\"Expanded Tech Sector\"]\n",
    "wmsa4 = -ipw_ms[\"Expanded Tech Software Sector\"]\n",
    "wmsa5 = -ipw_ms[\"MSCI ACWI\"]\n",
    "wmsa6 = -ipw_ms[\"MSCI EAFE\"]\n",
    "wmsa7 = -ipw_ms[\"MSCI Emerging Markets\"]\n",
    "wmsa8 = -ipw_ms[\"MSCI Japan\"]\n",
    "wmsa9 = -ipw_ms[\"MSCI USA ESG Select\"]\n",
    "wmsa10 = -ipw_ms[\"Nasdaq Biotechnology\"]\n",
    "wmsa11 = -ipw_ms[\"NorthAmerican Tech Multimedia Networking\"]\n",
    "wmsa12 = -ipw_ms[\"PHLX Semiconductor\"]\n",
    "wmsa13 = -ipw_ms[\"Preferred and Income Securities\"]\n",
    "wmsa14 = -ipw_ms[\"Russell 1000\"]\n",
    "wmsa15 = -ipw_ms[\"Russell 1000 Growth\"]\n",
    "wmsa16 = -ipw_ms[\"Russell 1000 Value\"]\n",
    "wmsa17 = -ipw_ms[\"Russell 2000\"]\n",
    "wmsa18 = -ipw_ms[\"SP 500 Growth\"]\n",
    "wmsa19 = -ipw_ms[\"US Basic Materials\"]\n",
    "wmsa20 = -ipw_ms[\"US Consumer Services\"]\n",
    "wmsa21 = -ipw_ms[\"SP 500 Value\"]\n",
    "wmsa22 = -ipw_ms[\"US Energy\"]\n",
    "wmsa23 = -ipw_ms[\"US Financial Services\"]\n",
    "wmsa24 = -ipw_ms[\"US Financials\"]\n",
    "wmsa25 = -ipw_ms[\"US Healthcare\"]\n",
    "wmsa26 = -ipw_ms[\"Home Construction\"]\n",
    "wmsa27 = -ipw_ms[\"US Industrials\"]\n",
    "wmsa28 = -ipw_ms[\"US Medical Devices\"]\n",
    "wmsa29 = -ipw_ms[\"US Pharmaceuticals\"]\n",
    "wmsa30 = -ipw_ms[\"US Technology\"]\n",
    "wmsa31 = -ipw_ms[\"US Telecommunications\"]"
   ]
  },
  {
   "cell_type": "code",
   "execution_count": 115,
   "metadata": {},
   "outputs": [],
   "source": [
    "#Group ETF's by Industries\n",
    "\n",
    "Chemical_Materials = wmsa19+wmsa16\n",
    "Consumer_Retail = wmsa20+wmsa5+wmsa21\n",
    "Electronics =  wmsa1+wmsa14+wmsa17\n",
    "Energy = wmsa22+wmsa7+wmsa18\n",
    "Environmental = wmsa0+wmsa6\n",
    "Financial_Services = wmsa13+wmsa23+wmsa24\n",
    "Hardware_Systems = wmsa2+wmsa8\n",
    "HealthCare_Biotech = wmsa10+wmsa25+wmsa28+wmsa29\n",
    "Industrial = wmsa26+wmsa27\n",
    "Information_Technology = wmsa3+wmsa30\n",
    "Manufacturing = wmsa12+wmsa15\n",
    "Media_Communications = wmsa11+wmsa31\n",
    "Software_Services = wmsa4+wmsa9"
   ]
  },
  {
   "cell_type": "code",
   "execution_count": 116,
   "metadata": {},
   "outputs": [],
   "source": [
    "#Initial investment per industry\n",
    "\n",
    "in_in_ms = [Chemical_Materials, Consumer_Retail, Electronics, Energy, Environmental,\n",
    "            Financial_Services , Hardware_Systems, HealthCare_Biotech, Industrial,\n",
    "            Information_Technology, Manufacturing, Media_Communications, Software_Services]"
   ]
  },
  {
   "cell_type": "code",
   "execution_count": 117,
   "metadata": {},
   "outputs": [],
   "source": [
    "#NPV's DataFrame by industries\n",
    "\n",
    "npv_ms = pd.DataFrame(t_npv_ms).T\n",
    "npv_ms.loc[2007] = in_in_ms\n",
    "npv_ms = npv_ms.sort_index() "
   ]
  },
  {
   "cell_type": "markdown",
   "metadata": {
    "collapsed": true
   },
   "source": [
    "\n",
    "#### STEP #6:\n",
    "> <p  style='text-align: justify;'> \n",
    "Get the Internal Rate of Return (IRR) per year of each industry"
   ]
  },
  {
   "cell_type": "code",
   "execution_count": 118,
   "metadata": {},
   "outputs": [],
   "source": [
    "#npv_ms's column list per industry\n",
    "\n",
    "lis_i = [npv_ms['Chemical/Materials'], npv_ms['Consumer/Retail'], npv_ms['Electronics'], npv_ms['Energy'], npv_ms['Environmental'],\n",
    "         npv_ms['Financial Services'] , npv_ms['Hardware/Systems'], npv_ms['HealthCare/Biotech'], npv_ms['Industrial'],\n",
    "         npv_ms['Information Technology'], npv_ms['Manufacturing'], npv_ms['Media/Communications'], npv_ms['Software/Services']]"
   ]
  },
  {
   "cell_type": "code",
   "execution_count": 119,
   "metadata": {},
   "outputs": [],
   "source": [
    "#Convertion of each column to an array\n",
    "\n",
    "lis_irr = [np.array(i) for i in lis_i]"
   ]
  },
  {
   "cell_type": "code",
   "execution_count": 120,
   "metadata": {},
   "outputs": [],
   "source": [
    "#IRR's formula using \"np.irr\"\n",
    "\n",
    "t_t_ms = []\n",
    "for i in range(len(lis_irr)):\n",
    "    t_a = []\n",
    "    for j in range(2,13):\n",
    "        tir = np.irr(lis_irr[i][:j])*100\n",
    "        t_a.append(tir)\n",
    "    t_t_ms.append(t_a)"
   ]
  },
  {
   "cell_type": "code",
   "execution_count": 121,
   "metadata": {},
   "outputs": [],
   "source": [
    "#IRR's DataFrame by industries\n",
    "\n",
    "irr_df = pd.DataFrame(columns = lis_ind)\n",
    "irr_df['Chemical/Materials'] = (t_t_ms)[0]\n",
    "irr_df['Consumer/Retail'] = (t_t_ms)[1]\n",
    "irr_df['Electronics'] = (t_t_ms)[2]\n",
    "irr_df['Energy'] = (t_t_ms)[3]\n",
    "irr_df['Environmental'] = (t_t_ms)[4]\n",
    "irr_df['Financial Services'] = (t_t_ms)[5]\n",
    "irr_df['Hardware/Systems'] = (t_t_ms)[6]\n",
    "irr_df['HealthCare/Biotech'] = (t_t_ms)[7]\n",
    "irr_df['Industrial'] = (t_t_ms)[8]\n",
    "irr_df['Information Technology'] = (t_t_ms)[9]\n",
    "irr_df['Manufacturing'] = (t_t_ms)[10]\n",
    "irr_df['Media/Communications'] = (t_t_ms)[11]\n",
    "irr_df['Software/Services'] = (t_t_ms)[12]\n",
    "irr_df['Year'] = y_tir\n",
    "irr_df = irr_df.set_index('Year')"
   ]
  },
  {
   "cell_type": "code",
   "execution_count": 122,
   "metadata": {},
   "outputs": [],
   "source": [
    "years = y_tir\n",
    "MAD = lis_ind\n",
    "\n",
    "datas = np.array([ irr_df.loc[2009],irr_df.loc[2010],irr_df.loc[2011],irr_df.loc[2012],irr_df.loc[2013],\n",
    "                   irr_df.loc[2014],irr_df.loc[2015],irr_df.loc[2016],irr_df.loc[2017],irr_df.loc[2018],\n",
    "                   irr_df.loc[2019] ])"
   ]
  },
  {
   "cell_type": "code",
   "execution_count": 123,
   "metadata": {
    "scrolled": false
   },
   "outputs": [
    {
     "name": "stderr",
     "output_type": "stream",
     "text": [
      "/anaconda2/lib/python3.7/site-packages/ipykernel_launcher.py:106: DeprecationWarning:\n",
      "\n",
      "In future, it will be an error for 'np.bool_' scalars to be interpreted as an index\n",
      "\n"
     ]
    },
    {
     "data": {
      "image/png": "[encoded data removed]",
      "text/plain": [
       "<Figure size 1080x1080 with 2 Axes>"
      ]
     },
     "metadata": {
      "needs_background": "light"
     },
     "output_type": "display_data"
    }
   ],
   "source": [
    "fig, ax = plt.subplots(figsize=(15,15))\n",
    "\n",
    "im, cbar = heatmap(datas, years, MAD, ax=ax,\n",
    "                   cmap=\"Blues\", cbarlabel=\"IRR per year\")\n",
    "#Colors: PuBu, RdBu, Blues\n",
    "texts = annotate_heatmap(im)\n",
    "\n",
    "\n",
    "fig.tight_layout()\n",
    "plt.savefig('irr_ms.png')\n",
    "plt.show()"
   ]
  },
  {
   "cell_type": "markdown",
   "metadata": {},
   "source": [
    "##  Markowitz's Maximum Sharpe Portfolio Weights\n",
    "\n",
    "> In the chart above we can see the distribution of weights by Industry using the using Markowitz's Maximum Sharpe per ETF"
   ]
  },
  {
   "cell_type": "code",
   "execution_count": 124,
   "metadata": {},
   "outputs": [],
   "source": [
    "ms_wei= []\n",
    "for i in range(len(in_in_ms)):\n",
    "    hh = in_in_ms[i]/sum(in_in_ms)*100\n",
    "    ms_wei.append(hh)"
   ]
  },
  {
   "cell_type": "code",
   "execution_count": 125,
   "metadata": {},
   "outputs": [
    {
     "name": "stderr",
     "output_type": "stream",
     "text": [
      "/anaconda2/lib/python3.7/site-packages/IPython/core/display.py:689: UserWarning:\n",
      "\n",
      "Consider using IPython.display.IFrame instead\n",
      "\n"
     ]
    },
    {
     "data": {
      "text/html": [
       "<iframe id=\"igraph\" scrolling=\"no\" style=\"border:none;\" seamless=\"seamless\" src=\"https://plot.ly/~dianachav/4.embed\" height=\"525px\" width=\"100%\"></iframe>"
      ],
      "text/plain": [
       "<plotly.tools.PlotlyDisplay object>"
      ]
     },
     "execution_count": 125,
     "metadata": {},
     "output_type": "execute_result"
    }
   ],
   "source": [
    "labels = lis_ind\n",
    "values = ms_wei\n",
    "\n",
    "trace = go.Pie(labels=labels, values=values, hole=.5, title = \"Max Sharpe Weights\")\n",
    "\n",
    "py.iplot([trace], filename='basic_pie_chart')"
   ]
  },
  {
   "cell_type": "markdown",
   "metadata": {},
   "source": [
    "## Time Series"
   ]
  },
  {
   "cell_type": "code",
   "execution_count": 126,
   "metadata": {},
   "outputs": [
    {
     "name": "stderr",
     "output_type": "stream",
     "text": [
      "/anaconda2/lib/python3.7/site-packages/IPython/core/display.py:689: UserWarning:\n",
      "\n",
      "Consider using IPython.display.IFrame instead\n",
      "\n"
     ]
    },
    {
     "data": {
      "text/html": [
       "<iframe id=\"igraph\" scrolling=\"no\" style=\"border:none;\" seamless=\"seamless\" src=\"https://plot.ly/~dianachav/24.embed\" height=\"525px\" width=\"100%\"></iframe>"
      ],
      "text/plain": [
       "<plotly.tools.PlotlyDisplay object>"
      ]
     },
     "execution_count": 126,
     "metadata": {},
     "output_type": "execute_result"
    }
   ],
   "source": [
    "irr_1 = go.Scatter(x=y_tir, y=irr_df['Chemical/Materials'], name = 'Chemical Material', line = dict(color = \"skyblue\"),\n",
    "                   opacity = 0.8)\n",
    "irr_2 = go.Scatter(x=y_tir, y=irr_df['Consumer/Retail'], name = 'Consumer Retail', line = dict(color = \"deepskyblue\"),\n",
    "                   opacity = 0.8)\n",
    "irr_3 = go.Scatter(x=y_tir, y=irr_df['Electronics'], name = 'Electronics', line = dict(color = \"aliceblue\"),\n",
    "                   opacity = 0.8)\n",
    "irr_4 = go.Scatter(x=y_tir, y=irr_df['Energy'], name = 'Energy', line = dict(color = \"cadetblue\"),\n",
    "                   opacity = 0.8)\n",
    "irr_5 = go.Scatter(x=y_tir, y=irr_df['Environmental'], name = 'Environmental', line = dict(color = \"steelblue\"),\n",
    "                   opacity = 0.8)\n",
    "irr_6 = go.Scatter(x=y_tir, y=irr_df['Financial Services'], name = 'Financial Services', line = dict(color = \"lightskyblue\"),\n",
    "                   opacity = 0.8)\n",
    "irr_7 = go.Scatter(x=y_tir, y=irr_df['Hardware/Systems'], name = 'Hardware Systems', line = dict(color = \"darkturquoise\"),\n",
    "                   opacity = 0.8)\n",
    "irr_8 = go.Scatter(x=y_tir, y=irr_df['HealthCare/Biotech'], name = 'HealthCare Biotech', line = dict(color = \"darkblue\"),\n",
    "                   opacity = 0.8)\n",
    "irr_9 = go.Scatter(x=y_tir, y=irr_df['Industrial'], name = 'Idustrial', line = dict(color = \"powderblue\"),\n",
    "                   opacity = 0.8)\n",
    "irr_10 = go.Scatter(x=y_tir, y=irr_df['Information Technology'], name = 'Information Technology', line = dict(color = \"darkcyan\"),\n",
    "                   opacity = 0.8)\n",
    "irr_11 = go.Scatter(x=y_tir, y=irr_df['Manufacturing'], name = 'Manufacturing', line = dict(color = \"midnightblue\"),\n",
    "                   opacity = 0.8)\n",
    "irr_12 = go.Scatter(x=y_tir, y=irr_df['Media/Communications'], name = 'Media Communications', line = dict(color = \"navy\"),\n",
    "                   opacity = 0.8)\n",
    "irr_13 = go.Scatter(x=y_tir, y=irr_df['Software/Services'], name = 'Software Services', line = dict(color = \"lightblue\"),\n",
    "                   opacity = 0.8)\n",
    "\n",
    "\n",
    "data = [irr_1,irr_2,irr_3,irr_4,irr_5,irr_6,irr_7,irr_8,irr_9,irr_10,irr_11,irr_12,irr_13]\n",
    "\n",
    "layout = dict(title = \"IRR Max Sharpe Weights 2009-2019\")\n",
    "\n",
    "\n",
    "fig = dict(data=data, layout=layout)\n",
    "py.iplot(fig, filename = \"IRR Max Sharpe Weights 2009-2019\")"
   ]
  },
  {
   "cell_type": "markdown",
   "metadata": {},
   "source": [
    "# Capital de Riesgo"
   ]
  },
  {
   "cell_type": "markdown",
   "metadata": {},
   "source": [
    "## Import Package"
   ]
  },
  {
   "cell_type": "code",
   "execution_count": null,
   "metadata": {},
   "outputs": [],
   "source": [
    "rtns_anuales = pd.read_csv('https://raw.githubusercontent.com/Dianachav/PAP_Spring_19/master/BD%20Capital%20de%20Riesgo/rtnsanuales-q42017.csv') #vc annual returns\n",
    "rend_merc = pd.read_csv('https://raw.githubusercontent.com/Dianachav/PAP_Spring_19/master/BD%20Capital%20de%20Riesgo/Rend_merc1.csv') #market return(Dow Jones)\n",
    "oneytr = pd.read_csv('https://raw.githubusercontent.com/Dianachav/PAP_Spring_19/master/BD%20Capital%20de%20Riesgo/1YTR.csv') #year treasury rate\n",
    "mi = pd.read_csv('https://raw.githubusercontent.com/Dianachav/PAP_Spring_19/master/BD%20Capital%20de%20Riesgo/med_des.csv') # vc volatility \n",
    "n_f = pd.read_csv('https://raw.githubusercontent.com/Dianachav/PAP_Spring_19/master/BD%20Capital%20de%20Riesgo/n_f.csv') #cv data (number of funds)\n",
    "nvo2 = pd.read_csv('https://raw.githubusercontent.com/Dianachav/PAP_Spring_19/master/BD%20Capital%20de%20Riesgo/med_des.csv')\n",
    "#ren_xm = pd.read_csv('https://raw.githubusercontent.com/Dianachav/PAP_Spring_19/master/BD%20Capital%20de%20Riesgo/DpS2018q1.csv')\n",
    "irr = pd.read_csv('https://raw.githubusercontent.com/Dianachav/PAP_Spring_19/master/BD%20Capital%20de%20Riesgo/IRR_CwPM.csv') #internal rate of return\n",
    "irr2 = pd.read_csv('https://raw.githubusercontent.com/Dianachav/PAP_Spring_19/master/BD%20Capital%20de%20Riesgo/IRR_2.csv')"
   ]
  },
  {
   "cell_type": "markdown",
   "metadata": {},
   "source": [
    "# Performance Measures"
   ]
  },
  {
   "cell_type": "markdown",
   "metadata": {},
   "source": [
    "## Return on Investment"
   ]
  },
  {
   "cell_type": "code",
   "execution_count": null,
   "metadata": {},
   "outputs": [],
   "source": [
    "dfr = rtns_anuales #annual returns of venture capital funds\n",
    "dfr.index.name = 'VC' #name of the dataframe index\n",
    "dfr"
   ]
  },
  {
   "cell_type": "code",
   "execution_count": null,
   "metadata": {},
   "outputs": [],
   "source": [
    "ds_r = dfr['Annualized return']"
   ]
  },
  {
   "cell_type": "markdown",
   "metadata": {},
   "source": [
    "## Expected Value of Return"
   ]
  },
  {
   "cell_type": "code",
   "execution_count": null,
   "metadata": {},
   "outputs": [],
   "source": [
    "ds_m = dfr['Annualized return'].mean() #average annual returns  \n",
    "ds_m"
   ]
  },
  {
   "cell_type": "markdown",
   "metadata": {},
   "source": [
    "## Volatility"
   ]
  },
  {
   "cell_type": "code",
   "execution_count": null,
   "metadata": {},
   "outputs": [],
   "source": [
    "ds_ds = dfr['Annualized STD'].mean() #Average annual volatility\n",
    "ds_ds"
   ]
  },
  {
   "cell_type": "markdown",
   "metadata": {},
   "source": [
    "## Sharpe index"
   ]
  },
  {
   "cell_type": "code",
   "execution_count": null,
   "metadata": {},
   "outputs": [],
   "source": [
    "One_Year_Treasury_Bill_Rate = 2.25 #the annual treasury rate  \n",
    "OYTBR = One_Year_Treasury_Bill_Rate\n",
    "OYTBR1 = One_Year_Treasury_Bill_Rate / 100\n",
    "Sharpe = ( ds_m - OYTBR ) / ds_ds #sharpe index calculation\n",
    "Sharpe #sharpe index for the period of 20 years"
   ]
  },
  {
   "cell_type": "markdown",
   "metadata": {},
   "source": [
    "##$ M^2$ index"
   ]
  },
  {
   "cell_type": "code",
   "execution_count": null,
   "metadata": {},
   "outputs": [],
   "source": [
    "rm = rend_merc #market return, in this case it was used the Dow jones index as a market\n",
    "rm.index.name = 'Dow Jones'\n",
    "rm"
   ]
  },
  {
   "cell_type": "code",
   "execution_count": null,
   "metadata": {},
   "outputs": [],
   "source": [
    "\n",
    "rmm = rm['Rendimiento anual (%)'].mean() #avarage market return\n",
    "rmd = rm['Rendimiento anual (%)'] #annual market return\n",
    "rmds = rmd.std() #market return volatility \n",
    "rp = OYTBR*(1-(rmds/ds_ds)) + ds_m*(rmds/ds_ds) #portfolio performance adjusted to risk\n",
    "M = rp - rmm #m squared calculation for all the period time\n",
    "M"
   ]
  },
  {
   "cell_type": "markdown",
   "metadata": {},
   "source": [
    "## Individual Measurements"
   ]
  },
  {
   "cell_type": "code",
   "execution_count": null,
   "metadata": {},
   "outputs": [],
   "source": [
    "oneytr #year treasury rate since 1996 till 2016"
   ]
  },
  {
   "cell_type": "code",
   "execution_count": null,
   "metadata": {},
   "outputs": [],
   "source": [
    "ren_an = mi['Rendimiento %'] #vc annualized return\n",
    "tlr = oneytr['1_Year_Treasury_Rate_(%)'] #year treasury rate\n",
    "std_p = mi['Volatilidad (%)'] #vc annualized volatility\n",
    "std_mer = rm['Rendimiento anual (%)'] #market annual return\n",
    "ren_p = mi['Rendimiento %'] #vc returns"
   ]
  },
  {
   "cell_type": "code",
   "execution_count": null,
   "metadata": {},
   "outputs": [],
   "source": [
    "#sharpe calculation for each year\n",
    "sharpevc = []\n",
    "for i in range(21):\n",
    "    sharpevc.append((ren_an[i]-tlr[i])/std_p[i])"
   ]
  },
  {
   "cell_type": "code",
   "execution_count": null,
   "metadata": {},
   "outputs": [],
   "source": [
    "#m square calculation for each yaer\n",
    "rp_m2 = []\n",
    "for i in range (21):\n",
    "    mm2 = (tlr[i] * (1-(std_mer[i]/std_p[i]))) + (ren_p[i] * (std_mer[i]/std_p[i]))\n",
    "    rp_m2.append(mm2)"
   ]
  },
  {
   "cell_type": "code",
   "execution_count": null,
   "metadata": {},
   "outputs": [],
   "source": [
    "#m square calculation for each yaer\n",
    "m2vc = []\n",
    "for i in range (21):\n",
    "    m2 = (rp_m2[i] - std_mer[i])\n",
    "    m2vc.append(m2)\n",
    "  \n",
    "\n"
   ]
  },
  {
   "cell_type": "code",
   "execution_count": null,
   "metadata": {},
   "outputs": [],
   "source": [
    "lista = []\n",
    "for i in range(1995,2016):\n",
    "    lista.append(1+i)\n",
    "\n"
   ]
  },
  {
   "cell_type": "code",
   "execution_count": null,
   "metadata": {},
   "outputs": [],
   "source": [
    "#dataframe creating for heat map\n",
    "vc_pd = pd.DataFrame(columns = ['Año','VC en operación','Rendimiento %','Volatilidad %','Sharpe','M^2']) \n",
    "vc_pd['Año'] = mi['Año']\n",
    "#vc_pd.set_index('Año',inplace=True)\n",
    "vc_pd['VC en operación'] = mi['VC en operación']\n",
    "vc_pd['Rendimiento %'] = mi['Rendimiento %']\n",
    "vc_pd['Volatilidad %'] = mi['Volatilidad (%)']\n",
    "vc_pd.fillna(\"-\")\n",
    "vc_n = vc_pd.drop(21)\n",
    "vc_n2 = vc_n.drop(22)\n",
    "vc_n2['Sharpe'] = sharpevc\n",
    "vc_n2['M^2'] = m2vc\n",
    "vc_n2"
   ]
  },
  {
   "cell_type": "code",
   "execution_count": null,
   "metadata": {},
   "outputs": [],
   "source": []
  },
  {
   "cell_type": "markdown",
   "metadata": {},
   "source": [
    "## Internal Rate of Return (IRR)"
   ]
  },
  {
   "cell_type": "code",
   "execution_count": null,
   "metadata": {},
   "outputs": [],
   "source": [
    "#Internal rate of return by sector \n",
    "irr"
   ]
  },
  {
   "cell_type": "code",
   "execution_count": null,
   "metadata": {},
   "outputs": [],
   "source": [
    "type(irr['CA_Benchmark_IRR'][1])"
   ]
  },
  {
   "cell_type": "markdown",
   "metadata": {},
   "source": [
    "# Plots"
   ]
  },
  {
   "cell_type": "markdown",
   "metadata": {},
   "source": [
    "## Plot #1 Return through the years"
   ]
  },
  {
   "cell_type": "code",
   "execution_count": null,
   "metadata": {},
   "outputs": [],
   "source": [
    "n_f.plot.scatter('Years', 'Return', s=n_f.Funds)"
   ]
  },
  {
   "cell_type": "markdown",
   "metadata": {},
   "source": [
    "#### The previous graph shows the return through the years from 1996 to 2016 of risk capital (VC) depending on the number of venture capital funds, the larger the number of venture capital funds the greater the reflected spot.\n",
    "\n",
    "Variables to use:\n",
    "\n",
    "\n",
    "1.   Returns\n",
    "2.   Years\n",
    "3.   VC funds\n",
    "\n",
    "\n",
    "\n",
    "\n",
    "> *Return:  percentage*\n",
    "\n",
    "\n",
    "> *Years:  total period of time*\n",
    "\n",
    "\n",
    "> *VC funds:  number of funds according to year *\n",
    "\n",
    "\n",
    "Considering 20 years since 1996 till 2016"
   ]
  },
  {
   "cell_type": "markdown",
   "metadata": {},
   "source": [
    "## Plot #2 Heat map Performance Measures\n",
    "\n"
   ]
  },
  {
   "cell_type": "code",
   "execution_count": null,
   "metadata": {},
   "outputs": [],
   "source": [
    "a_vc = []\n",
    "for i in range(1995,2016):\n",
    "    a_vc.append(1+i)"
   ]
  },
  {
   "cell_type": "code",
   "execution_count": null,
   "metadata": {},
   "outputs": [],
   "source": [
    "nvc_n2 = pd.DataFrame(columns = ['Rendimiento %','Volatilidad %','Sharpe','M^2'])\n",
    "nvc_n2['Rendimiento %'] = vc_n2['Rendimiento %']\n",
    "nvc_n2['Volatilidad %'] = vc_n2['Volatilidad %']\n",
    "nvc_n2['Sharpe'] = vc_n2['Sharpe']\n",
    "nvc_n2['M^2'] = vc_n2['M^2']\n",
    "\n",
    "#dfr1 = dfr2.drop(columns = ['Years'])\n",
    "#dfr1 = dfr1.fillna(0)"
   ]
  },
  {
   "cell_type": "code",
   "execution_count": null,
   "metadata": {},
   "outputs": [],
   "source": [
    "vegetables =a_vc\n",
    "farmers = [\"Returns\", \"Volatility\",\"Sharpe\",\"M^2\"]\n",
    "\n",
    "harvest = np.array([nvc_n2.iloc[0],nvc_n2.iloc[1],nvc_n2.iloc[2],nvc_n2.iloc[3],nvc_n2.iloc[4],\n",
    "                   nvc_n2.iloc[5],nvc_n2.iloc[6],nvc_n2.iloc[7],nvc_n2.iloc[8],nvc_n2.iloc[9],\n",
    "                   nvc_n2.iloc[10],nvc_n2.iloc[11],nvc_n2.iloc[12],nvc_n2.iloc[13],nvc_n2.iloc[14],\n",
    "                   nvc_n2.iloc[15],nvc_n2.iloc[16],nvc_n2.iloc[17],nvc_n2.iloc[18],nvc_n2.iloc[19]])"
   ]
  },
  {
   "cell_type": "code",
   "execution_count": null,
   "metadata": {},
   "outputs": [],
   "source": [
    "vegetables =a_vc\n",
    "farmers = [\"Returns\", \"Volatility\",\"Sharpe\",\"M^2\"]\n",
    "\n",
    "harvest = np.array([nvc_n2.iloc[0],nvc_n2.iloc[1],nvc_n2.iloc[2],nvc_n2.iloc[3],nvc_n2.iloc[4],\n",
    "                   nvc_n2.iloc[5],nvc_n2.iloc[6],nvc_n2.iloc[7],nvc_n2.iloc[8],nvc_n2.iloc[9],\n",
    "                   nvc_n2.iloc[10],nvc_n2.iloc[11],nvc_n2.iloc[12],nvc_n2.iloc[13],nvc_n2.iloc[14],\n",
    "                   nvc_n2.iloc[15],nvc_n2.iloc[16],nvc_n2.iloc[17],nvc_n2.iloc[18],nvc_n2.iloc[19]])"
   ]
  },
  {
   "cell_type": "code",
   "execution_count": null,
   "metadata": {},
   "outputs": [],
   "source": [
    "fig, ax = plt.subplots(figsize=(15,15))\n",
    "\n",
    "im, cbar = heatmap(harvest, vegetables, farmers, ax=ax,\n",
    "                   cmap=\"PuBuGn\", cbarlabel=\"MAD by year\")\n",
    "texts = annotate_heatmap(im)\n",
    "\n",
    "fig.tight_layout()\n",
    "plt.show()"
   ]
  },
  {
   "cell_type": "markdown",
   "metadata": {},
   "source": [
    "#### The previous plot show all the perfomance measures together through the years. It is a good way to be able to compare the different measures according to the corresponding year.\n",
    "\n",
    "Variables to use:\n",
    "\n",
    "1.   Return\n",
    "2.   Volatility\n",
    "3.   Sharpe index\n",
    "4.   $ M^2$ index\n",
    "\n",
    "\n",
    "\n",
    "> *Note: All data is annualized*\n",
    "\n",
    "\n",
    "\n"
   ]
  },
  {
   "cell_type": "markdown",
   "metadata": {},
   "source": [
    "## Plot #3 Returns and Volatility through the years"
   ]
  },
  {
   "cell_type": "code",
   "execution_count": null,
   "metadata": {},
   "outputs": [],
   "source": [
    "mi_i = nvo2.drop(22)\n",
    "mi_j = mi_i.drop(21)\n",
    "mij = pd.DataFrame( columns = ['Rendimiento %','Volatilidad %'])\n",
    "mij['Rendimiento %'] = mi_j['Rendimiento %']\n",
    "mij['Volatilidad %'] = mi_j['Volatilidad (%)']\n",
    "mij2 = mi_j.drop(columns = ['Volatilidad (%)'])\n",
    "mi_j3 = mij2.drop(columns = ['VC en operación'])"
   ]
  },
  {
   "cell_type": "code",
   "execution_count": null,
   "metadata": {},
   "outputs": [],
   "source": [
    "k = nvo2.drop(columns = ['VC en operación'])\n",
    "kk = k.drop(22)\n",
    "ki = kk.drop(21)"
   ]
  },
  {
   "cell_type": "code",
   "execution_count": null,
   "metadata": {},
   "outputs": [],
   "source": [
    "heatmap1_data = pd.pivot_table(ki, values=None, \n",
    "                     index=['Año'], \n",
    "                     columns=None) "
   ]
  },
  {
   "cell_type": "code",
   "execution_count": null,
   "metadata": {},
   "outputs": [],
   "source": [
    "sns.heatmap(heatmap1_data, cmap=\"YlOrRd\")\n",
    "\n"
   ]
  },
  {
   "cell_type": "markdown",
   "metadata": {},
   "source": [
    "#### The previous plot compare the annualized return with the annualized volatility of each year. Being a heat map shows the best performance.\n",
    "\n",
    "Variables to use:\n",
    "\n",
    "\n",
    "\n",
    "1.   *Volatility: annualized*\n",
    "2.  *Return: annualized*\n",
    "3.  *Years*\n",
    "\n"
   ]
  },
  {
   "cell_type": "markdown",
   "metadata": {},
   "source": [
    "## Plot #4 Heat map: Returns through the Years"
   ]
  },
  {
   "cell_type": "code",
   "execution_count": null,
   "metadata": {},
   "outputs": [],
   "source": [
    "rtns_anuales1 = pd.read_csv('https://raw.githubusercontent.com/Dianachav/PAP_Spring_19/master/BD%20Capital%20de%20Riesgo/rtb_an_cdr.csv')\n",
    "dfr2 = rtns_anuales1.drop(columns = ['Years'])\n",
    "dfr2.index.name = 'VC'\n",
    "\n"
   ]
  },
  {
   "cell_type": "markdown",
   "metadata": {},
   "source": [
    "dff = mi_j3\n",
    "heatmap2_data = pd.pivot_table(dff,values=None, index=['Año'])\n",
    "heatmap2_data.head(n=25)\n",
    "sns.heatmap(heatmap2_data, cmap=\"viridis\")"
   ]
  },
  {
   "cell_type": "markdown",
   "metadata": {},
   "source": [
    "#### The previous plot shows the annualized returns of VC funds through the years.\n",
    "\n",
    "Variables to use:\n",
    "\n",
    "1.   *Years*\n",
    "2.  *Returns*\n",
    "\n",
    "> *Considering 20 years since 1996 till 2016*\n",
    "\n",
    "\n"
   ]
  },
  {
   "cell_type": "markdown",
   "metadata": {},
   "source": [
    "## Plot #5 Annualized volatility vs Annualized return"
   ]
  },
  {
   "cell_type": "code",
   "execution_count": null,
   "metadata": {},
   "outputs": [],
   "source": [
    "df3 = mi_j[['Rendimiento %','Volatilidad (%)']]\n",
    "heatmap3_data = pd.pivot_table(df3,values=None, index=['Rendimiento %'], columns=None)\n",
    "heatmap3_data.head(n=25)\n",
    "sns.heatmap(heatmap3_data, cmap=\"GnBu\")"
   ]
  },
  {
   "cell_type": "markdown",
   "metadata": {},
   "source": [
    "#### The previous plot shows the annualized volatility and annualized returns of VC funds through the years.\n",
    "\n",
    "Variables to use:\n",
    "\n",
    "\n",
    "1.   *Returns*\n",
    "2.   *Volatility*\n",
    "\n",
    "\n",
    "\n",
    "> *Considering 20 years since 1996 till 2016*"
   ]
  },
  {
   "cell_type": "markdown",
   "metadata": {},
   "source": [
    "## Plot #6 Heat map by Market Sectors"
   ]
  },
  {
   "cell_type": "code",
   "execution_count": null,
   "metadata": {},
   "outputs": [],
   "source": [
    "a_vc2 = []\n",
    "for i in range(2007,2016):\n",
    "    a_vc2.append(1+i)\n",
    "a_vc2"
   ]
  },
  {
   "cell_type": "code",
   "execution_count": null,
   "metadata": {},
   "outputs": [],
   "source": [
    "a_vc2 = []\n",
    "for i in range(2007,2016):\n",
    "    a_vc2.append(1+i)\n",
    "a_vc2"
   ]
  },
  {
   "cell_type": "code",
   "execution_count": null,
   "metadata": {},
   "outputs": [],
   "source": [
    "#List of industries\n",
    "\n",
    "lis_ind = ['Chemical/Materials', 'Consumer/Retail','Electronics', 'Energy','Environmental',\n",
    "            'Financial Services' , 'Hardware/Systems', 'HealthCare/Biotech', 'Industrial',\n",
    "            'Information Technology', 'Manufacturing','Media/Communications','Software/Services']"
   ]
  },
  {
   "cell_type": "code",
   "execution_count": null,
   "metadata": {},
   "outputs": [],
   "source": [
    "nvc_n3 = pd.read_csv('https://raw.githubusercontent.com/Dianachav/PAP_Spring_19/master/BD%20Capital%20de%20Riesgo/TIR_Sectores.csv')"
   ]
  },
  {
   "cell_type": "code",
   "execution_count": null,
   "metadata": {},
   "outputs": [],
   "source": [
    "nvc_n3 = nvc_n3.drop(columns = ['NUMBER OF COMPANIES']) #Delete unnecessary columns\n",
    "nvc_n3 = nvc_n3.set_index('Year')\n",
    "nvc_n3"
   ]
  },
  {
   "cell_type": "code",
   "execution_count": null,
   "metadata": {},
   "outputs": [],
   "source": [
    "years =a_vc2\n",
    "MAD = lis_ind\n",
    "\n",
    "datas = np.array([nvc_n3.loc[2008],nvc_n3.loc[2009],nvc_n3.loc[2010],\n",
    "                   nvc_n3.loc[2011],nvc_n3.loc[2012],nvc_n3.loc[2013],nvc_n3.loc[2014],nvc_n3.loc[2015],\n",
    "                   nvc_n3.loc[2016]])"
   ]
  },
  {
   "cell_type": "code",
   "execution_count": null,
   "metadata": {},
   "outputs": [],
   "source": [
    "fig, ax = plt.subplots(figsize=(15,15))\n",
    "\n",
    "im, cbar = heatmap(datas, years, MAD, ax=ax,\n",
    "                   cmap=\"Blues\", cbarlabel=\"MAD by year\")\n",
    "texts = annotate_heatmap(im)\n",
    "\n",
    "fig.tight_layout()\n",
    "plt.show()"
   ]
  },
  {
   "cell_type": "markdown",
   "metadata": {},
   "source": [
    "# Equity Capital VS Venture Capital"
   ]
  },
  {
   "cell_type": "markdown",
   "metadata": {},
   "source": [
    "## Performance Evaluation:"
   ]
  },
  {
   "cell_type": "code",
   "execution_count": null,
   "metadata": {},
   "outputs": [],
   "source": [
    "import plotly \n",
    "plotly.tools.set_credentials_file(username='jazerape', api_key='1xEMmZcBSEn2Yj4NhYxD')"
   ]
  },
  {
   "cell_type": "code",
   "execution_count": null,
   "metadata": {},
   "outputs": [],
   "source": [
    "import plotly.plotly as py\n",
    "import plotly.graph_objs as go\n",
    "rend_port\n",
    "my_formatted_rend_port = [ '%.2f' % elem for elem in rend_port ]\n",
    "my_formatted_risk_ew = [ '%.2f' % elem for elem in risk_ew ]\n",
    "my_formatted_sharpe_ew = [ '%.2f' % elem for elem in sharpe_ew ]\n",
    "my_formatted_mc_ew = [ '%.2f' % elem for elem in mc_ew ]\n",
    "\n",
    "title = 'Performance valuation of the portfolio with equal weights'\n",
    "\n",
    "labels = ['Return ew', 'Risk ew', 'Sharpe ew', '$m^2$ ew']\n",
    "\n",
    "colors = ['pink', 'blue', 'orange', 'red']\n",
    "\n",
    "mode_size = [10, 10, 10, 10]\n",
    "\n",
    "line_size = [4, 4, 4, 4]\n",
    "\n",
    "x_data = [years_m,years_m,years_m,years_m]\n",
    "\n",
    "y_data = [my_formatted_rend_port,my_formatted_risk_ew,my_formatted_sharpe_ew,mc_ew]\n",
    "\n",
    "traces = []\n",
    "\n",
    "for i in range(0, 4):\n",
    "    traces.append(go.Scatter(\n",
    "        x=x_data[i],\n",
    "        y=y_data[i],\n",
    "        mode='lines',\n",
    "        line=dict(color=colors[i], width=line_size[i]),\n",
    "        connectgaps=True,\n",
    "    ))\n",
    "\n",
    "    traces.append(go.Scatter(\n",
    "        x=[x_data[i][0], x_data[i][11]],\n",
    "        y=[y_data[i][0], y_data[i][11]],\n",
    "        mode='markers',\n",
    "        marker=dict(color=colors[i], size=mode_size[i])\n",
    "    ))\n",
    "\n",
    "layout = go.Layout(\n",
    "    xaxis=dict(\n",
    "        showline=True,\n",
    "        showgrid=False,\n",
    "        showticklabels=True,\n",
    "        linecolor='rgb(204, 204, 204)',\n",
    "        linewidth=2,\n",
    "        ticks='outside',\n",
    "        tickcolor='rgb(204, 204, 204)',\n",
    "        tickwidth=2,\n",
    "        ticklen=5,\n",
    "        tickfont=dict(\n",
    "            family='Arial',\n",
    "            size=12,\n",
    "            color='rgb(82, 82, 82)',\n",
    "        ),\n",
    "    ),\n",
    "    yaxis=dict(\n",
    "        showgrid=False,\n",
    "        zeroline=False,\n",
    "        showline=False,\n",
    "        showticklabels=False,\n",
    "    ),\n",
    "    autosize=False,\n",
    "    margin=dict(\n",
    "        autoexpand=False,\n",
    "        l=100,\n",
    "        r=20,\n",
    "        t=110,\n",
    "    ),\n",
    "    showlegend=False\n",
    ")\n",
    "\n",
    "annotations = []\n",
    "\n",
    "# Adding labels\n",
    "for y_trace, label, color in zip(y_data, labels, colors):\n",
    "    # labeling the left_side of the plot\n",
    "    annotations.append(dict(xref='paper', x=0.05, y=y_trace[0],\n",
    "                                  xanchor='right', yanchor='middle',\n",
    "                                  text=label + ' {}%'.format(y_trace[0]),\n",
    "                                  font=dict(family='Arial',\n",
    "                                            size=16),\n",
    "                                  showarrow=False))\n",
    "    # labeling the right_side of the plot\n",
    "    annotations.append(dict(xref='paper', x=0.95, y=y_trace[11],\n",
    "                                  xanchor='left', yanchor='middle',\n",
    "                                  text='{}%'.format(y_trace[11]),\n",
    "                                  font=dict(family='Arial',\n",
    "                                            size=16),\n",
    "                                  showarrow=False))\n",
    "# Title\n",
    "annotations.append(dict(xref='paper', yref='paper', x=0.0, y=1.05,\n",
    "                              xanchor='left', yanchor='bottom',\n",
    "                              text='Performance evaluation of the portfolio with equal weights',\n",
    "                              font=dict(family='Arial',\n",
    "                                        size=30,\n",
    "                                        color='rgb(37,37,37)'),\n",
    "                              showarrow=False))\n",
    "# Source\n",
    "annotations.append(dict(xref='paper', yref='paper', x=0.5, y=-0.1,\n",
    "                              xanchor='center', yanchor='top',\n",
    "                              text='Source: PewResearch Center & ' +\n",
    "                                   'Storytelling with data',\n",
    "                              font=dict(family='Arial',\n",
    "                                        size=12,\n",
    "                                        color='rgb(150,150,150)'),\n",
    "                              showarrow=False))\n",
    "\n",
    "layout['annotations'] = annotations\n",
    "\n",
    "fig = go.Figure(data=traces, layout=layout)\n",
    "py.iplot(fig, filename='news-source')"
   ]
  },
  {
   "cell_type": "code",
   "execution_count": null,
   "metadata": {},
   "outputs": [],
   "source": [
    "my_formatted_rend_port2 = [ '%.2f' % elem for elem in rend_port2 ]\n",
    "my_formatted_risk_pv = [ '%.2f' % elem for elem in risk_pv ]\n",
    "my_formatted_sharpe_pv = [ '%.2f' % elem for elem in sharpe_pv ]\n",
    "my_formatted_mc_pv = [ '%.2f' % elem for elem in mc_pv ]\n",
    "\n",
    "title = 'Performance of the portfolio using the weights-min-variance'\n",
    "\n",
    "labels = ['Return mv', 'Risk mv', 'Sharpe mv', '$m^2$ mv']\n",
    "\n",
    "colors = ['pink', 'blue', 'orange', 'red']\n",
    "\n",
    "mode_size = [10, 10, 12, 10]\n",
    "\n",
    "line_size = [4, 4, 4, 4]\n",
    "\n",
    "x_data = [years_m,years_m,years_m,years_m]\n",
    "\n",
    "y_data = [my_formatted_rend_port2,my_formatted_risk_pv,my_formatted_sharpe_pv,mc_pv]\n",
    "\n",
    "traces = []\n",
    "\n",
    "for i in range(0, 4):\n",
    "    traces.append(go.Scatter(\n",
    "        x=x_data[i],\n",
    "        y=y_data[i],\n",
    "        mode='lines',\n",
    "        line=dict(color=colors[i], width=line_size[i]),\n",
    "        connectgaps=True,\n",
    "    ))\n",
    "\n",
    "    traces.append(go.Scatter(\n",
    "        x=[x_data[i][0], x_data[i][11]],\n",
    "        y=[y_data[i][0], y_data[i][11]],\n",
    "        mode='markers',\n",
    "        marker=dict(color=colors[i], size=mode_size[i])\n",
    "    ))\n",
    "\n",
    "layout = go.Layout(\n",
    "    xaxis=dict(\n",
    "        showline=True,\n",
    "        showgrid=False,\n",
    "        showticklabels=True,\n",
    "        linecolor='rgb(204, 204, 204)',\n",
    "        linewidth=2,\n",
    "        ticks='outside',\n",
    "        tickcolor='rgb(204, 204, 204)',\n",
    "        tickwidth=2,\n",
    "        ticklen=5,\n",
    "        tickfont=dict(\n",
    "            family='Arial',\n",
    "            size=12,\n",
    "            color='rgb(82, 82, 82)',\n",
    "        ),\n",
    "    ),\n",
    "    yaxis=dict(\n",
    "        showgrid=False,\n",
    "        zeroline=False,\n",
    "        showline=False,\n",
    "        showticklabels=False,\n",
    "    ),\n",
    "    autosize=False,\n",
    "    margin=dict(\n",
    "        autoexpand=False,\n",
    "        l=100,\n",
    "        r=20,\n",
    "        t=110,\n",
    "    ),\n",
    "    showlegend=False\n",
    ")\n",
    "\n",
    "annotations = []\n",
    "\n",
    "# Adding labels\n",
    "for y_trace, label, color in zip(y_data, labels, colors):\n",
    "    # labeling the left_side of the plot\n",
    "    annotations.append(dict(xref='paper', x=0.05, y=y_trace[0],\n",
    "                                  xanchor='right', yanchor='middle',\n",
    "                                  text=label + ' {}%'.format(y_trace[0]),\n",
    "                                  font=dict(family='Arial',\n",
    "                                            size=16),\n",
    "                                  showarrow=False))\n",
    "    # labeling the right_side of the plot\n",
    "    annotations.append(dict(xref='paper', x=0.95, y=y_trace[11],\n",
    "                                  xanchor='left', yanchor='middle',\n",
    "                                  text='{}%'.format(y_trace[11]),\n",
    "                                  font=dict(family='Arial',\n",
    "                                            size=16),\n",
    "                                  showarrow=False))\n",
    "# Title\n",
    "annotations.append(dict(xref='paper', yref='paper', x=0.0, y=1.05,\n",
    "                              xanchor='left', yanchor='bottom',\n",
    "                              text='Performance of the portfolio using the weights-min-variance',\n",
    "                              font=dict(family='Arial',\n",
    "                                        size=30,\n",
    "                                        color='rgb(37,37,37)'),\n",
    "                              showarrow=False))\n",
    "# Source\n",
    "annotations.append(dict(xref='paper', yref='paper', x=0.5, y=-0.1,\n",
    "                              xanchor='center', yanchor='top',\n",
    "                              text='Source: PewResearch Center & ' +\n",
    "                                   'Storytelling with data',\n",
    "                              font=dict(family='Arial',\n",
    "                                        size=12,\n",
    "                                        color='rgb(150,150,150)'),\n",
    "                              showarrow=False))\n",
    "\n",
    "layout['annotations'] = annotations\n",
    "\n",
    "fig = go.Figure(data=traces, layout=layout)\n",
    "py.iplot(fig, filename='news-source')"
   ]
  },
  {
   "cell_type": "code",
   "execution_count": null,
   "metadata": {},
   "outputs": [],
   "source": [
    "my_formatted_rend_port3 = [ '%.2f' % elem for elem in rend_port3 ]\n",
    "my_formatted_risk_ps = [ '%.2f' % elem for elem in risk_ps ]\n",
    "my_formatted_sharpe_ps = [ '%.2f' % elem for elem in sharpe_ps ]\n",
    "my_formatted_mc_ps = [ '%.2f' % elem for elem in mc_ps ]\n",
    "\n",
    "title = 'Performance of the portfolio using the weights-max-sharpe'\n",
    "\n",
    "labels = ['Return ms', 'Risk ms', 'Sharpe ms', '$m^2$ ms']\n",
    "\n",
    "colors = ['pink', 'blue', 'orange', 'red']\n",
    "\n",
    "mode_size = [10, 10, 10, 10]\n",
    "\n",
    "line_size = [4, 4, 4, 4]\n",
    "\n",
    "x_data = [years_m,years_m,years_m,years_m]\n",
    "\n",
    "y_data = [my_formatted_rend_port3,my_formatted_risk_ps,my_formatted_sharpe_ps,mc_ps]\n",
    "\n",
    "traces = []\n",
    "\n",
    "for i in range(0, 4):\n",
    "    traces.append(go.Scatter(\n",
    "        x=x_data[i],\n",
    "        y=y_data[i],\n",
    "        mode='lines',\n",
    "        line=dict(color=colors[i], width=line_size[i]),\n",
    "        connectgaps=True,\n",
    "    ))\n",
    "\n",
    "    traces.append(go.Scatter(\n",
    "        x=[x_data[i][0], x_data[i][11]],\n",
    "        y=[y_data[i][0], y_data[i][11]],\n",
    "        mode='markers',\n",
    "        marker=dict(color=colors[i], size=mode_size[i])\n",
    "    ))\n",
    "\n",
    "layout = go.Layout(\n",
    "    xaxis=dict(\n",
    "        showline=True,\n",
    "        showgrid=False,\n",
    "        showticklabels=True,\n",
    "        linecolor='rgb(204, 204, 204)',\n",
    "        linewidth=2,\n",
    "        ticks='outside',\n",
    "        tickcolor='rgb(204, 204, 204)',\n",
    "        tickwidth=2,\n",
    "        ticklen=5,\n",
    "        tickfont=dict(\n",
    "            family='Arial',\n",
    "            size=12,\n",
    "            color='rgb(82, 82, 82)',\n",
    "        ),\n",
    "    ),\n",
    "    yaxis=dict(\n",
    "        showgrid=False,\n",
    "        zeroline=False,\n",
    "        showline=False,\n",
    "        showticklabels=False,\n",
    "    ),\n",
    "    autosize=False,\n",
    "    margin=dict(\n",
    "        autoexpand=False,\n",
    "        l=100,\n",
    "        r=20,\n",
    "        t=110,\n",
    "    ),\n",
    "    showlegend=False\n",
    ")\n",
    "\n",
    "annotations = []\n",
    "\n",
    "# Adding labels\n",
    "for y_trace, label, color in zip(y_data, labels, colors):\n",
    "    # labeling the left_side of the plot\n",
    "    annotations.append(dict(xref='paper', x=0.05, y=y_trace[0],\n",
    "                                  xanchor='right', yanchor='middle',\n",
    "                                  text=label + ' {}%'.format(y_trace[0]),\n",
    "                                  font=dict(family='Arial',\n",
    "                                            size=16),\n",
    "                                  showarrow=False))\n",
    "    # labeling the right_side of the plot\n",
    "    annotations.append(dict(xref='paper', x=0.95, y=y_trace[11],\n",
    "                                  xanchor='left', yanchor='middle',\n",
    "                                  text='{}%'.format(y_trace[11]),\n",
    "                                  font=dict(family='Arial',\n",
    "                                            size=16),\n",
    "                                  showarrow=False))\n",
    "# Title\n",
    "annotations.append(dict(xref='paper', yref='paper', x=0.0, y=1.05,\n",
    "                              xanchor='left', yanchor='bottom',\n",
    "                              text='Performance of the portfolio using the weights-max-sharpe',\n",
    "                              font=dict(family='Arial',\n",
    "                                        size=30,\n",
    "                                        color='rgb(37,37,37)'),\n",
    "                              showarrow=False))\n",
    "# Source\n",
    "annotations.append(dict(xref='paper', yref='paper', x=0.5, y=-0.1,\n",
    "                              xanchor='center', yanchor='top',\n",
    "                              text='Source: PewResearch Center & ' +\n",
    "                                   'Storytelling with data',\n",
    "                              font=dict(family='Arial',\n",
    "                                        size=12,\n",
    "                                        color='rgb(150,150,150)'),\n",
    "                              showarrow=False))\n",
    "\n",
    "layout['annotations'] = annotations\n",
    "\n",
    "fig = go.Figure(data=traces, layout=layout)\n",
    "py.iplot(fig, filename='news-source')"
   ]
  },
  {
   "cell_type": "code",
   "execution_count": null,
   "metadata": {},
   "outputs": [],
   "source": []
  },
  {
   "cell_type": "code",
   "execution_count": null,
   "metadata": {},
   "outputs": [],
   "source": []
  },
  {
   "cell_type": "code",
   "execution_count": null,
   "metadata": {},
   "outputs": [],
   "source": []
  },
  {
   "cell_type": "code",
   "execution_count": null,
   "metadata": {},
   "outputs": [],
   "source": []
  }
 ],
 "metadata": {
  "hide_input": false,
  "kernelspec": {
   "display_name": "Python 3",
   "language": "python",
   "name": "python3"
  },
  "language_info": {
   "codemirror_mode": {
    "name": "ipython",
    "version": 3
   },
   "file_extension": ".py",
   "mimetype": "text/x-python",
   "name": "python",
   "nbconvert_exporter": "python",
   "pygments_lexer": "ipython3",
   "version": "3.7.3"
  }
 },
 "nbformat": 4,
 "nbformat_minor": 2
}
