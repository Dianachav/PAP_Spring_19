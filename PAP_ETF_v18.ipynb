{
 "cells": [
  {
   "cell_type": "code",
   "execution_count": 1,
   "metadata": {
    "collapsed": true
   },
   "outputs": [],
   "source": [
    "# Librerias\n",
    "import datetime\n",
    "from datetime import datetime\n",
    "import numpy as np\n",
    "import pandas as pd\n",
    "import scipy.stats as stats\n",
    "import matplotlib.pyplot as plt\n",
    "import random\n",
    "import time\n",
    "import locale\n",
    "%matplotlib inline\n",
    "import seaborn as sns\n",
    "import matplotlib\n",
    "import cvxopt as opt\n",
    "from cvxopt import blas, solvers\n",
    "import math\n",
    "np.random.seed(123)\n",
    "\n",
    "\n",
    "# Turn off progress printing \n",
    "solvers.options['show_progress'] = False"
   ]
  },
  {
   "cell_type": "code",
   "execution_count": null,
   "metadata": {
    "collapsed": true
   },
   "outputs": [],
   "source": []
  },
  {
   "cell_type": "markdown",
   "metadata": {},
   "source": [
    "___\n",
    "<img style=\"float: right; margin: 0px 0px 15px 15px;\" src=\"https://www.carrerasenlinea.mx/logos/original/logo-instituto-tecnologico-y-de-estudios-superiores-de-occidente.png\" width=\"150px\" height=\"100px\" />\n",
    "\n",
    "# Proyecto de Aplicación Profesional\n",
    "\n",
    "## Optimización De Programas de Inversión para Intermediarios Financieros\n",
    "\n",
    "\n",
    "\n",
    "### Integrantes:\n",
    "\n",
    "### - Jazmín Calderón\n",
    "### - Diana Chávez\n",
    "### - Juan Antonio Flores\n",
    "\n",
    "\n"
   ]
  },
  {
   "cell_type": "code",
   "execution_count": 2,
   "metadata": {
    "collapsed": true
   },
   "outputs": [],
   "source": [
    "lista = ['https://raw.githubusercontent.com/Dianachav/PAP_Spring_19/master/ETFS/iShares-Core-SP-500-ETF_fund.csv',\n",
    "         'https://raw.githubusercontent.com/Dianachav/PAP_Spring_19/master/ETFS/iShares-Core-SP-Mid-Cap-ETF_fund.csv', \n",
    "         'https://raw.githubusercontent.com/Dianachav/PAP_Spring_19/master/ETFS/iShares-Core-SP-Total-US-Stock-Market-ETF_fund.csv',\n",
    "         'https://raw.githubusercontent.com/Dianachav/PAP_Spring_19/master/ETFS/iShares-Expanded-Tech-Sector-ETF_fund.csv', #nuevo \n",
    "         'https://raw.githubusercontent.com/Dianachav/PAP_Spring_19/master/ETFS/iShares-Expanded-Tech-Software-Sector-ETF_fund.csv', #nuevo\n",
    "         'https://raw.githubusercontent.com/Dianachav/PAP_Spring_19/master/ETFS/iShares-MSCI-ACWI-ETF_fund.csv',\n",
    "         'https://raw.githubusercontent.com/Dianachav/PAP_Spring_19/master/ETFS/iShares-MSCI-EAFE-ETF_fund.csv',\n",
    "         'https://raw.githubusercontent.com/Dianachav/PAP_Spring_19/master/ETFS/iShares-MSCI-Emerging-Markets-ETF_fund.csv',\n",
    "         'https://raw.githubusercontent.com/Dianachav/PAP_Spring_19/master/ETFS/iShares-MSCI-Japan-ETF_fund.csv',\n",
    "         'https://raw.githubusercontent.com/Dianachav/PAP_Spring_19/master/ETFS/iShares-MSCI-USA-ESG-Select-ETF_fund.csv',\n",
    "         'https://raw.githubusercontent.com/Dianachav/PAP_Spring_19/master/ETFS/iShares-Nasdaq-Biotechnology-ETF_fund.csv',\n",
    "         'https://raw.githubusercontent.com/Dianachav/PAP_Spring_19/master/ETFS/iShares-North-American-Tech-Multimedia-Networking-ETF_fund.csv',\n",
    "         'https://raw.githubusercontent.com/Dianachav/PAP_Spring_19/master/ETFS/iShares-PHLX-Semiconductor-ETF_fund.csv',\n",
    "         'https://raw.githubusercontent.com/Dianachav/PAP_Spring_19/master/ETFS/iShares-Preferred-and-Income-Securities-ETF_fund.csv',\n",
    "         'https://raw.githubusercontent.com/Dianachav/PAP_Spring_19/master/ETFS/iShares-Russell-1000-ETF_fund.csv',\n",
    "         'https://raw.githubusercontent.com/Dianachav/PAP_Spring_19/master/ETFS/iShares-Russell-1000-Growth-ETF_fund.csv',\n",
    "         'https://raw.githubusercontent.com/Dianachav/PAP_Spring_19/master/ETFS/iShares-Russell-1000-Value-ETF_fund.csv',\n",
    "         'https://raw.githubusercontent.com/Dianachav/PAP_Spring_19/master/ETFS/iShares-Russell-2000-ETF_fund.csv',\n",
    "         'https://raw.githubusercontent.com/Dianachav/PAP_Spring_19/master/ETFS/iShares-SP-500-Growth-ETF_fund.csv',\n",
    "         'https://raw.githubusercontent.com/Dianachav/PAP_Spring_19/master/ETFS/iShares-SP-500-Value-ETF_fund.csv',\n",
    "         'https://raw.githubusercontent.com/Dianachav/PAP_Spring_19/master/ETFS/iShares-US-Basic-Materials-ETF_fund.csv', #nuevo\n",
    "         'https://raw.githubusercontent.com/Dianachav/PAP_Spring_19/master/ETFS/iShares-US-Consumer-Services-ETF_fund.csv', #nuevo\n",
    "         'https://raw.githubusercontent.com/Dianachav/PAP_Spring_19/master/ETFS/iShares-US-Energy-ETF_fund.csv', #nuevo\n",
    "         'https://raw.githubusercontent.com/Dianachav/PAP_Spring_19/master/ETFS/iShares-US-Financial-Services-ETF_fund.csv',#nuevo\n",
    "         'https://raw.githubusercontent.com/Dianachav/PAP_Spring_19/master/ETFS/iShares-US-Financials-ETF_fund.csv',#nuevo\n",
    "         'https://raw.githubusercontent.com/Dianachav/PAP_Spring_19/master/ETFS/iShares-US-Healthcare-ETF_fund.csv', #nuevo\n",
    "         'https://raw.githubusercontent.com/Dianachav/PAP_Spring_19/master/ETFS/iShares-US-Home-Construction-ETF_fund.csv',\n",
    "         'https://raw.githubusercontent.com/Dianachav/PAP_Spring_19/master/ETFS/iShares-US-Industrials-ETF_fund.csv', #nuevo\n",
    "         'https://raw.githubusercontent.com/Dianachav/PAP_Spring_19/master/ETFS/iShares-US-Medical-Devices-ETF_fund.csv', #nuevo\n",
    "         'https://raw.githubusercontent.com/Dianachav/PAP_Spring_19/master/ETFS/iShares-US-Pharmaceuticals-ETF_fund.csv', #nuevo\n",
    "         'https://raw.githubusercontent.com/Dianachav/PAP_Spring_19/master/ETFS/iShares-US-Technology-ETF_fund.csv', #nuevo\n",
    "         'https://raw.githubusercontent.com/Dianachav/PAP_Spring_19/master/ETFS/iShares-US-Telecommunications-ETF_fund.csv']"
   ]
  },
  {
   "cell_type": "code",
   "execution_count": 3,
   "metadata": {},
   "outputs": [
    {
     "data": {
      "text/plain": [
       "32"
      ]
     },
     "execution_count": 3,
     "metadata": {},
     "output_type": "execute_result"
    }
   ],
   "source": [
    "len(lista)"
   ]
  },
  {
   "cell_type": "code",
   "execution_count": 4,
   "metadata": {
    "collapsed": true
   },
   "outputs": [],
   "source": [
    "listas = ['https://raw.githubusercontent.com/Dianachav/PAP_Spring_19/master/ETF_S/S_iShares-Core-SP-500-ETF_fund.csv',\n",
    "         'https://raw.githubusercontent.com/Dianachav/PAP_Spring_19/master/ETF_S/S_iShares-Core-SP-Mid-Cap-ETF_fund.csv', \n",
    "         'https://raw.githubusercontent.com/Dianachav/PAP_Spring_19/master/ETF_S/S_iShares-Core-SP-Total-US-Stock-Market-ETF_fund.csv',\n",
    "         'https://raw.githubusercontent.com/Dianachav/PAP_Spring_19/master/ETF_S/S_iShares-Expanded-Tech-Sector-ETF_fund.csv', #nuevo \n",
    "         'https://raw.githubusercontent.com/Dianachav/PAP_Spring_19/master/ETF_S/S_iShares-Expanded-Tech-Software-Sector-ETF_fund.csv', #nuevo\n",
    "         'https://raw.githubusercontent.com/Dianachav/PAP_Spring_19/master/ETF_S/S_iShares-MSCI-ACWI-ETF_fund.csv',\n",
    "         'https://raw.githubusercontent.com/Dianachav/PAP_Spring_19/master/ETF_S/S_iShares-MSCI-EAFE-ETF_fund.csv',\n",
    "         'https://raw.githubusercontent.com/Dianachav/PAP_Spring_19/master/ETF_S/S_iShares-MSCI-Emerging-Markets-ETF_fund.csv',\n",
    "         'https://raw.githubusercontent.com/Dianachav/PAP_Spring_19/master/ETF_S/S_iShares-MSCI-Japan-ETF_fund.csv',\n",
    "         'https://raw.githubusercontent.com/Dianachav/PAP_Spring_19/master/ETF_S/S_iShares-MSCI-USA-ESG-Select-ETF_fund.csv',\n",
    "         'https://raw.githubusercontent.com/Dianachav/PAP_Spring_19/master/ETF_S/S_iShares-Nasdaq-Biotechnology-ETF_fund.csv',\n",
    "         'https://raw.githubusercontent.com/Dianachav/PAP_Spring_19/master/ETF_S/S_iShares-North-American-Tech-Multimedia-Networking-ETF_fund.csv',\n",
    "         'https://raw.githubusercontent.com/Dianachav/PAP_Spring_19/master/ETF_S/S_iShares-PHLX-Semiconductor-ETF_fund.csv',\n",
    "         'https://raw.githubusercontent.com/Dianachav/PAP_Spring_19/master/ETF_S/S_iShares-Preferred-and-Income-Securities-ETF_fund.csv',\n",
    "         'https://raw.githubusercontent.com/Dianachav/PAP_Spring_19/master/ETF_S/S_iShares-Russell-1000-ETF_fund.csv',\n",
    "         'https://raw.githubusercontent.com/Dianachav/PAP_Spring_19/master/ETF_S/S_iShares-Russell-1000-Growth-ETF_fund.csv',\n",
    "         'https://raw.githubusercontent.com/Dianachav/PAP_Spring_19/master/ETF_S/S_iShares-Russell-1000-Value-ETF_fund.csv',\n",
    "         'https://raw.githubusercontent.com/Dianachav/PAP_Spring_19/master/ETF_S/S_iShares-Russell-2000-ETF_fund.csv',\n",
    "         'https://raw.githubusercontent.com/Dianachav/PAP_Spring_19/master/ETF_S/S_iShares-SP-500-Growth-ETF_fund.csv',\n",
    "         'https://raw.githubusercontent.com/Dianachav/PAP_Spring_19/master/ETF_S/S_iShares-SP-500-Value-ETF_fund.csv',\n",
    "         'https://raw.githubusercontent.com/Dianachav/PAP_Spring_19/master/ETF_S/S_iShares-US-Basic-Materials-ETF_fund.csv', #nuevo\n",
    "         'https://raw.githubusercontent.com/Dianachav/PAP_Spring_19/master/ETF_S/S_iShares-US-Consumer-Services-ETF_fund.csv', #nuevo\n",
    "         'https://raw.githubusercontent.com/Dianachav/PAP_Spring_19/master/ETF_S/S_iShares-US-Energy-ETF_fund.csv', #nuevo\n",
    "         'https://raw.githubusercontent.com/Dianachav/PAP_Spring_19/master/ETF_S/S_iShares-US-Financial-Services-ETF_fund.csv',#nuevo\n",
    "         'https://raw.githubusercontent.com/Dianachav/PAP_Spring_19/master/ETF_S/S_iShares-US-Financials-ETF_fund.csv',#nuevo\n",
    "         'https://raw.githubusercontent.com/Dianachav/PAP_Spring_19/master/ETF_S/S_iShares-US-Healthcare-ETF_fund.csv', #nuevo\n",
    "         'https://raw.githubusercontent.com/Dianachav/PAP_Spring_19/master/ETF_S/S_iShares-US-Home-Construction-ETF_fund.csv',\n",
    "         'https://raw.githubusercontent.com/Dianachav/PAP_Spring_19/master/ETF_S/S_iShares-US-Industrials-ETF_fund.csv', #nuevo\n",
    "         'https://raw.githubusercontent.com/Dianachav/PAP_Spring_19/master/ETF_S/S_iShares-US-Medical-Devices-ETF_fund.csv', #nuevo\n",
    "         'https://raw.githubusercontent.com/Dianachav/PAP_Spring_19/master/ETF_S/S_iShares-US-Pharmaceuticals-ETF_fund.csv', #nuevo\n",
    "         'https://raw.githubusercontent.com/Dianachav/PAP_Spring_19/master/ETF_S/S_iShares-US-Technology-ETF_fund.csv', #nuevo\n",
    "         'https://raw.githubusercontent.com/Dianachav/PAP_Spring_19/master/ETF_S/S_iShares-US-Telecommunications-ETF_fund.csv']"
   ]
  },
  {
   "cell_type": "code",
   "execution_count": 5,
   "metadata": {
    "collapsed": true
   },
   "outputs": [],
   "source": [
    "lista_M = ['https://raw.githubusercontent.com/Dianachav/PAP_Spring_19/master/ETF_M/iShares-Core-SP-500-ETF_fund.csv',\n",
    "         'https://raw.githubusercontent.com/Dianachav/PAP_Spring_19/master/ETF_M/iShares-Core-SP-Mid-Cap-ETF_fund.csv',\n",
    "         'https://raw.githubusercontent.com/Dianachav/PAP_Spring_19/master/ETF_M/iShares-Core-SP-Total-US-Stock-Market-ETF_fund.csv',\n",
    "         'https://raw.githubusercontent.com/Dianachav/PAP_Spring_19/master/ETF_M/iShares-Expanded-Tech-Sector-ETF_fund.csv',\n",
    "          'https://raw.githubusercontent.com/Dianachav/PAP_Spring_19/master/ETF_M/iShares-Expanded-Tech-Software-Sector-ETF_fund.csv',\n",
    "          'https://raw.githubusercontent.com/Dianachav/PAP_Spring_19/master/ETF_M/iShares-MSCI-ACWI-ETF_fund.csv',\n",
    "          'https://raw.githubusercontent.com/Dianachav/PAP_Spring_19/master/ETF_M/iShares-MSCI-EAFE-ETF_fund.csv',\n",
    "          'https://raw.githubusercontent.com/Dianachav/PAP_Spring_19/master/ETF_M/iShares-MSCI-Emerging-Markets-ETF_fund.csv',\n",
    "          'https://raw.githubusercontent.com/Dianachav/PAP_Spring_19/master/ETF_M/iShares-MSCI-Japan-ETF_fund.csv',\n",
    "          'https://raw.githubusercontent.com/Dianachav/PAP_Spring_19/master/ETF_M/iShares-MSCI-USA-ESG-Select-ETF_fund.csv',\n",
    "         'https://raw.githubusercontent.com/Dianachav/PAP_Spring_19/master/ETF_M/iShares-Nasdaq-Biotechnology-ETF_fund.csv',\n",
    "         'https://raw.githubusercontent.com/Dianachav/PAP_Spring_19/master/ETF_M/iShares-North-American-Tech-Multimedia-Networking-ETF_fund.csv',\n",
    "         'https://raw.githubusercontent.com/Dianachav/PAP_Spring_19/master/ETF_M/iShares-PHLX-Semiconductor-ETF_fund.csv',\n",
    "         'https://raw.githubusercontent.com/Dianachav/PAP_Spring_19/master/ETF_M/iShares-Preferred-and-Income-Securities-ETF_fund.csv',\n",
    "         'https://raw.githubusercontent.com/Dianachav/PAP_Spring_19/master/ETF_M/iShares-Russell-1000-ETF_fund.csv',\n",
    "         'https://raw.githubusercontent.com/Dianachav/PAP_Spring_19/master/ETF_M/iShares-Russell-1000-Growth-ETF_fund.csv',\n",
    "         'https://raw.githubusercontent.com/Dianachav/PAP_Spring_19/master/ETF_M/iShares-Russell-1000-Value-ETF_fund.csv',\n",
    "         'https://raw.githubusercontent.com/Dianachav/PAP_Spring_19/master/ETF_M/iShares-Russell-2000-ETF_fund.csv',\n",
    "         'https://raw.githubusercontent.com/Dianachav/PAP_Spring_19/master/ETF_M/iShares-SP-500-Growth-ETF_fund.csv',\n",
    "         'https://raw.githubusercontent.com/Dianachav/PAP_Spring_19/master/ETF_M/iShares-SP-500-Value-ETF_fund.csv',\n",
    "         'https://raw.githubusercontent.com/Dianachav/PAP_Spring_19/master/ETF_M/iShares-US-Basic-Materials-ETF_fund.csv',\n",
    "         'https://raw.githubusercontent.com/Dianachav/PAP_Spring_19/master/ETF_M/iShares-US-Consumer-Services-ETF_fund.csv',\n",
    "         'https://raw.githubusercontent.com/Dianachav/PAP_Spring_19/master/ETF_M/iShares-US-Energy-ETF_fund.csv',\n",
    "         'https://raw.githubusercontent.com/Dianachav/PAP_Spring_19/master/ETF_M/iShares-US-Financial-Services-ETF_fund.csv',\n",
    "         'https://raw.githubusercontent.com/Dianachav/PAP_Spring_19/master/ETF_M/iShares-US-Financials-ETF_fund.csv',\n",
    "         'https://raw.githubusercontent.com/Dianachav/PAP_Spring_19/master/ETF_M/iShares-US-Healthcare-ETF_fund.csv',\n",
    "         'https://raw.githubusercontent.com/Dianachav/PAP_Spring_19/master/ETF_M/iShares-US-Home-Construction-ETF_fund.csv',\n",
    "         'https://raw.githubusercontent.com/Dianachav/PAP_Spring_19/master/ETF_M/iShares-US-Industrials-ETF_fund.csv',\n",
    "         'https://raw.githubusercontent.com/Dianachav/PAP_Spring_19/master/ETF_M/iShares-US-Medical-Devices-ETF_fund.csv',\n",
    "         'https://raw.githubusercontent.com/Dianachav/PAP_Spring_19/master/ETF_M/iShares-US-Pharmaceuticals-ETF_fund.csv',\n",
    "         'https://raw.githubusercontent.com/Dianachav/PAP_Spring_19/master/ETF_M/iShares-US-Technology-ETF_fund.csv',\n",
    "         'https://raw.githubusercontent.com/Dianachav/PAP_Spring_19/master/ETF_M/iShares-US-Telecommunications-ETF_fund.csv']\n",
    "         "
   ]
  },
  {
   "cell_type": "markdown",
   "metadata": {},
   "source": [
    "## Críterio #1 Portafolio de Markowitz (ponlo donde vaya hahaha)"
   ]
  },
  {
   "cell_type": "code",
   "execution_count": 6,
   "metadata": {
    "collapsed": true
   },
   "outputs": [],
   "source": [
    "def rend (i):\n",
    "    fecha=[]\n",
    "\n",
    "    ETF = pd.read_csv(lista_M[i], skiprows = [0,1,2,3])\n",
    "  \n",
    "    ETF['Monthly Total (NAV) Return'] = ETF['Monthly Total (NAV) Return'].replace('--',\"0\")\n",
    "    ETF['Monthly Total (NAV) Return'] = ETF['Monthly Total (NAV) Return'].astype(float)\n",
    "    ETF=ETF['Monthly Total (NAV) Return']\n",
    "\n",
    "    return(ETF)"
   ]
  },
  {
   "cell_type": "code",
   "execution_count": 7,
   "metadata": {
    "collapsed": true
   },
   "outputs": [],
   "source": [
    "ren=[]\n",
    "for i in range(32):\n",
    "    ren.append(1+i)"
   ]
  },
  {
   "cell_type": "code",
   "execution_count": 8,
   "metadata": {
    "collapsed": true
   },
   "outputs": [],
   "source": [
    "r0= rend(0)\n",
    "r1= rend(1)\n",
    "r2= rend(2)\n",
    "r3= rend(3)\n",
    "r4= rend(4)\n",
    "r5= rend(5)\n",
    "r6= rend(6)\n",
    "r7= rend(7)\n",
    "r8= rend(8)\n",
    "r9= rend(9)\n",
    "r10= rend(10)\n",
    "r11= rend(11)\n",
    "r12= rend(12)\n",
    "r13= rend(13)\n",
    "r14= rend(14)\n",
    "r15= rend(15)\n",
    "r16= rend(16)\n",
    "r17= rend(17)\n",
    "r18= rend(18)\n",
    "r19= rend(19)\n",
    "r20= rend(20)\n",
    "r21= rend(21)\n",
    "r22= rend(22)\n",
    "r23= rend(23)\n",
    "r24= rend(24)\n",
    "r25= rend(25)\n",
    "r26= rend(26)\n",
    "r27= rend(27)\n",
    "r28= rend(28)\n",
    "r29= rend(29)\n",
    "r30= rend(30)\n",
    "r31= rend(31)"
   ]
  },
  {
   "cell_type": "code",
   "execution_count": 9,
   "metadata": {},
   "outputs": [],
   "source": [
    "df_rend = pd.DataFrame({'Core SP 500': r0,'Core SP Mid Cap': r1,\n",
    "                  'Core SP Total US Stock Market': r2,'Expanded Tech Sector': r3,\n",
    "                  'Expanded Tech Software Sector': r4,'MSCI ACWI': r5,\n",
    "                  'MSCI EAFE': r6,'MSCI Emerging Markets': r7, 'MSCI Japan': r8,\n",
    "                  'MSCI USA ESG Select': r9, 'Nasdaq Biotechnology': r10, 'NorthAmerican Tech Multimedia Networking': r11,\n",
    "                  'PHLX Semiconductor': r12, 'Preferred and Income Securities': r13, 'Russell 1000': r14,\n",
    "                  'Russell 1000 Growth': r15,'Russell 1000 Value': r16, 'Russell 2000': r17,\n",
    "                  'SP 500 Growth': r18,'US Basic Materials': r19,\n",
    "                  'US Consumer Services': r20, 'SP 500 Value': r21, 'US Energy': r22,\n",
    "                  'US Financial Services': r23, 'US Financials': r24, 'US Healthcare': r25, 'Home Construction': r26,\n",
    "                  'US Industrials': r27, 'US Medical Devices': r28, 'US Pharmaceuticals': r29,\n",
    "                  'US Technology': r30,'US Telecommunications': r31},index=ren)\n",
    "\n",
    "df_rend = df_rend[0:11]\n",
    "pd.set_option('display.max_columns', 32)\n"
   ]
  },
  {
   "cell_type": "code",
   "execution_count": 10,
   "metadata": {
    "collapsed": true
   },
   "outputs": [],
   "source": [
    "\n",
    "\n",
    "# get adjusted closing prices of 5 selected companies with Quandl\n",
    "#quandl.ApiConfig.api_key = 'INSERT YOUR API KEY HERE'\n",
    "selected = ['Core SP 500','Core SP Mid Cap',\n",
    "                  'Core SP Total US Stock Market','Expanded Tech Sector',\n",
    "                  'Expanded Tech Software Sector','MSCI ACWI',\n",
    "                  'MSCI EAFE','MSCI Emerging Markets', 'MSCI Japan',\n",
    "                  'MSCI USA ESG Select', 'Nasdaq Biotechnology', 'NorthAmerican Tech Multimedia Networking',\n",
    "                  'PHLX Semiconductor', 'Preferred and Income Securities', 'Russell 1000',\n",
    "                  'Russell 1000 Growth','Russell 1000 Value', 'Russell 2000',\n",
    "                  'SP 500 Growth','US Basic Materials','US Consumer Services', 'SP 500 Value', 'US Energy',\n",
    "                  'US Financial Services', 'US Financials', 'US Healthcare', 'Home Construction',\n",
    "                  'US Industrials', 'US Medical Devices', 'US Pharmaceuticals','US Technology','US Telecommunications']"
   ]
  },
  {
   "cell_type": "code",
   "execution_count": 11,
   "metadata": {
    "collapsed": true
   },
   "outputs": [],
   "source": [
    "# calculate daily and annual returns of the stocks\n",
    "returns_daily = df_rend\n",
    "returns_annual = returns_daily.mean() * 12\n",
    "\n",
    "# get daily and covariance of returns of the stock\n",
    "cov_daily = df_rend.cov()\n",
    "cov_annual = cov_daily * 12\n",
    "\n",
    "# empty lists to store returns, volatility and weights of imiginary portfolios\n",
    "port_returns = []\n",
    "port_volatility = []\n",
    "sharpe_ratio = []\n",
    "stock_weights = []\n",
    "\n",
    "# set the number of combinations for imaginary portfolios\n",
    "num_assets = len(selected)\n",
    "num_portfolios = 50000\n",
    "\n",
    "#set random seed for reproduction's sake\n",
    "np.random.seed(101)\n",
    "\n",
    "# populate the empty lists with each portfolios returns,risk and weights\n",
    "for single_portfolio in range(num_portfolios):\n",
    "    weights = np.random.random(num_assets)\n",
    "    weights /= np.sum(weights)\n",
    "    returns = np.dot(weights, returns_annual)\n",
    "    volatility = np.sqrt(np.dot(weights.T, np.dot(cov_annual, weights)))\n",
    "    sharpe = (returns- 2.39)/ volatility\n",
    "    sharpe_ratio.append(sharpe)\n",
    "    port_returns.append(returns)\n",
    "    port_volatility.append(volatility)\n",
    "    stock_weights.append(weights)\n",
    "\n",
    "# a dictionary for Returns and Risk values of each portfolio\n",
    "portfolio = {'Returns': port_returns,\n",
    "             'Volatility': port_volatility,\n",
    "             'Sharpe Ratio': sharpe_ratio}\n",
    "\n",
    "# extend original dictionary to accomodate each ticker and weight in the portfolio\n",
    "for counter,symbol in enumerate(selected):\n",
    "    portfolio[symbol] = [Weight[counter] for Weight in stock_weights]\n",
    "\n",
    "# make a nice dataframe of the extended dictionary\n",
    "df = pd.DataFrame(portfolio)\n",
    "\n",
    "# get better labels for desired arrangement of columns\n",
    "column_order = ['Returns', 'Volatility', 'Sharpe Ratio'] + [stock for stock in selected]\n",
    "\n",
    "# reorder dataframe columns\n",
    "df = df[column_order]\n",
    "\n",
    "\n",
    "# find min Volatility & max sharpe values in the dataframe (df)\n",
    "min_volatility = df['Volatility'].min()\n",
    "max_sharpe = df['Sharpe Ratio'].max()\n",
    "\n",
    "# use the min, max values to locate and create the two special portfolios\n",
    "sharpe_portfolio = df.loc[df['Sharpe Ratio'] == max_sharpe]\n",
    "min_variance_port = df.loc[df['Volatility'] == min_volatility]\n",
    "\n"
   ]
  },
  {
   "cell_type": "code",
   "execution_count": 12,
   "metadata": {},
   "outputs": [],
   "source": [
    "pond_v = pd.DataFrame(min_variance_port.T)"
   ]
  },
  {
   "cell_type": "code",
   "execution_count": 13,
   "metadata": {
    "collapsed": true
   },
   "outputs": [],
   "source": [
    "pv=[0.027815,0.022344,0.064484,0.003748,0.018357,0.013804,0.067573,0.006851,0.019555,0.038672,0.067051,0.046425,\n",
    "    0.012601,0.001928,0.034970,0.001826,0.046842,0.050358,0.033331,0.001242,0.038803,0.038112,0.002219,0.024148,\n",
    "    0.068672,0.005738,0.046131,0.027246,0.036965,0.069215,0.032499,0.030476]"
   ]
  },
  {
   "cell_type": "code",
   "execution_count": 14,
   "metadata": {},
   "outputs": [],
   "source": [
    "pond_s = pd.DataFrame(sharpe_portfolio.T)\n"
   ]
  },
  {
   "cell_type": "code",
   "execution_count": 15,
   "metadata": {
    "collapsed": true
   },
   "outputs": [],
   "source": [
    "ps=[0.013933,0.047979,0.033390,0.042643,0.072411,0.003220,0.017133,0.049593,0.016593,0.030975,0.007098,0.043459,\n",
    "   0.006785,0.005140,0.034365,0.033948,0.002603,0.002349,0.060880,0.064910,0.062777,0.012096,0.033776,0.072945,\n",
    "   0.001533,0.009174,0.016492,0.020435,0.002385,0.069713,0.065061,0.044208]"
   ]
  },
  {
   "cell_type": "markdown",
   "metadata": {},
   "source": [
    "## Importar datos de ETF'S"
   ]
  },
  {
   "cell_type": "code",
   "execution_count": 16,
   "metadata": {},
   "outputs": [],
   "source": [
    "tw=1\n",
    "n_etfs=len(lista)\n",
    "equal_w = tw/n_etfs #Equal Weighted\n"
   ]
  },
  {
   "cell_type": "code",
   "execution_count": 17,
   "metadata": {},
   "outputs": [],
   "source": [
    "equal_we=np.array([0.03125,  0.03125,  0.03125,  0.03125,  0.03125,  0.03125,\n",
    "             0.03125,  0.03125,  0.03125,  0.03125,  0.03125,  0.03125,\n",
    "             0.03125,  0.03125,  0.03125,  0.03125,  0.03125,  0.03125,\n",
    "             0.03125,  0.03125,  0.03125,  0.03125,  0.03125,  0.03125,\n",
    "             0.03125,  0.03125,  0.03125,  0.03125,  0.03125,  0.03125,\n",
    "             0.03125,  0.03125])"
   ]
  },
  {
   "cell_type": "markdown",
   "metadata": {},
   "source": [
    "## Equal weight "
   ]
  },
  {
   "cell_type": "code",
   "execution_count": 18,
   "metadata": {
    "collapsed": true
   },
   "outputs": [],
   "source": [
    "def ETF_date(j):\n",
    "    fecha=[]\n",
    "\n",
    "    ETF = pd.read_csv(lista[j], skiprows = [0,1,2,3])\n",
    "    for i in range(len(ETF[\"Month End Date\"])): #for para numero de fechas dentro de un archivo\n",
    "        fecha.append(ETF[\"Month End Date\"].iloc[i].replace(\"-\",\" \"))\n",
    "        ETF['Monthly Total (NAV) Return'] = ETF['Monthly Total (NAV) Return'].replace('--',\"0\")\n",
    "        ETF['Monthly Total (NAV) Return'] = ETF['Monthly Total (NAV) Return'].astype(float)\n",
    "\n",
    "    tabla=pd.DataFrame(columns=['Month End Date','Monthly Total (NAV) Return'])\n",
    "    #tabla.index.name = \"ETF\"\n",
    "    tabla['Month End Date'] = fecha\n",
    "    x=ETF['Monthly Total (NAV) Return']\n",
    "    tabla['Monthly Total (NAV) Return']=x\n",
    "    tabla['Month End Date'] = pd.to_datetime(tabla['Month End Date'], format='%b %d, %Y')\n",
    "    grupo = tabla.groupby(tabla['Month End Date'].dt.year)['Monthly Total (NAV) Return'].agg([\"mean\"]).unstack()\n",
    "\n",
    "    return(grupo)"
   ]
  },
  {
   "cell_type": "code",
   "execution_count": 19,
   "metadata": {
    "collapsed": true
   },
   "outputs": [],
   "source": [
    "#DATAFRAME DE RENDIMIENTOS POR AÑO DE CADA ETF\n",
    "\n",
    "m0 = ETF_date(0)['mean']\n",
    "m1 = ETF_date(1)['mean']\n",
    "m2 = ETF_date(2)['mean']\n",
    "m3 = ETF_date(3)['mean']\n",
    "m4 = ETF_date(4)['mean']\n",
    "m5 = ETF_date(5)['mean']\n",
    "m6 = ETF_date(6)['mean']\n",
    "m7 = ETF_date(7)['mean']\n",
    "m8 = ETF_date(8)['mean']\n",
    "m9 = ETF_date(9)['mean']\n",
    "m10 = ETF_date(10)['mean']\n",
    "m11 = ETF_date(11)['mean']\n",
    "m12 = ETF_date(12)['mean']\n",
    "m13 = ETF_date(13)['mean']\n",
    "m14 = ETF_date(14)['mean']\n",
    "m15 = ETF_date(15)['mean']\n",
    "m16 = ETF_date(16)['mean']\n",
    "m17 = ETF_date(17)['mean']\n",
    "m18 = ETF_date(18)['mean']\n",
    "m19 = ETF_date(19)['mean']\n",
    "m20 = ETF_date(20)['mean']\n",
    "m21 = ETF_date(21)['mean']\n",
    "m22 = ETF_date(22)['mean']\n",
    "m23 = ETF_date(23)['mean']\n",
    "m24 = ETF_date(24)['mean']\n",
    "m25 = ETF_date(25)['mean']\n",
    "m26 = ETF_date(26)['mean']\n",
    "m27 = ETF_date(27)['mean']\n",
    "m28 = ETF_date(28)['mean']\n",
    "m29 = ETF_date(29)['mean']\n",
    "m30 = ETF_date(30)['mean']\n",
    "m31 = ETF_date(31)['mean']"
   ]
  },
  {
   "cell_type": "code",
   "execution_count": 20,
   "metadata": {},
   "outputs": [],
   "source": [
    "a = pd.DataFrame({'Core SP 500': m0,'Core SP Mid Cap': m1,\n",
    "                  'Core SP Total US Stock Market': m2,'Expanded Tech Sector': m3,\n",
    "                  'Expanded Tech Software Sector': m4,'MSCI ACWI': m5,\n",
    "                  'MSCI EAFE': m6,'MSCI Emerging Markets': m7, 'MSCI Japan': m8,\n",
    "                  'MSCI USA ESG Select': m9, 'Nasdaq Biotechnology': m10, 'NorthAmerican Tech Multimedia Networking': m11,\n",
    "                  'PHLX Semiconductor': m12, 'Preferred and Income Securities': m13, 'Russell 1000': m14,\n",
    "                  'Russell 1000 Growth': m15,'Russell 1000 Value': m16, 'Russell 2000': m17,\n",
    "                  'SP 500 Growth': m18,'US Basic Materials': m19,\n",
    "                  'US Consumer Services': m20, 'SP 500 Value': m21, 'US Energy': m22,\n",
    "                  'US Financial Services': m23, 'US Financials': m24, 'US Healthcare': m25, 'Home Construction': m26,\n",
    "                  'US Industrials': m27, 'US Medical Devices': m28, 'US Pharmaceuticals': m29,\n",
    "                  'US Technology': m30,'US Telecommunications': m31})\n",
    "\n",
    "a = a[12:24]\n",
    "pd.set_option('display.max_columns', 32)\n"
   ]
  },
  {
   "cell_type": "code",
   "execution_count": null,
   "metadata": {
    "collapsed": true
   },
   "outputs": [],
   "source": []
  },
  {
   "cell_type": "code",
   "execution_count": 21,
   "metadata": {
    "scrolled": true
   },
   "outputs": [],
   "source": [
    "part1=a*equal_w"
   ]
  },
  {
   "cell_type": "code",
   "execution_count": 22,
   "metadata": {},
   "outputs": [],
   "source": [
    "rend_port=[]\n",
    "for i in range(len(part1)):\n",
    "    suma=np.cumsum(part1.iloc[i])\n",
    "    rend_port.append(suma.iloc[31])\n"
   ]
  },
  {
   "cell_type": "code",
   "execution_count": 23,
   "metadata": {
    "collapsed": true
   },
   "outputs": [],
   "source": [
    "years_m= []\n",
    "for i in range(2007,2019):\n",
    "    years_m.append(1+i)\n",
    "    "
   ]
  },
  {
   "cell_type": "code",
   "execution_count": 24,
   "metadata": {},
   "outputs": [],
   "source": [
    "part2=pv*a\n",
    "rend_port2=[]\n",
    "for i in range(len(part2)):\n",
    "    suma=np.cumsum(part2.iloc[i])\n",
    "    rend_port2.append(suma.iloc[31])"
   ]
  },
  {
   "cell_type": "code",
   "execution_count": 25,
   "metadata": {},
   "outputs": [],
   "source": [
    "part3=ps*a\n",
    "rend_port3=[]\n",
    "for i in range(len(part3)):\n",
    "    suma=np.cumsum(part3.iloc[i])\n",
    "    rend_port3.append(suma.iloc[31])"
   ]
  },
  {
   "cell_type": "markdown",
   "metadata": {},
   "source": [
    "# riesgo"
   ]
  },
  {
   "cell_type": "code",
   "execution_count": 26,
   "metadata": {
    "collapsed": true
   },
   "outputs": [],
   "source": [
    "def rend_vol19 (i):\n",
    "    ETF = pd.read_csv(lista[i], skiprows = [0,1,2,3])\n",
    "\n",
    "    ETF['Monthly Total (NAV) Return'] = ETF['Monthly Total (NAV) Return'].replace('--',\"0\")\n",
    "    ETF['Monthly Total (NAV) Return'] = ETF['Monthly Total (NAV) Return'].astype(float)\n",
    "    ETF=ETF['Monthly Total (NAV) Return']\n",
    "    #ETF.iloc[4:44]\n",
    "    last=len(ETF)\n",
    "    ETF=ETF.iloc[(last-2):last]\n",
    "    #ETF=np.mean(ETF)\n",
    "    ETF.index=[1,2]\n",
    "    return(ETF)"
   ]
  },
  {
   "cell_type": "code",
   "execution_count": 27,
   "metadata": {
    "collapsed": true
   },
   "outputs": [],
   "source": [
    "def rend_vol18 (i):\n",
    "    ETF = pd.read_csv(lista[i], skiprows = [0,1,2,3])\n",
    "\n",
    "    ETF['Monthly Total (NAV) Return'] = ETF['Monthly Total (NAV) Return'].replace('--',\"0\")\n",
    "    ETF['Monthly Total (NAV) Return'] = ETF['Monthly Total (NAV) Return'].astype(float)\n",
    "    ETF=ETF['Monthly Total (NAV) Return']\n",
    "    #ETF.iloc[4:44]\n",
    "    last=len(ETF)\n",
    "    ETF18=ETF.iloc[(last-14):(last-2)]\n",
    "    ETF17=ETF.iloc[(last-26):(last-14)]\n",
    "    ETF16=ETF.iloc[(last-38):(last-26)]\n",
    "    ETF15=ETF.iloc[(last-50):(last-38)]\n",
    "    ETF14=ETF.iloc[(last-62):(last-50)]\n",
    "    ETF13=ETF.iloc[(last-74):(last-62)]\n",
    "    ETF12=ETF.iloc[(last-86):(last-74)]\n",
    "    ETF11=ETF.iloc[(last-98):(last-86)]\n",
    "    ETF10=ETF.iloc[(last-110):(last-98)]\n",
    "    ETF9=ETF.iloc[(last-122):(last-110)]\n",
    "    #ETF=np.mean(ETF)\n",
    "    index=[1,2,3,4,5,6,7,8,9,10,11,12]\n",
    "    \n",
    "    ETF18.index=index\n",
    "    ETF17.index=index\n",
    "    ETF16.index=index\n",
    "    ETF15.index=index\n",
    "    ETF14.index=index\n",
    "    ETF13.index=index\n",
    "    ETF12.index=index\n",
    "    ETF11.index=index\n",
    "    ETF10.index=index\n",
    "    ETF9.index=index\n",
    "    \n",
    "    return(ETF18,ETF17,ETF16,ETF15,ETF14,ETF13,ETF12,ETF11,ETF10,ETF9)"
   ]
  },
  {
   "cell_type": "code",
   "execution_count": 28,
   "metadata": {},
   "outputs": [],
   "source": [
    "re18=[]\n",
    "re17=[]\n",
    "re16=[]\n",
    "re15=[]\n",
    "re14=[]\n",
    "re13=[]\n",
    "re12=[]\n",
    "re11=[]\n",
    "re10=[]\n",
    "re9=[]\n",
    "for i in range(32):\n",
    "    y=rend_vol18(i)\n",
    "    re18.append(y[0])\n",
    "    re17.append(y[1])\n",
    "    re16.append(y[2])\n",
    "    re15.append(y[3])\n",
    "    re14.append(y[4])\n",
    "    re13.append(y[5])\n",
    "    re12.append(y[6])\n",
    "    re11.append(y[7])\n",
    "    re10.append(y[8])\n",
    "    re9.append(y[9])"
   ]
  },
  {
   "cell_type": "code",
   "execution_count": 29,
   "metadata": {
    "collapsed": true
   },
   "outputs": [],
   "source": [
    "r=[]\n",
    "for i in range(32):\n",
    "    r.append(rend_vol19(i))"
   ]
  },
  {
   "cell_type": "code",
   "execution_count": null,
   "metadata": {
    "collapsed": true
   },
   "outputs": [],
   "source": []
  },
  {
   "cell_type": "code",
   "execution_count": 30,
   "metadata": {},
   "outputs": [],
   "source": [
    "r19 = pd.DataFrame({'Core SP 500': r[0],'Core SP Mid Cap':  r[1],\n",
    "                  'Core SP Total US Stock Market':  r[2],'Expanded Tech Sector':  r[3],\n",
    "                  'Expanded Tech Software Sector':  r[4],'MSCI ACWI':  r[5],\n",
    "                  'MSCI EAFE':  r[6],'MSCI Emerging Markets':  r[7], 'MSCI Japan':  r[8],\n",
    "                  'MSCI USA ESG Select':  r[9], 'Nasdaq Biotechnology':  r[10], 'NorthAmerican Tech Multimedia Networking': r[11],\n",
    "                  'PHLX Semiconductor':  r[12], 'Preferred and Income Securities': r[13], 'Russell 1000':  r[14],\n",
    "                  'Russell 1000 Growth':  r[15],'Russell 1000 Value':  r[16], 'Russell 2000':  r[17],\n",
    "                  'SP 500 Growth':  r[18],'US Basic Materials':  r[19],\n",
    "                  'US Consumer Services':  r[20], 'SP 500 Value':  r[21], 'US Energy':  r[22],\n",
    "                  'US Financial Services': r[23], 'US Financials': r[24], 'US Healthcare':  r[25], 'Home Construction': r[26],\n",
    "                  'US Industrials': r[27], 'US Medical Devices': r[28], 'US Pharmaceuticals': r[29],\n",
    "                  'US Technology': r[30],'US Telecommunications': r[31]})\n",
    "\n",
    "#a = a[12:24]\n",
    "pd.set_option('display.max_columns', 32)"
   ]
  },
  {
   "cell_type": "code",
   "execution_count": 31,
   "metadata": {
    "collapsed": true
   },
   "outputs": [],
   "source": [
    "# calculate daily and annual returns of the stocks\n",
    "def ports_vol(r19,equal_we):\n",
    "    returns_daily = r19\n",
    "    returns_annual = returns_daily.mean() * 12\n",
    "\n",
    "    # get daily and covariance of returns of the stock\n",
    "    cov_daily = r19.cov()\n",
    "    cov_annual = cov_daily * 12\n",
    "    #port_volatility = []\n",
    "\n",
    "    #set random seed for reproduction's sake\n",
    "    np.random.seed(101)\n",
    "\n",
    "    # populate the empty lists with each portfolios returns,risk and weights\n",
    "\n",
    "    returns = np.dot(equal_we, returns_annual)\n",
    "    volatility = np.sqrt(np.dot(equal_we.T, np.dot(cov_annual,equal_we)))\n",
    "    #port_volatility.append(volatility)\n",
    "    return(volatility)"
   ]
  },
  {
   "cell_type": "code",
   "execution_count": 32,
   "metadata": {},
   "outputs": [],
   "source": [
    "r18 = pd.DataFrame({'Core SP 500': re18[0],'Core SP Mid Cap':  re18[1],\n",
    "                  'Core SP Total US Stock Market':  re18[2],'Expanded Tech Sector':  re18[3],\n",
    "                  'Expanded Tech Software Sector':  re18[4],'MSCI ACWI':  re18[5],\n",
    "                  'MSCI EAFE':  re18[6],'MSCI Emerging Markets':  re18[7], 'MSCI Japan':  re18[8],\n",
    "                  'MSCI USA ESG Select':  re18[9], 'Nasdaq Biotechnology':  re18[10], 'NorthAmerican Tech Multimedia Networking': re18[11],\n",
    "                  'PHLX Semiconductor':  re18[12], 'Preferred and Income Securities': re18[13], 'Russell 1000':  re18[14],\n",
    "                  'Russell 1000 Growth':  re18[15],'Russell 1000 Value':  re18[16], 'Russell 2000':  re18[17],\n",
    "                  'SP 500 Growth':  re18[18],'US Basic Materials':  re18[19],\n",
    "                  'US Consumer Services':  re18[20], 'SP 500 Value':  re18[21], 'US Energy':  re18[22],\n",
    "                  'US Financial Services': re18[23], 'US Financials': re18[24], 'US Healthcare':  re18[25], 'Home Construction': re18[26],\n",
    "                  'US Industrials': re18[27], 'US Medical Devices': re18[28], 'US Pharmaceuticals': re18[29],\n",
    "                  'US Technology': re18[30],'US Telecommunications': re18[31]})\n",
    "\n",
    "#a = a[12:24]\n",
    "pd.set_option('display.max_columns', 32)"
   ]
  },
  {
   "cell_type": "code",
   "execution_count": 33,
   "metadata": {},
   "outputs": [],
   "source": [
    "r17 = pd.DataFrame({'Core SP 500': re17[0],'Core SP Mid Cap':  re17[1],\n",
    "                  'Core SP Total US Stock Market':  re17[2],'Expanded Tech Sector':  re17[3],\n",
    "                  'Expanded Tech Software Sector':  re17[4],'MSCI ACWI':  re17[5],\n",
    "                  'MSCI EAFE':  re17[6],'MSCI Emerging Markets':  re17[7], 'MSCI Japan':  re17[8],\n",
    "                  'MSCI USA ESG Select':  re17[9], 'Nasdaq Biotechnology':  re17[10], 'NorthAmerican Tech Multimedia Networking': re17[11],\n",
    "                  'PHLX Semiconductor':  re17[12], 'Preferred and Income Securities': re17[13], 'Russell 1000':  re17[14],\n",
    "                  'Russell 1000 Growth':  re17[15],'Russell 1000 Value':  re17[16], 'Russell 2000':  re17[17],\n",
    "                  'SP 500 Growth':  re17[18],'US Basic Materials':  re17[19],\n",
    "                  'US Consumer Services':  re17[20], 'SP 500 Value':  re17[21], 'US Energy':  re17[22],\n",
    "                  'US Financial Services': re17[23], 'US Financials': re17[24], 'US Healthcare':  re17[25], 'Home Construction': re17[26],\n",
    "                  'US Industrials': re17[27], 'US Medical Devices': re17[28], 'US Pharmaceuticals': re17[29],\n",
    "                  'US Technology': re17[30],'US Telecommunications': re17[31]})\n",
    "\n",
    "#a = a[12:24]\n",
    "pd.set_option('display.max_columns', 32)\n"
   ]
  },
  {
   "cell_type": "code",
   "execution_count": 34,
   "metadata": {},
   "outputs": [],
   "source": [
    "r16 = pd.DataFrame({'Core SP 500': re16[0],'Core SP Mid Cap':  re16[1],\n",
    "                  'Core SP Total US Stock Market':  re16[2],'Expanded Tech Sector':  re16[3],\n",
    "                  'Expanded Tech Software Sector':  re16[4],'MSCI ACWI':  re16[5],\n",
    "                  'MSCI EAFE':  re16[6],'MSCI Emerging Markets':  re16[7], 'MSCI Japan':  re16[8],\n",
    "                  'MSCI USA ESG Select':  re16[9], 'Nasdaq Biotechnology':  re16[10], 'NorthAmerican Tech Multimedia Networking': re16[11],\n",
    "                  'PHLX Semiconductor':  re16[12], 'Preferred and Income Securities': re16[13], 'Russell 1000':  re16[14],\n",
    "                  'Russell 1000 Growth':  re16[15],'Russell 1000 Value':  re16[16], 'Russell 2000':  re16[17],\n",
    "                  'SP 500 Growth':  re16[18],'US Basic Materials':  re16[19],\n",
    "                  'US Consumer Services':  re16[20], 'SP 500 Value':  re16[21], 'US Energy':  re16[22],\n",
    "                  'US Financial Services': re16[23], 'US Financials': re16[24], 'US Healthcare':  re16[25], 'Home Construction': re16[26],\n",
    "                  'US Industrials': re16[27], 'US Medical Devices': re16[28], 'US Pharmaceuticals': re16[29],\n",
    "                  'US Technology': re16[30],'US Telecommunications': re16[31]})\n",
    "\n",
    "#a = a[12:24]\n",
    "pd.set_option('display.max_columns', 32)\n"
   ]
  },
  {
   "cell_type": "code",
   "execution_count": 35,
   "metadata": {},
   "outputs": [],
   "source": [
    "\n",
    "r15 = pd.DataFrame({'Core SP 500': re15[0],'Core SP Mid Cap':  re15[1],\n",
    "                  'Core SP Total US Stock Market':  re15[2],'Expanded Tech Sector':  re15[3],\n",
    "                  'Expanded Tech Software Sector':  re15[4],'MSCI ACWI':  re15[5],\n",
    "                  'MSCI EAFE':  re15[6],'MSCI Emerging Markets':  re15[7], 'MSCI Japan':  re15[8],\n",
    "                  'MSCI USA ESG Select':  re15[9], 'Nasdaq Biotechnology':  re15[10], 'NorthAmerican Tech Multimedia Networking': re15[11],\n",
    "                  'PHLX Semiconductor':  re15[12], 'Preferred and Income Securities': re15[13], 'Russell 1000':  re15[14],\n",
    "                  'Russell 1000 Growth':  re15[15],'Russell 1000 Value':  re16[16], 'Russell 2000':  re15[17],\n",
    "                  'SP 500 Growth':  re15[18],'US Basic Materials':  re15[19],\n",
    "                  'US Consumer Services':  re15[20], 'SP 500 Value':  re15[21], 'US Energy':  re15[22],\n",
    "                  'US Financial Services': re15[23], 'US Financials': re15[24], 'US Healthcare':  re15[25], 'Home Construction': re15[26],\n",
    "                  'US Industrials': re15[27], 'US Medical Devices': re15[28], 'US Pharmaceuticals': re15[29],\n",
    "                  'US Technology': re15[30],'US Telecommunications': re15[31]})\n",
    "\n",
    "#a = a[12:24]\n",
    "pd.set_option('display.max_columns', 32)\n"
   ]
  },
  {
   "cell_type": "code",
   "execution_count": 36,
   "metadata": {},
   "outputs": [],
   "source": [
    "r14 = pd.DataFrame({'Core SP 500': re14[0],'Core SP Mid Cap':  re14[1],\n",
    "                  'Core SP Total US Stock Market':  re14[2],'Expanded Tech Sector':  re14[3],\n",
    "                  'Expanded Tech Software Sector':  re14[4],'MSCI ACWI':  re14[5],\n",
    "                  'MSCI EAFE':  re14[6],'MSCI Emerging Markets':  re14[7], 'MSCI Japan':  re14[8],\n",
    "                  'MSCI USA ESG Select':  re14[9], 'Nasdaq Biotechnology':  re14[10], 'NorthAmerican Tech Multimedia Networking': re14[11],\n",
    "                  'PHLX Semiconductor':  re14[12], 'Preferred and Income Securities': re14[13], 'Russell 1000':  re14[14],\n",
    "                  'Russell 1000 Growth':  re14[15],'Russell 1000 Value':  re14[16], 'Russell 2000':  re16[17],\n",
    "                  'SP 500 Growth':  re14[18],'US Basic Materials':  re14[19],\n",
    "                  'US Consumer Services':  re14[20], 'SP 500 Value':  re14[21], 'US Energy':  re14[22],\n",
    "                  'US Financial Services': re14[23], 'US Financials': re14[24], 'US Healthcare':  re14[25], 'Home Construction': re14[26],\n",
    "                  'US Industrials': re14[27], 'US Medical Devices': re14[28], 'US Pharmaceuticals': re14[29],\n",
    "                  'US Technology': re14[30],'US Telecommunications': re14[31]})\n",
    "\n",
    "#a = a[12:24]\n",
    "pd.set_option('display.max_columns', 32)\n"
   ]
  },
  {
   "cell_type": "code",
   "execution_count": 37,
   "metadata": {},
   "outputs": [],
   "source": [
    "r13 = pd.DataFrame({'Core SP 500': re13[0],'Core SP Mid Cap':  re13[1],\n",
    "                  'Core SP Total US Stock Market':  re13[2],'Expanded Tech Sector':  re13[3],\n",
    "                  'Expanded Tech Software Sector':  re13[4],'MSCI ACWI':  re13[5],\n",
    "                  'MSCI EAFE':  re13[6],'MSCI Emerging Markets':  re13[7], 'MSCI Japan':  re13[8],\n",
    "                  'MSCI USA ESG Select':  re13[9], 'Nasdaq Biotechnology':  re16[10], 'NorthAmerican Tech Multimedia Networking': re13[11],\n",
    "                  'PHLX Semiconductor':  re13[12], 'Preferred and Income Securities': re16[13], 'Russell 1000':  re13[14],\n",
    "                  'Russell 1000 Growth':  re13[15],'Russell 1000 Value':  re16[16], 'Russell 2000':  re13[17],\n",
    "                  'SP 500 Growth':  re13[18],'US Basic Materials':  re13[19],\n",
    "                  'US Consumer Services':  re13[20], 'SP 500 Value':  re13[21], 'US Energy':  re13[22],\n",
    "                  'US Financial Services': re13[23], 'US Financials': re13[24], 'US Healthcare':  re13[25], 'Home Construction': re13[26],\n",
    "                  'US Industrials': re13[27], 'US Medical Devices': re13[28], 'US Pharmaceuticals': re13[29],\n",
    "                  'US Technology': re13[30],'US Telecommunications': re13[31]})\n",
    "\n",
    "#a = a[12:24]\n",
    "pd.set_option('display.max_columns', 32)\n"
   ]
  },
  {
   "cell_type": "code",
   "execution_count": 38,
   "metadata": {},
   "outputs": [],
   "source": [
    "r12 = pd.DataFrame({'Core SP 500': re12[0],'Core SP Mid Cap':  re12[1],\n",
    "                  'Core SP Total US Stock Market':  re12[2],'Expanded Tech Sector':  re12[3],\n",
    "                  'Expanded Tech Software Sector':  re12[4],'MSCI ACWI':  re12[5],\n",
    "                  'MSCI EAFE':  re12[6],'MSCI Emerging Markets':  re12[7], 'MSCI Japan':  re12[8],\n",
    "                  'MSCI USA ESG Select':  re12[9], 'Nasdaq Biotechnology':  re12[10], 'NorthAmerican Tech Multimedia Networking': re12[11],\n",
    "                  'PHLX Semiconductor':  re12[12], 'Preferred and Income Securities': re12[13], 'Russell 1000':  re12[14],\n",
    "                  'Russell 1000 Growth':  re12[15],'Russell 1000 Value':  re12[16], 'Russell 2000':  re12[17],\n",
    "                  'SP 500 Growth':  re12[18],'US Basic Materials':  re12[19],\n",
    "                  'US Consumer Services':  re12[20], 'SP 500 Value':  re12[21], 'US Energy':  re12[22],\n",
    "                  'US Financial Services': re12[23], 'US Financials': re12[24], 'US Healthcare':  re12[25], 'Home Construction': re12[26],\n",
    "                  'US Industrials': re12[27], 'US Medical Devices': re12[28], 'US Pharmaceuticals': re12[29],\n",
    "                  'US Technology': re12[30],'US Telecommunications': re12[31]})\n",
    "\n",
    "#a = a[12:24]\n",
    "pd.set_option('display.max_columns', 32)\n"
   ]
  },
  {
   "cell_type": "code",
   "execution_count": 39,
   "metadata": {},
   "outputs": [],
   "source": [
    "r11 = pd.DataFrame({'Core SP 500': re11[0],'Core SP Mid Cap':  re11[1],\n",
    "                  'Core SP Total US Stock Market':  re11[2],'Expanded Tech Sector':  re16[3],\n",
    "                  'Expanded Tech Software Sector':  re11[4],'MSCI ACWI':  re11[5],\n",
    "                  'MSCI EAFE':  re11[6],'MSCI Emerging Markets':  re11[7], 'MSCI Japan':  re11[8],\n",
    "                  'MSCI USA ESG Select':  re11[9], 'Nasdaq Biotechnology':  re11[10], 'NorthAmerican Tech Multimedia Networking': re11[11],\n",
    "                  'PHLX Semiconductor':  re11[12], 'Preferred and Income Securities': re11[13], 'Russell 1000':  re11[14],\n",
    "                  'Russell 1000 Growth':  re11[15],'Russell 1000 Value':  re11[16], 'Russell 2000':  re11[17],\n",
    "                  'SP 500 Growth':  re11[18],'US Basic Materials':  re11[19],\n",
    "                  'US Consumer Services':  re11[20], 'SP 500 Value':  re11[21], 'US Energy':  re11[22],\n",
    "                  'US Financial Services': re11[23], 'US Financials': re11[24], 'US Healthcare':  re11[25], 'Home Construction': re11[26],\n",
    "                  'US Industrials': re11[27], 'US Medical Devices': re11[28], 'US Pharmaceuticals': re11[29],\n",
    "                  'US Technology': re11[30],'US Telecommunications': re11[31]})\n",
    "\n",
    "#a = a[12:24]\n",
    "pd.set_option('display.max_columns', 32)\n"
   ]
  },
  {
   "cell_type": "code",
   "execution_count": 40,
   "metadata": {},
   "outputs": [],
   "source": [
    "r10 = pd.DataFrame({'Core SP 500': re10[0],'Core SP Mid Cap':  re10[1],\n",
    "                  'Core SP Total US Stock Market':  re10[2],'Expanded Tech Sector':  re10[3],\n",
    "                  'Expanded Tech Software Sector':  re10[4],'MSCI ACWI':  re10[5],\n",
    "                  'MSCI EAFE':  re10[6],'MSCI Emerging Markets':  re10[7], 'MSCI Japan':  re10[8],\n",
    "                  'MSCI USA ESG Select':  re10[9], 'Nasdaq Biotechnology':  re10[10], 'NorthAmerican Tech Multimedia Networking': re10[11],\n",
    "                  'PHLX Semiconductor':  re10[12], 'Preferred and Income Securities': re10[13], 'Russell 1000':  re10[14],\n",
    "                  'Russell 1000 Growth':  re10[15],'Russell 1000 Value':  re10[16], 'Russell 2000':  re10[17],\n",
    "                  'SP 500 Growth':  re10[18],'US Basic Materials':  re10[19],\n",
    "                  'US Consumer Services':  re10[20], 'SP 500 Value':  re10[21], 'US Energy':  re10[22],\n",
    "                  'US Financial Services': re10[23], 'US Financials': re10[24], 'US Healthcare':  re10[25], 'Home Construction': re10[26],\n",
    "                  'US Industrials': re10[27], 'US Medical Devices': re10[28], 'US Pharmaceuticals': re10[29],\n",
    "                  'US Technology': re10[30],'US Telecommunications': re10[31]})\n",
    "\n",
    "#a = a[12:24]\n",
    "pd.set_option('display.max_columns', 32)\n"
   ]
  },
  {
   "cell_type": "code",
   "execution_count": 41,
   "metadata": {},
   "outputs": [],
   "source": [
    "r9 = pd.DataFrame({'Core SP 500': re9[0],'Core SP Mid Cap':  re9[1],\n",
    "                  'Core SP Total US Stock Market':  re9[2],'Expanded Tech Sector':  re9[3],\n",
    "                  'Expanded Tech Software Sector':  re11[4],'MSCI ACWI':  re9[5],\n",
    "                  'MSCI EAFE':  re9[6],'MSCI Emerging Markets':  re9[7], 'MSCI Japan':  re9[8],\n",
    "                  'MSCI USA ESG Select':  re9[9], 'Nasdaq Biotechnology':  re9[10], 'NorthAmerican Tech Multimedia Networking': re9[11],\n",
    "                  'PHLX Semiconductor':  re9[12], 'Preferred and Income Securities': re9[13], 'Russell 1000':  re9[14],\n",
    "                  'Russell 1000 Growth':  re9[15],'Russell 1000 Value':  re9[16], 'Russell 2000':  re9[17],\n",
    "                  'SP 500 Growth':  re9[18],'US Basic Materials':  re9[19],\n",
    "                  'US Consumer Services':  re9[20], 'SP 500 Value':  re9[21], 'US Energy':  re9[22],\n",
    "                  'US Financial Services': re9[23], 'US Financials': re9[24], 'US Healthcare':  re9[25], 'Home Construction': re9[26],\n",
    "                  'US Industrials': re9[27], 'US Medical Devices': re9[28], 'US Pharmaceuticals': re9[29],\n",
    "                  'US Technology': re9[30],'US Telecommunications': re9[31]})\n",
    "\n",
    "#a = a[12:24]\n",
    "pd.set_option('display.max_columns', 32)"
   ]
  },
  {
   "cell_type": "code",
   "execution_count": 42,
   "metadata": {},
   "outputs": [],
   "source": [
    "risk19=ports_vol(r19,equal_we)\n",
    "r19=r18\n",
    "risk18=ports_vol(r18,equal_we)\n",
    "r19=r17\n",
    "risk17=ports_vol(r17,equal_we)\n",
    "r19=r16\n",
    "risk16=ports_vol(r16,equal_we)\n",
    "r19=r15\n",
    "risk15=ports_vol(r19,equal_we)\n",
    "r19=r14\n",
    "risk14=ports_vol(r19,equal_we)\n",
    "r19=r13\n",
    "risk13=ports_vol(r19,equal_we)\n",
    "r19=r12\n",
    "risk12=ports_vol(r19,equal_we)\n",
    "r19=r11\n",
    "risk11=ports_vol(r19,equal_we)\n",
    "r19=r10\n",
    "risk10=ports_vol(r19,equal_we)\n",
    "r19=r9\n",
    "risk9=ports_vol(r19,equal_we)\n",
    "r19=df_rend\n",
    "risk8=ports_vol(r19,equal_we)\n",
    "risk_ew=[risk8,risk9,risk10,risk11,risk12,risk13,risk14,risk15,risk16,risk17,risk18,risk19]"
   ]
  },
  {
   "cell_type": "code",
   "execution_count": null,
   "metadata": {},
   "outputs": [],
   "source": []
  },
  {
   "cell_type": "markdown",
   "metadata": {},
   "source": [
    "# min variance"
   ]
  },
  {
   "cell_type": "code",
   "execution_count": 43,
   "metadata": {
    "collapsed": true
   },
   "outputs": [],
   "source": [
    "pv=np.array([0.027815,0.022344,0.064484,0.003748,0.018357,0.013804,0.067573,0.006851,0.019555,0.038672,0.067051,0.046425,\n",
    "    0.012601,0.001928,0.034970,0.001826,0.046842,0.050358,0.033331,0.001242,0.038803,0.038112,0.002219,0.024148,\n",
    "    0.068672,0.005738,0.046131,0.027246,0.036965,0.069215,0.032499,0.030476])"
   ]
  },
  {
   "cell_type": "code",
   "execution_count": 44,
   "metadata": {
    "collapsed": true
   },
   "outputs": [],
   "source": [
    "# calculate daily and annual returns of the stocks\n",
    "def ports_vol(r19,pv):\n",
    "    returns_daily = r19\n",
    "    returns_annual = returns_daily.mean() * 12\n",
    "\n",
    "    # get daily and covariance of returns of the stock\n",
    "    cov_daily = r19.cov()\n",
    "    cov_annual = cov_daily * 12\n",
    "    #port_volatility = []\n",
    "\n",
    "    #set random seed for reproduction's sake\n",
    "    np.random.seed(101)\n",
    "\n",
    "    # populate the empty lists with each portfolios returns,risk and weights\n",
    "\n",
    "    returns = np.dot(pv, returns_annual)\n",
    "    volatility = np.sqrt(np.dot(pv.T, np.dot(cov_annual, pv)))\n",
    "    #port_volatility.append(volatility)\n",
    "    return(volatility)"
   ]
  },
  {
   "cell_type": "code",
   "execution_count": 45,
   "metadata": {
    "collapsed": true
   },
   "outputs": [],
   "source": [
    "r19 = pd.DataFrame({'Core SP 500': r[0],'Core SP Mid Cap':  r[1],\n",
    "                  'Core SP Total US Stock Market':  r[2],'Expanded Tech Sector':  r[3],\n",
    "                  'Expanded Tech Software Sector':  r[4],'MSCI ACWI':  r[5],\n",
    "                  'MSCI EAFE':  r[6],'MSCI Emerging Markets':  r[7], 'MSCI Japan':  r[8],\n",
    "                  'MSCI USA ESG Select':  r[9], 'Nasdaq Biotechnology':  r[10], 'NorthAmerican Tech Multimedia Networking': r[11],\n",
    "                  'PHLX Semiconductor':  r[12], 'Preferred and Income Securities': r[13], 'Russell 1000':  r[14],\n",
    "                  'Russell 1000 Growth':  r[15],'Russell 1000 Value':  r[16], 'Russell 2000':  r[17],\n",
    "                  'SP 500 Growth':  r[18],'US Basic Materials':  r[19],\n",
    "                  'US Consumer Services':  r[20], 'SP 500 Value':  r[21], 'US Energy':  r[22],\n",
    "                  'US Financial Services': r[23], 'US Financials': r[24], 'US Healthcare':  r[25], 'Home Construction': r[26],\n",
    "                  'US Industrials': r[27], 'US Medical Devices': r[28], 'US Pharmaceuticals': r[29],\n",
    "                  'US Technology': r[30],'US Telecommunications': r[31]})\n",
    "\n",
    "#a = a[12:24]\n",
    "pd.set_option('display.max_columns', 32)"
   ]
  },
  {
   "cell_type": "code",
   "execution_count": 46,
   "metadata": {},
   "outputs": [],
   "source": [
    "riskpv19=ports_vol(r19,pv)\n",
    "r19=r18\n",
    "riskpv18=ports_vol(r19,pv)\n",
    "r19=r17\n",
    "riskpv17=ports_vol(r19,pv)\n",
    "r19=r16\n",
    "riskpv16=ports_vol(r19,pv)\n",
    "r19=r15\n",
    "riskpv15=ports_vol(r19,pv)\n",
    "r19=r14\n",
    "riskpv14=ports_vol(r19,pv)\n",
    "r19=r13\n",
    "riskpv13=ports_vol(r19,pv)\n",
    "r19=r12\n",
    "riskpv12=ports_vol(r19,pv)\n",
    "r19=r11\n",
    "riskpv11=ports_vol(r19,pv)\n",
    "r19=r10\n",
    "riskpv10=ports_vol(r19,pv)\n",
    "r19=r9\n",
    "riskpv9=ports_vol(r19,pv)\n",
    "r19=df_rend\n",
    "riskpv8=ports_vol(r19,pv)\n",
    "risk_pv=[riskpv8,riskpv9,riskpv10,riskpv11,riskpv12,riskpv13,riskpv14,riskpv15,riskpv16,riskpv17,riskpv18,riskpv19]\n"
   ]
  },
  {
   "cell_type": "markdown",
   "metadata": {},
   "source": [
    "# max sharpe"
   ]
  },
  {
   "cell_type": "code",
   "execution_count": 47,
   "metadata": {
    "collapsed": true
   },
   "outputs": [],
   "source": [
    "ps=np.array([0.013933,0.047979,0.033390,0.042643,0.072411,0.003220,0.017133,0.049593,0.016593,0.030975,0.007098,0.043459,\n",
    "   0.006785,0.005140,0.034365,0.033948,0.002603,0.002349,0.060880,0.064910,0.062777,0.012096,0.033776,0.072945,\n",
    "   0.001533,0.009174,0.016492,0.020435,0.002385,0.069713,0.065061,0.044208])"
   ]
  },
  {
   "cell_type": "code",
   "execution_count": 48,
   "metadata": {
    "collapsed": true
   },
   "outputs": [],
   "source": [
    "# calculate daily and annual returns of the stocks\n",
    "def ports_vol(r19,ps):\n",
    "    returns_daily = r19\n",
    "    returns_annual = returns_daily.mean() * 12\n",
    "\n",
    "    # get daily and covariance of returns of the stock\n",
    "    cov_daily = r19.cov()\n",
    "    cov_annual = cov_daily * 12\n",
    "    #port_volatility = []\n",
    "\n",
    "    #set random seed for reproduction's sake\n",
    "    np.random.seed(101)\n",
    "\n",
    "    # populate the empty lists with each portfolios returns,risk and weights\n",
    "\n",
    "    returns = np.dot(ps, returns_annual)\n",
    "    volatility = np.sqrt(np.dot(ps.T, np.dot(cov_annual, ps)))\n",
    "    #port_volatility.append(volatility)\n",
    "    return(volatility)"
   ]
  },
  {
   "cell_type": "code",
   "execution_count": 49,
   "metadata": {},
   "outputs": [],
   "source": [
    "r19 = pd.DataFrame({'Core SP 500': r[0],'Core SP Mid Cap':  r[1],\n",
    "                  'Core SP Total US Stock Market':  r[2],'Expanded Tech Sector':  r[3],\n",
    "                  'Expanded Tech Software Sector':  r[4],'MSCI ACWI':  r[5],\n",
    "                  'MSCI EAFE':  r[6],'MSCI Emerging Markets':  r[7], 'MSCI Japan':  r[8],\n",
    "                  'MSCI USA ESG Select':  r[9], 'Nasdaq Biotechnology':  r[10], 'NorthAmerican Tech Multimedia Networking': r[11],\n",
    "                  'PHLX Semiconductor':  r[12], 'Preferred and Income Securities': r[13], 'Russell 1000':  r[14],\n",
    "                  'Russell 1000 Growth':  r[15],'Russell 1000 Value':  r[16], 'Russell 2000':  r[17],\n",
    "                  'SP 500 Growth':  r[18],'US Basic Materials':  r[19],\n",
    "                  'US Consumer Services':  r[20], 'SP 500 Value':  r[21], 'US Energy':  r[22],\n",
    "                  'US Financial Services': r[23], 'US Financials': r[24], 'US Healthcare':  r[25], 'Home Construction': r[26],\n",
    "                  'US Industrials': r[27], 'US Medical Devices': r[28], 'US Pharmaceuticals': r[29],\n",
    "                  'US Technology': r[30],'US Telecommunications': r[31]})\n",
    "\n",
    "#a = a[12:24]\n",
    "pd.set_option('display.max_columns', 32)\n"
   ]
  },
  {
   "cell_type": "code",
   "execution_count": 50,
   "metadata": {},
   "outputs": [],
   "source": [
    "riskps19=ports_vol(r19,ps)\n",
    "r19=r18\n",
    "riskps18=ports_vol(r19,ps)\n",
    "r19=r17\n",
    "riskps17=ports_vol(r19,ps)\n",
    "r19=r16\n",
    "riskps16=ports_vol(r19,ps)\n",
    "r19=r15\n",
    "riskps15=ports_vol(r19,ps)\n",
    "r19=r14\n",
    "riskps14=ports_vol(r19,ps)\n",
    "r19=r13\n",
    "riskps13=ports_vol(r19,ps)\n",
    "r19=r12\n",
    "riskps12=ports_vol(r19,ps)\n",
    "r19=r11\n",
    "riskps11=ports_vol(r19,ps)\n",
    "r19=r10\n",
    "riskps10=ports_vol(r19,ps)\n",
    "r19=r9\n",
    "riskps9=ports_vol(r19,ps)\n",
    "r19=df_rend\n",
    "riskps8=ports_vol(r19,ps)\n",
    "risk_ps=[riskps8,riskps9,riskps10,riskps11,riskps12,riskps13,riskps14,riskps15,riskps16,riskps17,riskps18,riskps19]"
   ]
  },
  {
   "cell_type": "code",
   "execution_count": null,
   "metadata": {
    "collapsed": true
   },
   "outputs": [],
   "source": []
  },
  {
   "cell_type": "code",
   "execution_count": null,
   "metadata": {
    "collapsed": true
   },
   "outputs": [],
   "source": []
  },
  {
   "cell_type": "markdown",
   "metadata": {},
   "source": [
    "### Medidas de Atribución al desempeño"
   ]
  },
  {
   "cell_type": "markdown",
   "metadata": {},
   "source": [
    "## sharpe"
   ]
  },
  {
   "cell_type": "code",
   "execution_count": 69,
   "metadata": {},
   "outputs": [],
   "source": [
    "usd_rate=[0.0017,0.0013,0.0012,0.0032,0.0061, 0.0120,\n",
    "         0.0233, 0.0253,0.0608,0.0345,0.0200,0.0124]            \n",
    "sharpe_ew=[]\n",
    "for i in range(12):\n",
    "    sharpe_ew.append((rend_port[i]-usd_rate[i])/risk_ew[i])\n",
    "    \n",
    "sharpe_pv=[]\n",
    "for i in range(12):\n",
    "    sharpe_pv.append((rend_port2[i]-usd_rate[i])/risk_pv[i])\n",
    "    \n",
    "sharpe_ps=[]\n",
    "for i in range(12):\n",
    "    sharpe_ps.append((rend_port3[i]-usd_rate[i])/risk_ps[i])\n"
   ]
  },
  {
   "cell_type": "code",
   "execution_count": 70,
   "metadata": {},
   "outputs": [
    {
     "data": {
      "text/plain": [
       "[-0.1612371766928189,\n",
       " 0.12036803423327094,\n",
       " 0.081092522462727995,\n",
       " 0.00075243843659081246,\n",
       " 0.13826097418281827,\n",
       " 0.35400515791756887,\n",
       " 0.16080230413606458,\n",
       " 0.016035252042726867,\n",
       " 0.062291965352061295,\n",
       " 0.44976111489555853,\n",
       " -0.035614723304650334,\n",
       " 0.50521922585187584]"
      ]
     },
     "execution_count": 70,
     "metadata": {},
     "output_type": "execute_result"
    }
   ],
   "source": [
    "sharpe_pv"
   ]
  },
  {
   "cell_type": "markdown",
   "metadata": {},
   "source": [
    "## $M^2$"
   ]
  },
  {
   "cell_type": "code",
   "execution_count": 71,
   "metadata": {
    "collapsed": true
   },
   "outputs": [],
   "source": [
    "dj=[5.30E-05,0.002534935,-0.001651877,-0.000595315,-0.000150812,-0.000293395,-0.000537755,-0.000444177,\n",
    "    0.000453782,-0.000901659,0.000521425,0.000521425]"
   ]
  },
  {
   "cell_type": "code",
   "execution_count": 72,
   "metadata": {
    "collapsed": true
   },
   "outputs": [],
   "source": [
    "var_bond=[]\n",
    "for i in range(12):\n",
    "    x=0.0015\n",
    "    var_bond.append(x)"
   ]
  },
  {
   "cell_type": "code",
   "execution_count": 74,
   "metadata": {
    "collapsed": true
   },
   "outputs": [],
   "source": [
    "mc_ew=[]\n",
    "for i in range (12):\n",
    "    ope_ew=usd_rate[i]*(1-(0.0015/risk_ew[i]))+rend_port[i]*(0.0015/risk_ew[i])\n",
    "    mc_ew.append(ope_ew)\n",
    "    \n",
    "mc_pv=[]\n",
    "for i in range (12):\n",
    "    ope_pv=usd_rate[i]*(1-(0.0015/risk_pv[i]))+rend_port2[i]*(0.0015/risk_pv[i])\n",
    "    mc_pv.append(ope_pv)\n",
    "    \n",
    "mc_ps=[]\n",
    "for i in range (12):\n",
    "    ope_ps=usd_rate[i]*(1-(0.0015/risk_ps[i]))+rend_port3[i]*(0.0015/risk_ps[i])\n",
    "    mc_ps.append(ope_ps)\n",
    "    \n"
   ]
  },
  {
   "cell_type": "code",
   "execution_count": 76,
   "metadata": {},
   "outputs": [
    {
     "data": {
      "text/html": [
       "<div>\n",
       "<style scoped>\n",
       "    .dataframe tbody tr th:only-of-type {\n",
       "        vertical-align: middle;\n",
       "    }\n",
       "\n",
       "    .dataframe tbody tr th {\n",
       "        vertical-align: top;\n",
       "    }\n",
       "\n",
       "    .dataframe thead th {\n",
       "        text-align: right;\n",
       "    }\n",
       "</style>\n",
       "<table border=\"1\" class=\"dataframe\">\n",
       "  <thead>\n",
       "    <tr style=\"text-align: right;\">\n",
       "      <th></th>\n",
       "      <th>Return equal weight</th>\n",
       "      <th>Risk equal weight</th>\n",
       "      <th>Sharpe equal weight</th>\n",
       "      <th>$m^2$equal weight</th>\n",
       "      <th>Return min variance</th>\n",
       "      <th>Risk min variance</th>\n",
       "      <th>Sharpe  min variance</th>\n",
       "      <th>$m^2$min variance</th>\n",
       "      <th>Return max sharpe</th>\n",
       "      <th>Risk max sharpe</th>\n",
       "      <th>Sharpe max sharpe</th>\n",
       "      <th>$m^2$max sharpe</th>\n",
       "    </tr>\n",
       "  </thead>\n",
       "  <tbody>\n",
       "    <tr>\n",
       "      <th>2008</th>\n",
       "      <td>-3.633281</td>\n",
       "      <td>23.776272</td>\n",
       "      <td>-0.152883</td>\n",
       "      <td>0.001471</td>\n",
       "      <td>-3.333182</td>\n",
       "      <td>20.683082</td>\n",
       "      <td>-0.161237</td>\n",
       "      <td>0.001458</td>\n",
       "      <td>-3.311104</td>\n",
       "      <td>24.139795</td>\n",
       "      <td>-0.137234</td>\n",
       "      <td>0.001494</td>\n",
       "    </tr>\n",
       "    <tr>\n",
       "      <th>2009</th>\n",
       "      <td>2.737031</td>\n",
       "      <td>19.624256</td>\n",
       "      <td>0.139406</td>\n",
       "      <td>0.001509</td>\n",
       "      <td>2.435414</td>\n",
       "      <td>20.222266</td>\n",
       "      <td>0.120368</td>\n",
       "      <td>0.001481</td>\n",
       "      <td>2.711919</td>\n",
       "      <td>18.077254</td>\n",
       "      <td>0.149946</td>\n",
       "      <td>0.001525</td>\n",
       "    </tr>\n",
       "    <tr>\n",
       "      <th>2010</th>\n",
       "      <td>1.437057</td>\n",
       "      <td>16.760734</td>\n",
       "      <td>0.085668</td>\n",
       "      <td>0.001329</td>\n",
       "      <td>1.337368</td>\n",
       "      <td>16.477076</td>\n",
       "      <td>0.081093</td>\n",
       "      <td>0.001322</td>\n",
       "      <td>1.529856</td>\n",
       "      <td>18.632016</td>\n",
       "      <td>0.082045</td>\n",
       "      <td>0.001323</td>\n",
       "    </tr>\n",
       "    <tr>\n",
       "      <th>2011</th>\n",
       "      <td>-0.146510</td>\n",
       "      <td>13.859047</td>\n",
       "      <td>-0.010802</td>\n",
       "      <td>0.003184</td>\n",
       "      <td>0.013646</td>\n",
       "      <td>13.883298</td>\n",
       "      <td>0.000752</td>\n",
       "      <td>0.003201</td>\n",
       "      <td>0.070123</td>\n",
       "      <td>15.118012</td>\n",
       "      <td>0.004427</td>\n",
       "      <td>0.003207</td>\n",
       "    </tr>\n",
       "    <tr>\n",
       "      <th>2012</th>\n",
       "      <td>1.444688</td>\n",
       "      <td>10.445169</td>\n",
       "      <td>0.137728</td>\n",
       "      <td>0.006307</td>\n",
       "      <td>1.445717</td>\n",
       "      <td>10.412319</td>\n",
       "      <td>0.138261</td>\n",
       "      <td>0.006307</td>\n",
       "      <td>1.304644</td>\n",
       "      <td>11.514216</td>\n",
       "      <td>0.112777</td>\n",
       "      <td>0.006269</td>\n",
       "    </tr>\n",
       "    <tr>\n",
       "      <th>2013</th>\n",
       "      <td>2.260573</td>\n",
       "      <td>6.266915</td>\n",
       "      <td>0.358801</td>\n",
       "      <td>0.012538</td>\n",
       "      <td>2.400405</td>\n",
       "      <td>6.746808</td>\n",
       "      <td>0.354005</td>\n",
       "      <td>0.012531</td>\n",
       "      <td>2.318364</td>\n",
       "      <td>7.843096</td>\n",
       "      <td>0.294063</td>\n",
       "      <td>0.012441</td>\n",
       "    </tr>\n",
       "    <tr>\n",
       "      <th>2014</th>\n",
       "      <td>0.950156</td>\n",
       "      <td>6.167543</td>\n",
       "      <td>0.150280</td>\n",
       "      <td>0.023525</td>\n",
       "      <td>1.046270</td>\n",
       "      <td>6.361665</td>\n",
       "      <td>0.160802</td>\n",
       "      <td>0.023541</td>\n",
       "      <td>0.885838</td>\n",
       "      <td>7.605005</td>\n",
       "      <td>0.113417</td>\n",
       "      <td>0.023470</td>\n",
       "    </tr>\n",
       "    <tr>\n",
       "      <th>2015</th>\n",
       "      <td>0.144766</td>\n",
       "      <td>11.569970</td>\n",
       "      <td>0.010325</td>\n",
       "      <td>0.025315</td>\n",
       "      <td>0.207290</td>\n",
       "      <td>11.349383</td>\n",
       "      <td>0.016035</td>\n",
       "      <td>0.025324</td>\n",
       "      <td>0.169542</td>\n",
       "      <td>13.678441</td>\n",
       "      <td>0.010545</td>\n",
       "      <td>0.025316</td>\n",
       "    </tr>\n",
       "    <tr>\n",
       "      <th>2016</th>\n",
       "      <td>0.936797</td>\n",
       "      <td>10.168089</td>\n",
       "      <td>0.086152</td>\n",
       "      <td>0.060929</td>\n",
       "      <td>0.755484</td>\n",
       "      <td>11.152062</td>\n",
       "      <td>0.062292</td>\n",
       "      <td>0.060893</td>\n",
       "      <td>0.800294</td>\n",
       "      <td>12.048507</td>\n",
       "      <td>0.061376</td>\n",
       "      <td>0.060892</td>\n",
       "    </tr>\n",
       "    <tr>\n",
       "      <th>2017</th>\n",
       "      <td>1.711771</td>\n",
       "      <td>3.043887</td>\n",
       "      <td>0.551029</td>\n",
       "      <td>0.035327</td>\n",
       "      <td>1.571432</td>\n",
       "      <td>3.417218</td>\n",
       "      <td>0.449761</td>\n",
       "      <td>0.035175</td>\n",
       "      <td>1.553839</td>\n",
       "      <td>2.911081</td>\n",
       "      <td>0.521916</td>\n",
       "      <td>0.035283</td>\n",
       "    </tr>\n",
       "    <tr>\n",
       "      <th>2018</th>\n",
       "      <td>-0.489427</td>\n",
       "      <td>12.240760</td>\n",
       "      <td>-0.041617</td>\n",
       "      <td>0.019938</td>\n",
       "      <td>-0.447912</td>\n",
       "      <td>13.138156</td>\n",
       "      <td>-0.035615</td>\n",
       "      <td>0.019947</td>\n",
       "      <td>-0.417584</td>\n",
       "      <td>15.217601</td>\n",
       "      <td>-0.028755</td>\n",
       "      <td>0.019957</td>\n",
       "    </tr>\n",
       "    <tr>\n",
       "      <th>2019</th>\n",
       "      <td>5.951094</td>\n",
       "      <td>11.764440</td>\n",
       "      <td>0.504800</td>\n",
       "      <td>0.013157</td>\n",
       "      <td>5.805703</td>\n",
       "      <td>11.466910</td>\n",
       "      <td>0.505219</td>\n",
       "      <td>0.013158</td>\n",
       "      <td>6.208828</td>\n",
       "      <td>11.576298</td>\n",
       "      <td>0.535269</td>\n",
       "      <td>0.013203</td>\n",
       "    </tr>\n",
       "  </tbody>\n",
       "</table>\n",
       "</div>"
      ],
      "text/plain": [
       "      Return equal weight  Risk equal weight  Sharpe equal weight  \\\n",
       "2008            -3.633281          23.776272            -0.152883   \n",
       "2009             2.737031          19.624256             0.139406   \n",
       "2010             1.437057          16.760734             0.085668   \n",
       "2011            -0.146510          13.859047            -0.010802   \n",
       "2012             1.444688          10.445169             0.137728   \n",
       "2013             2.260573           6.266915             0.358801   \n",
       "2014             0.950156           6.167543             0.150280   \n",
       "2015             0.144766          11.569970             0.010325   \n",
       "2016             0.936797          10.168089             0.086152   \n",
       "2017             1.711771           3.043887             0.551029   \n",
       "2018            -0.489427          12.240760            -0.041617   \n",
       "2019             5.951094          11.764440             0.504800   \n",
       "\n",
       "      $m^2$equal weight  Return min variance  Risk min variance  \\\n",
       "2008           0.001471            -3.333182          20.683082   \n",
       "2009           0.001509             2.435414          20.222266   \n",
       "2010           0.001329             1.337368          16.477076   \n",
       "2011           0.003184             0.013646          13.883298   \n",
       "2012           0.006307             1.445717          10.412319   \n",
       "2013           0.012538             2.400405           6.746808   \n",
       "2014           0.023525             1.046270           6.361665   \n",
       "2015           0.025315             0.207290          11.349383   \n",
       "2016           0.060929             0.755484          11.152062   \n",
       "2017           0.035327             1.571432           3.417218   \n",
       "2018           0.019938            -0.447912          13.138156   \n",
       "2019           0.013157             5.805703          11.466910   \n",
       "\n",
       "      Sharpe  min variance  $m^2$min variance  Return max sharpe  \\\n",
       "2008             -0.161237           0.001458          -3.311104   \n",
       "2009              0.120368           0.001481           2.711919   \n",
       "2010              0.081093           0.001322           1.529856   \n",
       "2011              0.000752           0.003201           0.070123   \n",
       "2012              0.138261           0.006307           1.304644   \n",
       "2013              0.354005           0.012531           2.318364   \n",
       "2014              0.160802           0.023541           0.885838   \n",
       "2015              0.016035           0.025324           0.169542   \n",
       "2016              0.062292           0.060893           0.800294   \n",
       "2017              0.449761           0.035175           1.553839   \n",
       "2018             -0.035615           0.019947          -0.417584   \n",
       "2019              0.505219           0.013158           6.208828   \n",
       "\n",
       "      Risk max sharpe  Sharpe max sharpe  $m^2$max sharpe  \n",
       "2008        24.139795          -0.137234         0.001494  \n",
       "2009        18.077254           0.149946         0.001525  \n",
       "2010        18.632016           0.082045         0.001323  \n",
       "2011        15.118012           0.004427         0.003207  \n",
       "2012        11.514216           0.112777         0.006269  \n",
       "2013         7.843096           0.294063         0.012441  \n",
       "2014         7.605005           0.113417         0.023470  \n",
       "2015        13.678441           0.010545         0.025316  \n",
       "2016        12.048507           0.061376         0.060892  \n",
       "2017         2.911081           0.521916         0.035283  \n",
       "2018        15.217601          -0.028755         0.019957  \n",
       "2019        11.576298           0.535269         0.013203  "
      ]
     },
     "execution_count": 76,
     "metadata": {},
     "output_type": "execute_result"
    }
   ],
   "source": [
    "rendew=pd.DataFrame(columns=['Return equal weight','Risk equal weight','Sharpe equal weight','$m^2$equal weight',\n",
    "                             'Return min variance','Risk min variance','Sharpe  min variance','$m^2$min variance',\n",
    "                             'Return max sharpe','Risk max sharpe','Sharpe max sharpe','$m^2$max sharpe'],index=years_m)\n",
    "\n",
    "rendew['Return equal weight']=rend_port\n",
    "rendew['Risk equal weight']=risk_ew\n",
    "rendew['Sharpe equal weight']=sharpe_ew\n",
    "rendew['$m^2$equal weight']=mc_ew\n",
    "\n",
    "rendew['Return min variance']=rend_port2\n",
    "rendew['Risk min variance']=risk_pv\n",
    "rendew['Sharpe  min variance']=sharpe_pv\n",
    "rendew['$m^2$min variance']=mc_pv\n",
    "\n",
    "rendew['Return max sharpe']=rend_port3\n",
    "rendew['Risk max sharpe']=risk_ps\n",
    "rendew['Sharpe max sharpe']=sharpe_ps\n",
    "rendew['$m^2$max sharpe']=mc_ps\n",
    "rendew"
   ]
  },
  {
   "cell_type": "code",
   "execution_count": 81,
   "metadata": {
    "collapsed": true
   },
   "outputs": [],
   "source": [
    "years_m= []\n",
    "for i in range(2007,2019):\n",
    "    years_m.append(1+i)"
   ]
  },
  {
   "cell_type": "code",
   "execution_count": 82,
   "metadata": {
    "collapsed": true
   },
   "outputs": [],
   "source": [
    "years = years_m\n",
    "MAD = ['Return equal weight','Risk equal weight','Sharpe equal weight','$m^2$equal weight',\n",
    "       'Return min variance','Risk min variance','Sharpe  min variance','$m^2$min variance',\n",
    "       'Return max sharpe','Risk max sharpe','Sharpe max sharpe','$m^2$max sharpe']\n",
    "\n",
    "datas = np.array([rendew.iloc[0],rendew.iloc[1],rendew.iloc[2],rendew.iloc[3],rendew.iloc[4],\n",
    "                   rendew.iloc[5],rendew.iloc[6],rendew.iloc[7],rendew.iloc[8],rendew.iloc[9],\n",
    "                   rendew.iloc[10],rendew.iloc[11]])"
   ]
  },
  {
   "cell_type": "code",
   "execution_count": 83,
   "metadata": {
    "collapsed": true
   },
   "outputs": [],
   "source": [
    "def heatmap(data, row_labels, col_labels, ax=None,\n",
    "            cbar_kw={}, cbarlabel=\"\", **kwargs):\n",
    "    \"\"\"\n",
    "    Create a heatmap from a numpy array and two lists of labels.\n",
    "\n",
    "    Arguments:\n",
    "        data       : A 2D numpy array of shape (N,M)\n",
    "        row_labels : A list or array of length N with the labels\n",
    "                     for the rows\n",
    "        col_labels : A list or array of length M with the labels\n",
    "                     for the columns\n",
    "    Optional arguments:\n",
    "        ax         : A matplotlib.axes.Axes instance to which the heatmap\n",
    "                     is plotted. If not provided, use current axes or\n",
    "                     create a new one.\n",
    "        cbar_kw    : A dictionary with arguments to\n",
    "                     :meth:`matplotlib.Figure.colorbar`.\n",
    "        cbarlabel  : The label for the colorbar\n",
    "    All other arguments are directly passed on to the imshow call.\n",
    "    \"\"\"\n",
    "\n",
    "    if not ax:\n",
    "        ax = plt.gca()\n",
    "\n",
    "    # Plot the heatmap\n",
    "    im = ax.imshow(data, **kwargs)\n",
    "\n",
    "    # Create colorbar\n",
    "    cbar = ax.figure.colorbar(im, ax=ax, **cbar_kw)\n",
    "    cbar.ax.set_ylabel(cbarlabel, rotation=-90, va=\"bottom\")\n",
    "\n",
    "    # We want to show all ticks...\n",
    "    ax.set_xticks(np.arange(data.shape[1]))\n",
    "    ax.set_yticks(np.arange(data.shape[0]))\n",
    "    # ... and label them with the respective list entries.\n",
    "    ax.set_xticklabels(col_labels)\n",
    "    ax.set_yticklabels(row_labels)\n",
    "\n",
    "    # Let the horizontal axes labeling appear on top.\n",
    "    ax.tick_params(top=True, bottom=False,\n",
    "                   labeltop=True, labelbottom=False)\n",
    "\n",
    "    # Rotate the tick labels and set their alignment.\n",
    "    plt.setp(ax.get_xticklabels(), rotation=-30, ha=\"right\",\n",
    "             rotation_mode=\"anchor\")\n",
    "\n",
    "    # Turn spines off and create white grid.\n",
    "    for edge, spine in ax.spines.items():\n",
    "        spine.set_visible(False)\n",
    "\n",
    "    ax.set_xticks(np.arange(data.shape[1]+1)-.5, minor=True)\n",
    "    ax.set_yticks(np.arange(data.shape[0]+1)-.5, minor=True)\n",
    "    ax.grid(which=\"minor\", color=\"w\", linestyle='-', linewidth=3)\n",
    "    ax.tick_params(which=\"minor\", bottom=False, left=False)\n",
    "\n",
    "    return im, cbar\n",
    "\n",
    "\n",
    "def annotate_heatmap(im, data=None, valfmt=\"{x:.2f}\",\n",
    "                     textcolors=[\"black\", \"white\"],\n",
    "                     threshold=None, **textkw):\n",
    "    \"\"\"\n",
    "    A function to annotate a heatmap.\n",
    "\n",
    "    Arguments:\n",
    "        im         : The AxesImage to be labeled.\n",
    "    Optional arguments:\n",
    "        data       : Data used to annotate. If None, the image's data is used.\n",
    "        valfmt     : The format of the annotations inside the heatmap.\n",
    "                     This should either use the string format method, e.g.\n",
    "                     \"$ {x:.2f}\", or be a :class:`matplotlib.ticker.Formatter`.\n",
    "        textcolors : A list or array of two color specifications. The first is\n",
    "                     used for values below a threshold, the second for those\n",
    "                     above.\n",
    "        threshold  : Value in data units according to which the colors from\n",
    "                     textcolors are applied. If None (the default) uses the\n",
    "                     middle of the colormap as separation.\n",
    "\n",
    "    Further arguments are passed on to the created text labels.\n",
    "    \"\"\"\n",
    "\n",
    "    if not isinstance(data, (list, np.ndarray)):\n",
    "        data = im.get_array()\n",
    "\n",
    "    # Normalize the threshold to the images color range.\n",
    "    if threshold is not None:\n",
    "        threshold = im.norm(threshold)\n",
    "    else:\n",
    "        threshold = im.norm(data.max())/2.\n",
    "\n",
    "    # Set default alignment to center, but allow it to be\n",
    "    # overwritten by textkw.\n",
    "    kw = dict(horizontalalignment=\"center\",\n",
    "              verticalalignment=\"center\")\n",
    "    kw.update(textkw)\n",
    "\n",
    "    # Get the formatter in case a string is supplied\n",
    "    if isinstance(valfmt, str):\n",
    "        valfmt = matplotlib.ticker.StrMethodFormatter(valfmt)\n",
    "\n",
    "    # Loop over the data and create a `Text` for each \"pixel\".\n",
    "    # Change the text's color depending on the data.\n",
    "    texts = []\n",
    "    for i in range(data.shape[0]):\n",
    "        for j in range(data.shape[1]):\n",
    "            kw.update(color=textcolors[im.norm(data[i, j]) > threshold])\n",
    "            text = im.axes.text(j, i, valfmt(data[i, j], None), **kw)\n",
    "            texts.append(text)\n",
    "\n",
    "    return texts"
   ]
  },
  {
   "cell_type": "code",
   "execution_count": 84,
   "metadata": {},
   "outputs": [
    {
     "data": {
      "image/png": "[encoded data removed]",
      "text/plain": [
       "<matplotlib.figure.Figure at 0xb7272e8a90>"
      ]
     },
     "metadata": {},
     "output_type": "display_data"
    }
   ],
   "source": [
    "fig, ax = plt.subplots(figsize=(15,15))\n",
    "\n",
    "im, cbar = heatmap(datas, years, MAD, ax=ax,\n",
    "                   cmap=\"YlGn\", cbarlabel=\"MAD por año\")\n",
    "texts = annotate_heatmap(im)\n",
    "\n",
    "fig.tight_layout()\n",
    "plt.show()"
   ]
  },
  {
   "cell_type": "code",
   "execution_count": null,
   "metadata": {
    "collapsed": true
   },
   "outputs": [],
   "source": []
  },
  {
   "cell_type": "markdown",
   "metadata": {},
   "source": [
    "# Criterion #2:\n",
    "## IRR (Internal Rate of Return)"
   ]
  },
  {
   "cell_type": "markdown",
   "metadata": {},
   "source": [
    "> <p style='text-align: justify;'>  The internal rate of return (IRR) is a metric used in capital budgeting to estimate the profitability of potential investments. The internal rate of return is a discount rate that makes the net present value (NPV) of all cash flows from a particular project equal to zero."
   ]
  },
  {
   "cell_type": "markdown",
   "metadata": {},
   "source": [
    "<img style=\"float: center\" src=\"https://github.com/Dianachav/bebe/blob/master/IRR.png?raw=true\" width=\"300px\" height=\"300px\" />\n",
    "\n"
   ]
  },
  {
   "cell_type": "markdown",
   "metadata": {},
   "source": [
    "> <p style='text-align: justify;'> The higher a project's internal rate of return, the more desirable it is to undertake. IRR is uniform for investments of varying types and, as such, IRR can be used to rank multiple prospective projects on a relatively even basis. Assuming the costs of investment are equal among the various projects, the project with the highest IRR would probably be considered the best and be undertaken first."
   ]
  },
  {
   "cell_type": "markdown",
   "metadata": {},
   "source": [
    "> <p style='text-align: justify;'> IRR is useful for corporations in evaluating stock buyback programs. Clearly, if a company allocates a substantial amount to a stock buyback, the analysis must show that the company's own stock is a better investment (has a higher IRR) than any other use of the funds for other capital projects."
   ]
  },
  {
   "cell_type": "markdown",
   "metadata": {},
   "source": [
    "## Methodology of portfolios"
   ]
  },
  {
   "cell_type": "markdown",
   "metadata": {},
   "source": [
    "> <p style='text-align: justify;'> We are going to use three methods to create portfolios an then obtain the IRR in each of them:\n",
    "> <p style='text-align: justify;'>  1. Equal Weights in the Portfolio\n",
    "> <p style='text-align: justify;'> 2. Weights in the Portfolio using Markowitz's Minimun Variance\n",
    "> <p style='text-align: justify;'> 3. Weights in the Portfolio using Markowitz's Maximun Sharpe"
   ]
  },
  {
   "cell_type": "markdown",
   "metadata": {},
   "source": [
    "___\n",
    "### Fist Analysis:\n",
    "### Equal Weights in the Portfolio"
   ]
  },
  {
   "cell_type": "markdown",
   "metadata": {},
   "source": [
    "#### STEP #1:\n",
    "> <p  style='text-align: justify;'> \n",
    "Get the last NAV per year of each ETF in the sample that has been trading since 2008."
   ]
  },
  {
   "cell_type": "code",
   "execution_count": null,
   "metadata": {
    "collapsed": true
   },
   "outputs": [],
   "source": [
    "# Function to get the last nav per year of each ETF\n",
    "\n",
    "def ETF_nav(j):\n",
    "    date=[]\n",
    "    \n",
    "    ETF_n = pd.read_csv(listas[j]) #Read files\n",
    "    ETF_n = ETF_n.drop(columns = ['Index Level', 'Ex-Dividends', 'Shares Outstanding']) #Delete unnecessary columns\n",
    "    for i in range(len(ETF_n[\"As Of\"])): \n",
    "            date.append(ETF_n[\"As Of\"].iloc[i].replace(\"-\",\" \")) #Date Format\n",
    "    table_n=pd.DataFrame(columns=['Cash Flow' ])\n",
    "    table_n['As Of'] = date\n",
    "    table_n['Cash Flow'] = ETF_n['NAV per Share']\n",
    "    table_n['As Of'] = pd.to_datetime(table_n['As Of'], format='%d %b %y')\n",
    "    nav_t = table_n.groupby(table_n['As Of'].dt.year)['Cash Flow'].agg('first') #Group by the last NAV per year\n",
    "    return(nav_t)"
   ]
  },
  {
   "cell_type": "code",
   "execution_count": null,
   "metadata": {
    "collapsed": true
   },
   "outputs": [],
   "source": [
    "# Call the function ETF_nav that get the last NAV per year of each ETF\n",
    "\n",
    "n0 = ETF_nav(0) \n",
    "n1 = ETF_nav(1) \n",
    "n2 = ETF_nav(2) \n",
    "n3 = ETF_nav(3) \n",
    "n4 = ETF_nav(4) \n",
    "n5 = ETF_nav(5) \n",
    "n6 = ETF_nav(6) \n",
    "n7 = ETF_nav(7) \n",
    "n8 = ETF_nav(8) \n",
    "n9 = ETF_nav(9) \n",
    "n10 = ETF_nav(10) \n",
    "n11 = ETF_nav(11) \n",
    "n12 = ETF_nav(12) \n",
    "n13 = ETF_nav(13) \n",
    "n14 = ETF_nav(14) \n",
    "n15 = ETF_nav(15) \n",
    "n16 = ETF_nav(16) \n",
    "n17 = ETF_nav(17) \n",
    "n18 = ETF_nav(18) \n",
    "n19 = ETF_nav(19) \n",
    "n20 = ETF_nav(20) \n",
    "n21 = ETF_nav(21) \n",
    "n22 = ETF_nav(22) \n",
    "n23 = ETF_nav(23) \n",
    "n24 = ETF_nav(24) \n",
    "n25 = ETF_nav(25) \n",
    "n26 = ETF_nav(26) \n",
    "n27 = ETF_nav(27) \n",
    "n28 = ETF_nav(28) \n",
    "n29 = ETF_nav(29) \n",
    "n30 = ETF_nav(30) \n",
    "n31 = ETF_nav(31) \n",
    "\n",
    "\n",
    "# Construction of a DATAFRAME with the last NAV per year of each ETF\n",
    "\n",
    "na = pd.DataFrame({'Core SP 500': n0,'Core SP Mid Cap': n1,\n",
    "                  'Core SP Total US Stock Market': n2,'Expanded Tech Sector': n3,\n",
    "                  'Expanded Tech Software Sector': n4,'MSCI ACWI': n5,\n",
    "                  'MSCI EAFE': n6,'MSCI Emerging Markets': n7, 'MSCI Japan': n8,\n",
    "                  'MSCI USA ESG Select': n9, 'Nasdaq Biotechnology': n10,\n",
    "                  'NorthAmerican Tech Multimedia Networking': n11,\n",
    "                  'PHLX Semiconductor': n12, 'Preferred and Income Securities': n13,\n",
    "                  'Russell 1000': n14, 'Russell 1000 Growth': n15,\n",
    "                  'Russell 1000 Value': n16, 'Russell 2000': n17,\n",
    "                  'SP 500 Growth': n18,'US Basic Materials': n19,\n",
    "                  'US Consumer Services': n20, 'SP 500 Value': n21, 'US Energy': n22,\n",
    "                  'US Financial Services': n23, 'US Financials': n24, 'US Healthcare': n25,\n",
    "                  'Home Construction': n26, 'US Industrials': n27, 'US Medical Devices': n28,\n",
    "                  'US Pharmaceuticals': n29, 'US Technology': n30,'US Telecommunications': n31})\n",
    "    \n",
    "    \n",
    "\n",
    "pd.set_option('display.max_columns', 32) #Show all the columns in the DataFrame\n",
    "na = na[12:23] #Selection from the year 2008 onwards"
   ]
  },
  {
   "cell_type": "markdown",
   "metadata": {},
   "source": [
    "#### STEP #2:\n",
    "> <p  style='text-align: justify;'> \n",
    "Get the Equal Weight in the Portfolio"
   ]
  },
  {
   "cell_type": "code",
   "execution_count": null,
   "metadata": {
    "collapsed": true
   },
   "outputs": [],
   "source": [
    "#Equal Weights in the Portfolio\n",
    "\n",
    "inv = 100000 #Investment: 100k USD\n",
    "pt = 1 #Total Weight of a portfolio: 100%\n",
    "n_ind = len(na.loc[2008]) #Number of industries\n",
    "ew = pt/n_ind #Equal Weighted\n",
    "ipw_ew = ew*inv #Investment per weight\n",
    "navs08 = na.loc[2008] #Net Asset Value (NAV) in 2008"
   ]
  },
  {
   "cell_type": "code",
   "execution_count": null,
   "metadata": {
    "collapsed": true
   },
   "outputs": [],
   "source": [
    "# Shares per ETF in 2008 with Equal Weights\n",
    "\n",
    "tew_etf = ipw_ew/navs08\n",
    "tew_etf = round(tew_etf)"
   ]
  },
  {
   "cell_type": "markdown",
   "metadata": {},
   "source": [
    "#### STEP #3:\n",
    "> <p  style='text-align: justify;'> \n",
    "Get the Net Asset Value (NAV) per year of each ETF"
   ]
  },
  {
   "cell_type": "code",
   "execution_count": null,
   "metadata": {
    "collapsed": true
   },
   "outputs": [],
   "source": [
    "#NAV per ETF with the same number of shares than in 2008\n",
    "\n",
    "nav_ew = tew_etf*na"
   ]
  },
  {
   "cell_type": "code",
   "execution_count": null,
   "metadata": {
    "collapsed": true
   },
   "outputs": [],
   "source": [
    "a0 = nav_ew[\"Core SP 500\"]\n",
    "a1 = nav_ew[\"Core SP Mid Cap\"]\n",
    "a2 = nav_ew[\"Core SP Total US Stock Market\"]\n",
    "a3 = nav_ew[\"Expanded Tech Sector\"]\n",
    "a4 = nav_ew[\"Expanded Tech Software Sector\"]\n",
    "a5 = nav_ew[\"MSCI ACWI\"]\n",
    "a6 = nav_ew[\"MSCI EAFE\"]\n",
    "a7 = nav_ew[\"MSCI Emerging Markets\"]\n",
    "a8 = nav_ew[\"MSCI Japan\"]\n",
    "a9 = nav_ew[\"MSCI USA ESG Select\"]\n",
    "a10 = nav_ew[\"Nasdaq Biotechnology\"]\n",
    "a11 = nav_ew[\"NorthAmerican Tech Multimedia Networking\"]\n",
    "a12 = nav_ew[\"PHLX Semiconductor\"]\n",
    "a13 = nav_ew[\"Preferred and Income Securities\"]\n",
    "a14 = nav_ew[\"Russell 1000\"]\n",
    "a15 = nav_ew[\"Russell 1000 Growth\"]\n",
    "a16 = nav_ew[\"Russell 1000 Value\"]\n",
    "a17 = nav_ew[\"Russell 2000\"]\n",
    "a18 = nav_ew[\"SP 500 Growth\"]\n",
    "a19 = nav_ew[\"US Basic Materials\"]\n",
    "a20 = nav_ew[\"US Consumer Services\"]\n",
    "a21 = nav_ew[\"SP 500 Value\"]\n",
    "a22 = nav_ew[\"US Energy\"]\n",
    "a23 = nav_ew[\"US Financial Services\"]\n",
    "a24 = nav_ew[\"US Financials\"]\n",
    "a25 = nav_ew[\"US Healthcare\"]\n",
    "a26 = nav_ew[\"Home Construction\"]\n",
    "a27 = nav_ew[\"US Industrials\"]\n",
    "a28 = nav_ew[\"US Medical Devices\"]\n",
    "a29 = nav_ew[\"US Pharmaceuticals\"]\n",
    "a30 = nav_ew[\"US Technology\"]\n",
    "a31 = nav_ew[\"US Telecommunications\"]"
   ]
  },
  {
   "cell_type": "markdown",
   "metadata": {},
   "source": [
    "\n",
    "#### STEP #4:\n",
    "> <p  style='text-align: justify;'> \n",
    "Once we have the NAV per ETF, we need to group the NAV by industries. "
   ]
  },
  {
   "cell_type": "code",
   "execution_count": null,
   "metadata": {
    "collapsed": true
   },
   "outputs": [],
   "source": [
    "#Group ETF's by Industries\n",
    "\n",
    "Chemical_Materials = a19+a16\n",
    "Consumer_Retail = a20+a5+a21\n",
    "Electronics =  a1+a14+a17\n",
    "Energy = a22+a7+a18\n",
    "Environmental = a0+a6\n",
    "Financial_Services = a13+a23+a24\n",
    "Hardware_Systems =  a2+a8\n",
    "HealthCare_Biotech =  a10+a25+a28+a29\n",
    "Industrial =  a26+a27\n",
    "Information_Technology = a3+a30\n",
    "Manufacturing = a12+a15\n",
    "Media_Communications = a11+a31\n",
    "Software_Services = a4+a9"
   ]
  },
  {
   "cell_type": "code",
   "execution_count": null,
   "metadata": {
    "collapsed": true
   },
   "outputs": [],
   "source": [
    "#NAV's DataFrame by industries\n",
    "\n",
    "ni_ew = pd.DataFrame({'Chemical/Materials': Chemical_Materials,\n",
    "                   'Consumer/Retail': Consumer_Retail,\n",
    "                   'Electronics': Electronics,\n",
    "                   'Energy': Energy,\n",
    "                   'Environmental': Environmental,\n",
    "                   'Financial Services' : Financial_Services,\n",
    "                   'Hardware/Systems': Hardware_Systems,\n",
    "                   'HealthCare/Biotech': HealthCare_Biotech,\n",
    "                   'Industrial': Industrial,\n",
    "                   'Information Technology': Information_Technology,\n",
    "                   'Manufacturing': Manufacturing,\n",
    "                   'Media/Communications': Media_Communications,\n",
    "                   'Software/Services': Software_Services})"
   ]
  },
  {
   "cell_type": "markdown",
   "metadata": {},
   "source": [
    "\n",
    "#### STEP #5:\n",
    "> <p  style='text-align: justify;'> \n",
    "Get the Net Present Value (NPV) per year of each industry"
   ]
  },
  {
   "cell_type": "code",
   "execution_count": null,
   "metadata": {
    "collapsed": true
   },
   "outputs": [],
   "source": [
    "#List of industries\n",
    "\n",
    "lis_ind = ['Chemical/Materials', 'Consumer/Retail','Electronics', 'Energy','Environmental',\n",
    "            'Financial Services' , 'Hardware/Systems', 'HealthCare/Biotech', 'Industrial',\n",
    "            'Information Technology', 'Manufacturing','Media/Communications','Software/Services']"
   ]
  },
  {
   "cell_type": "code",
   "execution_count": null,
   "metadata": {
    "collapsed": true
   },
   "outputs": [],
   "source": [
    "#List of years that we'll use to get the Net Present Value (NPV)\n",
    "\n",
    "t_tir= []\n",
    "for i in range(0,12):\n",
    "    t_tir.append(1+i)\n",
    "t_tir.reverse()"
   ]
  },
  {
   "cell_type": "code",
   "execution_count": null,
   "metadata": {
    "collapsed": true
   },
   "outputs": [],
   "source": [
    "#List of discount rate 2008-2019\n",
    "\n",
    "r = [0.005, 0.0073, 0.0075, 0.0075, 0.0075, 0.0075, 0.0077, 0.0102, 0.0138, .0225, 0.03]"
   ]
  },
  {
   "cell_type": "code",
   "execution_count": null,
   "metadata": {
    "collapsed": true
   },
   "outputs": [],
   "source": [
    "#Bottom part of the Net Present Values's (NPV) formula\n",
    "\n",
    "d_npv =[]\n",
    "for i in range(len(r)):\n",
    "    bottom = (1+r[i])**(t_tir[i]) #(1+r)^t\n",
    "    d_npv.append(bottom)"
   ]
  },
  {
   "cell_type": "code",
   "execution_count": null,
   "metadata": {
    "collapsed": true
   },
   "outputs": [],
   "source": [
    "#Formula of the Net Present Values (NPV)\n",
    "\n",
    "t_npv_ew =[]\n",
    "for i in range(len(lis_ind)):\n",
    "    f_npv_ew = ni_ew[lis_ind[i]]/(d_npv) #Ct/(1+r^t)\n",
    "    t_npv_ew.append(f_npv_ew)"
   ]
  },
  {
   "cell_type": "code",
   "execution_count": null,
   "metadata": {
    "collapsed": true
   },
   "outputs": [],
   "source": [
    "#Initial investment per industry\n",
    "\n",
    "in_in_ew = [-2*ipw_ew, -3*ipw_ew, -3*ipw_ew, -3*ipw_ew, -2*ipw_ew, -3*ipw_ew, -2*ipw_ew, -4*ipw_ew, -2*ipw_ew, -2*ipw_ew, -2*ipw_ew, -2*ipw_ew, -2*ipw_ew]"
   ]
  },
  {
   "cell_type": "code",
   "execution_count": null,
   "metadata": {
    "collapsed": true
   },
   "outputs": [],
   "source": [
    "#NPV's DataFrame by industries\n",
    "\n",
    "npv_ew = pd.DataFrame(t_npv_ew).T\n",
    "npv_ew.loc[2007] = in_in_ew\n",
    "npv_ew = npv_ew.sort_index() "
   ]
  },
  {
   "cell_type": "markdown",
   "metadata": {
    "collapsed": true
   },
   "source": [
    "\n",
    "#### STEP #6:\n",
    "> <p  style='text-align: justify;'> \n",
    "Get the Internal Rate of Return (IRR) per year of each industry"
   ]
  },
  {
   "cell_type": "code",
   "execution_count": null,
   "metadata": {
    "collapsed": true
   },
   "outputs": [],
   "source": [
    "#npv_ew's column list per industry\n",
    "\n",
    "lis_i = [npv_ew['Chemical/Materials'], npv_ew['Consumer/Retail'], npv_ew['Electronics'], npv_ew['Energy'], npv_ew['Environmental'],\n",
    "         npv_ew['Financial Services'] , npv_ew['Hardware/Systems'], npv_ew['HealthCare/Biotech'], npv_ew['Industrial'],\n",
    "         npv_ew['Information Technology'], npv_ew['Manufacturing'], npv_ew['Media/Communications'], npv_ew['Software/Services']]"
   ]
  },
  {
   "cell_type": "code",
   "execution_count": null,
   "metadata": {
    "collapsed": true
   },
   "outputs": [],
   "source": [
    "#Convertion of each column to an array\n",
    "\n",
    "lis_irr = [np.array(i) for i in lis_i]"
   ]
  },
  {
   "cell_type": "code",
   "execution_count": null,
   "metadata": {
    "collapsed": true
   },
   "outputs": [],
   "source": [
    "#IRR's formula using \"np.irr\"\n",
    "\n",
    "t_t = []\n",
    "for i in range(len(lis_irr)):\n",
    "    t_a = []\n",
    "    for j in range(2,13):\n",
    "        tir = np.irr(lis_irr[i][:j])*100\n",
    "        t_a.append(tir)\n",
    "    t_t.append(t_a)"
   ]
  },
  {
   "cell_type": "code",
   "execution_count": null,
   "metadata": {
    "collapsed": true
   },
   "outputs": [],
   "source": [
    "#List of year we'll use in the IRR's DataFrame\n",
    "\n",
    "y_tir = []\n",
    "for i in range(2008,2019):\n",
    "    y_tir.append(1+i)"
   ]
  },
  {
   "cell_type": "code",
   "execution_count": null,
   "metadata": {},
   "outputs": [],
   "source": [
    "#IRR's DataFrame by industries\n",
    "\n",
    "irr_df = pd.DataFrame(columns = lis_ind)\n",
    "irr_df['Chemical/Materials'] = (t_t)[0]\n",
    "irr_df['Consumer/Retail'] = (t_t)[1]\n",
    "irr_df['Electronics'] = (t_t)[2]\n",
    "irr_df['Energy'] = (t_t)[3]\n",
    "irr_df['Environmental'] = (t_t)[4]\n",
    "irr_df['Financial Services'] = (t_t)[5]\n",
    "irr_df['Hardware/Systems'] = (t_t)[6]\n",
    "irr_df['HealthCare/Biotech'] = (t_t)[7]\n",
    "irr_df['Industrial'] = (t_t)[8]\n",
    "irr_df['Information Technology'] = (t_t)[9]\n",
    "irr_df['Manufacturing'] = (t_t)[10]\n",
    "irr_df['Media/Communications'] = (t_t)[11]\n",
    "irr_df['Software/Services'] = (t_t)[12]\n",
    "irr_df['Year'] = y_tir\n",
    "irr_df.set_index('Year')"
   ]
  },
  {
   "cell_type": "markdown",
   "metadata": {},
   "source": [
    "___\n",
    "### Second Analysis:\n",
    "### Weights in the Portfolio using Markowitz's Minimun Variance "
   ]
  },
  {
   "cell_type": "markdown",
   "metadata": {},
   "source": [
    "#### STEP #1:\n",
    "> <p  style='text-align: justify;'> \n",
    "Get the last NAV per year of each ETF in the sample that has been trading since 2008."
   ]
  },
  {
   "cell_type": "markdown",
   "metadata": {},
   "source": [
    "#### STEP #2:\n",
    "> <p  style='text-align: justify;'> \n",
    "Get the Weights in the Portfolio using Markowitz's Minimun Variance "
   ]
  },
  {
   "cell_type": "code",
   "execution_count": null,
   "metadata": {
    "collapsed": true
   },
   "outputs": [],
   "source": [
    "#Weights in the Portfolio using Markowitz's Minimun Variance\n",
    "\n",
    "#inv = 100000 #Investment: 100k USD\n",
    "\n",
    "#Weights in the Portfolio per ETF\n",
    "mv = min_variance_port.drop(columns = ['Returns', 'Volatility', 'Sharpe Ratio'])\n",
    "mv['Year'] = 2008\n",
    "mv = mv.set_index('Year')\n",
    "\n",
    "ipw_mv = mv.loc[2008]*inv #Investment per weight\n",
    "navs08 = na.loc[2008] #Net Asset Value (NAV) in 2008"
   ]
  },
  {
   "cell_type": "code",
   "execution_count": null,
   "metadata": {
    "collapsed": true
   },
   "outputs": [],
   "source": [
    "# Shares per ETF in 2008\n",
    "\n",
    "tmv_etf = ipw_mv/navs08\n",
    "tmv_etf = round(tmv_etf)"
   ]
  },
  {
   "cell_type": "markdown",
   "metadata": {},
   "source": [
    "#### STEP #3:\n",
    "> <p  style='text-align: justify;'> \n",
    "Get the Net Asset Value (NAV) per year of each ETF"
   ]
  },
  {
   "cell_type": "code",
   "execution_count": null,
   "metadata": {
    "collapsed": true
   },
   "outputs": [],
   "source": [
    "#NAV per ETF with the same number of shares than in 2008\n",
    "\n",
    "nav_mv = tmv_etf*na"
   ]
  },
  {
   "cell_type": "code",
   "execution_count": null,
   "metadata": {
    "collapsed": true
   },
   "outputs": [],
   "source": [
    "mva0 = nav_mv[\"Core SP 500\"]\n",
    "mva1 = nav_mv[\"Core SP Mid Cap\"]\n",
    "mva2 = nav_mv[\"Core SP Total US Stock Market\"]\n",
    "mva3 = nav_mv[\"Expanded Tech Sector\"]\n",
    "mva4 = nav_mv[\"Expanded Tech Software Sector\"]\n",
    "mva5 = nav_mv[\"MSCI ACWI\"]\n",
    "mva6 = nav_mv[\"MSCI EAFE\"]\n",
    "mva7 = nav_mv[\"MSCI Emerging Markets\"]\n",
    "mva8 = nav_mv[\"MSCI Japan\"]\n",
    "mva9 = nav_mv[\"MSCI USA ESG Select\"]\n",
    "mva10 = nav_mv[\"Nasdaq Biotechnology\"]\n",
    "mva11 = nav_mv[\"NorthAmerican Tech Multimedia Networking\"]\n",
    "mva12 = nav_mv[\"PHLX Semiconductor\"]\n",
    "mva13 = nav_mv[\"Preferred and Income Securities\"]\n",
    "mva14 = nav_mv[\"Russell 1000\"]\n",
    "mva15 = nav_mv[\"Russell 1000 Growth\"]\n",
    "mva16 = nav_mv[\"Russell 1000 Value\"]\n",
    "mva17 = nav_mv[\"Russell 2000\"]\n",
    "mva18 = nav_mv[\"SP 500 Growth\"]\n",
    "mva19 = nav_mv[\"US Basic Materials\"]\n",
    "mva20 = nav_mv[\"US Consumer Services\"]\n",
    "mva21 = nav_mv[\"SP 500 Value\"]\n",
    "mva22 = nav_mv[\"US Energy\"]\n",
    "mva23 = nav_mv[\"US Financial Services\"]\n",
    "mva24 = nav_mv[\"US Financials\"]\n",
    "mva25 = nav_mv[\"US Healthcare\"]\n",
    "mva26 = nav_mv[\"Home Construction\"]\n",
    "mva27 = nav_mv[\"US Industrials\"]\n",
    "mva28 = nav_mv[\"US Medical Devices\"]\n",
    "mva29 = nav_mv[\"US Pharmaceuticals\"]\n",
    "mva30 = nav_mv[\"US Technology\"]\n",
    "mva31 = nav_mv[\"US Telecommunications\"]"
   ]
  },
  {
   "cell_type": "markdown",
   "metadata": {},
   "source": [
    "\n",
    "#### STEP #4:\n",
    "> <p  style='text-align: justify;'> \n",
    "Once we have the NAV per ETF, we need to group the NAV by industries. "
   ]
  },
  {
   "cell_type": "code",
   "execution_count": null,
   "metadata": {
    "collapsed": true
   },
   "outputs": [],
   "source": [
    "#Group ETF's by Industries\n",
    "\n",
    "Chemical_Materials = mva19+mva16\n",
    "Consumer_Retail = mva20+mva5+mva21\n",
    "Electronics =  mva1+mva14+mva17\n",
    "Energy = mva22+mva7+mva18\n",
    "Environmental = mva0+mva6\n",
    "Financial_Services = mva13+mva23+mva24\n",
    "Hardware_Systems = mva2+mva8\n",
    "HealthCare_Biotech = mva10+mva25+mva28+mva29\n",
    "Industrial = mva26+mva27\n",
    "Information_Technology = mva3+mva30\n",
    "Manufacturing = mva12+mva15\n",
    "Media_Communications = mva11+mva31\n",
    "Software_Services = mva4+mva9"
   ]
  },
  {
   "cell_type": "code",
   "execution_count": null,
   "metadata": {
    "collapsed": true
   },
   "outputs": [],
   "source": [
    "#NAV's DataFrame by industries\n",
    "\n",
    "ni_mv = pd.DataFrame({'Chemical/Materials': Chemical_Materials,\n",
    "                   'Consumer/Retail': Consumer_Retail,\n",
    "                   'Electronics': Electronics,\n",
    "                   'Energy': Energy,\n",
    "                   'Environmental': Environmental,\n",
    "                   'Financial Services' : Financial_Services,\n",
    "                   'Hardware/Systems': Hardware_Systems,\n",
    "                   'HealthCare/Biotech': HealthCare_Biotech,\n",
    "                   'Industrial': Industrial,\n",
    "                   'Information Technology': Information_Technology,\n",
    "                   'Manufacturing': Manufacturing,\n",
    "                   'Media/Communications': Media_Communications,\n",
    "                   'Software/Services': Software_Services})"
   ]
  },
  {
   "cell_type": "markdown",
   "metadata": {},
   "source": [
    "\n",
    "#### STEP #5:\n",
    "> <p  style='text-align: justify;'> \n",
    "Get the Net Present Value (NPV) per year of each industry"
   ]
  },
  {
   "cell_type": "code",
   "execution_count": null,
   "metadata": {
    "collapsed": true
   },
   "outputs": [],
   "source": [
    "#Formula of the Net Present Values (NPV)\n",
    "\n",
    "t_npv_mv =[]\n",
    "for i in range(len(lis_ind)):\n",
    "    f_npv = ni_mv[lis_ind[i]]/(d_npv) #Ct/(1+r^t)\n",
    "    t_npv_mv.append(f_npv)"
   ]
  },
  {
   "cell_type": "code",
   "execution_count": null,
   "metadata": {
    "collapsed": true
   },
   "outputs": [],
   "source": [
    "#Initial investment per industry\n",
    "\n",
    "wmva0 = -ipw_mv[\"Core SP 500\"]\n",
    "wmva1 = -ipw_mv[\"Core SP Mid Cap\"]\n",
    "wmva2 = -ipw_mv[\"Core SP Total US Stock Market\"]\n",
    "wmva3 = -ipw_mv[\"Expanded Tech Sector\"]\n",
    "wmva4 = -ipw_mv[\"Expanded Tech Software Sector\"]\n",
    "wmva5 = -ipw_mv[\"MSCI ACWI\"]\n",
    "wmva6 = -ipw_mv[\"MSCI EAFE\"]\n",
    "wmva7 = -ipw_mv[\"MSCI Emerging Markets\"]\n",
    "wmva8 = -ipw_mv[\"MSCI Japan\"]\n",
    "wmva9 = -ipw_mv[\"MSCI USA ESG Select\"]\n",
    "wmva10 = -ipw_mv[\"Nasdaq Biotechnology\"]\n",
    "wmva11 = -ipw_mv[\"NorthAmerican Tech Multimedia Networking\"]\n",
    "wmva12 = -ipw_mv[\"PHLX Semiconductor\"]\n",
    "wmva13 = -ipw_mv[\"Preferred and Income Securities\"]\n",
    "wmva14 = -ipw_mv[\"Russell 1000\"]\n",
    "wmva15 = -ipw_mv[\"Russell 1000 Growth\"]\n",
    "wmva16 = -ipw_mv[\"Russell 1000 Value\"]\n",
    "wmva17 = -ipw_mv[\"Russell 2000\"]\n",
    "wmva18 = -ipw_mv[\"SP 500 Growth\"]\n",
    "wmva19 = -ipw_mv[\"US Basic Materials\"]\n",
    "wmva20 = -ipw_mv[\"US Consumer Services\"]\n",
    "wmva21 = -ipw_mv[\"SP 500 Value\"]\n",
    "wmva22 = -ipw_mv[\"US Energy\"]\n",
    "wmva23 = -ipw_mv[\"US Financial Services\"]\n",
    "wmva24 = -ipw_mv[\"US Financials\"]\n",
    "wmva25 = -ipw_mv[\"US Healthcare\"]\n",
    "wmva26 = -ipw_mv[\"Home Construction\"]\n",
    "wmva27 = -ipw_mv[\"US Industrials\"]\n",
    "wmva28 = -ipw_mv[\"US Medical Devices\"]\n",
    "wmva29 = -ipw_mv[\"US Pharmaceuticals\"]\n",
    "wmva30 = -ipw_mv[\"US Technology\"]\n",
    "wmva31 = -ipw_mv[\"US Telecommunications\"]"
   ]
  },
  {
   "cell_type": "code",
   "execution_count": null,
   "metadata": {
    "collapsed": true
   },
   "outputs": [],
   "source": [
    "#Group ETF's by Industries\n",
    "\n",
    "Chemical_Materials = wmva19+wmva16\n",
    "Consumer_Retail = wmva20+wmva5+wmva21\n",
    "Electronics =  wmva1+wmva14+wmva17\n",
    "Energy = wmva22+wmva7+wmva18\n",
    "Environmental = wmva0+wmva6\n",
    "Financial_Services = wmva13+wmva23+wmva24\n",
    "Hardware_Systems = wmva2+wmva8\n",
    "HealthCare_Biotech = wmva10+wmva25+wmva28+wmva29\n",
    "Industrial = wmva26+wmva27\n",
    "Information_Technology = wmva3+wmva30\n",
    "Manufacturing = wmva12+wmva15\n",
    "Media_Communications = wmva11+wmva31\n",
    "Software_Services = wmva4+wmva9"
   ]
  },
  {
   "cell_type": "code",
   "execution_count": null,
   "metadata": {
    "collapsed": true
   },
   "outputs": [],
   "source": [
    "#Initial investment per industry\n",
    "\n",
    "in_in_mv = [Chemical_Materials, Consumer_Retail, Electronics, Energy, Environmental,\n",
    "            Financial_Services , Hardware_Systems, HealthCare_Biotech, Industrial,\n",
    "            Information_Technology, Manufacturing, Media_Communications, Software_Services]"
   ]
  },
  {
   "cell_type": "code",
   "execution_count": null,
   "metadata": {
    "collapsed": true
   },
   "outputs": [],
   "source": [
    "#NPV's DataFrame by industries\n",
    "\n",
    "npv_mv = pd.DataFrame(t_npv_mv).T\n",
    "npv_mv.loc[2007] = in_in_mv\n",
    "npv_mv = npv_mv.sort_index() "
   ]
  },
  {
   "cell_type": "markdown",
   "metadata": {
    "collapsed": true
   },
   "source": [
    "\n",
    "#### STEP #6:\n",
    "> <p  style='text-align: justify;'> \n",
    "Get the Internal Rate of Return (IRR) per year of each industry"
   ]
  },
  {
   "cell_type": "code",
   "execution_count": null,
   "metadata": {
    "collapsed": true
   },
   "outputs": [],
   "source": [
    "#npv_mv's column list per industry\n",
    "\n",
    "lis_i = [npv_mv['Chemical/Materials'], npv_mv['Consumer/Retail'], npv_mv['Electronics'], npv_mv['Energy'], npv_mv['Environmental'],\n",
    "         npv_mv['Financial Services'] , npv_mv['Hardware/Systems'], npv_mv['HealthCare/Biotech'], npv_mv['Industrial'],\n",
    "         npv_mv['Information Technology'], npv_mv['Manufacturing'], npv_mv['Media/Communications'], npv_mv['Software/Services']]"
   ]
  },
  {
   "cell_type": "code",
   "execution_count": null,
   "metadata": {
    "collapsed": true
   },
   "outputs": [],
   "source": [
    "#Convertion of each column to an array\n",
    "\n",
    "lis_irr = [np.array(i) for i in lis_i]"
   ]
  },
  {
   "cell_type": "code",
   "execution_count": null,
   "metadata": {
    "collapsed": true
   },
   "outputs": [],
   "source": [
    "#IRR's formula using \"np.irr\"\n",
    "\n",
    "t_t_mv = []\n",
    "for i in range(len(lis_irr)):\n",
    "    t_a = []\n",
    "    for j in range(2,13):\n",
    "        tir = np.irr(lis_irr[i][:j])*100\n",
    "        t_a.append(tir)\n",
    "    t_t_mv.append(t_a)"
   ]
  },
  {
   "cell_type": "code",
   "execution_count": null,
   "metadata": {
    "collapsed": true
   },
   "outputs": [],
   "source": [
    "#List of year we'll use in the IRR's DataFrame\n",
    "\n",
    "y_tir = []\n",
    "for i in range(2008,2019):\n",
    "    y_tir.append(1+i)"
   ]
  },
  {
   "cell_type": "code",
   "execution_count": null,
   "metadata": {},
   "outputs": [],
   "source": [
    "#IRR's DataFrame by industries\n",
    "\n",
    "irr_df = pd.DataFrame(columns = lis_ind)\n",
    "irr_df['Chemical/Materials'] = (t_t_mv)[0]\n",
    "irr_df['Consumer/Retail'] = (t_t_mv)[1]\n",
    "irr_df['Electronics'] = (t_t_mv)[2]\n",
    "irr_df['Energy'] = (t_t_mv)[3]\n",
    "irr_df['Environmental'] = (t_t_mv)[4]\n",
    "irr_df['Financial Services'] = (t_t_mv)[5]\n",
    "irr_df['Hardware/Systems'] = (t_t_mv)[6]\n",
    "irr_df['HealthCare/Biotech'] = (t_t_mv)[7]\n",
    "irr_df['Industrial'] = (t_t_mv)[8]\n",
    "irr_df['Information Technology'] = (t_t_mv)[9]\n",
    "irr_df['Manufacturing'] = (t_t_mv)[10]\n",
    "irr_df['Media/Communications'] = (t_t_mv)[11]\n",
    "irr_df['Software/Services'] = (t_t_mv)[12]\n",
    "irr_df['Year'] = y_tir\n",
    "irr_df.set_index('Year')"
   ]
  },
  {
   "cell_type": "markdown",
   "metadata": {},
   "source": [
    "___\n",
    "### Third Analysis:\n",
    "### Weights in the Portfolio using Markowitz's Maximum Sharpe "
   ]
  },
  {
   "cell_type": "markdown",
   "metadata": {},
   "source": [
    "#### STEP #1:\n",
    "> <p  style='text-align: justify;'> \n",
    "Get the last NAV per year of each ETF in the sample that has been trading since 2008."
   ]
  },
  {
   "cell_type": "markdown",
   "metadata": {},
   "source": [
    "#### STEP #2:\n",
    "> <p  style='text-align: justify;'> \n",
    "Get the Weights in the Portfolio using Markowitz's Maximum Sharpe"
   ]
  },
  {
   "cell_type": "code",
   "execution_count": null,
   "metadata": {
    "collapsed": true
   },
   "outputs": [],
   "source": [
    "#Weights in the Portfolio using Markowitz's Maximum Sharpe\n",
    "\n",
    "#inv = 100000 #Investment: 100k USD\n",
    "\n",
    "#Weights in the Portfolio per ETF\n",
    "ms = sharpe_portfolio.drop(columns = ['Returns', 'Volatility', 'Sharpe Ratio'])\n",
    "ms['Year'] = 2008\n",
    "ms = ms.set_index('Year')\n",
    "\n",
    "ipw_ms = ms.loc[2008]*inv #Investment per weight\n",
    "navs08 = na.loc[2008] #Net Asset Value (NAV) in 2008"
   ]
  },
  {
   "cell_type": "code",
   "execution_count": null,
   "metadata": {
    "collapsed": true
   },
   "outputs": [],
   "source": [
    "# Shares per ETF in 2008\n",
    "\n",
    "tms_etf = ipw_ms/navs08\n",
    "tms_etf = round(tms_etf)"
   ]
  },
  {
   "cell_type": "markdown",
   "metadata": {},
   "source": [
    "#### STEP #3:\n",
    "> <p  style='text-align: justify;'> \n",
    "Get the Net Asset Value (NAV) per year of each ETF"
   ]
  },
  {
   "cell_type": "code",
   "execution_count": null,
   "metadata": {
    "collapsed": true
   },
   "outputs": [],
   "source": [
    "#NAV per ETF with the same number of shares than in 2008\n",
    "\n",
    "nav_ms = tms_etf*na"
   ]
  },
  {
   "cell_type": "code",
   "execution_count": null,
   "metadata": {
    "collapsed": true
   },
   "outputs": [],
   "source": [
    "msa0 = nav_ms[\"Core SP 500\"]\n",
    "msa1 = nav_ms[\"Core SP Mid Cap\"]\n",
    "msa2 = nav_ms[\"Core SP Total US Stock Market\"]\n",
    "msa3 = nav_ms[\"Expanded Tech Sector\"]\n",
    "msa4 = nav_ms[\"Expanded Tech Software Sector\"]\n",
    "msa5 = nav_ms[\"MSCI ACWI\"]\n",
    "msa6 = nav_ms[\"MSCI EAFE\"]\n",
    "msa7 = nav_ms[\"MSCI Emerging Markets\"]\n",
    "msa8 = nav_ms[\"MSCI Japan\"]\n",
    "msa9 = nav_ms[\"MSCI USA ESG Select\"]\n",
    "msa10 = nav_ms[\"Nasdaq Biotechnology\"]\n",
    "msa11 = nav_ms[\"NorthAmerican Tech Multimedia Networking\"]\n",
    "msa12 = nav_ms[\"PHLX Semiconductor\"]\n",
    "msa13 = nav_ms[\"Preferred and Income Securities\"]\n",
    "msa14 = nav_ms[\"Russell 1000\"]\n",
    "msa15 = nav_ms[\"Russell 1000 Growth\"]\n",
    "msa16 = nav_ms[\"Russell 1000 Value\"]\n",
    "msa17 = nav_ms[\"Russell 2000\"]\n",
    "msa18 = nav_ms[\"SP 500 Growth\"]\n",
    "msa19 = nav_ms[\"US Basic Materials\"]\n",
    "msa20 = nav_ms[\"US Consumer Services\"]\n",
    "msa21 = nav_ms[\"SP 500 Value\"]\n",
    "msa22 = nav_ms[\"US Energy\"]\n",
    "msa23 = nav_ms[\"US Financial Services\"]\n",
    "msa24 = nav_ms[\"US Financials\"]\n",
    "msa25 = nav_ms[\"US Healthcare\"]\n",
    "msa26 = nav_ms[\"Home Construction\"]\n",
    "msa27 = nav_ms[\"US Industrials\"]\n",
    "msa28 = nav_ms[\"US Medical Devices\"]\n",
    "msa29 = nav_ms[\"US Pharmaceuticals\"]\n",
    "msa30 = nav_ms[\"US Technology\"]\n",
    "msa31 = nav_ms[\"US Telecommunications\"]"
   ]
  },
  {
   "cell_type": "markdown",
   "metadata": {},
   "source": [
    "\n",
    "#### STEP #4:\n",
    "> <p  style='text-align: justify;'> \n",
    "Once we have the NAV per ETF, we need to group the NAV by industries. "
   ]
  },
  {
   "cell_type": "code",
   "execution_count": null,
   "metadata": {
    "collapsed": true
   },
   "outputs": [],
   "source": [
    "#Group ETF's by Industries\n",
    "\n",
    "Chemical_Materials = msa19+msa16\n",
    "Consumer_Retail = msa20+msa5+msa21\n",
    "Electronics =  msa1+msa14+msa17\n",
    "Energy = msa22+msa7+msa18\n",
    "Environmental = msa0+msa6\n",
    "Financial_Services = msa13+msa23+msa24\n",
    "Hardware_Systems = msa2+msa8\n",
    "HealthCare_Biotech = msa10+msa25+msa28+msa29\n",
    "Industrial = msa26+msa27\n",
    "Information_Technology = msa3+msa30\n",
    "Manufacturing = msa12+msa15\n",
    "Media_Communications = msa11+msa31\n",
    "Software_Services = msa4+msa9"
   ]
  },
  {
   "cell_type": "code",
   "execution_count": null,
   "metadata": {
    "collapsed": true
   },
   "outputs": [],
   "source": [
    "#NAV's DataFrame by industries\n",
    "\n",
    "ni_ms = pd.DataFrame({'Chemical/Materials': Chemical_Materials,\n",
    "                   'Consumer/Retail': Consumer_Retail,\n",
    "                   'Electronics': Electronics,\n",
    "                   'Energy': Energy,\n",
    "                   'Environmental': Environmental,\n",
    "                   'Financial Services' : Financial_Services,\n",
    "                   'Hardware/Systems': Hardware_Systems,\n",
    "                   'HealthCare/Biotech': HealthCare_Biotech,\n",
    "                   'Industrial': Industrial,\n",
    "                   'Information Technology': Information_Technology,\n",
    "                   'Manufacturing': Manufacturing,\n",
    "                   'Media/Communications': Media_Communications,\n",
    "                   'Software/Services': Software_Services})"
   ]
  },
  {
   "cell_type": "markdown",
   "metadata": {},
   "source": [
    "\n",
    "#### STEP #5:\n",
    "> <p  style='text-align: justify;'> \n",
    "Get the Net Present Value (NPV) per year of each industry"
   ]
  },
  {
   "cell_type": "code",
   "execution_count": null,
   "metadata": {
    "collapsed": true
   },
   "outputs": [],
   "source": [
    "#Formula of the Net Present Values (NPV)\n",
    "\n",
    "t_npv_ms =[]\n",
    "for i in range(len(lis_ind)):\n",
    "    f_npv = ni_ms[lis_ind[i]]/(d_npv) #Ct/(1+r^t)\n",
    "    t_npv_ms.append(f_npv)"
   ]
  },
  {
   "cell_type": "code",
   "execution_count": null,
   "metadata": {
    "collapsed": true
   },
   "outputs": [],
   "source": [
    "#Initial investment per industry\n",
    "\n",
    "wmsa0 = -ipw_ms[\"Core SP 500\"]\n",
    "wmsa1 = -ipw_ms[\"Core SP Mid Cap\"]\n",
    "wmsa2 = -ipw_ms[\"Core SP Total US Stock Market\"]\n",
    "wmsa3 = -ipw_ms[\"Expanded Tech Sector\"]\n",
    "wmsa4 = -ipw_ms[\"Expanded Tech Software Sector\"]\n",
    "wmsa5 = -ipw_ms[\"MSCI ACWI\"]\n",
    "wmsa6 = -ipw_ms[\"MSCI EAFE\"]\n",
    "wmsa7 = -ipw_ms[\"MSCI Emerging Markets\"]\n",
    "wmsa8 = -ipw_ms[\"MSCI Japan\"]\n",
    "wmsa9 = -ipw_ms[\"MSCI USA ESG Select\"]\n",
    "wmsa10 = -ipw_ms[\"Nasdaq Biotechnology\"]\n",
    "wmsa11 = -ipw_ms[\"NorthAmerican Tech Multimedia Networking\"]\n",
    "wmsa12 = -ipw_ms[\"PHLX Semiconductor\"]\n",
    "wmsa13 = -ipw_ms[\"Preferred and Income Securities\"]\n",
    "wmsa14 = -ipw_ms[\"Russell 1000\"]\n",
    "wmsa15 = -ipw_ms[\"Russell 1000 Growth\"]\n",
    "wmsa16 = -ipw_ms[\"Russell 1000 Value\"]\n",
    "wmsa17 = -ipw_ms[\"Russell 2000\"]\n",
    "wmsa18 = -ipw_ms[\"SP 500 Growth\"]\n",
    "wmsa19 = -ipw_ms[\"US Basic Materials\"]\n",
    "wmsa20 = -ipw_ms[\"US Consumer Services\"]\n",
    "wmsa21 = -ipw_ms[\"SP 500 Value\"]\n",
    "wmsa22 = -ipw_ms[\"US Energy\"]\n",
    "wmsa23 = -ipw_ms[\"US Financial Services\"]\n",
    "wmsa24 = -ipw_ms[\"US Financials\"]\n",
    "wmsa25 = -ipw_ms[\"US Healthcare\"]\n",
    "wmsa26 = -ipw_ms[\"Home Construction\"]\n",
    "wmsa27 = -ipw_ms[\"US Industrials\"]\n",
    "wmsa28 = -ipw_ms[\"US Medical Devices\"]\n",
    "wmsa29 = -ipw_ms[\"US Pharmaceuticals\"]\n",
    "wmsa30 = -ipw_ms[\"US Technology\"]\n",
    "wmsa31 = -ipw_ms[\"US Telecommunications\"]"
   ]
  },
  {
   "cell_type": "code",
   "execution_count": null,
   "metadata": {
    "collapsed": true
   },
   "outputs": [],
   "source": [
    "#Group ETF's by Industries\n",
    "\n",
    "Chemical_Materials = wmsa19+wmsa16\n",
    "Consumer_Retail = wmsa20+wmsa5+wmsa21\n",
    "Electronics =  wmsa1+wmsa14+wmsa17\n",
    "Energy = wmsa22+wmsa7+wmsa18\n",
    "Environmental = wmsa0+wmsa6\n",
    "Financial_Services = wmsa13+wmsa23+wmsa24\n",
    "Hardware_Systems = wmsa2+wmsa8\n",
    "HealthCare_Biotech = wmsa10+wmsa25+wmsa28+wmsa29\n",
    "Industrial = wmsa26+wmsa27\n",
    "Information_Technology = wmsa3+wmsa30\n",
    "Manufacturing = wmsa12+wmsa15\n",
    "Media_Communications = wmsa11+wmsa31\n",
    "Software_Services = wmsa4+wmsa9"
   ]
  },
  {
   "cell_type": "code",
   "execution_count": null,
   "metadata": {
    "collapsed": true
   },
   "outputs": [],
   "source": [
    "#Initial investment per industry\n",
    "\n",
    "in_in_ms = [Chemical_Materials, Consumer_Retail, Electronics, Energy, Environmental,\n",
    "            Financial_Services , Hardware_Systems, HealthCare_Biotech, Industrial,\n",
    "            Information_Technology, Manufacturing, Media_Communications, Software_Services]"
   ]
  },
  {
   "cell_type": "code",
   "execution_count": null,
   "metadata": {
    "collapsed": true
   },
   "outputs": [],
   "source": [
    "#NPV's DataFrame by industries\n",
    "\n",
    "npv_ms = pd.DataFrame(t_npv_ms).T\n",
    "npv_ms.loc[2007] = in_in_ms\n",
    "npv_ms = npv_ms.sort_index() "
   ]
  },
  {
   "cell_type": "markdown",
   "metadata": {
    "collapsed": true
   },
   "source": [
    "\n",
    "#### STEP #6:\n",
    "> <p  style='text-align: justify;'> \n",
    "Get the Internal Rate of Return (IRR) per year of each industry"
   ]
  },
  {
   "cell_type": "code",
   "execution_count": null,
   "metadata": {
    "collapsed": true
   },
   "outputs": [],
   "source": [
    "#npv_ms's column list per industry\n",
    "\n",
    "lis_i = [npv_ms['Chemical/Materials'], npv_ms['Consumer/Retail'], npv_ms['Electronics'], npv_ms['Energy'], npv_ms['Environmental'],\n",
    "         npv_ms['Financial Services'] , npv_ms['Hardware/Systems'], npv_ms['HealthCare/Biotech'], npv_ms['Industrial'],\n",
    "         npv_ms['Information Technology'], npv_ms['Manufacturing'], npv_ms['Media/Communications'], npv_ms['Software/Services']]"
   ]
  },
  {
   "cell_type": "code",
   "execution_count": null,
   "metadata": {
    "collapsed": true
   },
   "outputs": [],
   "source": [
    "#Convertion of each column to an array\n",
    "\n",
    "lis_irr = [np.array(i) for i in lis_i]"
   ]
  },
  {
   "cell_type": "code",
   "execution_count": null,
   "metadata": {
    "collapsed": true
   },
   "outputs": [],
   "source": [
    "#IRR's formula using \"np.irr\"\n",
    "\n",
    "t_t_ms = []\n",
    "for i in range(len(lis_irr)):\n",
    "    t_a = []\n",
    "    for j in range(2,13):\n",
    "        tir = np.irr(lis_irr[i][:j])*100\n",
    "        t_a.append(tir)\n",
    "    t_t_ms.append(t_a)"
   ]
  },
  {
   "cell_type": "code",
   "execution_count": null,
   "metadata": {
    "collapsed": true
   },
   "outputs": [],
   "source": [
    "#List of year we'll use in the IRR's DataFrame\n",
    "\n",
    "y_tir = []\n",
    "for i in range(2008,2019):\n",
    "    y_tir.append(1+i)"
   ]
  },
  {
   "cell_type": "code",
   "execution_count": null,
   "metadata": {},
   "outputs": [],
   "source": [
    "#IRR's DataFrame by industries\n",
    "\n",
    "irr_df = pd.DataFrame(columns = lis_ind)\n",
    "irr_df['Chemical/Materials'] = (t_t_ms)[0]\n",
    "irr_df['Consumer/Retail'] = (t_t_ms)[1]\n",
    "irr_df['Electronics'] = (t_t_ms)[2]\n",
    "irr_df['Energy'] = (t_t_ms)[3]\n",
    "irr_df['Environmental'] = (t_t_ms)[4]\n",
    "irr_df['Financial Services'] = (t_t_ms)[5]\n",
    "irr_df['Hardware/Systems'] = (t_t_ms)[6]\n",
    "irr_df['HealthCare/Biotech'] = (t_t_ms)[7]\n",
    "irr_df['Industrial'] = (t_t_ms)[8]\n",
    "irr_df['Information Technology'] = (t_t_ms)[9]\n",
    "irr_df['Manufacturing'] = (t_t_ms)[10]\n",
    "irr_df['Media/Communications'] = (t_t_ms)[11]\n",
    "irr_df['Software/Services'] = (t_t_ms)[12]\n",
    "irr_df['Year'] = y_tir\n",
    "irr_df.set_index('Year')"
   ]
  },
  {
   "cell_type": "code",
   "execution_count": null,
   "metadata": {
    "collapsed": true
   },
   "outputs": [],
   "source": []
  },
  {
   "cell_type": "code",
   "execution_count": null,
   "metadata": {
    "collapsed": true
   },
   "outputs": [],
   "source": []
  },
  {
   "cell_type": "code",
   "execution_count": null,
   "metadata": {
    "collapsed": true
   },
   "outputs": [],
   "source": []
  },
  {
   "cell_type": "code",
   "execution_count": null,
   "metadata": {
    "collapsed": true
   },
   "outputs": [],
   "source": []
  },
  {
   "cell_type": "code",
   "execution_count": null,
   "metadata": {
    "collapsed": true
   },
   "outputs": [],
   "source": []
  },
  {
   "cell_type": "code",
   "execution_count": null,
   "metadata": {
    "collapsed": true
   },
   "outputs": [],
   "source": []
  },
  {
   "cell_type": "code",
   "execution_count": null,
   "metadata": {
    "collapsed": true
   },
   "outputs": [],
   "source": []
  },
  {
   "cell_type": "code",
   "execution_count": null,
   "metadata": {
    "collapsed": true
   },
   "outputs": [],
   "source": [
    "#CASH FLOW TOTALES POR AÑO DE CADA ETF\n",
    "cf = []\n",
    "for i in range(2000,2020):\n",
    "    kk = na.loc[i].sum()\n",
    "    cf.append(kk)"
   ]
  },
  {
   "cell_type": "code",
   "execution_count": null,
   "metadata": {
    "collapsed": true
   },
   "outputs": [],
   "source": [
    "y_etf = []\n",
    "for i in range(1999,2019):\n",
    "    y_etf.append(1+i)"
   ]
  },
  {
   "cell_type": "code",
   "execution_count": null,
   "metadata": {
    "collapsed": true
   },
   "outputs": [],
   "source": [
    "#ESTO ES LA SUMA TOTAL DE LOS CASHFLOW POR AÑO\n",
    "\n",
    "n_etfs = pd.DataFrame(columns=['Cash Flow'])\n",
    "n_etfs['Año'] = y_etf\n",
    "n_etfs.set_index('Año', inplace=True)\n",
    "n_etfs['Cash Flow'] = cf\n",
    "n_etfs = n_etfs[4:24]\n",
    "n_etfs"
   ]
  },
  {
   "cell_type": "code",
   "execution_count": null,
   "metadata": {
    "collapsed": true
   },
   "outputs": [],
   "source": [
    "t_tir= []\n",
    "for i in range(0,20):\n",
    "    t_tir.append(1+i)\n",
    "t_tir.reverse()"
   ]
  },
  {
   "cell_type": "code",
   "execution_count": null,
   "metadata": {
    "collapsed": true
   },
   "outputs": [],
   "source": [
    "d = [5.73, 3.41, 1.17, 2.10, 2.40, 4.25, 6.02, 5.79, 2.17, 0.50, 0.73, 0.75, 0.75, 0.75,\n",
    "    0.75, 0.77, 1.02, 1.38, 2.25, 3.00]"
   ]
  },
  {
   "cell_type": "code",
   "execution_count": null,
   "metadata": {
    "collapsed": true
   },
   "outputs": [],
   "source": [
    "d_vp =[]\n",
    "for i in range(20):\n",
    "    cosa = (1-d[i])**(t_tir[i])\n",
    "    d_vp.append(cosa)"
   ]
  },
  {
   "cell_type": "code",
   "execution_count": null,
   "metadata": {
    "collapsed": true
   },
   "outputs": [],
   "source": [
    "tir=[]\n",
    "for i in range(20):\n",
    "    ope= sum(cf[i]/d_vp)\n",
    "    tir.append(ope)"
   ]
  },
  {
   "cell_type": "code",
   "execution_count": null,
   "metadata": {
    "collapsed": true
   },
   "outputs": [],
   "source": [
    "num = ['16','22','25','27','28','29','30','31','32','32','32','35','38','39','39','39','39','39','40','40']\n",
    "n_etf = pd.DataFrame(columns=['ETFs por año', 'TIR'])\n",
    "n_etf['Año'] = y_etf\n",
    "n_etf.set_index('Año',inplace=True)\n",
    "n_etf['ETFs por año'] = num\n",
    "n_etf['TIR'] = tir\n",
    "n_etf"
   ]
  },
  {
   "cell_type": "code",
   "execution_count": null,
   "metadata": {
    "collapsed": true
   },
   "outputs": [],
   "source": []
  },
  {
   "cell_type": "code",
   "execution_count": null,
   "metadata": {
    "collapsed": true
   },
   "outputs": [],
   "source": []
  }
 ],
 "metadata": {
  "kernelspec": {
   "display_name": "Python 3",
   "language": "python",
   "name": "python3"
  },
  "language_info": {
   "codemirror_mode": {
    "name": "ipython",
    "version": 3
   },
   "file_extension": ".py",
   "mimetype": "text/x-python",
   "name": "python",
   "nbconvert_exporter": "python",
   "pygments_lexer": "ipython3",
   "version": "3.6.3"
  }
 },
 "nbformat": 4,
 "nbformat_minor": 2
}
