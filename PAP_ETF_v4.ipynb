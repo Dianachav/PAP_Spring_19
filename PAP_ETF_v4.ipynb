{
 "cells": [
  {
   "cell_type": "code",
   "execution_count": 4,
   "metadata": {
    "collapsed": true
   },
   "outputs": [],
   "source": [
    "# Librerias\n",
    "import quandl\n",
    "import datetime\n",
    "import numpy as np\n",
    "import pandas as pd\n",
    "import scipy.stats as stats\n",
    "import matplotlib.pyplot as plt\n",
    "import random"
   ]
  },
  {
   "cell_type": "markdown",
   "metadata": {},
   "source": [
    "___\n",
    "<img style=\"float: right; margin: 0px 0px 15px 15px;\" src=\"https://www.carrerasenlinea.mx/logos/original/logo-instituto-tecnologico-y-de-estudios-superiores-de-occidente.png\" width=\"150px\" height=\"100px\" />\n",
    "\n",
    "# Proyecto de Aplicación Profesional\n",
    "\n",
    "## Optimización De Programas de Inversión para Intermediarios Financieros\n",
    "\n",
    "\n",
    "\n",
    "### Integrantes:\n",
    "\n",
    "### - Jazmín Calderón\n",
    "### - Diana Chávez\n",
    "### - Juan Antonio Flores\n",
    "\n",
    "\n"
   ]
  },
  {
   "cell_type": "code",
   "execution_count": 5,
   "metadata": {
    "collapsed": true
   },
   "outputs": [],
   "source": [
    "#Lista de nombres de los 36 ETF's\n",
    "\n",
    "lista = ['1-3-Year-Treasury-Bond',\n",
    "         '20-Year-Treasury-Bond',\n",
    "         '7-10-Year-Treasury-Bond',\n",
    "         'Core-MSCI-EAFE',\n",
    "         'Core-MSCI-Emerging-Markets',\n",
    "         'Core-MSCI-Total-International-Stock',\n",
    "         'Core-SP-500',\n",
    "         'Core-SP-Mid-Cap', \n",
    "         'Core-SP-Total-US-Stock-Market',\n",
    "         'Core-US-Aggregate-Bond', #beta cero\n",
    "         'Edge-MSCI-Min-Vol-EAFE', \n",
    "         'Edge-MSCI-Min-Vol-USA',\n",
    "         'Edge-MSCI-USA-Quality-Factor',\n",
    "         'Floating-Rate-Bond',\n",
    "         'JP-Morgan-USD-Emerging-Markets-Bond', #el ultimo que hice\n",
    "         'MSCI-ACWI',\n",
    "         'MSCI-EAFE',\n",
    "         'MSCI-Emerging-Markets',\n",
    "         'MSCI-Japan',\n",
    "         'Nasdaq-Biotechnology',\n",
    "         'Russell-1000',\n",
    "         'Russell-1000-Growth',\n",
    "         'Russell-1000-Value',\n",
    "         'Russell-2000',\n",
    "         'SP-500-Growth',\n",
    "         'SP-500-Value']\n",
    "\n",
    "# Todos tienen en común:\n",
    "\n",
    "#'https://raw.githubusercontent.com/Dianachav/PAP_Spring_19/master/ETFS/iShares-\n",
    "# +\n",
    "# NOMBRE ETF EN LISTA\n",
    "# +\n",
    "# -ETF_fund.csv',\n"
   ]
  },
  {
   "cell_type": "markdown",
   "metadata": {},
   "source": [
    "## Importar Datos"
   ]
  },
  {
   "cell_type": "markdown",
   "metadata": {},
   "source": [
    "## ETF'S"
   ]
  },
  {
   "cell_type": "code",
   "execution_count": 7,
   "metadata": {},
   "outputs": [],
   "source": [
    "#ETF = pd.read_csv('https://raw.githubusercontent.com/Dianachav/PAP_Spring_19/master/ETFS/iShares-1-3-Year-Treasury-Bond-ETF_fund.csv',\n",
    " #                 skiprows = [0,1,2,3], delim_whitespace=False)\n",
    "desv=[]\n",
    "rend = []\n",
    "for i in range(26):\n",
    "    a='https://raw.githubusercontent.com/Dianachav/PAP_Spring_19/master/ETFS/iShares-'\n",
    "    b='-ETF_fund.csv'\n",
    "    dd=[]\n",
    "    ETF = pd.read_csv(a+lista[i]+b,skiprows = [0,1,2,3], delim_whitespace=False)\n",
    "    \n",
    "    #Limpieza y acondicionamiento del DataFrame\n",
    "    ETF['Rendimientos mensual'] = ETF['Rendimientos mensual'].replace('--',0)\n",
    "    ETF['Rendimientos mensual'] = ETF['Rendimientos mensual'].astype(float)\n",
    "    \n",
    "    #Obtención de rendimiento promedio mensual y desviación estándar mensual\n",
    "    rend_men = ETF['Rendimientos mensual']\n",
    "    \n",
    "    desv.append(np.std(rend_men))\n",
    "    rend.append(np.mean(rend_men))\n",
    "    \n",
    "\n",
    "    \n",
    "    \n",
    "    \n",
    "      \n",
    "#print(desv,rend)"
   ]
  },
  {
   "cell_type": "code",
   "execution_count": 8,
   "metadata": {
    "collapsed": true
   },
   "outputs": [],
   "source": [
    "n_etf=[]\n",
    "for i in range(26):\n",
    "    n_etf.append(1+i)\n",
    "#print(n_etf)"
   ]
  },
  {
   "cell_type": "code",
   "execution_count": 27,
   "metadata": {},
   "outputs": [
    {
     "data": {
      "text/html": [
       "<div>\n",
       "<style scoped>\n",
       "    .dataframe tbody tr th:only-of-type {\n",
       "        vertical-align: middle;\n",
       "    }\n",
       "\n",
       "    .dataframe tbody tr th {\n",
       "        vertical-align: top;\n",
       "    }\n",
       "\n",
       "    .dataframe thead th {\n",
       "        text-align: right;\n",
       "    }\n",
       "</style>\n",
       "<table border=\"1\" class=\"dataframe\">\n",
       "  <thead>\n",
       "    <tr style=\"text-align: right;\">\n",
       "      <th></th>\n",
       "      <th>Rend %</th>\n",
       "      <th>Riesgo</th>\n",
       "    </tr>\n",
       "    <tr>\n",
       "      <th>ETF</th>\n",
       "      <th></th>\n",
       "      <th></th>\n",
       "    </tr>\n",
       "  </thead>\n",
       "  <tbody>\n",
       "    <tr>\n",
       "      <th>1-3-Year-Treasury-Bond</th>\n",
       "      <td>0.159050</td>\n",
       "      <td>0.370861</td>\n",
       "    </tr>\n",
       "    <tr>\n",
       "      <th>20-Year-Treasury-Bond</th>\n",
       "      <td>0.558950</td>\n",
       "      <td>3.641024</td>\n",
       "    </tr>\n",
       "    <tr>\n",
       "      <th>7-10-Year-Treasury-Bond</th>\n",
       "      <td>0.381450</td>\n",
       "      <td>1.820015</td>\n",
       "    </tr>\n",
       "    <tr>\n",
       "      <th>Core-MSCI-EAFE</th>\n",
       "      <td>0.590519</td>\n",
       "      <td>3.413030</td>\n",
       "    </tr>\n",
       "    <tr>\n",
       "      <th>Core-MSCI-Emerging-Markets</th>\n",
       "      <td>0.351169</td>\n",
       "      <td>4.136979</td>\n",
       "    </tr>\n",
       "    <tr>\n",
       "      <th>Core-MSCI-Total-International-Stock</th>\n",
       "      <td>0.502338</td>\n",
       "      <td>3.400637</td>\n",
       "    </tr>\n",
       "    <tr>\n",
       "      <th>Core-SP-500</th>\n",
       "      <td>0.534469</td>\n",
       "      <td>4.162956</td>\n",
       "    </tr>\n",
       "    <tr>\n",
       "      <th>Core-SP-Mid-Cap</th>\n",
       "      <td>0.842965</td>\n",
       "      <td>4.843601</td>\n",
       "    </tr>\n",
       "    <tr>\n",
       "      <th>Core-SP-Total-US-Stock-Market</th>\n",
       "      <td>0.752637</td>\n",
       "      <td>3.976045</td>\n",
       "    </tr>\n",
       "    <tr>\n",
       "      <th>Core-US-Aggregate-Bond</th>\n",
       "      <td>0.305269</td>\n",
       "      <td>0.926400</td>\n",
       "    </tr>\n",
       "    <tr>\n",
       "      <th>Edge-MSCI-Min-Vol-EAFE</th>\n",
       "      <td>0.644607</td>\n",
       "      <td>2.798451</td>\n",
       "    </tr>\n",
       "    <tr>\n",
       "      <th>Edge-MSCI-Min-Vol-USA</th>\n",
       "      <td>1.106292</td>\n",
       "      <td>2.510522</td>\n",
       "    </tr>\n",
       "    <tr>\n",
       "      <th>Edge-MSCI-USA-Quality-Factor</th>\n",
       "      <td>1.000588</td>\n",
       "      <td>3.156260</td>\n",
       "    </tr>\n",
       "    <tr>\n",
       "      <th>Floating-Rate-Bond</th>\n",
       "      <td>0.103978</td>\n",
       "      <td>0.226270</td>\n",
       "    </tr>\n",
       "    <tr>\n",
       "      <th>JP-Morgan-USD-Emerging-Markets-Bond</th>\n",
       "      <td>0.502593</td>\n",
       "      <td>2.590987</td>\n",
       "    </tr>\n",
       "    <tr>\n",
       "      <th>MSCI-ACWI</th>\n",
       "      <td>0.555606</td>\n",
       "      <td>4.759081</td>\n",
       "    </tr>\n",
       "    <tr>\n",
       "      <th>MSCI-EAFE</th>\n",
       "      <td>0.534171</td>\n",
       "      <td>4.728962</td>\n",
       "    </tr>\n",
       "    <tr>\n",
       "      <th>MSCI-Emerging-Markets</th>\n",
       "      <td>1.011990</td>\n",
       "      <td>6.058856</td>\n",
       "    </tr>\n",
       "    <tr>\n",
       "      <th>MSCI-Japan</th>\n",
       "      <td>0.158841</td>\n",
       "      <td>4.971738</td>\n",
       "    </tr>\n",
       "    <tr>\n",
       "      <th>Nasdaq-Biotechnology</th>\n",
       "      <td>0.814240</td>\n",
       "      <td>6.637201</td>\n",
       "    </tr>\n",
       "    <tr>\n",
       "      <th>Russell-1000</th>\n",
       "      <td>0.560088</td>\n",
       "      <td>4.230856</td>\n",
       "    </tr>\n",
       "    <tr>\n",
       "      <th>Russell-1000-Growth</th>\n",
       "      <td>0.478230</td>\n",
       "      <td>4.760772</td>\n",
       "    </tr>\n",
       "    <tr>\n",
       "      <th>Russell-1000-Value</th>\n",
       "      <td>0.618230</td>\n",
       "      <td>4.138094</td>\n",
       "    </tr>\n",
       "    <tr>\n",
       "      <th>Russell-2000</th>\n",
       "      <td>0.791991</td>\n",
       "      <td>5.521857</td>\n",
       "    </tr>\n",
       "    <tr>\n",
       "      <th>SP-500-Growth</th>\n",
       "      <td>0.513053</td>\n",
       "      <td>4.267104</td>\n",
       "    </tr>\n",
       "    <tr>\n",
       "      <th>SP-500-Value</th>\n",
       "      <td>0.554425</td>\n",
       "      <td>4.382236</td>\n",
       "    </tr>\n",
       "  </tbody>\n",
       "</table>\n",
       "</div>"
      ],
      "text/plain": [
       "                                       Rend %    Riesgo\n",
       "ETF                                                    \n",
       "1-3-Year-Treasury-Bond               0.159050  0.370861\n",
       "20-Year-Treasury-Bond                0.558950  3.641024\n",
       "7-10-Year-Treasury-Bond              0.381450  1.820015\n",
       "Core-MSCI-EAFE                       0.590519  3.413030\n",
       "Core-MSCI-Emerging-Markets           0.351169  4.136979\n",
       "Core-MSCI-Total-International-Stock  0.502338  3.400637\n",
       "Core-SP-500                          0.534469  4.162956\n",
       "Core-SP-Mid-Cap                      0.842965  4.843601\n",
       "Core-SP-Total-US-Stock-Market        0.752637  3.976045\n",
       "Core-US-Aggregate-Bond               0.305269  0.926400\n",
       "Edge-MSCI-Min-Vol-EAFE               0.644607  2.798451\n",
       "Edge-MSCI-Min-Vol-USA                1.106292  2.510522\n",
       "Edge-MSCI-USA-Quality-Factor         1.000588  3.156260\n",
       "Floating-Rate-Bond                   0.103978  0.226270\n",
       "JP-Morgan-USD-Emerging-Markets-Bond  0.502593  2.590987\n",
       "MSCI-ACWI                            0.555606  4.759081\n",
       "MSCI-EAFE                            0.534171  4.728962\n",
       "MSCI-Emerging-Markets                1.011990  6.058856\n",
       "MSCI-Japan                           0.158841  4.971738\n",
       "Nasdaq-Biotechnology                 0.814240  6.637201\n",
       "Russell-1000                         0.560088  4.230856\n",
       "Russell-1000-Growth                  0.478230  4.760772\n",
       "Russell-1000-Value                   0.618230  4.138094\n",
       "Russell-2000                         0.791991  5.521857\n",
       "SP-500-Growth                        0.513053  4.267104\n",
       "SP-500-Value                         0.554425  4.382236"
      ]
     },
     "execution_count": 27,
     "metadata": {},
     "output_type": "execute_result"
    }
   ],
   "source": [
    "\n",
    "tablap = pd.DataFrame(index=lista,columns=['Rend %','Riesgo'])\n",
    "tablap.index.name = \"ETF\"\n",
    "tablap['Rend %'] = rend\n",
    "tablap['Riesgo'] = desv\n",
    "\n",
    "tablap"
   ]
  },
  {
   "cell_type": "markdown",
   "metadata": {},
   "source": [
    "### Mapa de calor"
   ]
  },
  {
   "cell_type": "code",
   "execution_count": 67,
   "metadata": {
    "collapsed": true
   },
   "outputs": [],
   "source": [
    "uno=rend[0:6]\n",
    "dos=rend[6:12]\n",
    "tres=rend[12:18]\n",
    "cuatro=rend[18:24]\n",
    "cinco=rend[24:30]\n",
    "seis=rend[30:36]"
   ]
  },
  {
   "cell_type": "code",
   "execution_count": 68,
   "metadata": {
    "collapsed": true
   },
   "outputs": [],
   "source": [
    "import plotly.plotly as py\n",
    "import plotly.figure_factory as ff\n",
    "import numpy as np\n",
    "import plotly "
   ]
  },
  {
   "cell_type": "code",
   "execution_count": 69,
   "metadata": {
    "collapsed": true
   },
   "outputs": [],
   "source": [
    "plotly.tools.set_credentials_file(username='jazerape', api_key='eX7PWHChSnlXoCQOaddE')"
   ]
  },
  {
   "cell_type": "code",
   "execution_count": 82,
   "metadata": {
    "collapsed": true
   },
   "outputs": [],
   "source": [
    "z = [uno,dos,tres,cuatro,cinco,seis] "
   ]
  },
  {
   "cell_type": "code",
   "execution_count": 76,
   "metadata": {
    "collapsed": true
   },
   "outputs": [],
   "source": [
    "unot=lista[0:6]\n",
    "dost=lista[6:12]\n",
    "trest=lista[12:18]\n",
    "cuatrot=lista[18:24]\n",
    "cincot=lista[24:30]\n",
    "seist=lista[30:36]"
   ]
  },
  {
   "cell_type": "code",
   "execution_count": 80,
   "metadata": {
    "collapsed": true
   },
   "outputs": [],
   "source": [
    "z_text = [unot,dost,trest,cuatrot,cincot,seist] \n"
   ]
  },
  {
   "cell_type": "code",
   "execution_count": 83,
   "metadata": {
    "collapsed": true
   },
   "outputs": [],
   "source": [
    "#z=rend\n",
    "#z = np.random.randn(20, 20)\n",
    "z_text = np.around(z, decimals=2) # Only show rounded value (full value on hover)\n",
    "\n",
    "#z"
   ]
  },
  {
   "cell_type": "code",
   "execution_count": 84,
   "metadata": {
    "collapsed": true
   },
   "outputs": [],
   "source": [
    "colorscale = [[0, '#66475e'], [1, '#ecbfe0']]\n",
    "fig = ff.create_annotated_heatmap(z, annotation_text=z_text, colorscale=colorscale, hoverinfo='z')\n",
    "\n"
   ]
  },
  {
   "cell_type": "code",
   "execution_count": 74,
   "metadata": {
    "collapsed": true
   },
   "outputs": [],
   "source": [
    "# Make text size smaller\n",
    "for i in range(len(fig.layout.annotations)):\n",
    "    fig.layout.annotations[i].font.size = 8\n",
    "    "
   ]
  },
  {
   "cell_type": "code",
   "execution_count": 75,
   "metadata": {},
   "outputs": [
    {
     "data": {
      "text/html": [
       "<iframe id=\"igraph\" scrolling=\"no\" style=\"border:none;\" seamless=\"seamless\" src=\"https://plot.ly/~jazerape/24.embed\" height=\"525px\" width=\"100%\"></iframe>"
      ],
      "text/plain": [
       "<plotly.tools.PlotlyDisplay object>"
      ]
     },
     "execution_count": 75,
     "metadata": {},
     "output_type": "execute_result"
    }
   ],
   "source": [
    "py.iplot(fig, filename='annotated_heatmap_numpy')"
   ]
  },
  {
   "cell_type": "markdown",
   "metadata": {
    "collapsed": true
   },
   "source": [
    "### Medidas de Atribución al desempeño"
   ]
  },
  {
   "cell_type": "code",
   "execution_count": 10,
   "metadata": {},
   "outputs": [],
   "source": [
    "usd_rate = [0.0241,0.0241,0.0239,0.0240,0.0241,0.0241,0.0243,0.0243,0.0242,0.0242,0.0241,\n",
    "           0.0241,0.0241,0.0239,0.0240,0.0241,0.0241,0.0243,0.0243,0.0242,0.0242,0.0241,\n",
    "           0.0241,0.0241,0.0239,0.0240]#,0.0241,0.0241,0.0243,0.0243,0.0242,0.0242,0.0241,\n",
    "           #0.0241,0.0241,0.0239] #tasa libre de riesgo EEUU #0.0241\n",
    "sharpe_ETF=[]\n",
    "for i in range(26):\n",
    "    #sharpe[i] = (rend[i]-usd_rate[i])/desv[i]\n",
    "    sharpe_ETF.append((rend[i]-usd_rate[i])/desv[i])\n",
    "#print(sharpe_ETF)"
   ]
  },
  {
   "cell_type": "code",
   "execution_count": 17,
   "metadata": {},
   "outputs": [],
   "source": [
    "# Treynor\n",
    "beta = [-0.02,-0.09,-0.09,0.77,0.80,0.79,1.00,1.18,1.03,0.01,0.54,0.75,0.98,0.03,0.17,0.90,0.75,0.81,0.73,1.48,1.01,1.07,\n",
    "        0.95,1.26,1.02,0.98]\n",
    "\n",
    "#0.01 en realidad es cero\n",
    "\n",
    "treynor_ETF=[]\n",
    "for i in range(26):\n",
    "    #sharpe[i] = (rend[i]-usd_rate[i])/desv[i]\n",
    "    treynor_ETF.append((rend[i]-usd_rate[i])/beta[i])\n",
    "#print(treynor_ETF)\n",
    "\n",
    "\n"
   ]
  },
  {
   "cell_type": "code",
   "execution_count": 18,
   "metadata": {},
   "outputs": [
    {
     "data": {
      "text/html": [
       "<div>\n",
       "<style scoped>\n",
       "    .dataframe tbody tr th:only-of-type {\n",
       "        vertical-align: middle;\n",
       "    }\n",
       "\n",
       "    .dataframe tbody tr th {\n",
       "        vertical-align: top;\n",
       "    }\n",
       "\n",
       "    .dataframe thead th {\n",
       "        text-align: right;\n",
       "    }\n",
       "</style>\n",
       "<table border=\"1\" class=\"dataframe\">\n",
       "  <thead>\n",
       "    <tr style=\"text-align: right;\">\n",
       "      <th></th>\n",
       "      <th>Rend %</th>\n",
       "      <th>Riesgo</th>\n",
       "      <th>Sharpe</th>\n",
       "      <th>Treynor %</th>\n",
       "    </tr>\n",
       "    <tr>\n",
       "      <th>ETF</th>\n",
       "      <th></th>\n",
       "      <th></th>\n",
       "      <th></th>\n",
       "      <th></th>\n",
       "    </tr>\n",
       "  </thead>\n",
       "  <tbody>\n",
       "    <tr>\n",
       "      <th>1-3-Year-Treasury-Bond</th>\n",
       "      <td>0.159050</td>\n",
       "      <td>0.370861</td>\n",
       "      <td>0.363883</td>\n",
       "      <td>-6.747500</td>\n",
       "    </tr>\n",
       "    <tr>\n",
       "      <th>20-Year-Treasury-Bond</th>\n",
       "      <td>0.558950</td>\n",
       "      <td>3.641024</td>\n",
       "      <td>0.146895</td>\n",
       "      <td>-5.942778</td>\n",
       "    </tr>\n",
       "    <tr>\n",
       "      <th>7-10-Year-Treasury-Bond</th>\n",
       "      <td>0.381450</td>\n",
       "      <td>1.820015</td>\n",
       "      <td>0.196454</td>\n",
       "      <td>-3.972778</td>\n",
       "    </tr>\n",
       "    <tr>\n",
       "      <th>Core-MSCI-EAFE</th>\n",
       "      <td>0.590519</td>\n",
       "      <td>3.413030</td>\n",
       "      <td>0.165987</td>\n",
       "      <td>0.735740</td>\n",
       "    </tr>\n",
       "    <tr>\n",
       "      <th>Core-MSCI-Emerging-Markets</th>\n",
       "      <td>0.351169</td>\n",
       "      <td>4.136979</td>\n",
       "      <td>0.079060</td>\n",
       "      <td>0.408836</td>\n",
       "    </tr>\n",
       "    <tr>\n",
       "      <th>Core-MSCI-Total-International-Stock</th>\n",
       "      <td>0.502338</td>\n",
       "      <td>3.400637</td>\n",
       "      <td>0.140632</td>\n",
       "      <td>0.605364</td>\n",
       "    </tr>\n",
       "    <tr>\n",
       "      <th>Core-SP-500</th>\n",
       "      <td>0.534469</td>\n",
       "      <td>4.162956</td>\n",
       "      <td>0.122550</td>\n",
       "      <td>0.510169</td>\n",
       "    </tr>\n",
       "    <tr>\n",
       "      <th>Core-SP-Mid-Cap</th>\n",
       "      <td>0.842965</td>\n",
       "      <td>4.843601</td>\n",
       "      <td>0.169020</td>\n",
       "      <td>0.693784</td>\n",
       "    </tr>\n",
       "    <tr>\n",
       "      <th>Core-SP-Total-US-Stock-Market</th>\n",
       "      <td>0.752637</td>\n",
       "      <td>3.976045</td>\n",
       "      <td>0.183207</td>\n",
       "      <td>0.707221</td>\n",
       "    </tr>\n",
       "    <tr>\n",
       "      <th>Core-US-Aggregate-Bond</th>\n",
       "      <td>0.305269</td>\n",
       "      <td>0.926400</td>\n",
       "      <td>0.303399</td>\n",
       "      <td>28.106882</td>\n",
       "    </tr>\n",
       "    <tr>\n",
       "      <th>Edge-MSCI-Min-Vol-EAFE</th>\n",
       "      <td>0.644607</td>\n",
       "      <td>2.798451</td>\n",
       "      <td>0.221732</td>\n",
       "      <td>1.149087</td>\n",
       "    </tr>\n",
       "    <tr>\n",
       "      <th>Edge-MSCI-Min-Vol-USA</th>\n",
       "      <td>1.106292</td>\n",
       "      <td>2.510522</td>\n",
       "      <td>0.431063</td>\n",
       "      <td>1.442923</td>\n",
       "    </tr>\n",
       "    <tr>\n",
       "      <th>Edge-MSCI-USA-Quality-Factor</th>\n",
       "      <td>1.000588</td>\n",
       "      <td>3.156260</td>\n",
       "      <td>0.309381</td>\n",
       "      <td>0.996417</td>\n",
       "    </tr>\n",
       "    <tr>\n",
       "      <th>Floating-Rate-Bond</th>\n",
       "      <td>0.103978</td>\n",
       "      <td>0.226270</td>\n",
       "      <td>0.353907</td>\n",
       "      <td>2.669283</td>\n",
       "    </tr>\n",
       "    <tr>\n",
       "      <th>JP-Morgan-USD-Emerging-Markets-Bond</th>\n",
       "      <td>0.502593</td>\n",
       "      <td>2.590987</td>\n",
       "      <td>0.184714</td>\n",
       "      <td>2.815251</td>\n",
       "    </tr>\n",
       "    <tr>\n",
       "      <th>MSCI-ACWI</th>\n",
       "      <td>0.555606</td>\n",
       "      <td>4.759081</td>\n",
       "      <td>0.111683</td>\n",
       "      <td>0.590562</td>\n",
       "    </tr>\n",
       "    <tr>\n",
       "      <th>MSCI-EAFE</th>\n",
       "      <td>0.534171</td>\n",
       "      <td>4.728962</td>\n",
       "      <td>0.107861</td>\n",
       "      <td>0.680094</td>\n",
       "    </tr>\n",
       "    <tr>\n",
       "      <th>MSCI-Emerging-Markets</th>\n",
       "      <td>1.011990</td>\n",
       "      <td>6.058856</td>\n",
       "      <td>0.163016</td>\n",
       "      <td>1.219370</td>\n",
       "    </tr>\n",
       "    <tr>\n",
       "      <th>MSCI-Japan</th>\n",
       "      <td>0.158841</td>\n",
       "      <td>4.971738</td>\n",
       "      <td>0.027061</td>\n",
       "      <td>0.184302</td>\n",
       "    </tr>\n",
       "    <tr>\n",
       "      <th>Nasdaq-Biotechnology</th>\n",
       "      <td>0.814240</td>\n",
       "      <td>6.637201</td>\n",
       "      <td>0.119032</td>\n",
       "      <td>0.533811</td>\n",
       "    </tr>\n",
       "    <tr>\n",
       "      <th>Russell-1000</th>\n",
       "      <td>0.560088</td>\n",
       "      <td>4.230856</td>\n",
       "      <td>0.126662</td>\n",
       "      <td>0.530583</td>\n",
       "    </tr>\n",
       "    <tr>\n",
       "      <th>Russell-1000-Growth</th>\n",
       "      <td>0.478230</td>\n",
       "      <td>4.760772</td>\n",
       "      <td>0.095390</td>\n",
       "      <td>0.424421</td>\n",
       "    </tr>\n",
       "    <tr>\n",
       "      <th>Russell-1000-Value</th>\n",
       "      <td>0.618230</td>\n",
       "      <td>4.138094</td>\n",
       "      <td>0.143576</td>\n",
       "      <td>0.625400</td>\n",
       "    </tr>\n",
       "    <tr>\n",
       "      <th>Russell-2000</th>\n",
       "      <td>0.791991</td>\n",
       "      <td>5.521857</td>\n",
       "      <td>0.139064</td>\n",
       "      <td>0.609437</td>\n",
       "    </tr>\n",
       "    <tr>\n",
       "      <th>SP-500-Growth</th>\n",
       "      <td>0.513053</td>\n",
       "      <td>4.267104</td>\n",
       "      <td>0.114634</td>\n",
       "      <td>0.479562</td>\n",
       "    </tr>\n",
       "    <tr>\n",
       "      <th>SP-500-Value</th>\n",
       "      <td>0.554425</td>\n",
       "      <td>4.382236</td>\n",
       "      <td>0.121040</td>\n",
       "      <td>0.541250</td>\n",
       "    </tr>\n",
       "  </tbody>\n",
       "</table>\n",
       "</div>"
      ],
      "text/plain": [
       "                                       Rend %    Riesgo    Sharpe  Treynor %\n",
       "ETF                                                                         \n",
       "1-3-Year-Treasury-Bond               0.159050  0.370861  0.363883  -6.747500\n",
       "20-Year-Treasury-Bond                0.558950  3.641024  0.146895  -5.942778\n",
       "7-10-Year-Treasury-Bond              0.381450  1.820015  0.196454  -3.972778\n",
       "Core-MSCI-EAFE                       0.590519  3.413030  0.165987   0.735740\n",
       "Core-MSCI-Emerging-Markets           0.351169  4.136979  0.079060   0.408836\n",
       "Core-MSCI-Total-International-Stock  0.502338  3.400637  0.140632   0.605364\n",
       "Core-SP-500                          0.534469  4.162956  0.122550   0.510169\n",
       "Core-SP-Mid-Cap                      0.842965  4.843601  0.169020   0.693784\n",
       "Core-SP-Total-US-Stock-Market        0.752637  3.976045  0.183207   0.707221\n",
       "Core-US-Aggregate-Bond               0.305269  0.926400  0.303399  28.106882\n",
       "Edge-MSCI-Min-Vol-EAFE               0.644607  2.798451  0.221732   1.149087\n",
       "Edge-MSCI-Min-Vol-USA                1.106292  2.510522  0.431063   1.442923\n",
       "Edge-MSCI-USA-Quality-Factor         1.000588  3.156260  0.309381   0.996417\n",
       "Floating-Rate-Bond                   0.103978  0.226270  0.353907   2.669283\n",
       "JP-Morgan-USD-Emerging-Markets-Bond  0.502593  2.590987  0.184714   2.815251\n",
       "MSCI-ACWI                            0.555606  4.759081  0.111683   0.590562\n",
       "MSCI-EAFE                            0.534171  4.728962  0.107861   0.680094\n",
       "MSCI-Emerging-Markets                1.011990  6.058856  0.163016   1.219370\n",
       "MSCI-Japan                           0.158841  4.971738  0.027061   0.184302\n",
       "Nasdaq-Biotechnology                 0.814240  6.637201  0.119032   0.533811\n",
       "Russell-1000                         0.560088  4.230856  0.126662   0.530583\n",
       "Russell-1000-Growth                  0.478230  4.760772  0.095390   0.424421\n",
       "Russell-1000-Value                   0.618230  4.138094  0.143576   0.625400\n",
       "Russell-2000                         0.791991  5.521857  0.139064   0.609437\n",
       "SP-500-Growth                        0.513053  4.267104  0.114634   0.479562\n",
       "SP-500-Value                         0.554425  4.382236  0.121040   0.541250"
      ]
     },
     "execution_count": 18,
     "metadata": {},
     "output_type": "execute_result"
    }
   ],
   "source": [
    "tabla = pd.DataFrame(index=lista,columns=['Rend %','Riesgo','Sharpe','Treynor %'])\n",
    "tabla.index.name = \"ETF\"\n",
    "tabla['Rend %'] = rend\n",
    "tabla['Riesgo'] = desv\n",
    "tabla['Sharpe'] = sharpe_ETF\n",
    "tabla['Treynor %'] = treynor_ETF\n",
    "tabla"
   ]
  },
  {
   "cell_type": "code",
   "execution_count": 36,
   "metadata": {
    "collapsed": true
   },
   "outputs": [],
   "source": [
    "%matplotlib inline\n",
    "import pandas as pd\n",
    "import seaborn as sns\n",
    "import matplotlib.pyplot as plt"
   ]
  },
  {
   "cell_type": "code",
   "execution_count": 20,
   "metadata": {},
   "outputs": [
    {
     "name": "stdout",
     "output_type": "stream",
     "text": [
      "       country  year         pop continent  lifeExp   gdpPercap\n",
      "0  Afghanistan  1952   8425333.0      Asia   28.801  779.445314\n",
      "1  Afghanistan  1957   9240934.0      Asia   30.332  820.853030\n",
      "2  Afghanistan  1962  10267083.0      Asia   31.997  853.100710\n"
     ]
    }
   ],
   "source": [
    "data_url = 'http://bit.ly/2cLzoxH'\n",
    "gapminder = pd.read_csv(data_url)\n",
    "print(gapminder.head(3))"
   ]
  },
  {
   "cell_type": "code",
   "execution_count": 23,
   "metadata": {},
   "outputs": [
    {
     "name": "stdout",
     "output_type": "stream",
     "text": [
      "  continent  year  lifeExp\n",
      "0      Asia  1952   28.801\n",
      "1      Asia  1957   30.332\n",
      "2      Asia  1962   31.997\n",
      "3      Asia  1967   34.020\n",
      "4      Asia  1972   36.088\n"
     ]
    }
   ],
   "source": [
    "df1 = gapminder[['continent', 'year','lifeExp']]\n",
    "print(df1.head())"
   ]
  },
  {
   "cell_type": "code",
   "execution_count": 40,
   "metadata": {},
   "outputs": [],
   "source": [
    "heatmap1_data = pd.pivot_table(tablap, values=None, \n",
    "                     index=['ETF'], \n",
    "                     columns=None) #country,year,pop,continent,lifeExp,gdpPercap"
   ]
  },
  {
   "cell_type": "code",
   "execution_count": 41,
   "metadata": {},
   "outputs": [
    {
     "data": {
      "text/plain": [
       "<matplotlib.axes._subplots.AxesSubplot at 0xcf712e9550>"
      ]
     },
     "execution_count": 41,
     "metadata": {},
     "output_type": "execute_result"
    },
    {
     "data": {
      "image/png": "[encoded data removed]",
      "text/plain": [
       "<matplotlib.figure.Figure at 0xcf71146978>"
      ]
     },
     "metadata": {},
     "output_type": "display_data"
    }
   ],
   "source": [
    "sns.heatmap(heatmap1_data, cmap=\"YlGnBu\")\n"
   ]
  },
  {
   "cell_type": "code",
   "execution_count": 44,
   "metadata": {},
   "outputs": [
    {
     "data": {
      "text/plain": [
       "<matplotlib.axes._subplots.AxesSubplot at 0xcf714d7fd0>"
      ]
     },
     "execution_count": 44,
     "metadata": {},
     "output_type": "execute_result"
    },
    {
     "data": {
      "image/png": "[encoded data removed]",
      "text/plain": [
       "<matplotlib.figure.Figure at 0xcf7151c160>"
      ]
     },
     "metadata": {},
     "output_type": "display_data"
    }
   ],
   "source": [
    "df2 = tablap[['Rend %']]\n",
    "heatmap2_data = pd.pivot_table(df2,values=None, index=['ETF'], columns=None)\n",
    "heatmap2_data.head(n=5)\n",
    "sns.heatmap(heatmap2_data, cmap=\"BuGn\")"
   ]
  },
  {
   "cell_type": "code",
   "execution_count": 54,
   "metadata": {},
   "outputs": [
    {
     "data": {
      "text/plain": [
       "<matplotlib.axes._subplots.AxesSubplot at 0xcf72897c88>"
      ]
     },
     "execution_count": 54,
     "metadata": {},
     "output_type": "execute_result"
    },
    {
     "data": {
      "image/png": "[encoded data removed]",
      "text/plain": [
       "<matplotlib.figure.Figure at 0xcf729bb6a0>"
      ]
     },
     "metadata": {},
     "output_type": "display_data"
    }
   ],
   "source": [
    "df3 = tablap[['Rend %','Riesgo']]\n",
    "heatmap3_data = pd.pivot_table(df3,values=None, index=['Rend %'], columns=None)\n",
    "heatmap3_data.head(n=5)\n",
    "sns.heatmap(heatmap3_data, cmap=\"magma\")"
   ]
  },
  {
   "cell_type": "code",
   "execution_count": 59,
   "metadata": {},
   "outputs": [
    {
     "data": {
      "text/plain": [
       "<matplotlib.colorbar.Colorbar at 0xcf72d67cf8>"
      ]
     },
     "execution_count": 59,
     "metadata": {},
     "output_type": "execute_result"
    },
    {
     "data": {
      "image/png": "[encoded data removed]",
      "text/plain": [
       "<matplotlib.figure.Figure at 0xcf72c61cc0>"
      ]
     },
     "metadata": {},
     "output_type": "display_data"
    }
   ],
   "source": [
    "plt.scatter(tablap['Rend %'],tablap['Riesgo'],c=tablap['Riesgo'],cmap='RdYlBu')\n",
    "plt.xlabel('Volatility')\n",
    "plt.ylabel('Returns')\n",
    "plt.colorbar()\n"
   ]
  },
  {
   "cell_type": "code",
   "execution_count": null,
   "metadata": {
    "collapsed": true
   },
   "outputs": [],
   "source": []
  }
 ],
 "metadata": {
  "kernelspec": {
   "display_name": "Python 3",
   "language": "python",
   "name": "python3"
  },
  "language_info": {
   "codemirror_mode": {
    "name": "ipython",
    "version": 3
   },
   "file_extension": ".py",
   "mimetype": "text/x-python",
   "name": "python",
   "nbconvert_exporter": "python",
   "pygments_lexer": "ipython3",
   "version": "3.6.3"
  }
 },
 "nbformat": 4,
 "nbformat_minor": 2
}
