{
  "nbformat": 4,
  "nbformat_minor": 0,
  "metadata": {
    "colab": {
      "name": "PAP_VC_v7.ipynb",
      "version": "0.3.2",
      "provenance": []
    },
    "kernelspec": {
      "name": "python3",
      "display_name": "Python 3"
    }
  },
  "cells": [
    {
      "metadata": {
        "id": "SshD9MSwPno2",
        "colab_type": "text"
      },
      "cell_type": "markdown",
      "source": [
        "# Venture Capital"
      ]
    },
    {
      "metadata": {
        "id": "JU8ZT4d4O8Mp",
        "colab_type": "code",
        "colab": {}
      },
      "cell_type": "code",
      "source": [
        "import datetime\n",
        "import numpy as np\n",
        "import pandas as pd\n",
        "import scipy.stats as stats\n",
        "import matplotlib.pyplot as plt\n",
        "import statistics \n",
        "from statistics import stdev\n",
        "from fractions import Fraction as fr \n",
        "from matplotlib import rc\n",
        "import statsmodels \n",
        "import seaborn as sns\n",
        "import scipy.stats as stats\n",
        "%matplotlib inline\n",
        "#import plotly.py\n",
        "#import plotly.graph_objs as go\n",
        "#import plotly.offline as py\n",
        "#plotly.tools.set_credentials_file(username='jazerape', api_key='eX7PWHChSnlXoCQOaddE')\n",
        "# Librerias\n",
        "import datetime\n",
        "from datetime import datetime\n",
        "import numpy as np\n",
        "import pandas as pd\n",
        "import scipy.stats as stats\n",
        "import matplotlib.pyplot as plt\n",
        "import random\n",
        "import time\n",
        "import locale\n",
        "%matplotlib inline\n",
        "import seaborn as sns\n",
        "import matplotlib"
      ],
      "execution_count": 0,
      "outputs": []
    },
    {
      "metadata": {
        "id": "iYlmurNhPQLl",
        "colab_type": "text"
      },
      "cell_type": "markdown",
      "source": [
        "# Medidas de Desempeño"
      ]
    },
    {
      "metadata": {
        "id": "5BuEPW6TPAda",
        "colab_type": "code",
        "colab": {
          "base_uri": "https://localhost:8080/",
          "height": 700
        },
        "outputId": "de860da2-ca21-46f6-8e89-70b934a26cec"
      },
      "cell_type": "code",
      "source": [
        "rtns_anuales = pd.read_csv('https://raw.githubusercontent.com/Dianachav/PAP_Spring_19/master/BD%20Capital%20de%20Riesgo/rtnsanuales-q42017.csv')\n",
        "dfr = rtns_anuales\n",
        "dfr.index.name = 'VC'\n",
        "dfr"
      ],
      "execution_count": 3,
      "outputs": [
        {
          "output_type": "execute_result",
          "data": {
            "text/html": [
              "<div>\n",
              "<style scoped>\n",
              "    .dataframe tbody tr th:only-of-type {\n",
              "        vertical-align: middle;\n",
              "    }\n",
              "\n",
              "    .dataframe tbody tr th {\n",
              "        vertical-align: top;\n",
              "    }\n",
              "\n",
              "    .dataframe thead th {\n",
              "        text-align: right;\n",
              "    }\n",
              "</style>\n",
              "<table border=\"1\" class=\"dataframe\">\n",
              "  <thead>\n",
              "    <tr style=\"text-align: right;\">\n",
              "      <th></th>\n",
              "      <th>Years</th>\n",
              "      <th>Horizon Return (%)</th>\n",
              "    </tr>\n",
              "    <tr>\n",
              "      <th>VC</th>\n",
              "      <th></th>\n",
              "      <th></th>\n",
              "    </tr>\n",
              "  </thead>\n",
              "  <tbody>\n",
              "    <tr>\n",
              "      <th>0</th>\n",
              "      <td>1 Year</td>\n",
              "      <td>11.08</td>\n",
              "    </tr>\n",
              "    <tr>\n",
              "      <th>1</th>\n",
              "      <td>2 Years</td>\n",
              "      <td>5.50</td>\n",
              "    </tr>\n",
              "    <tr>\n",
              "      <th>2</th>\n",
              "      <td>3 Years</td>\n",
              "      <td>8.03</td>\n",
              "    </tr>\n",
              "    <tr>\n",
              "      <th>3</th>\n",
              "      <td>4 Years</td>\n",
              "      <td>11.63</td>\n",
              "    </tr>\n",
              "    <tr>\n",
              "      <th>4</th>\n",
              "      <td>5 Years</td>\n",
              "      <td>15.30</td>\n",
              "    </tr>\n",
              "    <tr>\n",
              "      <th>5</th>\n",
              "      <td>6 Years</td>\n",
              "      <td>13.65</td>\n",
              "    </tr>\n",
              "    <tr>\n",
              "      <th>6</th>\n",
              "      <td>7 Years</td>\n",
              "      <td>13.57</td>\n",
              "    </tr>\n",
              "    <tr>\n",
              "      <th>7</th>\n",
              "      <td>8 Years</td>\n",
              "      <td>13.60</td>\n",
              "    </tr>\n",
              "    <tr>\n",
              "      <th>8</th>\n",
              "      <td>9 Years</td>\n",
              "      <td>12.27</td>\n",
              "    </tr>\n",
              "    <tr>\n",
              "      <th>9</th>\n",
              "      <td>10 Years</td>\n",
              "      <td>9.04</td>\n",
              "    </tr>\n",
              "    <tr>\n",
              "      <th>10</th>\n",
              "      <td>11 Years</td>\n",
              "      <td>9.59</td>\n",
              "    </tr>\n",
              "    <tr>\n",
              "      <th>11</th>\n",
              "      <td>12 Years</td>\n",
              "      <td>10.16</td>\n",
              "    </tr>\n",
              "    <tr>\n",
              "      <th>12</th>\n",
              "      <td>13 Years</td>\n",
              "      <td>9.88</td>\n",
              "    </tr>\n",
              "    <tr>\n",
              "      <th>13</th>\n",
              "      <td>14 Years</td>\n",
              "      <td>10.21</td>\n",
              "    </tr>\n",
              "    <tr>\n",
              "      <th>14</th>\n",
              "      <td>15 Years</td>\n",
              "      <td>9.45</td>\n",
              "    </tr>\n",
              "    <tr>\n",
              "      <th>15</th>\n",
              "      <td>16 Years</td>\n",
              "      <td>7.01</td>\n",
              "    </tr>\n",
              "    <tr>\n",
              "      <th>16</th>\n",
              "      <td>17 Years</td>\n",
              "      <td>4.35</td>\n",
              "    </tr>\n",
              "    <tr>\n",
              "      <th>17</th>\n",
              "      <td>18 Years</td>\n",
              "      <td>5.39</td>\n",
              "    </tr>\n",
              "    <tr>\n",
              "      <th>18</th>\n",
              "      <td>19 Years</td>\n",
              "      <td>20.54</td>\n",
              "    </tr>\n",
              "    <tr>\n",
              "      <th>19</th>\n",
              "      <td>20 Years</td>\n",
              "      <td>22.90</td>\n",
              "    </tr>\n",
              "  </tbody>\n",
              "</table>\n",
              "</div>"
            ],
            "text/plain": [
              "       Years  Horizon Return (%)\n",
              "VC                              \n",
              "0     1 Year               11.08\n",
              "1    2 Years                5.50\n",
              "2    3 Years                8.03\n",
              "3    4 Years               11.63\n",
              "4    5 Years               15.30\n",
              "5    6 Years               13.65\n",
              "6    7 Years               13.57\n",
              "7    8 Years               13.60\n",
              "8    9 Years               12.27\n",
              "9   10 Years                9.04\n",
              "10  11 Years                9.59\n",
              "11  12 Years               10.16\n",
              "12  13 Years                9.88\n",
              "13  14 Years               10.21\n",
              "14  15 Years                9.45\n",
              "15  16 Years                7.01\n",
              "16  17 Years                4.35\n",
              "17  18 Years                5.39\n",
              "18  19 Years               20.54\n",
              "19  20 Years               22.90"
            ]
          },
          "metadata": {
            "tags": []
          },
          "execution_count": 3
        }
      ]
    },
    {
      "metadata": {
        "id": "uxwPEHGiPHJb",
        "colab_type": "code",
        "colab": {}
      },
      "cell_type": "code",
      "source": [
        "ds_r = dfr['Horizon Return (%)']"
      ],
      "execution_count": 0,
      "outputs": []
    },
    {
      "metadata": {
        "id": "bMePITOLPwTn",
        "colab_type": "text"
      },
      "cell_type": "markdown",
      "source": [
        "## Valor esperado del rendimiento"
      ]
    },
    {
      "metadata": {
        "id": "xYbruf15PLv1",
        "colab_type": "code",
        "colab": {
          "base_uri": "https://localhost:8080/",
          "height": 34
        },
        "outputId": "846b0107-4006-4783-cfd0-56bc9cb2cb27"
      },
      "cell_type": "code",
      "source": [
        "\n",
        "ds_m = dfr['Horizon Return (%)'].mean()\n",
        "ds_m"
      ],
      "execution_count": 5,
      "outputs": [
        {
          "output_type": "execute_result",
          "data": {
            "text/plain": [
              "11.157499999999999"
            ]
          },
          "metadata": {
            "tags": []
          },
          "execution_count": 5
        }
      ]
    },
    {
      "metadata": {
        "id": "JtXosAhcP4H8",
        "colab_type": "code",
        "colab": {
          "base_uri": "https://localhost:8080/",
          "height": 34
        },
        "outputId": "086a44cd-cfb1-4730-b8bb-ad6bc89402ec"
      },
      "cell_type": "code",
      "source": [
        "ds_ds = dfr['Horizon Return (%)'].std()\n",
        "ds_ds"
      ],
      "execution_count": 6,
      "outputs": [
        {
          "output_type": "execute_result",
          "data": {
            "text/plain": [
              "4.670855748259908"
            ]
          },
          "metadata": {
            "tags": []
          },
          "execution_count": 6
        }
      ]
    },
    {
      "metadata": {
        "id": "jS6jbERXP-20",
        "colab_type": "text"
      },
      "cell_type": "markdown",
      "source": [
        "## Indice de Sharpe"
      ]
    },
    {
      "metadata": {
        "id": "Ydh-oeHbP78x",
        "colab_type": "code",
        "colab": {}
      },
      "cell_type": "code",
      "source": [
        "\n",
        "One_Year_Treasury_Bill_Rate = 2.25\n",
        "OYTBR = One_Year_Treasury_Bill_Rate\n",
        "OYTBR1 = One_Year_Treasury_Bill_Rate / 100"
      ],
      "execution_count": 0,
      "outputs": []
    },
    {
      "metadata": {
        "id": "S5Z86KC7QFMc",
        "colab_type": "code",
        "colab": {
          "base_uri": "https://localhost:8080/",
          "height": 34
        },
        "outputId": "0c0cbacf-018a-4645-cbda-d0d5bd5fb543"
      },
      "cell_type": "code",
      "source": [
        "Sharpe = ( ds_m - OYTBR ) / ds_ds\n",
        "Sharpe\n"
      ],
      "execution_count": 8,
      "outputs": [
        {
          "output_type": "execute_result",
          "data": {
            "text/plain": [
              "1.9070381275033854"
            ]
          },
          "metadata": {
            "tags": []
          },
          "execution_count": 8
        }
      ]
    },
    {
      "metadata": {
        "id": "t7eIoVjuQKeN",
        "colab_type": "text"
      },
      "cell_type": "markdown",
      "source": [
        "## Indice M^2"
      ]
    },
    {
      "metadata": {
        "id": "Nhnk6WGjQHwV",
        "colab_type": "code",
        "colab": {
          "base_uri": "https://localhost:8080/",
          "height": 700
        },
        "outputId": "80344c0b-1f68-4825-a672-39d1200eab0b"
      },
      "cell_type": "code",
      "source": [
        "rend_merc = pd.read_csv('https://raw.githubusercontent.com/Dianachav/PAP_Spring_19/master/BD%20Capital%20de%20Riesgo/Rend_merc1.csv')\n",
        "rm = rend_merc\n",
        "rm.index.name = 'Dow Jones'\n",
        "rm"
      ],
      "execution_count": 26,
      "outputs": [
        {
          "output_type": "execute_result",
          "data": {
            "text/html": [
              "<div>\n",
              "<style scoped>\n",
              "    .dataframe tbody tr th:only-of-type {\n",
              "        vertical-align: middle;\n",
              "    }\n",
              "\n",
              "    .dataframe tbody tr th {\n",
              "        vertical-align: top;\n",
              "    }\n",
              "\n",
              "    .dataframe thead th {\n",
              "        text-align: right;\n",
              "    }\n",
              "</style>\n",
              "<table border=\"1\" class=\"dataframe\">\n",
              "  <thead>\n",
              "    <tr style=\"text-align: right;\">\n",
              "      <th></th>\n",
              "      <th>Año</th>\n",
              "      <th>Rendimiento anual</th>\n",
              "    </tr>\n",
              "    <tr>\n",
              "      <th>Dow Jones</th>\n",
              "      <th></th>\n",
              "      <th></th>\n",
              "    </tr>\n",
              "  </thead>\n",
              "  <tbody>\n",
              "    <tr>\n",
              "      <th>0</th>\n",
              "      <td>1</td>\n",
              "      <td>-0.000594</td>\n",
              "    </tr>\n",
              "    <tr>\n",
              "      <th>1</th>\n",
              "      <td>2</td>\n",
              "      <td>-0.000555</td>\n",
              "    </tr>\n",
              "    <tr>\n",
              "      <th>2</th>\n",
              "      <td>3</td>\n",
              "      <td>-0.000564</td>\n",
              "    </tr>\n",
              "    <tr>\n",
              "      <th>3</th>\n",
              "      <td>4</td>\n",
              "      <td>0.000169</td>\n",
              "    </tr>\n",
              "    <tr>\n",
              "      <th>4</th>\n",
              "      <td>5</td>\n",
              "      <td>0.000521</td>\n",
              "    </tr>\n",
              "    <tr>\n",
              "      <th>5</th>\n",
              "      <td>6</td>\n",
              "      <td>0.000809</td>\n",
              "    </tr>\n",
              "    <tr>\n",
              "      <th>6</th>\n",
              "      <td>7</td>\n",
              "      <td>-0.000980</td>\n",
              "    </tr>\n",
              "    <tr>\n",
              "      <th>7</th>\n",
              "      <td>8</td>\n",
              "      <td>0.000030</td>\n",
              "    </tr>\n",
              "    <tr>\n",
              "      <th>8</th>\n",
              "      <td>9</td>\n",
              "      <td>-0.000131</td>\n",
              "    </tr>\n",
              "    <tr>\n",
              "      <th>9</th>\n",
              "      <td>10</td>\n",
              "      <td>-0.000527</td>\n",
              "    </tr>\n",
              "    <tr>\n",
              "      <th>10</th>\n",
              "      <td>11</td>\n",
              "      <td>0.000053</td>\n",
              "    </tr>\n",
              "    <tr>\n",
              "      <th>11</th>\n",
              "      <td>12</td>\n",
              "      <td>0.002535</td>\n",
              "    </tr>\n",
              "    <tr>\n",
              "      <th>12</th>\n",
              "      <td>13</td>\n",
              "      <td>-0.001652</td>\n",
              "    </tr>\n",
              "    <tr>\n",
              "      <th>13</th>\n",
              "      <td>14</td>\n",
              "      <td>-0.000595</td>\n",
              "    </tr>\n",
              "    <tr>\n",
              "      <th>14</th>\n",
              "      <td>15</td>\n",
              "      <td>-0.000151</td>\n",
              "    </tr>\n",
              "    <tr>\n",
              "      <th>15</th>\n",
              "      <td>16</td>\n",
              "      <td>-0.000293</td>\n",
              "    </tr>\n",
              "    <tr>\n",
              "      <th>16</th>\n",
              "      <td>17</td>\n",
              "      <td>-0.000538</td>\n",
              "    </tr>\n",
              "    <tr>\n",
              "      <th>17</th>\n",
              "      <td>18</td>\n",
              "      <td>-0.000444</td>\n",
              "    </tr>\n",
              "    <tr>\n",
              "      <th>18</th>\n",
              "      <td>19</td>\n",
              "      <td>0.000454</td>\n",
              "    </tr>\n",
              "    <tr>\n",
              "      <th>19</th>\n",
              "      <td>20</td>\n",
              "      <td>-0.000902</td>\n",
              "    </tr>\n",
              "  </tbody>\n",
              "</table>\n",
              "</div>"
            ],
            "text/plain": [
              "           Año  Rendimiento anual\n",
              "Dow Jones                        \n",
              "0            1          -0.000594\n",
              "1            2          -0.000555\n",
              "2            3          -0.000564\n",
              "3            4           0.000169\n",
              "4            5           0.000521\n",
              "5            6           0.000809\n",
              "6            7          -0.000980\n",
              "7            8           0.000030\n",
              "8            9          -0.000131\n",
              "9           10          -0.000527\n",
              "10          11           0.000053\n",
              "11          12           0.002535\n",
              "12          13          -0.001652\n",
              "13          14          -0.000595\n",
              "14          15          -0.000151\n",
              "15          16          -0.000293\n",
              "16          17          -0.000538\n",
              "17          18          -0.000444\n",
              "18          19           0.000454\n",
              "19          20          -0.000902"
            ]
          },
          "metadata": {
            "tags": []
          },
          "execution_count": 26
        }
      ]
    },
    {
      "metadata": {
        "id": "q-1N_WUpQPw2",
        "colab_type": "code",
        "colab": {}
      },
      "cell_type": "code",
      "source": [
        "rmm = rm['Rendimiento anual'].mean()"
      ],
      "execution_count": 0,
      "outputs": []
    },
    {
      "metadata": {
        "id": "NNvQOsWkQTTn",
        "colab_type": "code",
        "colab": {}
      },
      "cell_type": "code",
      "source": [
        "\n",
        "rmd = rm['Rendimiento anual']\n",
        "rmds = rmd.std()"
      ],
      "execution_count": 0,
      "outputs": []
    },
    {
      "metadata": {
        "id": "9Fh0GsIsQVmk",
        "colab_type": "code",
        "colab": {}
      },
      "cell_type": "code",
      "source": [
        "rp = OYTBR1*(1-(rmds/ds_ds)) + ds_m*(rmds/ds_ds)\n"
      ],
      "execution_count": 0,
      "outputs": []
    },
    {
      "metadata": {
        "id": "26UYmFiSQYh2",
        "colab_type": "code",
        "colab": {
          "base_uri": "https://localhost:8080/",
          "height": 34
        },
        "outputId": "1165bf6f-adbe-4498-93b3-edcfdf10bc26"
      },
      "cell_type": "code",
      "source": [
        "\n",
        "M = rp - rmm\n",
        "M"
      ],
      "execution_count": 13,
      "outputs": [
        {
          "output_type": "execute_result",
          "data": {
            "text/plain": [
              "0.024696041138534738"
            ]
          },
          "metadata": {
            "tags": []
          },
          "execution_count": 13
        }
      ]
    },
    {
      "metadata": {
        "id": "uAPVBrUWQcl7",
        "colab_type": "text"
      },
      "cell_type": "markdown",
      "source": [
        "## Plots"
      ]
    },
    {
      "metadata": {
        "id": "wSlghVqkQaex",
        "colab_type": "code",
        "colab": {}
      },
      "cell_type": "code",
      "source": [
        "n_f = pd.read_csv('https://raw.githubusercontent.com/Dianachav/PAP_Spring_19/master/BD%20Capital%20de%20Riesgo/n_f.csv')"
      ],
      "execution_count": 0,
      "outputs": []
    },
    {
      "metadata": {
        "id": "rOJ8VA1DQgRv",
        "colab_type": "code",
        "colab": {
          "base_uri": "https://localhost:8080/",
          "height": 333
        },
        "outputId": "551849a0-20b3-453f-be3a-bbf13c5d8e83"
      },
      "cell_type": "code",
      "source": [
        "n_f.plot.scatter('Years', 'Return', s=n_f.Funds)"
      ],
      "execution_count": 15,
      "outputs": [
        {
          "output_type": "stream",
          "text": [
            "'c' argument looks like a single numeric RGB or RGBA sequence, which should be avoided as value-mapping will have precedence in case its length matches with 'x' & 'y'.  Please use a 2-D array with a single row if you really want to specify the same RGB or RGBA value for all points.\n"
          ],
          "name": "stderr"
        },
        {
          "output_type": "execute_result",
          "data": {
            "text/plain": [
              "<matplotlib.axes._subplots.AxesSubplot at 0x7f033d27d668>"
            ]
          },
          "metadata": {
            "tags": []
          },
          "execution_count": 15
        },
        {
          "output_type": "display_data",
          "data": {
            "image/png": "[encoded data removed]",
            "text/plain": [
              "<Figure size 432x288 with 1 Axes>"
            ]
          },
          "metadata": {
            "tags": []
          }
        }
      ]
    },
    {
      "metadata": {
        "id": "mbNgM8YcQisC",
        "colab_type": "code",
        "colab": {}
      },
      "cell_type": "code",
      "source": [
        "c = n_f\n",
        "cmap= np.meshgrid(np.array(range(0, 25)), np.array(range(0, 150)))\n",
        "cmap = c"
      ],
      "execution_count": 0,
      "outputs": []
    },
    {
      "metadata": {
        "id": "wxpcDvl0Qpur",
        "colab_type": "code",
        "colab": {
          "base_uri": "https://localhost:8080/",
          "height": 504
        },
        "outputId": "8bab8d33-cf41-4058-a8b4-7445928dea77"
      },
      "cell_type": "code",
      "source": [
        "fig = plt.figure(figsize=(8,8))\n",
        "ax = fig.add_subplot(111)\n",
        "im = ax.pcolormesh(cmap)\n",
        "fig.colorbar(im, ax=ax)"
      ],
      "execution_count": 17,
      "outputs": [
        {
          "output_type": "execute_result",
          "data": {
            "text/plain": [
              "<matplotlib.colorbar.Colorbar at 0x7f033b1a1f60>"
            ]
          },
          "metadata": {
            "tags": []
          },
          "execution_count": 17
        },
        {
          "output_type": "display_data",
          "data": {
            "image/png": "[encoded data removed]",
            "text/plain": [
              "<Figure size 576x576 with 2 Axes>"
            ]
          },
          "metadata": {
            "tags": []
          }
        }
      ]
    },
    {
      "metadata": {
        "id": "GzmTitaaQsDv",
        "colab_type": "code",
        "colab": {}
      },
      "cell_type": "code",
      "source": [
        "a_vc = []\n",
        "for i in range(1986,2016):\n",
        "    a_vc.append(1+i)"
      ],
      "execution_count": 0,
      "outputs": []
    },
    {
      "metadata": {
        "id": "MyhvV8IPQvnM",
        "colab_type": "code",
        "colab": {}
      },
      "cell_type": "code",
      "source": [
        "dfr1 = dfr.drop(columns = ['Years'])\n",
        "dfr1 = dfr1.fillna(0)"
      ],
      "execution_count": 0,
      "outputs": []
    },
    {
      "metadata": {
        "id": "GLX68PYeQz-C",
        "colab_type": "code",
        "colab": {}
      },
      "cell_type": "code",
      "source": [
        "vegetables =a_vc\n",
        "farmers = [\"Rendimiento\"]\n",
        "\n",
        "harvest = np.array([dfr1.iloc[0],dfr1.iloc[1],dfr1.iloc[2],dfr1.iloc[3],dfr1.iloc[4],\n",
        "                   dfr1.iloc[5],dfr1.iloc[6],dfr1.iloc[7],dfr1.iloc[8],dfr1.iloc[9],\n",
        "                   dfr1.iloc[10],dfr1.iloc[11],dfr1.iloc[12],dfr1.iloc[13],dfr1.iloc[14],\n",
        "                   dfr1.iloc[15],dfr1.iloc[16],dfr1.iloc[17],dfr1.iloc[18],dfr1.iloc[19]])"
      ],
      "execution_count": 0,
      "outputs": []
    },
    {
      "metadata": {
        "id": "-Mueo_iVQ27J",
        "colab_type": "code",
        "colab": {}
      },
      "cell_type": "code",
      "source": [
        "def heatmap(data, row_labels, col_labels, ax=None,\n",
        "            cbar_kw={}, cbarlabel=\"\", **kwargs):\n",
        "    \"\"\"\n",
        "    Create a heatmap from a numpy array and two lists of labels.\n",
        "\n",
        "    Arguments:\n",
        "        data       : A 2D numpy array of shape (N,M)\n",
        "        row_labels : A list or array of length N with the labels\n",
        "                     for the rows\n",
        "        col_labels : A list or array of length M with the labels\n",
        "                     for the columns\n",
        "    Optional arguments:\n",
        "        ax         : A matplotlib.axes.Axes instance to which the heatmap\n",
        "                     is plotted. If not provided, use current axes or\n",
        "                     create a new one.\n",
        "        cbar_kw    : A dictionary with arguments to\n",
        "                     :meth:`matplotlib.Figure.colorbar`.\n",
        "        cbarlabel  : The label for the colorbar\n",
        "    All other arguments are directly passed on to the imshow call.\n",
        "    \"\"\"\n",
        "\n",
        "    if not ax:\n",
        "        ax = plt.gca()\n",
        "\n",
        "    # Plot the heatmap\n",
        "    im = ax.imshow(data, **kwargs)\n",
        "\n",
        "    # Create colorbar\n",
        "    cbar = ax.figure.colorbar(im, ax=ax, **cbar_kw)\n",
        "    cbar.ax.set_ylabel(cbarlabel, rotation=-90, va=\"bottom\")\n",
        "\n",
        "    # We want to show all ticks...\n",
        "    ax.set_xticks(np.arange(data.shape[1]))\n",
        "    ax.set_yticks(np.arange(data.shape[0]))\n",
        "    # ... and label them with the respective list entries.\n",
        "    ax.set_xticklabels(col_labels)\n",
        "    ax.set_yticklabels(row_labels)\n",
        "    \n",
        "    # Let the horizontal axes labeling appear on top.\n",
        "    ax.tick_params(top=True, bottom=False,\n",
        "                   labeltop=True, labelbottom=False)\n",
        "\n",
        "    # Rotate the tick labels and set their alignment.\n",
        "    plt.setp(ax.get_xticklabels(), rotation=-30, ha=\"right\",\n",
        "             rotation_mode=\"anchor\")\n",
        "\n",
        "    # Turn spines off and create white grid.\n",
        "    for edge, spine in ax.spines.items():\n",
        "        spine.set_visible(False)\n",
        "\n",
        "    ax.set_xticks(np.arange(data.shape[1]+1)-.5, minor=True)\n",
        "    ax.set_yticks(np.arange(data.shape[0]+1)-.5, minor=True)\n",
        "    ax.grid(which=\"minor\", color=\"w\", linestyle='-', linewidth=3)\n",
        "    ax.tick_params(which=\"minor\", bottom=False, left=False)\n",
        "\n",
        "    return im, cbar\n",
        "\n",
        "def annotate_heatmap(im, data=None, valfmt=\"{x:.2f}\",\n",
        "                     textcolors=[\"black\", \"white\"],\n",
        "                     threshold=None, **textkw):\n",
        "    \"\"\"\n",
        "    A function to annotate a heatmap.\n",
        "\n",
        "    Arguments:\n",
        "        im         : The AxesImage to be labeled.\n",
        "    Optional arguments:\n",
        "        data       : Data used to annotate. If None, the image's data is used.\n",
        "        valfmt     : The format of the annotations inside the heatmap.\n",
        "                     This should either use the string format method, e.g.\n",
        "                     \"$ {x:.2f}\", or be a :class:`matplotlib.ticker.Formatter`.\n",
        "        textcolors : A list or array of two color specifications. The first is\n",
        "                     used for values below a threshold, the second for those\n",
        "                     above.\n",
        "        threshold  : Value in data units according to which the colors from\n",
        "                     textcolors are applied. If None (the default) uses the\n",
        "                     middle of the colormap as separation.\n",
        "\n",
        "    Further arguments are passed on to the created text labels.\n",
        "    \"\"\"\n",
        "\n",
        "    if not isinstance(data, (list, np.ndarray)):\n",
        "        data = im.get_array()\n",
        "\n",
        "    # Normalize the threshold to the images color range.\n",
        "    if threshold is not None:\n",
        "        threshold = im.norm(threshold)\n",
        "    else:\n",
        "        threshold = im.norm(data.max())/2.\n",
        "        \n",
        "        # Set default alignment to center, but allow it to be\n",
        "    # overwritten by textkw.\n",
        "    kw = dict(horizontalalignment=\"center\",\n",
        "              verticalalignment=\"center\")\n",
        "    kw.update(textkw)\n",
        "\n",
        "    # Get the formatter in case a string is supplied\n",
        "    if isinstance(valfmt, str):\n",
        "        valfmt = matplotlib.ticker.StrMethodFormatter(valfmt)\n",
        "\n",
        "    # Loop over the data and create a `Text` for each \"pixel\".\n",
        "    # Change the text's color depending on the data.\n",
        "    texts = []\n",
        "    for i in range(data.shape[0]):\n",
        "        for j in range(data.shape[1]):\n",
        "            kw.update(color=textcolors[im.norm(data[i, j]) > threshold])\n",
        "            text = im.axes.text(j, i, valfmt(data[i, j], None), **kw)\n",
        "            texts.append(text)\n",
        "\n",
        "    return texts"
      ],
      "execution_count": 0,
      "outputs": []
    },
    {
      "metadata": {
        "id": "tiIa21jrRppo",
        "colab_type": "code",
        "colab": {
          "base_uri": "https://localhost:8080/",
          "height": 1126
        },
        "outputId": "5d5ae2d7-7051-450e-9a14-65a07c4da69f"
      },
      "cell_type": "code",
      "source": [
        "fig, ax = plt.subplots(figsize=(15,15))\n",
        "\n",
        "im, cbar = heatmap(harvest, vegetables, farmers, ax=ax,\n",
        "                   cmap=\"Oranges\", cbarlabel=\"MAD por año\")\n",
        "texts = annotate_heatmap(im)\n",
        "\n",
        "fig.tight_layout()\n",
        "plt.show()"
      ],
      "execution_count": 23,
      "outputs": [
        {
          "output_type": "stream",
          "text": [
            "/usr/local/lib/python3.6/dist-packages/ipykernel_launcher.py:105: DeprecationWarning: In future, it will be an error for 'np.bool_' scalars to be interpreted as an index\n"
          ],
          "name": "stderr"
        },
        {
          "output_type": "display_data",
          "data": {
            "image/png": "[encoded data removed]",
            "text/plain": [
              "<Figure size 1080x1080 with 2 Axes>"
            ]
          },
          "metadata": {
            "tags": []
          }
        }
      ]
    },
    {
      "metadata": {
        "id": "IenLHq1aRtDc",
        "colab_type": "code",
        "colab": {
          "base_uri": "https://localhost:8080/",
          "height": 282
        },
        "outputId": "c788850f-dc4c-4b5f-8b8a-583011ecb13e"
      },
      "cell_type": "code",
      "source": [
        "dff = dfr\n",
        "heatmap2_data = pd.pivot_table(dff,values=None, index=['VC'])\n",
        "heatmap2_data.head(n=25)\n",
        "sns.heatmap(heatmap2_data, cmap=\"viridis\")"
      ],
      "execution_count": 24,
      "outputs": [
        {
          "output_type": "execute_result",
          "data": {
            "text/plain": [
              "<matplotlib.axes._subplots.AxesSubplot at 0x7f033b0200f0>"
            ]
          },
          "metadata": {
            "tags": []
          },
          "execution_count": 24
        },
        {
          "output_type": "display_data",
          "data": {
            "image/png": "[encoded data removed]",
            "text/plain": [
              "<Figure size 432x288 with 2 Axes>"
            ]
          },
          "metadata": {
            "tags": []
          }
        }
      ]
    },
    {
      "metadata": {
        "id": "Pi-V7WDXR1Yr",
        "colab_type": "code",
        "colab": {
          "base_uri": "https://localhost:8080/",
          "height": 282
        },
        "outputId": "a3654a80-7f4b-4938-f425-91e5ed505c0e"
      },
      "cell_type": "code",
      "source": [
        "dff = rm\n",
        "heatmap2_data = pd.pivot_table(dff,values=None, index=['Dow Jones'])\n",
        "heatmap2_data.head(n=25)\n",
        "sns.heatmap(heatmap2_data, cmap=\"summer\")"
      ],
      "execution_count": 27,
      "outputs": [
        {
          "output_type": "execute_result",
          "data": {
            "text/plain": [
              "<matplotlib.axes._subplots.AxesSubplot at 0x7f03399f1b70>"
            ]
          },
          "metadata": {
            "tags": []
          },
          "execution_count": 27
        },
        {
          "output_type": "display_data",
          "data": {
            "image/png": "[encoded data removed]",
            "text/plain": [
              "<Figure size 432x288 with 2 Axes>"
            ]
          },
          "metadata": {
            "tags": []
          }
        }
      ]
    },
    {
      "metadata": {
        "id": "yboQ2Y0MR4P-",
        "colab_type": "code",
        "colab": {}
      },
      "cell_type": "code",
      "source": [
        ""
      ],
      "execution_count": 0,
      "outputs": []
    }
  ]
}